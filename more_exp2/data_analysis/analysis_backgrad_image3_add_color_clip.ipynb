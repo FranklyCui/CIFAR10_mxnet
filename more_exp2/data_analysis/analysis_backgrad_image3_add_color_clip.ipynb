{
 "cells": [
  {
   "cell_type": "markdown",
   "metadata": {},
   "source": [
    "# 1. import needed package"
   ]
  },
  {
   "cell_type": "code",
   "execution_count": 5,
   "metadata": {
    "ExecuteTime": {
     "end_time": "2018-04-04T14:08:52.112962Z",
     "start_time": "2018-04-04T14:08:52.101490Z"
    },
    "collapsed": true
   },
   "outputs": [],
   "source": [
    "from mxnet import autograd\n",
    "from mxnet import gluon\n",
    "from mxnet import image\n",
    "from mxnet import init\n",
    "from mxnet import nd\n",
    "from mxnet.gluon.model_zoo import vision as model\n",
    "from mxnet.gluon import nn\n",
    "from mxnet.gluon.data import vision\n",
    "import numpy as np\n",
    "import mxnet as mx\n",
    "import sys\n",
    "sys.path.insert(0, '../../utils')\n",
    "from dataset import *\n",
    "from netlib import *\n",
    "from backgrad_utils import *\n",
    "import os\n",
    "import shutil\n",
    "from cifar10_utils import show_images, parse_log, show_log, update\n",
    "import utils\n",
    "from mxnet.gluon.data.dataset import ArrayDataset\n",
    "import pandas as pd\n",
    "\n",
    "ctx = mx.gpu(0)\n",
    "arrayds_dir = '/home/hui/dataset/CIFAR10/arraydataset/'\n",
    "\n",
    "def mkdir_if_not_exist(path):\n",
    "    if not os.path.exists(os.path.join(*path)):\n",
    "        os.makedirs(os.path.join(*path))"
   ]
  },
  {
   "cell_type": "markdown",
   "metadata": {},
   "source": [
    "# 2. data loader, data argument"
   ]
  },
  {
   "cell_type": "code",
   "execution_count": 6,
   "metadata": {
    "ExecuteTime": {
     "end_time": "2018-04-04T14:08:52.641784Z",
     "start_time": "2018-04-04T14:08:52.585434Z"
    },
    "collapsed": true
   },
   "outputs": [],
   "source": [
    "\"\"\"\n",
    "data loader\n",
    "\"\"\"\n",
    "def _transform_test(data, label):\n",
    "    im = data.astype('float32') / 255\n",
    "    auglist = image.CreateAugmenter(data_shape=(3, 32, 32), mean=np.array([0.4914, 0.4822, 0.4465]),\n",
    "                                   std=np.array([0.2023, 0.1994, 0.2010]))\n",
    "    for aug in auglist:\n",
    "        im = aug(im)\n",
    "    im = nd.transpose(im, (2, 0, 1))\n",
    "    return im, nd.array([label]).astype('float32')\n",
    "\n",
    "\"\"\"\n",
    "data argument\n",
    "\"\"\"\n",
    "def transform_train_DA1(data, label):\n",
    "    im = data.asnumpy()\n",
    "    im = np.pad(im, ((4, 4), (4, 4), (0, 0)), mode='constant', constant_values=0)\n",
    "    im = nd.array(im, dtype='float32') / 255\n",
    "    auglist = image.CreateAugmenter(data_shape=(3, 32, 32), resize=0, rand_mirror=True,\n",
    "                                    rand_crop=True,\n",
    "                                   mean=np.array([0.4914, 0.4822, 0.4465]),\n",
    "                                   std=np.array([0.2023, 0.1994, 0.2010]))\n",
    "    for aug in auglist:\n",
    "        im = aug(im)\n",
    "    im = nd.transpose(im, (2, 0, 1)) # channel x width x height\n",
    "    return im, nd.array([label]).astype('float32')\n",
    "\n",
    "\n",
    "def load_all_data_label(pathes):\n",
    "    all_data, all_label = None, None\n",
    "    for path in pathes:\n",
    "        data, label = nd.load(path)\n",
    "        label = label.reshape((-1,)).astype('float32')\n",
    "        if all_data is None:\n",
    "            all_data, all_label = data, label\n",
    "        else:\n",
    "            all_data = nd.concat(all_data, data, dim=0)\n",
    "            all_label = nd.concat(all_label, label, dim=0)\n",
    "    return all_data, all_label\n",
    "\n",
    "\n",
    "def data_loader2(batch_size=[128, 128, 128], transform=[_transform_test, transform_train_DA1, _transform_test], num_workers=[1, 2, 2], origin_shuffle=False):\n",
    "    origin_data_array, origin_label_array = load_all_data_label([arrayds_dir + 'origin.ndarray'])\n",
    "    origin_ds = MyArrayDataset2([origin_data_array, origin_label_array], transform=transform[0])\n",
    "    origin_data = gluon.data.DataLoader(origin_ds, batch_size[0], shuffle=origin_shuffle, last_batch='keep', num_workers=num_workers[0])\n",
    "    \n",
    "    datas = [[origin_data_array, origin_data_array.copy()], [origin_label_array, origin_label_array.copy()]]\n",
    "    train_ds = MyArrayDataset2(datas, transform=transform[1])\n",
    "    train_data = gluon.data.DataLoader(train_ds, batch_size[1], shuffle=True, last_batch='keep', num_workers=num_workers[1])\n",
    "    \n",
    "    test_ds = gluon.data.vision.datasets.CIFAR10(root='~/.mxnet/datasets/cifar10', train=False, transform=transform[2])\n",
    "    test_data = gluon.data.DataLoader(test_ds, batch_size[2], shuffle=False, last_batch='keep', num_workers=num_workers[2])\n",
    "    return (origin_data, train_data, test_data), (origin_ds, train_ds, test_ds)"
   ]
  },
  {
   "cell_type": "markdown",
   "metadata": {},
   "source": [
    "# 3 data aurgument: mixup\n",
    "1. mixup define\n",
    "2. mixup visualize"
   ]
  },
  {
   "cell_type": "code",
   "execution_count": 7,
   "metadata": {
    "ExecuteTime": {
     "end_time": "2018-04-04T14:08:53.300811Z",
     "start_time": "2018-04-04T14:08:53.290239Z"
    },
    "collapsed": true
   },
   "outputs": [],
   "source": [
    "import numpy as np\n",
    "def mixup(x1, y1, x2, y2, alpha, num_class):\n",
    "    y1 = nd.one_hot(y1, num_class)\n",
    "    y2 = nd.one_hot(y2, num_class)\n",
    "    \n",
    "    lam = np.random.beta(alpha, alpha)\n",
    "    x = lam * x1 + (1 - lam) * x2\n",
    "    y = lam * y1 + (1 - lam) * y2\n",
    "    return x, y"
   ]
  },
  {
   "cell_type": "markdown",
   "metadata": {},
   "source": [
    "# 3. data augment: back grad"
   ]
  },
  {
   "cell_type": "markdown",
   "metadata": {},
   "source": [
    "## 3.1 define a simple back grad method"
   ]
  },
  {
   "cell_type": "code",
   "execution_count": 8,
   "metadata": {
    "ExecuteTime": {
     "end_time": "2018-04-04T14:08:54.870210Z",
     "start_time": "2018-04-04T14:08:54.643746Z"
    },
    "collapsed": true
   },
   "outputs": [],
   "source": [
    "import utils\n",
    "import os, shutil\n",
    "%matplotlib inline\n",
    "\n",
    "EPS = 1e-30\n",
    "\n",
    "def show_data(data, clip=True):\n",
    "    images = inv_normalize(data, clip=clip)\n",
    "    show_images(images, clip=clip)\n",
    "    \n",
    "def get_soft_label(y, num_class, soft_label_th):\n",
    "    y = y.reshape((-1,))\n",
    "    ny = (y.one_hot(num_class) + soft_label_th / num_class)\n",
    "    y = y.asnumpy()\n",
    "    ny[range(y.shape[0]), y.astype('int32')] -= soft_label_th\n",
    "    return nd.array(ny)\n",
    "   \n",
    "def mkdir_if_not_exist(path):\n",
    "    if not os.path.exists(os.path.join(*path)):\n",
    "        os.makedirs(os.path.join(*path))\n",
    "    \n",
    "def statistic(diffs):\n",
    "    t = np.mean(diffs), np.max(diffs), np.min(diffs), np.std(diffs)\n",
    "    return t\n",
    "    \n",
    "def inv_normalize(data, mean=None, std=None, clip=True, asnumpy=True):\n",
    "    if mean is None: mean=nd.array([0.4914, 0.4822, 0.4465])\n",
    "    if std is None: std=nd.array([0.2023, 0.1994, 0.2010])\n",
    "    if asnumpy: \n",
    "        data, mean, std = data.asnumpy(), mean.asnumpy(), std.asnumpy()\n",
    "    images = data.transpose((0, 2, 3, 1))\n",
    "    images = images * std + mean\n",
    "    images = images.transpose((0, 3, 1, 2)) * 255\n",
    "    if clip: \n",
    "        images = images.clip(0, 255)\n",
    "    return images\n",
    "\n",
    "mean=nd.array([0.4914, 0.4822, 0.4465])\n",
    "std=nd.array([0.2023, 0.1994, 0.2010])\n",
    "threshold = (nd.array([[0, 0, 0], [1, 1, 1]]) - mean) / std\n",
    "\n",
    "class BackGradDataGenerator:\n",
    "    \"\"\"\n",
    "        just a set of many static function\n",
    "    \"\"\"\n",
    "    # 2. function to generate back_grad data\n",
    "    \n",
    "    @staticmethod\n",
    "    def SGD(data, lr):\n",
    "        # print nd.mean(data.grad).asscalar()\n",
    "        data[:, :, :, :] = data - data.grad * lr\n",
    "    \n",
    "    @staticmethod\n",
    "    def generate_backgrad_data(net, data, label, max_iters=60, lr=0.1, iter_log=False, clip=False, \n",
    "                               loss_f=gluon.loss.SoftmaxCrossEntropyLoss(), bn_control=None, sgd=None, threshold=None):\n",
    "        \"\"\"\n",
    "            data is better in cpu, if data in ctx(global var), the returned backgrad_data is shallow copy of data.\n",
    "        \"\"\"\n",
    "        context = data.context\n",
    "#         if str(context)[:3] != \"cpu\":\n",
    "#             print \"warring: data was not in CPU, the returned backgrad_data is shallow copy of data.\"\n",
    "        if bn_control is not None:\n",
    "            bn_control.store()\n",
    "        if sgd is None:\n",
    "            sgd = BackGradDataGenerator.SGD\n",
    "\n",
    "        data, label = data.as_in_context(ctx), label.as_in_context(ctx)\n",
    "        for iters in range(1, max_iters+1):\n",
    "            with autograd.record():\n",
    "                data.attach_grad()\n",
    "                output = net(data)\n",
    "                loss = -loss_f(output, label)\n",
    "            loss.backward()\n",
    "            mean_loss = nd.mean(loss).asscalar()     # reduce will make memory release\n",
    "\n",
    "            if iter_log and iters % 50 == 0:\n",
    "                show_data(data[:5], clip)\n",
    "                #print data[0, 0, :2, :10]\n",
    "                #print data.grad[0, 0, :2, :10]\n",
    "            if iter_log and iters % 5 == 0:\n",
    "                print 'iter:', iters, 'loss:', mean_loss\n",
    "\n",
    "            sgd(data, lr)\n",
    "        if threshold is not None:\n",
    "            for i in range(3):\n",
    "                data[:, i, :, :] = data[:, i, :, :].clip(threshold[0, i].asscalar(), threshold[1, i].asscalar())\n",
    "        if bn_control is not None:\n",
    "            bn_control.load()\n",
    "            \n",
    "        return data.as_in_context(context), (loss.as_in_context(context), mean_loss, )\n",
    "    \n",
    "    @staticmethod\n",
    "    def MSE_constraint(mse, same_rate=False):\n",
    "        def constraint(backgrad_data, data, diff, _loss, MSE, SNR):\n",
    "            if same_rate:\n",
    "                rate = nd.mean(nd.sqrt(mse / MSE))\n",
    "                backgrad_data[:, :, :, :] = data + ((backgrad_data - data) * rate)\n",
    "            else:\n",
    "                backgrad_data[:, :, :, :] = data + ((backgrad_data - data).transpose((1, 2, 3, 0))\n",
    "                                                * (nd.sqrt(mse / MSE))).transpose((3, 0, 1, 2))\n",
    "        return constraint\n",
    "    \n",
    "    @staticmethod\n",
    "    def generate_backgrad_data_constraint(net, data, label, max_iters=60, lr=0.1, iter_log=False, clip=False, \n",
    "                               loss_f=gluon.loss.SoftmaxCrossEntropyLoss(), bn_control=None, post_deal=None, \n",
    "                                          sgd=None, threshold=None):\n",
    "        backgrad_data, (_loss, _bloss, ) = BackGradDataGenerator.generate_backgrad_data(net, data.as_in_context(mx.cpu()), label, \n",
    "                                            max_iters, lr, iter_log, clip, loss_f, bn_control, sgd, threshold)\n",
    "        \n",
    "        if post_deal is not None:\n",
    "            tmp = (backgrad_data - data) ** 2\n",
    "            diff = nd.sqrt(nd.sum(tmp, axis=0, exclude=True))\n",
    "            MSE = nd.mean(tmp, axis=0, exclude=True)\n",
    "            Savg = nd.mean((data) ** 2, axis=0, exclude=True)\n",
    "            # SNR = 10 * nd.log10(Savg / (MSE))\n",
    "            SNR = 10 * nd.log10(Savg / (MSE + EPS))\n",
    "            post_deal(backgrad_data, data, diff, _loss, MSE, SNR)\n",
    "        return backgrad_data, (_loss, _bloss, ) \n",
    "            \n",
    "    @staticmethod\n",
    "    def generate_data_for_out(net, origin_data, max_iters=10, lr=0.1,\n",
    "                            use_batch_mean_std=False, use_statistic=True, show_per_iters=None,\n",
    "                            loss_f = gluon.loss.SoftmaxCrossEntropyLoss(), out_data=None, begin_index=0, \n",
    "                            bn_control=None, post_deal=None, sgd=None, threshold=None):\n",
    "        out_idx, iters = begin_index, 0\n",
    "        diffs, losses, MSEs, SNRs, bloss = None, None, None, None, 0\n",
    "        \n",
    "        if bn_control is None:\n",
    "            bn_backup = BNControl(net.net, use_batch_mean_std) # to avoid update moving_mean/std when generate image\n",
    "            bn_backup.store()\n",
    "        for data, label in origin_data:\n",
    "            backgrad_data, (_loss, _bloss, ) = BackGradDataGenerator.generate_backgrad_data_constraint(\n",
    "                net, data, label, max_iters=max_iters, lr=lr, iter_log=False, clip=False, loss_f=loss_f, \n",
    "                bn_control=bn_control, post_deal=post_deal, sgd=sgd, threshold=threshold)\n",
    "            \n",
    "            tmp = (backgrad_data - data) ** 2\n",
    "            diff = nd.sqrt(nd.sum(tmp, axis=0, exclude=True))\n",
    "            MSE = nd.mean(tmp, axis=0, exclude=True)\n",
    "            Savg = nd.mean((data) ** 2, axis=0, exclude=True)\n",
    "            # SNR = 10 * nd.log10(Savg / (MSE))\n",
    "            SNR = 10 * nd.log10(Savg / (MSE + EPS))\n",
    "            if sgd is not None or post_deal is not None: # new change get new loss\n",
    "                _loss = loss_f(net(backgrad_data.as_in_context(ctx)), label.as_in_context(ctx))\n",
    "                _bloss = nd.mean(_loss).asscalar()\n",
    "            bloss += _bloss\n",
    "\n",
    "            if diffs is None: \n",
    "                diffs, losses, MSEs, SNRs = diff, _loss, MSE, SNR\n",
    "            else:\n",
    "                diffs, losses = nd.concat(diffs, diff, dim=0), nd.concat(losses, _loss, dim=0)\n",
    "                MSEs, SNRs = nd.concat(MSEs, MSE, dim=0), nd.concat(SNRs, SNR, dim=0)\n",
    "                \n",
    "            # must copy to cpu, or will make gpu memory leak(not release)\n",
    "            backgrad_data = inv_normalize(backgrad_data, clip=False, asnumpy=False)\n",
    "            out_data[out_idx:out_idx+data.shape[0], :, :, :] = backgrad_data.transpose((0, 2, 3, 1)).as_in_context(mx.cpu())\n",
    "            out_idx += data.shape[0]\n",
    "                    \n",
    "            if show_per_iters is not None and iters % show_per_iters == 0:\n",
    "                show_images(inv_normalize(data[np.array(range(0, 25, 5)) % data.shape[0]], clip=False), clip=False)\n",
    "                show_images(backgrad_data[np.array(range(0, 25, 5)) % data.shape[0]].asnumpy(), clip=False)\n",
    "            iters += 1\n",
    "        if bn_control is None:\n",
    "            bn_backup.load()\n",
    "        \n",
    "        diffs, losses, MSEs, SNRs = diffs.asnumpy(), losses.asnumpy(), MSEs.asnumpy(), SNRs.asnumpy()\n",
    "        if use_statistic:\n",
    "            return statistic(diffs), statistic(losses), statistic(MSEs), statistic(SNRs)\n",
    "        else:\n",
    "            return diffs, losses, MSEs, SNRs    \n",
    "        \n",
    "BGG = BackGradDataGenerator"
   ]
  },
  {
   "cell_type": "code",
   "execution_count": 9,
   "metadata": {
    "ExecuteTime": {
     "end_time": "2018-04-04T14:08:58.709488Z",
     "start_time": "2018-04-04T14:08:55.230399Z"
    }
   },
   "outputs": [
    {
     "name": "stdout",
     "output_type": "stream",
     "text": [
      "load data\n",
      "accuracy: 1.0\n"
     ]
    },
    {
     "data": {
      "image/png": "[encoded data removed]",
      "text/plain": [
       "<matplotlib.figure.Figure at 0x7f23117de650>"
      ]
     },
     "metadata": {},
     "output_type": "display_data"
    },
    {
     "data": {
      "image/png": "[encoded data removed]",
      "text/plain": [
       "<matplotlib.figure.Figure at 0x7f230849f790>"
      ]
     },
     "metadata": {},
     "output_type": "display_data"
    },
    {
     "name": "stdout",
     "output_type": "stream",
     "text": [
      "0.00137055 0.0155063 2.67227e-05 0.00267278\n"
     ]
    },
    {
     "data": {
      "image/png": "[encoded data removed]",
      "text/plain": [
       "<matplotlib.figure.Figure at 0x7f227d155810>"
      ]
     },
     "metadata": {},
     "output_type": "display_data"
    },
    {
     "name": "stdout",
     "output_type": "stream",
     "text": [
      "0.003 0.003 0.003 3.73279e-10\n"
     ]
    }
   ],
   "source": [
    "import random\n",
    "try:\n",
    "    origin_data_array\n",
    "except BaseException:\n",
    "    print \"load data\"\n",
    "    origin_data_array, origin_label_array = load_all_data_label([arrayds_dir + 'origin.ndarray'])\n",
    "\n",
    "def test(origin_data_array, origin_label_array, shuffle=True):\n",
    "    indices = range(0, 50000)\n",
    "    if shuffle: \n",
    "        random.shuffle(indices)\n",
    "    indices = nd.array(indices[:256])\n",
    "    origin_data_array, origin_label_array = origin_data_array.take(indices), origin_label_array.take(indices)\n",
    "    origin_ds = MyArrayDataset2([origin_data_array, origin_label_array], transform=transform_train_DA1)#_transform_test)\n",
    "    origin_data = gluon.data.DataLoader(origin_ds, 128, shuffle=False, num_workers=0)\n",
    "    \n",
    "    datas = [[origin_data_array, origin_data_array.copy()], [origin_label_array, origin_label_array.copy()]]\n",
    "    train_ds = MyArrayDataset2(datas, transform=_transform_test)\n",
    "    train_data = gluon.data.DataLoader(train_ds, 128, shuffle=False, num_workers=2)\n",
    "    \n",
    "    net = ResNet(10)\n",
    "    #net.initialize(ctx=ctx)\n",
    "    #net.load_params('../../models/resnet18_me_backgrad_prob_online_iter10_lr01', ctx=ctx)\n",
    "    net.load_params('../../models/resnet18_me_200e', ctx=ctx)\n",
    "    print \"accuracy:\", utils.evaluate_accuracy(train_data, net, ctx)\n",
    "    \n",
    "    for data, label in origin_data:\n",
    "        break\n",
    "    show_data(data[:5], clip=False)\n",
    "    \n",
    "    bn_control = BNControl(net.net, True)\n",
    "    constraint = None#BGG.MSE_constraint(0.003)\n",
    "    backgrad_data, _ = BGG.generate_backgrad_data(net,\n",
    "                data, label, max_iters=10, lr=0.1, bn_control=bn_control)\n",
    "    tmp = (backgrad_data - data) ** 2\n",
    "    diff = nd.sqrt(nd.sum(tmp, axis=0, exclude=True))\n",
    "    MSE = nd.mean(tmp, axis=0, exclude=True).asnumpy()\n",
    "    show_data(backgrad_data[:5], clip=False)\n",
    "    print np.mean(MSE), np.max(MSE), np.min(MSE), np.std(MSE)\n",
    "    \n",
    "    constraint = BGG.MSE_constraint(0.003)\n",
    "    backgrad_data, _ = BGG.generate_backgrad_data_constraint(net,\n",
    "                data, label, max_iters=10, lr=0.1, bn_control=bn_control, post_deal=constraint)\n",
    "    tmp = (backgrad_data - data) ** 2\n",
    "    diff = nd.sqrt(nd.sum(tmp, axis=0, exclude=True))\n",
    "    MSE = nd.mean(tmp, axis=0, exclude=True).asnumpy()\n",
    "    show_data(data[:5], clip=False)\n",
    "    print np.mean(MSE), np.max(MSE), np.min(MSE), np.std(MSE)\n",
    "    \n",
    "    \n",
    "test(origin_data_array, origin_label_array, True)"
   ]
  },
  {
   "cell_type": "markdown",
   "metadata": {},
   "source": [
    "# 4. analysis"
   ]
  },
  {
   "cell_type": "markdown",
   "metadata": {},
   "source": [
    "## 4.1 only use 128 images to simple test\n",
    "loss != -acc != -MSE"
   ]
  },
  {
   "cell_type": "code",
   "execution_count": 12,
   "metadata": {
    "ExecuteTime": {
     "end_time": "2018-04-04T14:15:08.967503Z",
     "start_time": "2018-04-04T14:15:08.940531Z"
    },
    "collapsed": true
   },
   "outputs": [],
   "source": [
    "import random\n",
    "\n",
    "try:\n",
    "    origin_data_array\n",
    "except:\n",
    "    origin_data_array, origin_label_array = load_all_data_label([arrayds_dir + 'origin.ndarray'])\n",
    "\n",
    "def test(generate_net, test_net, origin_data_array, origin_label_array, \n",
    "         shuffle=True, transform=_transform_test, constraint=None, threshold=None):\n",
    "    indices = range(0, 50000); \n",
    "    if shuffle: \n",
    "        random.shuffle(indices); \n",
    "    indices = nd.array(indices[:128])\n",
    "    origin_data_array, origin_label_array = origin_data_array.take(indices), origin_label_array.take(indices)\n",
    "    origin_ds = MyArrayDataset2([origin_data_array, origin_label_array], transform=transform)#_transform_test)\n",
    "    origin_data = gluon.data.DataLoader(origin_ds, 128, shuffle=False, num_workers=0)\n",
    "    \n",
    "    datas = [[origin_data_array, origin_data_array.copy()], [origin_label_array, origin_label_array.copy()]]\n",
    "    train_ds = MyArrayDataset2(datas, transform=transform)\n",
    "    train_data = gluon.data.DataLoader(train_ds, 128, shuffle=True, num_workers=2)\n",
    "    \n",
    "    net = ResNet(10)\n",
    "    if generate_net == \"random init\":\n",
    "        net.initialize(ctx=ctx)\n",
    "    else:\n",
    "        net.load_params(\"../../models/\" + generate_net, ctx=ctx)\n",
    "    utils.evaluate_accuracy(train_data, net, ctx)\n",
    "    \n",
    "    xs = BGG.generate_data_for_out(net, origin_data, max_iters=10, lr=0.1,use_batch_mean_std=True, use_statistic=True, show_per_iters=None,\n",
    "                                loss_f = gluon.loss.SoftmaxCrossEntropyLoss(), out_data=train_ds._data[0][1], begin_index=0,\n",
    "                                  post_deal=constraint, threshold=threshold)\n",
    "    \n",
    "    net.load_params(\"../../models/\" + test_net, ctx=ctx)\n",
    "    acc = utils.evaluate_accuracy(train_data, net, ctx)\n",
    "    return xs, acc\n",
    " \n",
    "constraint = BGG.MSE_constraint(0.003)\n",
    "nets = ['random init', 'resnet18_me_200e', 'resnet18_me_backgrad_prob_online_iter10_lr01',\n",
    "       'train8_resnet18_r1_i10_lr01_bT', 'train8_resnet18_r1_i10_lr01_bT_prob']"
   ]
  },
  {
   "cell_type": "code",
   "execution_count": 22,
   "metadata": {
    "ExecuteTime": {
     "end_time": "2018-04-04T14:29:03.158380Z",
     "start_time": "2018-04-04T14:27:33.312979Z"
    }
   },
   "outputs": [],
   "source": [
    "def ex_test(constraint, shuffle, transform, threshold):\n",
    "    global acc_df, xs_df, index\n",
    "    xs, acc = {}, {}\n",
    "    for tn in nets[1:]:\n",
    "        k_tn = tn.replace('_', ' ')\n",
    "        xs[k_tn], acc[k_tn] = {}, {}\n",
    "        for gn in nets:\n",
    "            k_gn = gn.replace('_', ' ')\n",
    "            xs[k_tn][k_gn], acc[k_tn][k_gn] = test(gn, tn, origin_data_array, origin_label_array,\n",
    "                                                   shuffle, transform, constraint, threshold)\n",
    "    acc_df.append(pd.DataFrame(data=acc))\n",
    "    xs_df.append(pd.DataFrame(data=xs))\n",
    "    \n",
    "acc_df, xs_df = [], []\n",
    "# ex_test(None, shuffle=True, transform=_transform_test, threshold=None)\n",
    "# ex_test(None, shuffle=False, transform=_transform_test, threshold=threshold)\n",
    "ex_test(None, shuffle=False, transform=transform_train_DA1, threshold=None)\n",
    "ex_test(None, shuffle=False, transform=transform_train_DA1, threshold=threshold)\n",
    "\n",
    "v_idx = {'diff': 0, 'loss': 1, 'MSE': 2, 'SNR': 3}"
   ]
  },
  {
   "cell_type": "code",
   "execution_count": 23,
   "metadata": {
    "ExecuteTime": {
     "end_time": "2018-04-04T14:29:11.848109Z",
     "start_time": "2018-04-04T14:29:11.843529Z"
    },
    "collapsed": true
   },
   "outputs": [],
   "source": [
    "def get_xs(id1, var, id2):\n",
    "    return pd.DataFrame([[v[v_idx[var]][id2] for v in line] for line in xs_df[id1].values]\n",
    "             , index=[n.replace(\"_\", ' ') for n in nets])"
   ]
  },
  {
   "cell_type": "markdown",
   "metadata": {},
   "source": [
    "## 4.1"
   ]
  },
  {
   "cell_type": "markdown",
   "metadata": {},
   "source": [
    "### 4.1.1 simple analysis"
   ]
  },
  {
   "cell_type": "code",
   "execution_count": 24,
   "metadata": {
    "ExecuteTime": {
     "end_time": "2018-04-04T14:30:06.480171Z",
     "start_time": "2018-04-04T14:29:29.337505Z"
    },
    "collapsed": true
   },
   "outputs": [],
   "source": [
    "xs, acc = {}, {}\n",
    "for tn in nets[1:]:\n",
    "    k_tn = tn.replace('_', ' ')\n",
    "    xs[k_tn], acc[k_tn] = {}, {}\n",
    "    for gn in nets:\n",
    "        k_gn = gn.replace('_', ' ')\n",
    "        xs[k_tn][k_gn], acc[k_tn][k_gn] = test(gn, tn, origin_data_array, origin_label_array,\n",
    "                            shuffle=False, transform=transform_train_DA1, constraint=None)\n",
    "acc = pd.DataFrame(acc)\n",
    "xs = pd.DataFrame(xs)"
   ]
  },
  {
   "cell_type": "code",
   "execution_count": 25,
   "metadata": {
    "ExecuteTime": {
     "end_time": "2018-04-04T14:30:06.495499Z",
     "start_time": "2018-04-04T14:30:06.482089Z"
    }
   },
   "outputs": [
    {
     "data": {
      "text/html": [
       "<div>\n",
       "<style>\n",
       "    .dataframe thead tr:only-child th {\n",
       "        text-align: right;\n",
       "    }\n",
       "\n",
       "    .dataframe thead th {\n",
       "        text-align: left;\n",
       "    }\n",
       "\n",
       "    .dataframe tbody tr th {\n",
       "        vertical-align: top;\n",
       "    }\n",
       "</style>\n",
       "<table border=\"1\" class=\"dataframe\">\n",
       "  <thead>\n",
       "    <tr style=\"text-align: right;\">\n",
       "      <th></th>\n",
       "      <th>0</th>\n",
       "      <th>1</th>\n",
       "      <th>2</th>\n",
       "      <th>3</th>\n",
       "    </tr>\n",
       "  </thead>\n",
       "  <tbody>\n",
       "    <tr>\n",
       "      <th>random init</th>\n",
       "      <td>2.379002</td>\n",
       "      <td>2.583985</td>\n",
       "      <td>2.065800</td>\n",
       "      <td>2.300379</td>\n",
       "    </tr>\n",
       "    <tr>\n",
       "      <th>resnet18 me 200e</th>\n",
       "      <td>19.586452</td>\n",
       "      <td>19.761568</td>\n",
       "      <td>19.712673</td>\n",
       "      <td>19.616890</td>\n",
       "    </tr>\n",
       "    <tr>\n",
       "      <th>resnet18 me backgrad prob online iter10 lr01</th>\n",
       "      <td>8.815062</td>\n",
       "      <td>8.786309</td>\n",
       "      <td>8.635487</td>\n",
       "      <td>8.645218</td>\n",
       "    </tr>\n",
       "    <tr>\n",
       "      <th>train8 resnet18 r1 i10 lr01 bT</th>\n",
       "      <td>12.925099</td>\n",
       "      <td>12.999937</td>\n",
       "      <td>12.919186</td>\n",
       "      <td>12.990898</td>\n",
       "    </tr>\n",
       "    <tr>\n",
       "      <th>train8 resnet18 r1 i10 lr01 bT prob</th>\n",
       "      <td>8.972747</td>\n",
       "      <td>8.865687</td>\n",
       "      <td>8.971344</td>\n",
       "      <td>8.765001</td>\n",
       "    </tr>\n",
       "  </tbody>\n",
       "</table>\n",
       "</div>"
      ],
      "text/plain": [
       "                                                      0          1          2  \\\n",
       "random init                                    2.379002   2.583985   2.065800   \n",
       "resnet18 me 200e                              19.586452  19.761568  19.712673   \n",
       "resnet18 me backgrad prob online iter10 lr01   8.815062   8.786309   8.635487   \n",
       "train8 resnet18 r1 i10 lr01 bT                12.925099  12.999937  12.919186   \n",
       "train8 resnet18 r1 i10 lr01 bT prob            8.972747   8.865687   8.971344   \n",
       "\n",
       "                                                      3  \n",
       "random init                                    2.300379  \n",
       "resnet18 me 200e                              19.616890  \n",
       "resnet18 me backgrad prob online iter10 lr01   8.645218  \n",
       "train8 resnet18 r1 i10 lr01 bT                12.990898  \n",
       "train8 resnet18 r1 i10 lr01 bT prob            8.765001  "
      ]
     },
     "execution_count": 25,
     "metadata": {},
     "output_type": "execute_result"
    }
   ],
   "source": [
    "-pd.DataFrame([[v[v_idx['loss']][0] for v in line] for line in xs.values]\n",
    "             , index=[n.replace(\"_\", ' ') for n in nets])"
   ]
  },
  {
   "cell_type": "code",
   "execution_count": 26,
   "metadata": {
    "ExecuteTime": {
     "end_time": "2018-04-04T14:30:06.647257Z",
     "start_time": "2018-04-04T14:30:06.496982Z"
    }
   },
   "outputs": [
    {
     "data": {
      "text/html": [
       "<div>\n",
       "<style>\n",
       "    .dataframe thead tr:only-child th {\n",
       "        text-align: right;\n",
       "    }\n",
       "\n",
       "    .dataframe thead th {\n",
       "        text-align: left;\n",
       "    }\n",
       "\n",
       "    .dataframe tbody tr th {\n",
       "        vertical-align: top;\n",
       "    }\n",
       "</style>\n",
       "<table border=\"1\" class=\"dataframe\">\n",
       "  <thead>\n",
       "    <tr style=\"text-align: right;\">\n",
       "      <th></th>\n",
       "      <th>random init</th>\n",
       "      <th>resnet18 me 200e</th>\n",
       "      <th>resnet18 me backgrad prob online iter10 lr01</th>\n",
       "      <th>train8 resnet18 r1 i10 lr01 bT</th>\n",
       "      <th>train8 resnet18 r1 i10 lr01 bT prob</th>\n",
       "    </tr>\n",
       "  </thead>\n",
       "  <tbody>\n",
       "    <tr>\n",
       "      <th>resnet18 me 200e</th>\n",
       "      <td>0.00000</td>\n",
       "      <td>66.40625</td>\n",
       "      <td>6.25000</td>\n",
       "      <td>7.81250</td>\n",
       "      <td>2.34375</td>\n",
       "    </tr>\n",
       "    <tr>\n",
       "      <th>resnet18 me backgrad prob online iter10 lr01</th>\n",
       "      <td>0.00000</td>\n",
       "      <td>0.78125</td>\n",
       "      <td>4.68750</td>\n",
       "      <td>1.56250</td>\n",
       "      <td>1.56250</td>\n",
       "    </tr>\n",
       "    <tr>\n",
       "      <th>train8 resnet18 r1 i10 lr01 bT</th>\n",
       "      <td>0.78125</td>\n",
       "      <td>4.68750</td>\n",
       "      <td>5.46875</td>\n",
       "      <td>5.46875</td>\n",
       "      <td>5.46875</td>\n",
       "    </tr>\n",
       "    <tr>\n",
       "      <th>train8 resnet18 r1 i10 lr01 bT prob</th>\n",
       "      <td>0.00000</td>\n",
       "      <td>0.00000</td>\n",
       "      <td>2.34375</td>\n",
       "      <td>0.78125</td>\n",
       "      <td>0.78125</td>\n",
       "    </tr>\n",
       "  </tbody>\n",
       "</table>\n",
       "</div>"
      ],
      "text/plain": [
       "                                              random init  resnet18 me 200e  \\\n",
       "resnet18 me 200e                                  0.00000          66.40625   \n",
       "resnet18 me backgrad prob online iter10 lr01      0.00000           0.78125   \n",
       "train8 resnet18 r1 i10 lr01 bT                    0.78125           4.68750   \n",
       "train8 resnet18 r1 i10 lr01 bT prob               0.00000           0.00000   \n",
       "\n",
       "                                              resnet18 me backgrad prob online iter10 lr01  \\\n",
       "resnet18 me 200e                                                                   6.25000   \n",
       "resnet18 me backgrad prob online iter10 lr01                                       4.68750   \n",
       "train8 resnet18 r1 i10 lr01 bT                                                     5.46875   \n",
       "train8 resnet18 r1 i10 lr01 bT prob                                                2.34375   \n",
       "\n",
       "                                              train8 resnet18 r1 i10 lr01 bT  \\\n",
       "resnet18 me 200e                                                     7.81250   \n",
       "resnet18 me backgrad prob online iter10 lr01                         1.56250   \n",
       "train8 resnet18 r1 i10 lr01 bT                                       5.46875   \n",
       "train8 resnet18 r1 i10 lr01 bT prob                                  0.78125   \n",
       "\n",
       "                                              train8 resnet18 r1 i10 lr01 bT prob  \n",
       "resnet18 me 200e                                                          2.34375  \n",
       "resnet18 me backgrad prob online iter10 lr01                              1.56250  \n",
       "train8 resnet18 r1 i10 lr01 bT                                            5.46875  \n",
       "train8 resnet18 r1 i10 lr01 bT prob                                       0.78125  "
      ]
     },
     "execution_count": 26,
     "metadata": {},
     "output_type": "execute_result"
    }
   ],
   "source": [
    "(1-acc.T) * 100 * 2 # train_data contain origin data"
   ]
  },
  {
   "cell_type": "markdown",
   "metadata": {},
   "source": [
    "### 4.1.2 color clip: alomost make no diff."
   ]
  },
  {
   "cell_type": "code",
   "execution_count": 27,
   "metadata": {
    "ExecuteTime": {
     "end_time": "2018-04-04T14:30:06.737575Z",
     "start_time": "2018-04-04T14:30:06.649847Z"
    }
   },
   "outputs": [
    {
     "data": {
      "text/html": [
       "<div>\n",
       "<style>\n",
       "    .dataframe thead tr:only-child th {\n",
       "        text-align: right;\n",
       "    }\n",
       "\n",
       "    .dataframe thead th {\n",
       "        text-align: left;\n",
       "    }\n",
       "\n",
       "    .dataframe tbody tr th {\n",
       "        vertical-align: top;\n",
       "    }\n",
       "</style>\n",
       "<table border=\"1\" class=\"dataframe\">\n",
       "  <thead>\n",
       "    <tr style=\"text-align: right;\">\n",
       "      <th></th>\n",
       "      <th>0</th>\n",
       "      <th>1</th>\n",
       "      <th>2</th>\n",
       "      <th>3</th>\n",
       "    </tr>\n",
       "  </thead>\n",
       "  <tbody>\n",
       "    <tr>\n",
       "      <th>random init</th>\n",
       "      <td>-2.116816</td>\n",
       "      <td>-3.039940</td>\n",
       "      <td>-3.013283</td>\n",
       "      <td>-2.510832</td>\n",
       "    </tr>\n",
       "    <tr>\n",
       "      <th>resnet18 me 200e</th>\n",
       "      <td>-19.930014</td>\n",
       "      <td>-19.740627</td>\n",
       "      <td>-19.642788</td>\n",
       "      <td>-19.663712</td>\n",
       "    </tr>\n",
       "    <tr>\n",
       "      <th>resnet18 me backgrad prob online iter10 lr01</th>\n",
       "      <td>-8.703478</td>\n",
       "      <td>-8.620981</td>\n",
       "      <td>-8.673812</td>\n",
       "      <td>-8.608555</td>\n",
       "    </tr>\n",
       "    <tr>\n",
       "      <th>train8 resnet18 r1 i10 lr01 bT</th>\n",
       "      <td>-12.880213</td>\n",
       "      <td>-12.946293</td>\n",
       "      <td>-12.764915</td>\n",
       "      <td>-12.740609</td>\n",
       "    </tr>\n",
       "    <tr>\n",
       "      <th>train8 resnet18 r1 i10 lr01 bT prob</th>\n",
       "      <td>-8.838246</td>\n",
       "      <td>-9.086199</td>\n",
       "      <td>-9.144640</td>\n",
       "      <td>-8.991330</td>\n",
       "    </tr>\n",
       "  </tbody>\n",
       "</table>\n",
       "</div>"
      ],
      "text/plain": [
       "                                                      0          1          2  \\\n",
       "random init                                   -2.116816  -3.039940  -3.013283   \n",
       "resnet18 me 200e                             -19.930014 -19.740627 -19.642788   \n",
       "resnet18 me backgrad prob online iter10 lr01  -8.703478  -8.620981  -8.673812   \n",
       "train8 resnet18 r1 i10 lr01 bT               -12.880213 -12.946293 -12.764915   \n",
       "train8 resnet18 r1 i10 lr01 bT prob           -8.838246  -9.086199  -9.144640   \n",
       "\n",
       "                                                      3  \n",
       "random init                                   -2.510832  \n",
       "resnet18 me 200e                             -19.663712  \n",
       "resnet18 me backgrad prob online iter10 lr01  -8.608555  \n",
       "train8 resnet18 r1 i10 lr01 bT               -12.740609  \n",
       "train8 resnet18 r1 i10 lr01 bT prob           -8.991330  "
      ]
     },
     "execution_count": 27,
     "metadata": {},
     "output_type": "execute_result"
    }
   ],
   "source": [
    "get_xs(0, 'loss', 0)  # ex_test(None, shuffle=False, transform=transform_train_DA1, threshold=None)"
   ]
  },
  {
   "cell_type": "code",
   "execution_count": 28,
   "metadata": {
    "ExecuteTime": {
     "end_time": "2018-04-04T14:30:06.817885Z",
     "start_time": "2018-04-04T14:30:06.740816Z"
    }
   },
   "outputs": [
    {
     "data": {
      "text/html": [
       "<div>\n",
       "<style>\n",
       "    .dataframe thead tr:only-child th {\n",
       "        text-align: right;\n",
       "    }\n",
       "\n",
       "    .dataframe thead th {\n",
       "        text-align: left;\n",
       "    }\n",
       "\n",
       "    .dataframe tbody tr th {\n",
       "        vertical-align: top;\n",
       "    }\n",
       "</style>\n",
       "<table border=\"1\" class=\"dataframe\">\n",
       "  <thead>\n",
       "    <tr style=\"text-align: right;\">\n",
       "      <th></th>\n",
       "      <th>0</th>\n",
       "      <th>1</th>\n",
       "      <th>2</th>\n",
       "      <th>3</th>\n",
       "    </tr>\n",
       "  </thead>\n",
       "  <tbody>\n",
       "    <tr>\n",
       "      <th>random init</th>\n",
       "      <td>-3.662844</td>\n",
       "      <td>-2.566636</td>\n",
       "      <td>-1.936265</td>\n",
       "      <td>-2.423729</td>\n",
       "    </tr>\n",
       "    <tr>\n",
       "      <th>resnet18 me 200e</th>\n",
       "      <td>-19.586395</td>\n",
       "      <td>-19.793713</td>\n",
       "      <td>-19.707544</td>\n",
       "      <td>-19.810726</td>\n",
       "    </tr>\n",
       "    <tr>\n",
       "      <th>resnet18 me backgrad prob online iter10 lr01</th>\n",
       "      <td>-8.752985</td>\n",
       "      <td>-8.697500</td>\n",
       "      <td>-8.827636</td>\n",
       "      <td>-8.817623</td>\n",
       "    </tr>\n",
       "    <tr>\n",
       "      <th>train8 resnet18 r1 i10 lr01 bT</th>\n",
       "      <td>-12.843822</td>\n",
       "      <td>-12.896749</td>\n",
       "      <td>-12.935543</td>\n",
       "      <td>-12.780443</td>\n",
       "    </tr>\n",
       "    <tr>\n",
       "      <th>train8 resnet18 r1 i10 lr01 bT prob</th>\n",
       "      <td>-8.899344</td>\n",
       "      <td>-8.849463</td>\n",
       "      <td>-9.008923</td>\n",
       "      <td>-9.024295</td>\n",
       "    </tr>\n",
       "  </tbody>\n",
       "</table>\n",
       "</div>"
      ],
      "text/plain": [
       "                                                      0          1          2  \\\n",
       "random init                                   -3.662844  -2.566636  -1.936265   \n",
       "resnet18 me 200e                             -19.586395 -19.793713 -19.707544   \n",
       "resnet18 me backgrad prob online iter10 lr01  -8.752985  -8.697500  -8.827636   \n",
       "train8 resnet18 r1 i10 lr01 bT               -12.843822 -12.896749 -12.935543   \n",
       "train8 resnet18 r1 i10 lr01 bT prob           -8.899344  -8.849463  -9.008923   \n",
       "\n",
       "                                                      3  \n",
       "random init                                   -2.423729  \n",
       "resnet18 me 200e                             -19.810726  \n",
       "resnet18 me backgrad prob online iter10 lr01  -8.817623  \n",
       "train8 resnet18 r1 i10 lr01 bT               -12.780443  \n",
       "train8 resnet18 r1 i10 lr01 bT prob           -9.024295  "
      ]
     },
     "execution_count": 28,
     "metadata": {},
     "output_type": "execute_result"
    }
   ],
   "source": [
    "get_xs(1, 'loss', 0)  # ex_test(None, shuffle=False, transform=transform_train_DA1, threshold=threshold)"
   ]
  },
  {
   "cell_type": "code",
   "execution_count": 29,
   "metadata": {
    "ExecuteTime": {
     "end_time": "2018-04-04T14:30:06.947741Z",
     "start_time": "2018-04-04T14:30:06.819183Z"
    }
   },
   "outputs": [
    {
     "data": {
      "text/html": [
       "<div>\n",
       "<style>\n",
       "    .dataframe thead tr:only-child th {\n",
       "        text-align: right;\n",
       "    }\n",
       "\n",
       "    .dataframe thead th {\n",
       "        text-align: left;\n",
       "    }\n",
       "\n",
       "    .dataframe tbody tr th {\n",
       "        vertical-align: top;\n",
       "    }\n",
       "</style>\n",
       "<table border=\"1\" class=\"dataframe\">\n",
       "  <thead>\n",
       "    <tr style=\"text-align: right;\">\n",
       "      <th></th>\n",
       "      <th>random init</th>\n",
       "      <th>resnet18 me 200e</th>\n",
       "      <th>resnet18 me backgrad prob online iter10 lr01</th>\n",
       "      <th>train8 resnet18 r1 i10 lr01 bT</th>\n",
       "      <th>train8 resnet18 r1 i10 lr01 bT prob</th>\n",
       "    </tr>\n",
       "  </thead>\n",
       "  <tbody>\n",
       "    <tr>\n",
       "      <th>resnet18 me 200e</th>\n",
       "      <td>0.78125</td>\n",
       "      <td>65.62500</td>\n",
       "      <td>5.46875</td>\n",
       "      <td>8.59375</td>\n",
       "      <td>3.1250</td>\n",
       "    </tr>\n",
       "    <tr>\n",
       "      <th>resnet18 me backgrad prob online iter10 lr01</th>\n",
       "      <td>0.00000</td>\n",
       "      <td>1.56250</td>\n",
       "      <td>4.68750</td>\n",
       "      <td>3.90625</td>\n",
       "      <td>1.5625</td>\n",
       "    </tr>\n",
       "    <tr>\n",
       "      <th>train8 resnet18 r1 i10 lr01 bT</th>\n",
       "      <td>3.12500</td>\n",
       "      <td>3.12500</td>\n",
       "      <td>3.12500</td>\n",
       "      <td>10.15625</td>\n",
       "      <td>7.8125</td>\n",
       "    </tr>\n",
       "    <tr>\n",
       "      <th>train8 resnet18 r1 i10 lr01 bT prob</th>\n",
       "      <td>0.00000</td>\n",
       "      <td>0.78125</td>\n",
       "      <td>1.56250</td>\n",
       "      <td>1.56250</td>\n",
       "      <td>3.1250</td>\n",
       "    </tr>\n",
       "  </tbody>\n",
       "</table>\n",
       "</div>"
      ],
      "text/plain": [
       "                                              random init  resnet18 me 200e  \\\n",
       "resnet18 me 200e                                  0.78125          65.62500   \n",
       "resnet18 me backgrad prob online iter10 lr01      0.00000           1.56250   \n",
       "train8 resnet18 r1 i10 lr01 bT                    3.12500           3.12500   \n",
       "train8 resnet18 r1 i10 lr01 bT prob               0.00000           0.78125   \n",
       "\n",
       "                                              resnet18 me backgrad prob online iter10 lr01  \\\n",
       "resnet18 me 200e                                                                   5.46875   \n",
       "resnet18 me backgrad prob online iter10 lr01                                       4.68750   \n",
       "train8 resnet18 r1 i10 lr01 bT                                                     3.12500   \n",
       "train8 resnet18 r1 i10 lr01 bT prob                                                1.56250   \n",
       "\n",
       "                                              train8 resnet18 r1 i10 lr01 bT  \\\n",
       "resnet18 me 200e                                                     8.59375   \n",
       "resnet18 me backgrad prob online iter10 lr01                         3.90625   \n",
       "train8 resnet18 r1 i10 lr01 bT                                      10.15625   \n",
       "train8 resnet18 r1 i10 lr01 bT prob                                  1.56250   \n",
       "\n",
       "                                              train8 resnet18 r1 i10 lr01 bT prob  \n",
       "resnet18 me 200e                                                           3.1250  \n",
       "resnet18 me backgrad prob online iter10 lr01                               1.5625  \n",
       "train8 resnet18 r1 i10 lr01 bT                                             7.8125  \n",
       "train8 resnet18 r1 i10 lr01 bT prob                                        3.1250  "
      ]
     },
     "execution_count": 29,
     "metadata": {},
     "output_type": "execute_result"
    }
   ],
   "source": [
    "(1-acc_df[0].T) * 100 * 2 # ex_test(None, shuffle=False, transform=transform_train_DA1, threshold=None)"
   ]
  },
  {
   "cell_type": "code",
   "execution_count": 30,
   "metadata": {
    "ExecuteTime": {
     "end_time": "2018-04-04T14:30:07.030672Z",
     "start_time": "2018-04-04T14:30:06.951056Z"
    }
   },
   "outputs": [
    {
     "data": {
      "text/html": [
       "<div>\n",
       "<style>\n",
       "    .dataframe thead tr:only-child th {\n",
       "        text-align: right;\n",
       "    }\n",
       "\n",
       "    .dataframe thead th {\n",
       "        text-align: left;\n",
       "    }\n",
       "\n",
       "    .dataframe tbody tr th {\n",
       "        vertical-align: top;\n",
       "    }\n",
       "</style>\n",
       "<table border=\"1\" class=\"dataframe\">\n",
       "  <thead>\n",
       "    <tr style=\"text-align: right;\">\n",
       "      <th></th>\n",
       "      <th>random init</th>\n",
       "      <th>resnet18 me 200e</th>\n",
       "      <th>resnet18 me backgrad prob online iter10 lr01</th>\n",
       "      <th>train8 resnet18 r1 i10 lr01 bT</th>\n",
       "      <th>train8 resnet18 r1 i10 lr01 bT prob</th>\n",
       "    </tr>\n",
       "  </thead>\n",
       "  <tbody>\n",
       "    <tr>\n",
       "      <th>resnet18 me 200e</th>\n",
       "      <td>2.34375</td>\n",
       "      <td>61.71875</td>\n",
       "      <td>6.25000</td>\n",
       "      <td>10.15625</td>\n",
       "      <td>6.25000</td>\n",
       "    </tr>\n",
       "    <tr>\n",
       "      <th>resnet18 me backgrad prob online iter10 lr01</th>\n",
       "      <td>0.00000</td>\n",
       "      <td>0.78125</td>\n",
       "      <td>1.56250</td>\n",
       "      <td>0.78125</td>\n",
       "      <td>1.56250</td>\n",
       "    </tr>\n",
       "    <tr>\n",
       "      <th>train8 resnet18 r1 i10 lr01 bT</th>\n",
       "      <td>1.56250</td>\n",
       "      <td>3.12500</td>\n",
       "      <td>7.03125</td>\n",
       "      <td>14.06250</td>\n",
       "      <td>6.25000</td>\n",
       "    </tr>\n",
       "    <tr>\n",
       "      <th>train8 resnet18 r1 i10 lr01 bT prob</th>\n",
       "      <td>1.56250</td>\n",
       "      <td>0.78125</td>\n",
       "      <td>2.34375</td>\n",
       "      <td>1.56250</td>\n",
       "      <td>2.34375</td>\n",
       "    </tr>\n",
       "  </tbody>\n",
       "</table>\n",
       "</div>"
      ],
      "text/plain": [
       "                                              random init  resnet18 me 200e  \\\n",
       "resnet18 me 200e                                  2.34375          61.71875   \n",
       "resnet18 me backgrad prob online iter10 lr01      0.00000           0.78125   \n",
       "train8 resnet18 r1 i10 lr01 bT                    1.56250           3.12500   \n",
       "train8 resnet18 r1 i10 lr01 bT prob               1.56250           0.78125   \n",
       "\n",
       "                                              resnet18 me backgrad prob online iter10 lr01  \\\n",
       "resnet18 me 200e                                                                   6.25000   \n",
       "resnet18 me backgrad prob online iter10 lr01                                       1.56250   \n",
       "train8 resnet18 r1 i10 lr01 bT                                                     7.03125   \n",
       "train8 resnet18 r1 i10 lr01 bT prob                                                2.34375   \n",
       "\n",
       "                                              train8 resnet18 r1 i10 lr01 bT  \\\n",
       "resnet18 me 200e                                                    10.15625   \n",
       "resnet18 me backgrad prob online iter10 lr01                         0.78125   \n",
       "train8 resnet18 r1 i10 lr01 bT                                      14.06250   \n",
       "train8 resnet18 r1 i10 lr01 bT prob                                  1.56250   \n",
       "\n",
       "                                              train8 resnet18 r1 i10 lr01 bT prob  \n",
       "resnet18 me 200e                                                          6.25000  \n",
       "resnet18 me backgrad prob online iter10 lr01                              1.56250  \n",
       "train8 resnet18 r1 i10 lr01 bT                                            6.25000  \n",
       "train8 resnet18 r1 i10 lr01 bT prob                                       2.34375  "
      ]
     },
     "execution_count": 30,
     "metadata": {},
     "output_type": "execute_result"
    }
   ],
   "source": [
    "(1-acc_df[1].T) * 100 * 2# ex_test(None, shuffle=False, transform=transform_train_DA1, threshold=threshold)"
   ]
  },
  {
   "cell_type": "code",
   "execution_count": null,
   "metadata": {
    "collapsed": true
   },
   "outputs": [],
   "source": []
  }
 ],
 "metadata": {
  "kernelspec": {
   "display_name": "Python 2",
   "language": "python",
   "name": "python2"
  },
  "language_info": {
   "codemirror_mode": {
    "name": "ipython",
    "version": 2
   },
   "file_extension": ".py",
   "mimetype": "text/x-python",
   "name": "python",
   "nbconvert_exporter": "python",
   "pygments_lexer": "ipython2",
   "version": "2.7.12"
  },
  "ssap_exp_config": {
   "error_alert": "Error Occurs!",
   "initial": [],
   "max_iteration": 1000,
   "recv_id": "",
   "running": [],
   "summary": [],
   "version": "1.1.1"
  }
 },
 "nbformat": 4,
 "nbformat_minor": 1
}
