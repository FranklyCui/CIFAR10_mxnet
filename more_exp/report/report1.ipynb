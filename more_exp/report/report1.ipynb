{
 "cells": [
  {
   "cell_type": "markdown",
   "metadata": {},
   "source": [
    "# sumary\n",
    "1. thought source: some paper.\n",
    "2. what is backgrad image / adversary image? how to generate them? SGD\n",
    "3. one turn tained exp. recongnize good on train image.\n",
    "4. online learning exp, no valid acc improve, but learn more general net. --> one turn search maybe not cover adverdary space.\n",
    "5. add MSE/SNR/loss to evaluate generate image quality.\n",
    "6. some new problem in new framework: epoch round train is not good / batch mean open is greater / \n",
    "7. "
   ]
  },
  {
   "cell_type": "code",
   "execution_count": null,
   "metadata": {
    "collapsed": true
   },
   "outputs": [],
   "source": []
  }
 ],
 "metadata": {
  "kernelspec": {
   "display_name": "Python 2",
   "language": "python",
   "name": "python2"
  },
  "language_info": {
   "codemirror_mode": {
    "name": "ipython",
    "version": 2
   },
   "file_extension": ".py",
   "mimetype": "text/x-python",
   "name": "python",
   "nbconvert_exporter": "python",
   "pygments_lexer": "ipython2",
   "version": "2.7.12"
  }
 },
 "nbformat": 4,
 "nbformat_minor": 2
}
