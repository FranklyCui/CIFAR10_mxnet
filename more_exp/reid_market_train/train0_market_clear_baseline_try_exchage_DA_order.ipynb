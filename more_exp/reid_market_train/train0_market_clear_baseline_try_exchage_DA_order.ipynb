{
 "cells": [
  {
   "cell_type": "markdown",
   "metadata": {},
   "source": [
    "# 0. data prepare"
   ]
  },
  {
   "cell_type": "code",
   "execution_count": 1,
   "metadata": {
    "ExecuteTime": {
     "end_time": "2018-03-16T16:33:46.446180Z",
     "start_time": "2018-03-16T16:33:46.434779Z"
    },
    "collapsed": true
   },
   "outputs": [],
   "source": [
    "import os\n",
    "import shutil\n",
    "\n",
    "\n",
    "def mkdir_if_not_exist(path):\n",
    "    if not os.path.exists(os.path.join(*path)):\n",
    "        os.makedirs(os.path.join(*path))\n",
    "\n",
    "market_dir = '/home/hui/dataset/market1501/'\n",
    "save_dir = market_dir + \"/features\"\n",
    "force_regenerate = False\n",
    "if force_regenerate or (not os.path.exists(market_dir + 'classify/')):\n",
    "    classfy_dir = os.path.join(market_dir, 'classify/')\n",
    "    mkdir_if_not_exist([classfy_dir])\n",
    "    images_dir = market_dir + 'bounding_box_train'\n",
    "    for i, image_name in enumerate(os.listdir(images_dir)):\n",
    "        if image_name.split('.')[-1] != 'jpg': continue\n",
    "        person_id = image_name.split('_')[0]\n",
    "        mkdir_if_not_exist([classfy_dir, person_id])\n",
    "        shutil.copy(os.path.join(images_dir, image_name), os.path.join(classfy_dir, person_id))\n",
    "        if i % 1000==0: print i, image_name, person_id"
   ]
  },
  {
   "cell_type": "markdown",
   "metadata": {},
   "source": [
    "# 1. import needed package"
   ]
  },
  {
   "cell_type": "code",
   "execution_count": 2,
   "metadata": {
    "ExecuteTime": {
     "end_time": "2018-03-16T16:33:48.104457Z",
     "start_time": "2018-03-16T16:33:47.454772Z"
    },
    "collapsed": true
   },
   "outputs": [],
   "source": [
    "from mxnet import autograd\n",
    "from mxnet import gluon\n",
    "from mxnet import image\n",
    "from mxnet import init\n",
    "from mxnet import nd\n",
    "from mxnet.gluon.model_zoo import vision as model\n",
    "from mxnet.gluon import nn\n",
    "from mxnet.gluon.data import vision\n",
    "import numpy as np\n",
    "import random\n",
    "import mxnet as mx\n",
    "import sys\n",
    "sys.path.insert(0, '../../utils')\n",
    "from dataset import *\n",
    "from netlib import *\n",
    "import os\n",
    "import shutil\n",
    "from cifar10_utils import show_images, show_log, parse_log, update\n",
    "%matplotlib inline\n",
    "import mxnet.gluon.model_zoo.vision as models\n",
    "from tqdm import tqdm\n",
    "from reid_utils import *\n",
    "\n",
    "ctx = mx.gpu(0)\n",
    "num_classes = 751\n",
    "def mkdir_if_not_exist(path):\n",
    "    if not os.path.exists(os.path.join(*path)):\n",
    "        os.makedirs(os.path.join(*path))"
   ]
  },
  {
   "cell_type": "markdown",
   "metadata": {},
   "source": [
    "# 2. data loader, data argument"
   ]
  },
  {
   "cell_type": "code",
   "execution_count": 3,
   "metadata": {
    "ExecuteTime": {
     "end_time": "2018-03-16T16:33:49.447054Z",
     "start_time": "2018-03-16T16:33:49.373847Z"
    },
    "collapsed": true
   },
   "outputs": [],
   "source": [
    "\"\"\"\n",
    "data loader\n",
    "\"\"\"\n",
    "batch_size = 16\n",
    "# imagenet mean and std, set None or not set will use as default for image.CreateAugmenter function\n",
    "mean = np.array([123.68, 116.28, 103.53]) / 255\n",
    "std = np.array([58.395, 57.12, 57.375]) / 255\n",
    "\n",
    "def _transform_test(data, label):\n",
    "    im = data.astype('float32')  / 255\n",
    "    auglist = [image.ResizeAug(128, interp=3),\n",
    "               image.ColorNormalizeAug(mean=mean, std=std)]\n",
    "    for aug in auglist:\n",
    "        im = aug(im)\n",
    "    im = nd.transpose(im, (2, 0, 1))\n",
    "    return im, nd.array([label]).astype('float32')\n",
    "\n",
    "def _transform_test2(data, label):\n",
    "    im = data.astype('float32') / 255\n",
    "    auglist = [image.ResizeAug(144, interp=3),\n",
    "               image.ColorNormalizeAug(mean=mean, std=std)]\n",
    "    for aug in auglist:\n",
    "        im = aug(im)\n",
    "    im = nd.transpose(im, (2, 0, 1)) \n",
    "    return im, nd.array([label]).astype('float32')\n",
    "\n",
    "def _transform_test_flip(data, label):\n",
    "    im = data.astype('float32') / 255\n",
    "    auglist = [image.ResizeAug(128, interp=3),\n",
    "               image.HorizontalFlipAug(1),\n",
    "               image.ColorNormalizeAug(mean=mean, std=std)]\n",
    "    for aug in auglist:\n",
    "        im = aug(im)\n",
    "    im = nd.transpose(im, (2, 0, 1)) \n",
    "    return im, nd.array([label]).astype('float32')\n",
    "\n",
    "def _transform_test2_flip(data, label):\n",
    "    im = data.astype('float32') / 255\n",
    "    auglist = [image.ResizeAug(144, interp=3),\n",
    "               image.HorizontalFlipAug(1),\n",
    "               image.ColorNormalizeAug(mean=mean, std=std)]\n",
    "    for aug in auglist:\n",
    "        im = aug(im)\n",
    "    im = nd.transpose(im, (2, 0, 1))\n",
    "    return im, nd.array([label]).astype('float32')\n",
    "\n",
    "def inv_normalize(data, clip=True):\n",
    "    images = data.transpose((0, 2, 3, 1)).asnumpy()\n",
    "    images = images * std + mean\n",
    "    images = images.transpose((0, 3, 1, 2))\n",
    "    if clip: \n",
    "        images = images.clip(0, 1)\n",
    "    return images * 255\n",
    "\n",
    "def load_all_data_label(pathes):\n",
    "    all_data, all_label = None, None\n",
    "    for path in pathes:\n",
    "        data, label = nd.load(path)\n",
    "        label = label.reshape((-1,)).astype('float32')\n",
    "        if all_data is None:\n",
    "            all_data, all_label = data, label\n",
    "        else:\n",
    "            all_data = nd.concat(all_data, data, dim=0)\n",
    "            all_label = nd.concat(all_label, label, dim=0)\n",
    "    return all_data, all_label\n",
    "\n",
    "\n",
    "def data_loader(batch_size, transform_train, transform_test=None, num_workers=0, pathes=None, arrayds=False):\n",
    "    if transform_train is None:\n",
    "        transform_train = _transform_train\n",
    "    if transform_test is None:\n",
    "        transform_test = _transform_test\n",
    "        \n",
    "    # flag=1 mean 3 channel image\n",
    "    if pathes is None:\n",
    "        train_ds = gluon.data.vision.datasets.ImageFolderDataset(root=market_dir + '/classify/', flag=1, transform=transform_train)\n",
    "    else:\n",
    "        if not arrayds:\n",
    "            train_ds = MultiFolderDataset(pathes, transform=transform_train)\n",
    "        else:\n",
    "            train_ds = MyArrayDataset(load_all_data_label(pathes), transform=transform_train)\n",
    "    #test_ds = gluon.data.vision.datasets.CIFAR10(root='~/.mxnet/datasets/cifar10', train=False, transform=transform_test)\n",
    "\n",
    "    loader = gluon.data.DataLoader\n",
    "    train_data = loader(train_ds, batch_size, shuffle=True, last_batch='keep', num_workers=num_workers)\n",
    "    #test_data = loader(test_ds, batch_size, shuffle=False, last_batch='keep', num_workers=num_workers)\n",
    "    return train_data, None"
   ]
  },
  {
   "cell_type": "code",
   "execution_count": 5,
   "metadata": {
    "ExecuteTime": {
     "end_time": "2018-03-16T16:34:01.854227Z",
     "start_time": "2018-03-16T16:34:01.771315Z"
    },
    "collapsed": true
   },
   "outputs": [],
   "source": [
    "\"\"\"\n",
    "data argument\n",
    "\"\"\"\n",
    "from PIL import Image\n",
    "from random import uniform, randint\n",
    "import math\n",
    "import numpy as np\n",
    "import torch\n",
    "\n",
    "class RandomErasing(object):\n",
    "    \"\"\" Randomly selects a rectangle region in an image and erases its pixels.\n",
    "        'Random Erasing Data Augmentation' by Zhong et al.\n",
    "        See https://arxiv.org/pdf/1708.04896.pdf\n",
    "    Args:\n",
    "         probability: The probability that the Random Erasing operation will be performed.\n",
    "         sl: Minimum proportion of erased area against input image.\n",
    "         sh: Maximum proportion of erased area against input image.\n",
    "         r1: Minimum aspect ratio of erased area.\n",
    "         mean: Erasing value. \n",
    "    \"\"\"\n",
    "    \n",
    "    def __init__(self, probability = 0.5, sl = 0.02, sh = 0.4, r1 = 0.3, mean=[0, 0, 0]):\n",
    "        self.probability = probability\n",
    "        self.mean = nd.array(mean)\n",
    "        self.sl = sl\n",
    "        self.sh = sh\n",
    "        self.r1 = r1\n",
    "       \n",
    "    def __call__(self, img):\n",
    "\n",
    "        if uniform(0, 1) > self.probability:\n",
    "            return img\n",
    "\n",
    "        for attempt in range(100):\n",
    "            area = img.shape[0] * img.shape[1]\n",
    "       \n",
    "            target_area = uniform(self.sl, self.sh) * area\n",
    "            aspect_ratio = uniform(self.r1, 1/self.r1)\n",
    "\n",
    "            h = int(round(math.sqrt(target_area * aspect_ratio)))\n",
    "            w = int(round(math.sqrt(target_area / aspect_ratio)))\n",
    "\n",
    "            if w < img.shape[1] and h < img.shape[0]:\n",
    "                x1 = randint(0, img.shape[0] - h)\n",
    "                y1 = randint(0, img.shape[1] - w)\n",
    "                if img.shape[2] == 3:\n",
    "                    img[x1:x1+h, y1:y1+w, 0] = self.mean[0]\n",
    "                    img[x1:x1+h, y1:y1+w, 1] = self.mean[1]\n",
    "                    img[x1:x1+h, y1:y1+w, 2] = self.mean[2]\n",
    "                else:\n",
    "                    img[x1:x1+h, y1:y1+w, 0] = self.mean[0]\n",
    "                return img\n",
    "\n",
    "        return img\n",
    "\n",
    "def transform_train_DA1(data, label):\n",
    "    im = data.astype('float32') / 255\n",
    "    auglist = [image.ResizeAug(144, interp=3),\n",
    "               image.RandomCropAug((128, 256)),   # w, h\n",
    "               image.HorizontalFlipAug(0.5),\n",
    "               image.ColorNormalizeAug(mean=mean, std=std)]\n",
    "    for aug in auglist:\n",
    "        im = aug(im)\n",
    "    im = nd.transpose(im, (2, 0, 1)) # channel x width x height\n",
    "    return im, nd.array([label]).astype('float32')\n",
    "\n",
    "def transform_train_DA2(data, label):\n",
    "    im = data.astype('float32')  / 255\n",
    "    auglist = [image.ResizeAug(144, interp=3),\n",
    "               image.RandomCropAug((128, 256)),   # w, h\n",
    "               image.HorizontalFlipAug(0.5),\n",
    "               image.ColorJitterAug(brightness=0.1, contrast=0.1, saturation=0.1),\n",
    "               RandomErasing(),\n",
    "               image.ColorNormalizeAug(mean=mean, std=std)]\n",
    "    for aug in auglist:\n",
    "        im = aug(im)\n",
    "    im = nd.transpose(im, (2, 0, 1))# channel x width x height\n",
    "    return im, nd.array([label]).astype('float32')\n",
    "\n",
    "def transform_train_DA3(data, label):\n",
    "    im = data.astype('float32')  / 255\n",
    "    auglist = [image.ColorJitterAug(brightness=0.1, contrast=0.1, saturation=0.1),\n",
    "               image.ResizeAug(144, interp=3),\n",
    "               image.RandomCropAug((128, 256)),   # w, h\n",
    "               image.HorizontalFlipAug(0.5),\n",
    "               image.ColorNormalizeAug(mean=mean, std=std),\n",
    "               RandomErasing(mean=[0.4914, 0.4822, 0.4465])]\n",
    "    for aug in auglist:\n",
    "        im = aug(im)\n",
    "    im = nd.transpose(im, (2, 0, 1))# channel x width x height\n",
    "    return im, nd.array([label]).astype('float32')\n",
    "\n",
    "def transform_train_DA4(data, label):\n",
    "    im = data.astype('float32')  / 255\n",
    "    auglist = [image.ColorJitterAug(brightness=0.1, contrast=0.1, saturation=0.1),\n",
    "               image.ResizeAug(144, interp=3),\n",
    "               image.RandomCropAug((128, 256)),   # w, h\n",
    "               image.HorizontalFlipAug(0.5),\n",
    "               image.ColorNormalizeAug(mean=mean, std=std),\n",
    "               RandomErasing(mean=[0., 0., 0.])]\n",
    "    for aug in auglist:\n",
    "        im = aug(im)\n",
    "    im = nd.transpose(im, (2, 0, 1))# channel x width x height\n",
    "    return im, nd.array([label]).astype('float32')"
   ]
  },
  {
   "cell_type": "code",
   "execution_count": 5,
   "metadata": {
    "ExecuteTime": {
     "end_time": "2018-03-16T09:13:25.304530Z",
     "start_time": "2018-03-16T09:13:25.178512Z"
    },
    "collapsed": true
   },
   "outputs": [],
   "source": [
    "train_data, _ = data_loader(batch_size, _transform_test)"
   ]
  },
  {
   "cell_type": "code",
   "execution_count": 6,
   "metadata": {
    "ExecuteTime": {
     "end_time": "2018-03-16T09:13:26.293161Z",
     "start_time": "2018-03-16T09:13:25.769740Z"
    }
   },
   "outputs": [
    {
     "name": "stdout",
     "output_type": "stream",
     "text": [
      "(16L, 3L, 256L, 128L)\n"
     ]
    },
    {
     "data": {
      "image/png": "[encoded data removed]",
      "text/plain": [
       "<matplotlib.figure.Figure at 0x7f22e0e01450>"
      ]
     },
     "metadata": {},
     "output_type": "display_data"
    }
   ],
   "source": [
    "for data, label in train_data:\n",
    "    break\n",
    "print data.shape\n",
    "show_images(inv_normalize(data[:10, :, :, :]))"
   ]
  },
  {
   "cell_type": "code",
   "execution_count": 6,
   "metadata": {
    "ExecuteTime": {
     "end_time": "2018-03-16T16:34:06.241890Z",
     "start_time": "2018-03-16T16:34:06.115327Z"
    },
    "collapsed": true
   },
   "outputs": [],
   "source": [
    "train_data, _ = data_loader(batch_size, transform_train_DA4)"
   ]
  },
  {
   "cell_type": "code",
   "execution_count": 7,
   "metadata": {
    "ExecuteTime": {
     "end_time": "2018-03-16T16:34:08.076860Z",
     "start_time": "2018-03-16T16:34:07.219435Z"
    }
   },
   "outputs": [
    {
     "name": "stdout",
     "output_type": "stream",
     "text": [
      "(16L, 3L, 256L, 128L) \n",
      "[-1.12217903 -0.99734402 -0.89213812]\n",
      "<NDArray 3 @cpu(0)>\n",
      "\n",
      "[[ 675.  537.  295.   67.  138.  361.  102.   63.    2.  495.  401.  165.\n",
      "    63.  362.  234.   16.]]\n",
      "<NDArray 1x16 @cpu(0)>\n"
     ]
    },
    {
     "data": {
      "image/png": "[encoded data removed]",
      "text/plain": [
       "<matplotlib.figure.Figure at 0x7f33b865e150>"
      ]
     },
     "metadata": {},
     "output_type": "display_data"
    }
   ],
   "source": [
    "for data, label in train_data:\n",
    "    break\n",
    "print data.shape, data[0, :, 0, 0]\n",
    "print label.T\n",
    "show_images(inv_normalize(data[:10, :, :, :]))"
   ]
  },
  {
   "cell_type": "code",
   "execution_count": 15,
   "metadata": {
    "ExecuteTime": {
     "end_time": "2018-03-16T07:19:35.488264Z",
     "start_time": "2018-03-16T07:19:34.461784Z"
    }
   },
   "outputs": [
    {
     "name": "stdout",
     "output_type": "stream",
     "text": [
      "\n",
      "[[[[ -2.42970046e-03  -2.56401207e-03  -2.69832392e-03 ...,\n",
      "     -3.66369006e-03  -3.53777269e-03  -3.20199318e-03]\n",
      "   [ -2.46327836e-03  -2.63116811e-03  -2.79905763e-03 ...,\n",
      "     -3.87355196e-03  -3.73924035e-03  -3.36988294e-03]\n",
      "   [ -2.49685626e-03  -2.66474602e-03  -2.83263577e-03 ...,\n",
      "     -3.74343758e-03  -3.62171745e-03  -3.28593818e-03]\n",
      "   ..., \n",
      "   [  7.60204683e-04   4.24425234e-04   8.86457638e-05 ...,\n",
      "     -3.31078598e-04  -3.81445512e-04  -5.49335266e-04]\n",
      "   [  6.09103939e-04   3.57269368e-04   1.05434738e-04 ...,\n",
      "     -1.09917414e-03  -1.12016033e-03  -1.22089416e-03]\n",
      "   [  1.55801667e-04   1.55801667e-04   1.55801667e-04 ...,\n",
      "     -3.40346107e-03  -3.33630503e-03  -3.23557109e-03]]\n",
      "\n",
      "  [[ -1.90723338e-03  -1.97588839e-03  -2.04454339e-03 ...,\n",
      "     -2.48221844e-03  -2.35349033e-03  -1.99305220e-03]\n",
      "   [ -1.94156088e-03  -2.04454339e-03  -2.14752578e-03 ...,\n",
      "     -2.69676489e-03  -2.55945511e-03  -2.18185293e-03]\n",
      "   [ -1.97588839e-03  -2.07887078e-03  -2.18185293e-03 ...,\n",
      "     -2.56374618e-03  -2.43930914e-03  -2.09603459e-03]\n",
      "   ..., \n",
      "   [  1.21656514e-03   8.73290643e-04   5.30016026e-04 ...,\n",
      "     -4.48316510e-04  -4.99807706e-04  -6.71444985e-04]\n",
      "   [  1.06209167e-03   8.04635696e-04   5.47179778e-04 ...,\n",
      "     -1.18206593e-03  -1.20352046e-03  -1.30650296e-03]\n",
      "   [  5.98670915e-04   5.98670915e-04   5.98670915e-04 ...,\n",
      "     -3.38331424e-03  -3.31465923e-03  -3.21167684e-03]]\n",
      "\n",
      "  [[ -2.12089368e-03  -2.22341833e-03  -2.32594297e-03 ...,\n",
      "     -3.92361917e-03  -3.79546313e-03  -3.47080175e-03]\n",
      "   [ -2.15506856e-03  -2.29176786e-03  -2.42846762e-03 ...,\n",
      "     -4.13721194e-03  -4.00051288e-03  -3.62458895e-03]\n",
      "   [ -2.18924321e-03  -2.32594297e-03  -2.46264250e-03 ...,\n",
      "     -3.99624091e-03  -3.88090056e-03  -3.53915151e-03]\n",
      "   ..., \n",
      "   [  1.94591831e-03   1.60416937e-03   1.26242056e-03 ...,\n",
      "      6.30185066e-04   5.78922743e-04   4.08048247e-04]\n",
      "   [  1.79213134e-03   1.53581973e-03   1.27950800e-03 ...,\n",
      "     -1.17390664e-04  -1.38749965e-04  -2.41274640e-04]\n",
      "   [  1.33077032e-03   1.33077032e-03   1.33077032e-03 ...,\n",
      "     -2.36011785e-03  -2.29176786e-03  -2.18924321e-03]]]\n",
      "\n",
      "\n",
      " [[[ -5.56923868e-03  -5.55244926e-03  -5.45171555e-03 ...,\n",
      "     -3.60492873e-03  -3.70566244e-03  -3.73924035e-03]\n",
      "   [ -5.56923868e-03  -5.55244926e-03  -5.45171555e-03 ...,\n",
      "     -3.60492873e-03  -3.70566244e-03  -3.73924035e-03]\n",
      "   [ -5.46850450e-03  -5.45171555e-03  -5.35098184e-03 ...,\n",
      "     -2.69832392e-03  -2.79905763e-03  -2.83263577e-03]\n",
      "   ..., \n",
      "   [  2.17047869e-03   2.23763450e-03   1.73396524e-03 ...,\n",
      "      1.02882832e-03   2.22957562e-04  -4.56660309e-05]\n",
      "   [  1.33942440e-03   1.33102981e-03   7.26626778e-04 ...,\n",
      "      8.27360607e-04   9.70402471e-05  -1.46399878e-04]\n",
      "   [  1.06240623e-03   1.02882832e-03   3.90847301e-04 ...,\n",
      "      7.60204683e-04   5.50678160e-05  -1.79977811e-04]]\n",
      "\n",
      "  [[ -5.46012539e-03  -5.44296158e-03  -5.33997919e-03 ...,\n",
      "     -3.17734922e-03  -3.28033185e-03  -3.31465923e-03]\n",
      "   [ -5.46012539e-03  -5.44296158e-03  -5.33997919e-03 ...,\n",
      "     -3.17734922e-03  -3.28033185e-03  -3.31465923e-03]\n",
      "   [ -5.35714300e-03  -5.33997919e-03  -5.23699680e-03 ...,\n",
      "     -2.25050794e-03  -2.35349033e-03  -2.38781795e-03]\n",
      "   ..., \n",
      "   [  2.17773393e-03   2.24638893e-03   1.73147710e-03 ...,\n",
      "      7.35980750e-04  -8.78782012e-05  -3.62497871e-04]\n",
      "   [  1.32812944e-03   1.31954753e-03   7.01653305e-04 ...,\n",
      "      5.30016026e-04  -2.16606175e-04  -4.65480232e-04]\n",
      "   [  1.04492786e-03   1.01060036e-03   3.58378747e-04 ...,\n",
      "      4.61361109e-04  -2.59515509e-04  -4.99807706e-04]]\n",
      "\n",
      "  [[ -4.49604867e-03  -4.47896076e-03  -4.37643612e-03 ...,\n",
      "     -2.29176786e-03  -2.39429274e-03  -2.42846762e-03]\n",
      "   [ -4.49604867e-03  -4.47896076e-03  -4.37643612e-03 ...,\n",
      "     -2.29176786e-03  -2.39429274e-03  -2.42846762e-03]\n",
      "   [ -4.39352402e-03  -4.37643612e-03  -4.27391147e-03 ...,\n",
      "     -1.36904605e-03  -1.47157069e-03  -1.50574557e-03]\n",
      "   ..., \n",
      "   [  2.90281512e-03   2.97116512e-03   2.45854165e-03 ...,\n",
      "      1.74086902e-03   9.20671620e-04   6.47272507e-04]\n",
      "   [  2.05698679e-03   2.04844284e-03   1.43329496e-03 ...,\n",
      "      1.53581973e-03   7.92515813e-04   5.44747803e-04]\n",
      "   [  1.77504390e-03   1.74086902e-03   1.09154603e-03 ...,\n",
      "      1.46746985e-03   7.49797153e-04   5.10572921e-04]]]\n",
      "\n",
      "\n",
      " [[[ -3.87355196e-03  -3.87355196e-03  -3.87355196e-03 ...,\n",
      "     -3.28593818e-03  -3.26914899e-03  -3.23557109e-03]\n",
      "   [ -3.67208431e-03  -3.69726797e-03  -3.72245139e-03 ...,\n",
      "     -4.28068498e-03  -4.27648751e-03  -4.24290961e-03]\n",
      "   [ -3.60492873e-03  -3.63850640e-03  -3.67208431e-03 ...,\n",
      "     -4.61226655e-03  -4.61226655e-03  -4.57868911e-03]\n",
      "   ..., \n",
      "   [ -1.79171935e-03  -1.95960910e-03  -2.12749885e-03 ...,\n",
      "      7.22429540e-04   6.25892950e-04   3.40480387e-04]\n",
      "   [ -1.05300453e-03  -1.18731626e-03  -1.32162799e-03 ...,\n",
      "      1.41497480e-03   1.23029598e-03   8.27360607e-04]\n",
      "   [ -1.46399878e-04  -2.47133721e-04  -3.47867579e-04 ...,\n",
      "     -4.56660309e-05  -2.13555773e-04  -4.48601408e-04]]\n",
      "\n",
      "  [[ -3.45196901e-03  -3.45196901e-03  -3.45196901e-03 ...,\n",
      "     -3.12585803e-03  -3.10869445e-03  -3.07436683e-03]\n",
      "   [ -3.24600423e-03  -3.27174994e-03  -3.29749542e-03 ...,\n",
      "     -4.14280873e-03  -4.13851812e-03  -4.10419051e-03]\n",
      "   [ -3.17734922e-03  -3.21167684e-03  -3.24600423e-03 ...,\n",
      "     -4.48179292e-03  -4.48179292e-03  -4.44746530e-03]\n",
      "   ..., \n",
      "   [ -3.52062378e-03  -3.58069688e-03  -3.64076998e-03 ...,\n",
      "     -2.50933634e-04  -4.13989066e-04  -8.08754819e-04]\n",
      "   [ -2.83407490e-03  -2.86840228e-03  -2.90272967e-03 ...,\n",
      "      5.12852275e-04   2.55396386e-04  -2.59515509e-04]\n",
      "   [ -1.97588839e-03  -1.95872458e-03  -1.94156088e-03 ...,\n",
      "     -9.28900903e-04  -1.15202938e-03  -1.51246763e-03]]\n",
      "\n",
      "  [[ -2.56516715e-03  -2.56516715e-03  -2.56516715e-03 ...,\n",
      "     -2.30885553e-03  -2.29176786e-03  -2.18924321e-03]\n",
      "   [ -2.36011785e-03  -2.38574902e-03  -2.41138018e-03 ...,\n",
      "     -3.32128652e-03  -3.31701478e-03  -3.21449013e-03]\n",
      "   [ -2.29176786e-03  -2.32594297e-03  -2.36011785e-03 ...,\n",
      "     -3.65876360e-03  -3.65876360e-03  -3.55623895e-03]\n",
      "   ..., \n",
      "   [ -2.18924321e-03  -2.21487437e-03  -2.24050554e-03 ...,\n",
      "     -5.31761209e-04  -6.00110972e-04  -7.45354278e-04]\n",
      "   [ -1.47157069e-03  -1.47157069e-03  -1.47157069e-03 ...,\n",
      "      3.22611042e-04   1.68824030e-04  -1.04575076e-04]\n",
      "   [ -6.17198413e-04  -5.65936090e-04  -5.14673768e-04 ...,\n",
      "     -9.33316187e-04  -1.06147199e-03  -1.18108420e-03]]]\n",
      "\n",
      "\n",
      " ..., \n",
      " [[[ -7.06345728e-03  -7.09703518e-03  -7.09703518e-03 ...,\n",
      "     -5.55244926e-03  -5.65318344e-03  -5.75391715e-03]\n",
      "   [ -7.08024623e-03  -7.09703518e-03  -7.10542966e-03 ...,\n",
      "     -5.48529346e-03  -5.56923868e-03  -5.65318344e-03]\n",
      "   [ -7.09703518e-03  -7.09703518e-03  -7.11382413e-03 ...,\n",
      "     -5.41813811e-03  -5.48529346e-03  -5.55244926e-03]\n",
      "   ..., \n",
      "   [ -4.34364332e-03  -4.31006541e-03  -4.30167094e-03 ...,\n",
      "     -1.35520601e-03  -1.52309577e-03  -1.69098552e-03]\n",
      "   [ -3.83997429e-03  -3.80639639e-03  -3.78960720e-03 ...,\n",
      "     -7.84380885e-04  -9.18692676e-04  -1.05300453e-03]\n",
      "   [ -3.47061665e-03  -3.43703874e-03  -3.42024979e-03 ...,\n",
      "     -9.18692676e-04  -1.02782098e-03  -1.13694940e-03]]\n",
      "\n",
      "  [[ -6.71307743e-03  -6.74740458e-03  -6.74740458e-03 ...,\n",
      "     -4.68775770e-03  -4.72208485e-03  -4.75641247e-03]\n",
      "   [ -6.73024077e-03  -6.74740458e-03  -6.75598672e-03 ...,\n",
      "     -4.61910246e-03  -4.67059389e-03  -4.72208485e-03]\n",
      "   [ -6.74740458e-03  -6.74740458e-03  -6.76456839e-03 ...,\n",
      "     -4.55044769e-03  -4.61910246e-03  -4.68775770e-03]\n",
      "   ..., \n",
      "   [ -4.24150052e-03  -4.17284528e-03  -4.16426361e-03 ...,\n",
      "     -1.11770199e-03  -1.28933915e-03  -1.46097643e-03]\n",
      "   [ -3.72658879e-03  -3.65793379e-03  -3.64076998e-03 ...,\n",
      "     -6.37117482e-04  -7.74427375e-04  -9.11737210e-04]\n",
      "   [ -3.34040495e-03  -3.28033185e-03  -3.26316804e-03 ...,\n",
      "     -7.57263624e-04  -8.68827861e-04  -9.80392098e-04]]\n",
      "\n",
      "  [[ -5.67508209e-03  -5.70925698e-03  -5.70925698e-03 ...,\n",
      "     -3.38536454e-03  -3.45371431e-03  -3.52206407e-03]\n",
      "   [ -5.69216954e-03  -5.70925698e-03  -5.71780046e-03 ...,\n",
      "     -3.31701478e-03  -3.38536454e-03  -3.45371431e-03]\n",
      "   [ -5.70925698e-03  -5.70925698e-03  -5.72634442e-03 ...,\n",
      "     -3.24866502e-03  -3.31701478e-03  -3.38536454e-03]\n",
      "   ..., \n",
      "   [ -3.18031525e-03  -3.21449013e-03  -3.24012130e-03 ...,\n",
      "      6.62993698e-05  -1.04575076e-04  -2.75449536e-04]\n",
      "   [ -2.66769179e-03  -2.70186667e-03  -2.71895411e-03 ...,\n",
      "      5.10572921e-04   3.73873365e-04   2.37173823e-04]\n",
      "   [ -2.30885553e-03  -2.32594297e-03  -2.34303041e-03 ...,\n",
      "      3.39698512e-04   2.28630088e-04   1.17561700e-04]]]\n",
      "\n",
      "\n",
      " [[[ -3.26914899e-03  -3.26914899e-03   7.60204683e-04 ...,\n",
      "     -5.66997239e-03  -5.61960554e-03  -5.61960554e-03]\n",
      "   [ -2.89979158e-03  -2.89979158e-03  -1.20880823e-05 ...,\n",
      "     -5.51887183e-03  -5.41813811e-03  -5.41813811e-03]\n",
      "   [ -2.53043440e-03  -2.53043440e-03  -7.84380885e-04 ...,\n",
      "     -5.36777079e-03  -5.21667022e-03  -5.21667022e-03]\n",
      "   ..., \n",
      "   [  2.14898664e-05   2.14898664e-05  -1.46399878e-04 ...,\n",
      "      2.98843534e-05   5.50678160e-05   5.50678160e-05]\n",
      "   [ -1.79977811e-04  -1.79977811e-04  -3.81445512e-04 ...,\n",
      "      2.22957562e-04   2.22957562e-04   2.22957562e-04]\n",
      "   [ -6.24550012e-05  -6.24550012e-05  -2.80711654e-04 ...,\n",
      "      4.95778397e-04   4.58003196e-04   4.58003196e-04]]\n",
      "\n",
      "  [[ -3.10869445e-03  -3.10869445e-03   8.73290643e-04 ...,\n",
      "     -5.15117822e-03  -5.09968679e-03  -5.09968679e-03]\n",
      "   [ -2.73109227e-03  -2.73109227e-03   8.37590778e-05 ...,\n",
      "     -4.99670440e-03  -4.89372248e-03  -4.89372248e-03]\n",
      "   [ -2.35349033e-03  -2.35349033e-03  -7.05772487e-04 ...,\n",
      "     -4.84223105e-03  -4.68775770e-03  -4.68775770e-03]\n",
      "   ..., \n",
      "   [  4.61361109e-04   4.61361109e-04   1.52413995e-04 ...,\n",
      "      4.01288067e-04   4.27033636e-04   4.27033636e-04]\n",
      "   [  3.24051274e-04   3.24051274e-04  -1.92232928e-05 ...,\n",
      "      5.98670915e-04   5.98670915e-04   5.98670915e-04]\n",
      "   [  4.44197387e-04   4.44197387e-04   8.37590778e-05 ...,\n",
      "      8.77581479e-04   8.38963140e-04   8.38963140e-04]]\n",
      "\n",
      "  [[ -2.29176786e-03  -2.29176786e-03   1.74086902e-03 ...,\n",
      "     -4.59857332e-03  -4.54731099e-03  -4.54731099e-03]\n",
      "   [ -1.91584427e-03  -1.91584427e-03   9.54846502e-04 ...,\n",
      "     -4.39352402e-03  -4.34226170e-03  -4.34226170e-03]\n",
      "   [ -1.53992046e-03  -1.53992046e-03   1.68824030e-04 ...,\n",
      "     -4.18847427e-03  -4.13721194e-03  -4.13721194e-03]\n",
      "   ..., \n",
      "   [  1.36494520e-03   1.36494520e-03   1.09154603e-03 ...,\n",
      "      1.33931404e-03   1.36494520e-03   1.36494520e-03]\n",
      "   [  1.19407068e-03   1.19407068e-03   9.20671620e-04 ...,\n",
      "      1.53581973e-03   1.53581973e-03   1.53581973e-03]\n",
      "   [  1.31368288e-03   1.31368288e-03   1.02319627e-03 ...,\n",
      "      1.81349064e-03   1.77504390e-03   1.77504390e-03]]]\n",
      "\n",
      "\n",
      " [[[ -8.17958848e-04  -8.51536810e-04  -8.68325762e-04 ...,\n",
      "     -2.86621368e-03  -3.06768133e-03  -3.26914899e-03]\n",
      "   [  5.25159121e-04   4.91581101e-04   4.74792178e-04 ...,\n",
      "     -3.06768133e-03  -3.13483737e-03  -3.20199318e-03]\n",
      "   [  5.25159121e-04   4.91581101e-04   4.74792178e-04 ...,\n",
      "     -3.06768133e-03  -3.13483737e-03  -3.20199318e-03]\n",
      "   ..., \n",
      "   [ -2.49685626e-03  -2.26181070e-03  -2.19465466e-03 ...,\n",
      "      2.90113443e-04   5.50678160e-05  -1.79977811e-04]\n",
      "   [ -2.49685626e-03  -2.26181070e-03  -2.19465466e-03 ...,\n",
      "      2.90113443e-04   5.50678160e-05  -1.79977811e-04]\n",
      "   [ -9.35481628e-04  -7.00436009e-04  -6.58463628e-04 ...,\n",
      "      8.86457638e-05  -2.21950249e-04  -5.32546313e-04]]\n",
      "\n",
      "  [[ -2.59515509e-04  -2.93842953e-04  -3.11006675e-04 ...,\n",
      "     -2.28483533e-03  -2.49080034e-03  -2.69676489e-03]\n",
      "   [  1.11358287e-03   1.07925537e-03   1.06209167e-03 ...,\n",
      "     -2.49080034e-03  -2.55945511e-03  -2.62810988e-03]\n",
      "   [  1.11358287e-03   1.07925537e-03   1.06209167e-03 ...,\n",
      "     -2.49080034e-03  -2.55945511e-03  -2.62810988e-03]\n",
      "   ..., \n",
      "   [ -1.76992361e-03  -1.52963144e-03  -1.46097643e-03 ...,\n",
      "      1.42252992e-03   1.18223764e-03   9.41945531e-04]\n",
      "   [ -1.76992361e-03  -1.52963144e-03  -1.46097643e-03 ...,\n",
      "      1.42252992e-03   1.18223764e-03   9.41945531e-04]\n",
      "   [ -1.73696841e-04   6.65953485e-05   1.09504675e-04 ...,\n",
      "      1.21656514e-03   8.99036182e-04   5.81507164e-04]]\n",
      "\n",
      "  [[  2.71348719e-04   2.37173823e-04   2.20086382e-04 ...,\n",
      "     -1.60827034e-03  -1.81331963e-03  -2.01836904e-03]\n",
      "   [  1.63834437e-03   1.60416937e-03   1.58708205e-03 ...,\n",
      "     -1.81331963e-03  -1.88166928e-03  -1.95001916e-03]\n",
      "   [  1.63834437e-03   1.60416937e-03   1.58708205e-03 ...,\n",
      "     -1.81331963e-03  -1.88166928e-03  -1.95001916e-03]\n",
      "   ..., \n",
      "   [ -9.58947348e-04  -7.19723117e-04  -6.51373353e-04 ...,\n",
      "      2.21931748e-03   1.98009307e-03   1.74086902e-03]\n",
      "   [ -9.58947348e-04  -7.19723117e-04  -6.51373353e-04 ...,\n",
      "      2.21931748e-03   1.98009307e-03   1.74086902e-03]\n",
      "   [  6.30185066e-04   8.69409298e-04   9.12127900e-04 ...,\n",
      "      2.01426819e-03   1.64688798e-03   1.27950800e-03]]]]\n",
      "<NDArray 16x3x256x128 @cpu_shared(0)>\n",
      "\n",
      "[[-0.18334275 -0.47864214 -0.53157264 ...,  0.15875909  0.5593763\n",
      "  -0.83576751]\n",
      " [-0.1037114  -0.43834448 -0.51784992 ...,  0.146668    0.4952243\n",
      "  -0.83958131]\n",
      " [-0.12978977 -0.45564705 -0.51521152 ...,  0.14281733  0.51000023\n",
      "  -0.85260487]\n",
      " ..., \n",
      " [-0.12551345 -0.46211678 -0.5286876  ...,  0.1522156   0.51354337\n",
      "  -0.85122615]\n",
      " [-0.22236541 -0.54881126 -0.5327161  ...,  0.16763702  0.67640787\n",
      "  -0.84661973]\n",
      " [-0.15662102 -0.5081082  -0.53162646 ...,  0.15998089  0.57644433\n",
      "  -0.85218245]]\n",
      "<NDArray 16x751 @gpu(0)>\n"
     ]
    },
    {
     "name": "stdout",
     "output_type": "stream",
     "text": [
      "\n",
      "[ 6.10496235  5.55452967  6.8619318   6.20803165  6.30627537  6.84484768\n",
      "  6.76908588  6.46561146  6.73977947  6.37722397  6.88826704  7.20017052\n",
      "  6.07909107  6.03897285  7.26495266  5.93342352]\n",
      "<NDArray 16 @gpu(0)>\n"
     ]
    }
   ],
   "source": [
    "num_epochs = 60\n",
    "learning_rate = 0.001\n",
    "wd=weight_decay = 5e-4\n",
    "lr_period = [40]\n",
    "lr_decay=0.1\n",
    "loss_f = gluon.loss.SoftmaxCrossEntropyLoss()\n",
    "\n",
    "\n",
    "train_data, valid_data = data_loader(batch_size, transform_train_DA1, num_workers=1)\n",
    "net = get_resnet50_v1(num_classes=num_classes, pretrained=True)\n",
    "net.hybridize()\n",
    "\n",
    "trainers = [gluon.Trainer(net[0].collect_params(), 'sgd', {'learning_rate': 0.01, 'momentum': 0.9, 'wd': wd}),\n",
    "            gluon.Trainer(net[1].collect_params(), 'sgd', {'learning_rate': 0.1, 'momentum': 0.9, 'wd': wd})]\n",
    "\n",
    "for data, label in train_data:\n",
    "    print data\n",
    "    out = net(data.as_in_context(ctx))\n",
    "    print out\n",
    "    print loss_f(out, label.as_in_context(ctx))\n",
    "    break\n",
    "    "
   ]
  },
  {
   "cell_type": "markdown",
   "metadata": {},
   "source": [
    "# 4. define train function"
   ]
  },
  {
   "cell_type": "code",
   "execution_count": 8,
   "metadata": {
    "ExecuteTime": {
     "end_time": "2018-03-16T16:34:30.936258Z",
     "start_time": "2018-03-16T16:34:30.725925Z"
    },
    "collapsed": true
   },
   "outputs": [],
   "source": [
    "\"\"\"\n",
    "train\n",
    "\"\"\"\n",
    "import datetime\n",
    "import utils\n",
    "import sys\n",
    "from random import random\n",
    "\n",
    "def abs_mean(W):\n",
    "    return nd.mean(nd.abs(W)).asscalar()\n",
    "\n",
    "def in_list(e, l):\n",
    "    for i in l:\n",
    "        if i == e:\n",
    "            return True\n",
    "    else:\n",
    "        return False\n",
    "\n",
    "def train(net, train_data, valid_data, num_epochs, lr, lr_period, \n",
    "          lr_decay, wd, ctx, w_key, output_file=None, verbose=False, loss_f=gluon.loss.SoftmaxCrossEntropyLoss(), \n",
    "          use_mixup=False, mixup_alpha=0.2, back_grad_args=None, trainers=None, epoch_call_back=None):\n",
    "    \n",
    "    def train_batch(data, label, i, use_backgrad, loss_f):\n",
    "        data = data.as_in_context(ctx)\n",
    "        _label = label.copy()\n",
    "        label = label.as_in_context(ctx)\n",
    "        \n",
    "        # generate backgrad data\n",
    "        _bloss = None\n",
    "        if use_backgrad:\n",
    "            args = back_grad_args\n",
    "            args['prob'] = args.get('prob', 1)      # prob to use back grad data argument to prove origin data is used.\n",
    "            if random() <= args['prob']:\n",
    "                args['max_iters'], args['lr'] = args.get('max_iters', 60), args.get('lr', 0.1)\n",
    "                _data, (_bloss,) = generate_backgrad_data(args['net'], data, label, args['max_iters'], args['lr'], iter_log=False)\n",
    "                if args.has_key('soft_label_th'):\n",
    "                    label = get_soft_label(label, num_classes, args['soft_label_th'])\n",
    "                    loss_f = args['soft_label_loss_f']\n",
    "                    \n",
    "                if args.has_key('show_iters') and i % args['show_iters'] == 0:\n",
    "                    show_data(data[:5])\n",
    "                    \n",
    "                if args.has_key('attach_batch') and args['attach_batch'] == True:\n",
    "                    data = nd.concat(data, _data, dim=0)\n",
    "                    label = nd.concat(label, label, dim=0)\n",
    "                    _label = nd.concat(_label, _label, dim=0)\n",
    "                else:\n",
    "                    data = _data\n",
    "                    \n",
    "        label = label.as_in_context(ctx)            \n",
    "        with autograd.record():\n",
    "            output = net(data.as_in_context(ctx))\n",
    "            loss = loss_f(output, label)\n",
    "        loss.backward()\n",
    "        for trainer in trainers:\n",
    "            trainer.step(data.shape[0])\n",
    "\n",
    "        _loss = nd.mean(loss).asscalar()\n",
    "#         if not use_mixup and (back_grad_args is None or not args.has_key('soft_label_th')):\n",
    "#             _acc = utils.accuracy(output, label)\n",
    "        if not use_mixup:\n",
    "            _acc = utils.accuracy(output, _label.as_in_context(ctx))\n",
    "        else:\n",
    "            _acc = None\n",
    "\n",
    "        if verbose and i % 100 == 0:\n",
    "            print \" # iter\", i,\n",
    "            print \"loss %.5f\" % _loss, \n",
    "            if not use_mixup: print \"acc %.5f\" % _acc,\n",
    "            print \"w (\",\n",
    "            for k in w_key:\n",
    "                w = net.collect_params()[k]\n",
    "                print \"%.5f, \" % abs_mean(w.data()),\n",
    "            print \") g (\",\n",
    "            for k in w_key:\n",
    "                w = net.collect_params()[k]\n",
    "                print \"%.5f, \" % abs_mean(w.grad()),\n",
    "            print \")\"\n",
    "        return _loss, _acc, _bloss\n",
    "            \n",
    "    if output_file is None:\n",
    "        output_file = sys.stdout\n",
    "        stdout = sys.stdout\n",
    "    else:\n",
    "        output_file = open(output_file, \"w\")\n",
    "        stdout = sys.stdout\n",
    "        sys.stdout = output_file\n",
    "    if trainers is None:\n",
    "        trainers = [gluon.Trainer(net.collect_params(), 'sgd', {'learning_rate': lr, 'momentum': 0.9, 'wd': wd})]\n",
    "    prev_time = datetime.datetime.now()\n",
    "    \n",
    "    if verbose:\n",
    "        print \" #\", utils.evaluate_accuracy(valid_data, net, ctx)\n",
    "    \n",
    "    i = 0\n",
    "    for epoch in tqdm(range(num_epochs)):\n",
    "        train_loss = 0.\n",
    "        train_acc = 0.\n",
    "        bloss, btime = 0., 0\n",
    "        if in_list(epoch, lr_period):\n",
    "            for trainer in trainers:\n",
    "                trainer.set_learning_rate(trainer.learning_rate * lr_decay)\n",
    "        \n",
    "        # back grad\n",
    "        use_backgrad = False\n",
    "        if back_grad_args is not None:\n",
    "            args = back_grad_args\n",
    "            if args.has_key('take_turn'):\n",
    "                args['take_turn'] = not args['take_turn'] # only odd epoch(start 0) will use back grad\n",
    "\n",
    "            if (not args.has_key('take_turn')) or args['take_turn'] == True:\n",
    "                if not args.has_key('prob'): print \"# back grad turn.\" \n",
    "                use_backgrad = True\n",
    "        \n",
    "        # mixup\n",
    "        if not use_mixup:\n",
    "            for data, label in train_data:\n",
    "                _loss, _acc, _bloss = train_batch(data, label, i, use_backgrad, loss_f)\n",
    "                train_loss += _loss\n",
    "                if _acc is not None: train_acc += _acc\n",
    "                if _bloss is not None: \n",
    "                    bloss += _bloss\n",
    "                    btime += 1\n",
    "                i += 1\n",
    "        else:\n",
    "            for x, y in train_data:\n",
    "                l = x.shape[0] / 2\n",
    "                data, label = mixup(x[:l], y[:l], x[l:2*l], y[l:2*l], mixup_alpha, 10)\n",
    "                _loss, _, _bloss = train_batch(data, label, i, use_backgrad, loss_f)\n",
    "                train_loss += _loss\n",
    "                if _bloss is not None: \n",
    "                    bloss += _bloss\n",
    "                    btime += 1\n",
    "                i += 1\n",
    "        \n",
    "        # log info\n",
    "        cur_time = datetime.datetime.now()\n",
    "        h, remainder = divmod((cur_time - prev_time).seconds, 3600)\n",
    "        m, s = divmod(remainder, 60)\n",
    "        time_str = \"Time %02d:%02d:%02d\" % (h, m, s)\n",
    "        \n",
    "        train_loss /= len(train_data)\n",
    "        train_acc /= len(train_data)\n",
    "        if train_acc < 1e-6:\n",
    "            train_acc = utils.evaluate_accuracy(train_data, net, ctx)\n",
    "        \n",
    "        if valid_data is not None:\n",
    "            valid_acc = utils.evaluate_accuracy(valid_data, net, ctx)\n",
    "            epoch_str = (\"epoch %d, loss %.5f, train_acc %.4f, valid_acc %.4f\" \n",
    "                         % (epoch, train_loss, train_acc, valid_acc))\n",
    "        else:\n",
    "            epoch_str = (\"epoch %d, loss %.5f, train_acc %.4f\"\n",
    "                        % (epoch, train_loss, train_acc))\n",
    "            \n",
    "        if back_grad_args is not None:\n",
    "            epoch_str += (\", bloss %.5f\" % (-bloss / btime))\n",
    "            \n",
    "        prev_time = cur_time\n",
    "        output_file.write(epoch_str + \", \" + time_str + \",lr \" + str([trainer.learning_rate for trainer in trainers]) + \"\\n\")\n",
    "        \n",
    "        if epoch_call_back is not None:\n",
    "            epoch_call_back(epoch, net)\n",
    "            \n",
    "        output_file.flush()  # to disk only when flush or close\n",
    "    if output_file != stdout:\n",
    "        sys.stdout = stdout\n",
    "        output_file.close()"
   ]
  },
  {
   "cell_type": "markdown",
   "metadata": {},
   "source": [
    "# 5. get net and do EXP"
   ]
  },
  {
   "cell_type": "code",
   "execution_count": 9,
   "metadata": {
    "ExecuteTime": {
     "end_time": "2018-03-16T16:34:32.324812Z",
     "start_time": "2018-03-16T16:34:31.652290Z"
    }
   },
   "outputs": [
    {
     "name": "stderr",
     "output_type": "stream",
     "text": [
      "../../utils/reid_utils.py:22: UserWarning: Ignoring /home/hui/dataset/market1501/bounding_box_test/Thumbs.db of type .db. Only support .ndarray, .jpeg, .jpg, .png\n",
      "  filename, ext, ', '.join(self._exts)))\n",
      "../../utils/reid_utils.py:22: UserWarning: Ignoring /home/hui/dataset/market1501/query/Thumbs.db of type .db. Only support .ndarray, .jpeg, .jpg, .png\n",
      "  filename, ext, ', '.join(self._exts)))\n"
     ]
    }
   ],
   "source": [
    "def test_data_loader(batch_size, transform=None, num_workers=0):\n",
    "    gallery_ds = MarketDataset(os.path.join(market_dir, 'bounding_box_test'), transform=transform)#, ignore_neg=False)\n",
    "    gallery_data = gluon.data.DataLoader(gallery_ds, 16, shuffle=False, last_batch='keep', num_workers=num_workers)\n",
    "    query_ds = MarketDataset(os.path.join(market_dir, 'query'), transform=transform)\n",
    "    query_data = gluon.data.DataLoader(query_ds, 16, shuffle=False, last_batch='keep', num_workers=num_workers)\n",
    "    return gallery_data, query_data\n",
    "\n",
    "def get_features(net, dataloader, show_process=False):\n",
    "    features, labels, cams = None, None, None\n",
    "    for data, label, cam in dataloader:\n",
    "        feature = net(data.as_in_context(ctx))\n",
    "        feature = feature.reshape((feature.shape[0], -1))\n",
    "        if features is None:\n",
    "            features, labels, cams = feature.copy(), label.copy(), cam.copy()\n",
    "        else:\n",
    "            features = nd.concat(features, feature, dim=0)\n",
    "            labels = nd.concat(labels, label, dim=0)\n",
    "            cams = nd.concat(cams, cam, dim=0)\n",
    "    if show_process: print \"process all %d images over\" % features.shape[0]\n",
    "    return features.asnumpy(), labels.astype('int32').asnumpy(), cams.astype('int32').asnumpy()\n",
    "        \n",
    "def save_features_of_dir(net, dataloader, save_prefix):\n",
    "    features, labels, cams = get_features(net, dataloader, True)\n",
    "    np.save(save_prefix + 'features', features)\n",
    "    np.save(save_prefix + 'labels', labels)\n",
    "    np.save(save_prefix + 'cams', cams)\n",
    "    print \"all done.\"\n",
    "    \n",
    "from reid_evaluate import evaluate\n",
    "from sklearn.preprocessing import normalize\n",
    "def cal_CMC(args, flip=None):\n",
    "    \"\"\"\n",
    "    arg:\n",
    "        str, prerix of saved npy file.\n",
    "        list, [net, query_dir, gallery_dir]\n",
    "    \"\"\"\n",
    "    if isinstance(args, str):\n",
    "        prefix = args\n",
    "        query_feature = np.load(prefix + 'q_features.npy')\n",
    "        query_cam = np.load(prefix + 'q_cams.npy')\n",
    "        query_label = np.load(prefix + 'q_labels.npy')\n",
    "        gallery_feature = np.load(prefix + 'g_features.npy')\n",
    "        gallery_cam = np.load(prefix + 'g_cams.npy')\n",
    "        gallery_label = np.load(prefix + 'g_labels.npy')\n",
    "        if flip is None:\n",
    "            pass\n",
    "        elif flip.lower() == 'add':\n",
    "            query_feature += np.load(prefix + 'q_flip_features.npy')\n",
    "            gallery_feature += np.load(prefix + 'g_flip_features.npy')\n",
    "    elif isinstance(args, list):\n",
    "        if flip is None:\n",
    "            net, query_data, gallery_data = args\n",
    "            query_feature, query_label, query_cam = get_features(net, query_data)\n",
    "            gallery_feature, gallery_label, gallery_cam = get_features(net, gallery_data)\n",
    "        else:\n",
    "            net, query_data, gallery_data, flip_query_data, flip_gallery_data = args\n",
    "            query_feature, query_label, query_cam = get_features(net, query_data)\n",
    "            gallery_feature, gallery_label, gallery_cam = get_features(net, gallery_data)\n",
    "            flip_query_feature, _, _ = get_features(net, flip_query_data)\n",
    "            flip_gallery_feature, _, _ = get_features(net, flip_gallery_data)\n",
    "            if flip.lower() == 'add':\n",
    "                query_feature += flip_query_feature\n",
    "                gallery_feature += flip_gallery_feature\n",
    "            if flip.lower() == 'concat':\n",
    "                query_feature = np.concatenate([query_feature, flip_query_feature], axis=1)\n",
    "                gallery_feature = np.concatenate([gallery_feature, flip_gallery_feature], axis=1)\n",
    "                # print query_feature.shape\n",
    "            if flip.lower() == 'attach':\n",
    "                # query_feature = np.concatenate([query_feature, flip_query_feature], axis=1)\n",
    "                gallery_feature = np.concatenate([gallery_feature, flip_gallery_feature], axis=0)\n",
    "                gallery_label = np.concatenate([gallery_label, gallery_label], axis=0)\n",
    "                gallery_cam = np.concatenate([gallery_cam, gallery_cam], axis=0)\n",
    "    else:\n",
    "        raise ValueError('wrong args')\n",
    "        \n",
    "    query_feature = normalize(query_feature, 'l2', axis=1)\n",
    "    gallery_feature = normalize(gallery_feature, 'l2', axis=1)\n",
    "\n",
    "    CMC = np.zeros(shape=(len(gallery_label),)) # torch.IntTensor(len(gallery_label)).zero_()\n",
    "    ap = 0.0\n",
    "    \n",
    "    if isinstance(args, str):\n",
    "        iters = tqdm(range(len(query_label)))\n",
    "    else:\n",
    "        iters = range(len(query_label))\n",
    "    \n",
    "    for i in iters:\n",
    "        ap_tmp, CMC_tmp = evaluate(query_feature[i],query_label[i],query_cam[i],gallery_feature,gallery_label,gallery_cam)\n",
    "        if CMC_tmp[0]==-1:\n",
    "            continue\n",
    "        CMC = CMC + CMC_tmp\n",
    "        ap += ap_tmp\n",
    "        #print(i, CMC_tmp[0])\n",
    "\n",
    "    CMC = CMC/len(query_label) #average CMC\n",
    "    if isinstance(args, str): print('top1:%f top5:%f top10:%f mAP:%f'%(CMC[0],CMC[4],CMC[9],ap/len(query_label)))\n",
    "    return CMC, ap/len(query_label)\n",
    "\n",
    "def epoch_call_back(epoch, net):\n",
    "    if (epoch + 1) % 10 == 0:\n",
    "        # CMC, ap = cal_CMC([net[0], query_data, gallery_data])\n",
    "        CMC, ap = cal_CMC([net[0], query_data2, gallery_data2, flip_query_data2, flip_gallery_data2], flip='add')\n",
    "        print('# top1:%f top5:%f top10:%f mAP:%f'%(CMC[0],CMC[4],CMC[9],ap))\n",
    "        \n",
    "        \n",
    "gallery_data, query_data = test_data_loader(16, transform=_transform_test, num_workers=1)\n",
    "flip_gallery_data, flip_query_data = test_data_loader(16, transform=_transform_test_flip, num_workers=1)\n",
    "\n",
    "gallery_data2, query_data2 = test_data_loader(16, transform=_transform_test2, num_workers=1)\n",
    "flip_gallery_data2, flip_query_data2 = test_data_loader(16, transform=_transform_test2_flip, num_workers=1)"
   ]
  },
  {
   "cell_type": "code",
   "execution_count": 10,
   "metadata": {
    "ExecuteTime": {
     "end_time": "2018-03-16T16:34:32.453376Z",
     "start_time": "2018-03-16T16:34:32.436026Z"
    },
    "collapsed": true
   },
   "outputs": [],
   "source": [
    "def get_resnet50_v1(num_classes, pretrained=True):\n",
    "    net = nn.HybridSequential()\n",
    "    with net.name_scope():\n",
    "        resnet = models.resnet50_v1(pretrained=pretrained, ctx=ctx)\n",
    "        classify = nn.HybridSequential()\n",
    "        with classify.name_scope():\n",
    "            classify.add(nn.Dense(512)) # fc6\n",
    "            classify.add(nn.BatchNorm())\n",
    "            classify.add(nn.LeakyReLU(0.1))\n",
    "            classify.add(nn.Dropout(0.5))\n",
    "            classify.add(nn.Dense(num_classes)) # fc7\n",
    "        net.add(resnet.features)\n",
    "        net.add(classify)\n",
    "\n",
    "    net.hybridize()\n",
    "    if pretrained:\n",
    "        classify.initialize(ctx=ctx)\n",
    "    else:\n",
    "        net.initialize(ctx=ctx)\n",
    "    return net"
   ]
  },
  {
   "cell_type": "markdown",
   "metadata": {},
   "source": [
    "## 5.1 baseline: general lr policy train my resnet50\n",
    "\n",
    "1. train_data shuffle is very important, will impove acc and converage speed signiture.\n",
    "2. feature normalize is very important, if not only 0.35 rank acc get against 0.81.\n",
    "3. "
   ]
  },
  {
   "cell_type": "markdown",
   "metadata": {
    "ExecuteTime": {
     "end_time": "2018-03-15T05:55:38.531300Z",
     "start_time": "2018-03-15T05:55:38.519267Z"
    },
    "collapsed": true
   },
   "source": [
    "### 5.1.1 sgd train 60 epoch"
   ]
  },
  {
   "cell_type": "code",
   "execution_count": 8,
   "metadata": {
    "ExecuteTime": {
     "end_time": "2018-03-12T06:20:55.833896Z",
     "start_time": "2018-03-12T04:49:46.110776Z"
    }
   },
   "outputs": [
    {
     "name": "stderr",
     "output_type": "stream",
     "text": [
      "100%|██████████| 60/60 [1:31:08<00:00, 91.14s/it]\n"
     ]
    }
   ],
   "source": [
    "num_epochs = 60\n",
    "learning_rate = 0.001\n",
    "wd=weight_decay = 5e-4\n",
    "lr_period = [40]\n",
    "lr_decay=0.1\n",
    "log_file = \"../../log/market_resnet50_v1_60e.log\"\n",
    "loss_f = gluon.loss.SoftmaxCrossEntropyLoss()\n",
    "\n",
    "\n",
    "train_data, valid_data = data_loader(batch_size, transform_train_DA1, num_workers=1)\n",
    "net = get_resnet50_v1(num_classes=num_classes, pretrained=True)\n",
    "net.hybridize()\n",
    "\n",
    "trainers = [gluon.Trainer(net[0].collect_params(), 'sgd', {'learning_rate': 0.01, 'momentum': 0.9, 'wd': wd}),\n",
    "            gluon.Trainer(net[1].collect_params(), 'sgd', {'learning_rate': 0.1, 'momentum': 0.9, 'wd': wd})]\n",
    "\n",
    "train(net, train_data, valid_data, num_epochs, learning_rate, lr_period, lr_decay, weight_decay, ctx, \n",
    "      [], log_file, False, loss_f, trainers=trainers)\n",
    "\n",
    "net.save_params(\"../../models/market_resnet50_v1_60e\")"
   ]
  },
  {
   "cell_type": "code",
   "execution_count": 11,
   "metadata": {
    "ExecuteTime": {
     "end_time": "2018-03-15T06:19:10.138010Z",
     "start_time": "2018-03-15T06:17:45.291936Z"
    }
   },
   "outputs": [
    {
     "name": "stdout",
     "output_type": "stream",
     "text": [
      "process all 15913 images over\n",
      "all done.\n",
      "process all 3368 images over\n"
     ]
    },
    {
     "name": "stderr",
     "output_type": "stream",
     "text": [
      "\r",
      "  0%|          | 0/3368 [00:00<?, ?it/s]"
     ]
    },
    {
     "name": "stdout",
     "output_type": "stream",
     "text": [
      "all done.\n"
     ]
    },
    {
     "name": "stderr",
     "output_type": "stream",
     "text": [
      "100%|██████████| 3368/3368 [00:39<00:00, 86.30it/s]"
     ]
    },
    {
     "name": "stdout",
     "output_type": "stream",
     "text": [
      "top1:0.814727 top5:0.922506 top10:0.948931 mAP:0.599514\n"
     ]
    },
    {
     "name": "stderr",
     "output_type": "stream",
     "text": [
      "\n"
     ]
    },
    {
     "data": {
      "text/plain": [
       "(array([ 0.81472684,  0.86876485,  0.89637767, ...,  1.        ,\n",
       "         1.        ,  1.        ]), 0.5995140519840136)"
      ]
     },
     "execution_count": 11,
     "metadata": {},
     "output_type": "execute_result"
    }
   ],
   "source": [
    "mkdir_if_not_exist([save_dir])\n",
    "net = get_resnet50_v1(num_classes=num_classes, pretrained=True)\n",
    "net.hybridize()\n",
    "net.load_params(\"../../models/market_resnet50_v1_60e\", ctx=ctx)\n",
    "save_features_of_dir(net[0], gallery_data, save_dir + \"/resnet50_g_\")\n",
    "save_features_of_dir(net[0], query_data, save_dir + \"/resnet50_q_\")\n",
    "cal_CMC(save_dir + \"/resnet50_\")"
   ]
  },
  {
   "cell_type": "markdown",
   "metadata": {},
   "source": [
    "### 5.1.2 finetune to 100 epoch"
   ]
  },
  {
   "cell_type": "code",
   "execution_count": null,
   "metadata": {
    "collapsed": true
   },
   "outputs": [],
   "source": [
    "num_epochs = 40\n",
    "learning_rate = 0.001\n",
    "wd=weight_decay = 5e-4\n",
    "lr_period = [20]\n",
    "lr_decay=0.1\n",
    "log_file = \"../../log/market_resnet50_v1_60e.log\"\n",
    "loss_f = gluon.loss.SoftmaxCrossEntropyLoss()\n",
    "\n",
    "\n",
    "train_data, valid_data = data_loader(batch_size, transform_train_DA1, num_workers=1)\n",
    "net = get_resnet50_v1(num_classes=num_classes, pretrained=True)\n",
    "net.load_params('../../models/market_resnet50_v1_60e', ctx=ctx)\n",
    "net.hybridize()\n",
    "\n",
    "trainers = [gluon.Trainer(net[0].collect_params(), 'sgd', {'learning_rate': 0.001, 'momentum': 0.9, 'wd': wd}),\n",
    "            gluon.Trainer(net[1].collect_params(), 'sgd', {'learning_rate': 0.01, 'momentum': 0.9, 'wd': wd})]\n",
    "\n",
    "train(net, train_data, valid_data, num_epochs, learning_rate, lr_period, lr_decay, weight_decay, ctx, \n",
    "      [], log_file, False, loss_f, trainers=trainers, epoch_call_back=epoch_call_back)\n",
    "\n",
    "net.save_params(\"../../models/market_resnet50_v1_100e\")"
   ]
  },
  {
   "cell_type": "code",
   "execution_count": 10,
   "metadata": {
    "ExecuteTime": {
     "end_time": "2018-03-15T06:24:39.887063Z",
     "start_time": "2018-03-15T06:23:13.076341Z"
    }
   },
   "outputs": [
    {
     "name": "stdout",
     "output_type": "stream",
     "text": [
      "0.820961995249 0.60701936506\n"
     ]
    }
   ],
   "source": [
    "net = get_resnet50_v1(num_classes=num_classes, pretrained=True)\n",
    "net.hybridize()\n",
    "net.load_params(\"../../models/market_resnet50_v1_100e\", ctx=ctx)\n",
    "\n",
    "CMC, ap = cal_CMC([net[0], query_data, gallery_data])\n",
    "print CMC[0], ap"
   ]
  },
  {
   "cell_type": "markdown",
   "metadata": {},
   "source": [
    "### 5.1.3 nag train 100 epoch with diffrent lr "
   ]
  },
  {
   "cell_type": "code",
   "execution_count": 8,
   "metadata": {
    "ExecuteTime": {
     "end_time": "2018-03-13T09:55:29.843472Z",
     "start_time": "2018-03-13T06:59:38.832648Z"
    }
   },
   "outputs": [
    {
     "name": "stderr",
     "output_type": "stream",
     "text": [
      "100%|██████████| 100/100 [2:55:49<00:00, 105.50s/it] \n"
     ]
    }
   ],
   "source": [
    "num_epochs = 100\n",
    "learning_rate = 0.001\n",
    "wd=weight_decay = 5e-4\n",
    "lr_period = [40, 80]\n",
    "lr_decay=0.1\n",
    "log_file = \"../../log/market_resnet50_v1_100e_nag.log\"\n",
    "loss_f = gluon.loss.SoftmaxCrossEntropyLoss()\n",
    "\n",
    "\n",
    "train_data, valid_data = data_loader(batch_size, transform_train_DA1, num_workers=1)\n",
    "net = get_resnet50_v1(num_classes=num_classes, pretrained=True)\n",
    "net.hybridize()\n",
    "\n",
    "trainers = [gluon.Trainer(net[0].collect_params(), 'nag', {'learning_rate': 0.01, 'momentum': 0.9, 'wd': wd}),\n",
    "            gluon.Trainer(net[1].collect_params(), 'nag', {'learning_rate': 0.1, 'momentum': 0.9, 'wd': wd})]\n",
    "\n",
    "train(net, train_data, valid_data, num_epochs, learning_rate, lr_period, lr_decay, weight_decay, ctx, \n",
    "      [], log_file, False, loss_f, trainers=trainers, epoch_call_back=epoch_call_back)\n",
    "\n",
    "net.save_params(\"../../models/market_resnet50_v1_100e_nag\")"
   ]
  },
  {
   "cell_type": "code",
   "execution_count": 11,
   "metadata": {
    "ExecuteTime": {
     "end_time": "2018-03-15T06:28:27.792476Z",
     "start_time": "2018-03-15T06:27:05.058273Z"
    }
   },
   "outputs": [
    {
     "name": "stdout",
     "output_type": "stream",
     "text": [
      "0.829275534442 0.606030848644\n"
     ]
    }
   ],
   "source": [
    "net = get_resnet50_v1(num_classes=num_classes, pretrained=True)\n",
    "net.hybridize()\n",
    "net.load_params(\"../../models/market_resnet50_v1_100e_nag\", ctx=ctx)\n",
    "CMC, ap = cal_CMC([net[0], query_data, gallery_data])\n",
    "print CMC[0], ap"
   ]
  },
  {
   "cell_type": "markdown",
   "metadata": {},
   "source": [
    "## 5.2 test with 144 (bigger input)"
   ]
  },
  {
   "cell_type": "code",
   "execution_count": 9,
   "metadata": {
    "ExecuteTime": {
     "end_time": "2018-03-15T06:58:29.898421Z",
     "start_time": "2018-03-15T06:56:51.351369Z"
    }
   },
   "outputs": [
    {
     "name": "stdout",
     "output_type": "stream",
     "text": [
      "0.832541567696 0.606639318207\n"
     ]
    }
   ],
   "source": [
    "net = get_resnet50_v1(num_classes=num_classes, pretrained=True)\n",
    "net.hybridize()\n",
    "net.load_params(\"../../models/market_resnet50_v1_100e_nag\", ctx=ctx)\n",
    "CMC, ap = cal_CMC([net[0], query_data2, gallery_data2])\n",
    "print CMC[0], ap"
   ]
  },
  {
   "cell_type": "markdown",
   "metadata": {},
   "source": [
    "## 5.3 test with flip feature"
   ]
  },
  {
   "cell_type": "code",
   "execution_count": 10,
   "metadata": {
    "ExecuteTime": {
     "end_time": "2018-03-15T07:00:51.653458Z",
     "start_time": "2018-03-15T06:58:39.528680Z"
    }
   },
   "outputs": [
    {
     "name": "stdout",
     "output_type": "stream",
     "text": [
      "0.838479809976 0.619893478986\n"
     ]
    }
   ],
   "source": [
    "net = get_resnet50_v1(num_classes=num_classes, pretrained=True)\n",
    "net.hybridize()\n",
    "net.load_params(\"../../models/market_resnet50_v1_100e_nag\", ctx=ctx)\n",
    "CMC, ap = cal_CMC([net[0], query_data, gallery_data, flip_query_data, flip_gallery_data], flip='add')\n",
    "print CMC[0], ap"
   ]
  },
  {
   "cell_type": "code",
   "execution_count": 11,
   "metadata": {
    "ExecuteTime": {
     "end_time": "2018-03-15T07:03:36.977681Z",
     "start_time": "2018-03-15T07:00:51.657525Z"
    }
   },
   "outputs": [
    {
     "name": "stdout",
     "output_type": "stream",
     "text": [
      "0.839073634204 0.619450335121\n"
     ]
    }
   ],
   "source": [
    "net = get_resnet50_v1(num_classes=num_classes, pretrained=True)\n",
    "net.hybridize()\n",
    "net.load_params(\"../../models/market_resnet50_v1_100e_nag\", ctx=ctx)\n",
    "CMC, ap = cal_CMC([net[0], query_data, gallery_data, flip_query_data, flip_gallery_data], flip='concat')\n",
    "print CMC[0], ap"
   ]
  },
  {
   "cell_type": "code",
   "execution_count": 12,
   "metadata": {
    "ExecuteTime": {
     "end_time": "2018-03-15T07:06:34.502001Z",
     "start_time": "2018-03-15T07:03:36.982473Z"
    }
   },
   "outputs": [
    {
     "name": "stdout",
     "output_type": "stream",
     "text": [
      "0.833729216152 0.604078248776\n"
     ]
    }
   ],
   "source": [
    "net = get_resnet50_v1(num_classes=num_classes, pretrained=True)\n",
    "net.hybridize()\n",
    "net.load_params(\"../../models/market_resnet50_v1_100e_nag\", ctx=ctx)\n",
    "CMC, ap = cal_CMC([net[0], query_data, gallery_data, flip_query_data, flip_gallery_data], flip='attach')\n",
    "print CMC[0], ap"
   ]
  },
  {
   "cell_type": "code",
   "execution_count": 13,
   "metadata": {
    "ExecuteTime": {
     "end_time": "2018-03-15T07:09:02.899245Z",
     "start_time": "2018-03-15T07:06:34.503727Z"
    }
   },
   "outputs": [
    {
     "name": "stdout",
     "output_type": "stream",
     "text": [
      "0.843527315914 0.622047837609\n"
     ]
    }
   ],
   "source": [
    "net = get_resnet50_v1(num_classes=num_classes, pretrained=True)\n",
    "net.hybridize()\n",
    "net.load_params(\"../../models/market_resnet50_v1_100e_nag\", ctx=ctx)\n",
    "CMC, ap = cal_CMC([net[0], query_data2, gallery_data2, flip_query_data2, flip_gallery_data2], flip='add')\n",
    "print CMC[0], ap"
   ]
  },
  {
   "cell_type": "code",
   "execution_count": 15,
   "metadata": {
    "ExecuteTime": {
     "end_time": "2018-03-15T07:12:48.758079Z",
     "start_time": "2018-03-15T07:12:48.753305Z"
    }
   },
   "outputs": [
    {
     "name": "stdout",
     "output_type": "stream",
     "text": [
      " 0.844714964371 0.621189937055\n"
     ]
    }
   ],
   "source": [
    "net = get_resnet50_v1(num_classes=num_classes, pretrained=True)\n",
    "net.hybridize()\n",
    "net.load_params(\"../../models/market_resnet50_v1_100e_nag\", ctx=ctx)\n",
    "CMC, ap = cal_CMC([net[0], query_data2, gallery_data2, flip_query_data2, flip_gallery_data2], flip='concat')\n",
    "print CMC[0], ap"
   ]
  },
  {
   "cell_type": "code",
   "execution_count": 16,
   "metadata": {
    "ExecuteTime": {
     "end_time": "2018-03-15T07:16:41.242187Z",
     "start_time": "2018-03-15T07:13:26.198505Z"
    }
   },
   "outputs": [
    {
     "name": "stdout",
     "output_type": "stream",
     "text": [
      "0.83432304038 0.60509772179\n"
     ]
    }
   ],
   "source": [
    "net = get_resnet50_v1(num_classes=num_classes, pretrained=True)\n",
    "net.hybridize()\n",
    "net.load_params(\"../../models/market_resnet50_v1_100e_nag\", ctx=ctx)\n",
    "CMC, ap = cal_CMC([net[0], query_data2, gallery_data2, flip_query_data2, flip_gallery_data2], flip='attach')\n",
    "print CMC[0], ap"
   ]
  },
  {
   "cell_type": "markdown",
   "metadata": {
    "collapsed": true
   },
   "source": [
    "## 5.5 change batch size to 32"
   ]
  },
  {
   "cell_type": "code",
   "execution_count": null,
   "metadata": {
    "ExecuteTime": {
     "start_time": "2018-03-15T09:20:04.608Z"
    }
   },
   "outputs": [
    {
     "name": "stderr",
     "output_type": "stream",
     "text": [
      " 94%|█████████▍| 94/100 [2:43:05<10:24, 104.10s/it]  "
     ]
    }
   ],
   "source": [
    "batch_size = 32\n",
    "num_epochs = 100\n",
    "learning_rate = 0.001\n",
    "wd=weight_decay = 5e-4\n",
    "lr_period = [40, 80]\n",
    "lr_decay=0.1\n",
    "log_file = \"../../log/market_resnet50_v1_100e_nag_b32.log\"\n",
    "loss_f = gluon.loss.SoftmaxCrossEntropyLoss()\n",
    "\n",
    "\n",
    "train_data, valid_data = data_loader(batch_size, transform_train_DA1, num_workers=1)\n",
    "net = get_resnet50_v1(num_classes=num_classes, pretrained=True)\n",
    "net.hybridize()\n",
    "\n",
    "trainers = [gluon.Trainer(net[0].collect_params(), 'nag', {'learning_rate': 0.01, 'momentum': 0.9, 'wd': wd}),\n",
    "            gluon.Trainer(net[1].collect_params(), 'nag', {'learning_rate': 0.1, 'momentum': 0.9, 'wd': wd})]\n",
    "\n",
    "train(net, train_data, valid_data, num_epochs, learning_rate, lr_period, lr_decay, weight_decay, ctx, \n",
    "      [], log_file, False, loss_f, trainers=trainers, epoch_call_back=epoch_call_back)\n",
    "\n",
    "net.save_params(\"../../models/market_resnet50_v1_100e_nag_b32\")"
   ]
  },
  {
   "cell_type": "code",
   "execution_count": null,
   "metadata": {
    "collapsed": true
   },
   "outputs": [],
   "source": [
    "batch_size = 32\n",
    "num_epochs = 50\n",
    "learning_rate = 0.001\n",
    "wd=weight_decay = 5e-4\n",
    "lr_period = [40]\n",
    "lr_decay=0.1\n",
    "log_file = \"../../log/market_resnet50_v1_150e_nag_b32.log\"\n",
    "loss_f = gluon.loss.SoftmaxCrossEntropyLoss()\n",
    "\n",
    "\n",
    "train_data, valid_data = data_loader(batch_size, transform_train_DA1, num_workers=1)\n",
    "net = get_resnet50_v1(num_classes=num_classes, pretrained=True)\n",
    "net.hybridize()\n",
    "\n",
    "trainers = [gluon.Trainer(net[0].collect_params(), 'nag', {'learning_rate': 0.0001, 'momentum': 0.9, 'wd': wd}),\n",
    "            gluon.Trainer(net[1].collect_params(), 'nag', {'learning_rate': 0.001, 'momentum': 0.9, 'wd': wd})]\n",
    "\n",
    "train(net, train_data, valid_data, num_epochs, learning_rate, lr_period, lr_decay, weight_decay, ctx, \n",
    "      [], log_file, False, loss_f, trainers=trainers, epoch_call_back=epoch_call_back)\n",
    "\n",
    "net.save_params(\"../../models/market_resnet50_v1_150e_nag_b32\")"
   ]
  },
  {
   "cell_type": "markdown",
   "metadata": {},
   "source": [
    "## 5.6 add erasing and HSI DA and change input * 255"
   ]
  },
  {
   "cell_type": "code",
   "execution_count": 8,
   "metadata": {
    "ExecuteTime": {
     "end_time": "2018-03-16T11:55:23.665251Z",
     "start_time": "2018-03-16T09:14:36.421405Z"
    }
   },
   "outputs": [
    {
     "name": "stderr",
     "output_type": "stream",
     "text": [
      "100%|██████████| 100/100 [2:40:45<00:00, 96.46s/it] \n"
     ]
    }
   ],
   "source": [
    "batch_size = 32\n",
    "num_epochs = 100\n",
    "learning_rate = 0.001\n",
    "wd=weight_decay = 5e-4\n",
    "lr_period = [40, 80]\n",
    "lr_decay=0.1\n",
    "log_file = \"../../log/market_resnet50_v1_100e_nag_b32_erasing_DAorder.log\"\n",
    "loss_f = gluon.loss.SoftmaxCrossEntropyLoss()\n",
    "\n",
    "\n",
    "train_data, valid_data = data_loader(batch_size, transform_train_DA2, num_workers=1)\n",
    "net = get_resnet50_v1(num_classes=num_classes, pretrained=True)\n",
    "net.hybridize()\n",
    "\n",
    "trainers = [gluon.Trainer(net[0].collect_params(), 'nag', {'learning_rate': 0.01, 'momentum': 0.9, 'wd': wd}),\n",
    "            gluon.Trainer(net[1].collect_params(), 'nag', {'learning_rate': 0.1, 'momentum': 0.9, 'wd': wd})]\n",
    "\n",
    "train(net, train_data, valid_data, num_epochs, learning_rate, lr_period, lr_decay, weight_decay, ctx, \n",
    "      [], log_file, False, loss_f, trainers=trainers, epoch_call_back=epoch_call_back)\n",
    "\n",
    "net.save_params(\"../../models/market_resnet50_v1_100e_nag_b32_erasing_DAorder\")"
   ]
  },
  {
   "cell_type": "code",
   "execution_count": 16,
   "metadata": {
    "ExecuteTime": {
     "end_time": "2018-03-16T08:20:52.173878Z",
     "start_time": "2018-03-16T08:16:04.269859Z"
    }
   },
   "outputs": [
    {
     "name": "stdout",
     "output_type": "stream",
     "text": [
      "0.857779097387 0.668566344602\n"
     ]
    }
   ],
   "source": [
    "net = get_resnet50_v1(num_classes=num_classes, pretrained=True)\n",
    "net.hybridize()\n",
    "net.load_params(\"../../models/market_resnet50_v1_100e_nag_b32_erasing\", ctx=ctx)\n",
    "CMC, ap = cal_CMC([net[0], query_data2, gallery_data2, flip_query_data2, flip_gallery_data2], flip='add')\n",
    "print CMC[0], ap"
   ]
  },
  {
   "cell_type": "code",
   "execution_count": 17,
   "metadata": {
    "ExecuteTime": {
     "end_time": "2018-03-16T08:27:24.627540Z",
     "start_time": "2018-03-16T08:24:20.326604Z"
    }
   },
   "outputs": [
    {
     "name": "stdout",
     "output_type": "stream",
     "text": [
      "0.855700712589 0.666949452296\n"
     ]
    }
   ],
   "source": [
    "CMC, ap = cal_CMC([net[0], query_data2, gallery_data2, flip_query_data2, flip_gallery_data2], flip='concat')\n",
    "print CMC[0], ap"
   ]
  },
  {
   "cell_type": "code",
   "execution_count": 9,
   "metadata": {
    "ExecuteTime": {
     "end_time": "2018-03-16T15:02:47.156010Z",
     "start_time": "2018-03-16T13:42:05.248459Z"
    }
   },
   "outputs": [
    {
     "name": "stderr",
     "output_type": "stream",
     "text": [
      "100%|██████████| 50/50 [1:20:41<00:00, 96.83s/it]\n"
     ]
    }
   ],
   "source": [
    "batch_size = 32\n",
    "num_epochs = 50\n",
    "learning_rate = 0.001\n",
    "wd=weight_decay = 5e-4\n",
    "lr_period = [40, 80]\n",
    "lr_decay=0.1\n",
    "log_file = \"../../log/market_resnet50_v1_150e_nag_b32_erasing_DAorder.log\"\n",
    "loss_f = gluon.loss.SoftmaxCrossEntropyLoss()\n",
    "\n",
    "\n",
    "train_data, valid_data = data_loader(batch_size, transform_train_DA2, num_workers=1)\n",
    "net = get_resnet50_v1(num_classes=num_classes, pretrained=True)\n",
    "net.hybridize()\n",
    "net.load_params(\"../../models/market_resnet50_v1_100e_nag_b32_erasing_DAorder\", ctx=ctx)\n",
    "trainers = [gluon.Trainer(net[0].collect_params(), 'nag', {'learning_rate': 0.001, 'momentum': 0.9, 'wd': wd}),\n",
    "            gluon.Trainer(net[1].collect_params(), 'nag', {'learning_rate': 0.01, 'momentum': 0.9, 'wd': wd})]\n",
    "\n",
    "train(net, train_data, valid_data, num_epochs, learning_rate, lr_period, lr_decay, weight_decay, ctx, \n",
    "      [], log_file, False, loss_f, trainers=trainers, epoch_call_back=epoch_call_back)\n",
    "\n",
    "net.save_params(\"../../models/market_resnet50_v1_150e_nag_b32_erasing_DAorder\")"
   ]
  },
  {
   "cell_type": "code",
   "execution_count": 11,
   "metadata": {
    "ExecuteTime": {
     "end_time": "2018-03-16T19:15:32.741377Z",
     "start_time": "2018-03-16T16:37:09.069806Z"
    }
   },
   "outputs": [
    {
     "name": "stderr",
     "output_type": "stream",
     "text": [
      "100%|██████████| 100/100 [2:38:21<00:00, 95.02s/it] \n"
     ]
    }
   ],
   "source": [
    "batch_size = 32\n",
    "num_epochs = 100\n",
    "learning_rate = 0.001\n",
    "wd=weight_decay = 5e-4\n",
    "lr_period = [40, 80]\n",
    "lr_decay=0.1\n",
    "log_file = \"../../log/market_resnet50_v1_100e_nag_b32_erasing_DAorder_DA3.log\"\n",
    "loss_f = gluon.loss.SoftmaxCrossEntropyLoss()\n",
    "\n",
    "\n",
    "train_data, valid_data = data_loader(batch_size, transform_train_DA3, num_workers=1)\n",
    "net = get_resnet50_v1(num_classes=num_classes, pretrained=True)\n",
    "net.hybridize()\n",
    "\n",
    "trainers = [gluon.Trainer(net[0].collect_params(), 'nag', {'learning_rate': 0.01, 'momentum': 0.9, 'wd': wd}),\n",
    "            gluon.Trainer(net[1].collect_params(), 'nag', {'learning_rate': 0.1, 'momentum': 0.9, 'wd': wd})]\n",
    "\n",
    "train(net, train_data, valid_data, num_epochs, learning_rate, lr_period, lr_decay, weight_decay, ctx, \n",
    "      [], log_file, False, loss_f, trainers=trainers, epoch_call_back=epoch_call_back)\n",
    "\n",
    "net.save_params(\"../../models/market_resnet50_v1_100e_nag_b32_erasing_DAorder_DA3\")"
   ]
  },
  {
   "cell_type": "code",
   "execution_count": 12,
   "metadata": {
    "ExecuteTime": {
     "end_time": "2018-03-16T21:52:58.890027Z",
     "start_time": "2018-03-16T19:15:32.743446Z"
    }
   },
   "outputs": [
    {
     "name": "stderr",
     "output_type": "stream",
     "text": [
      "100%|██████████| 100/100 [2:37:25<00:00, 94.46s/it] \n"
     ]
    }
   ],
   "source": [
    "batch_size = 32\n",
    "num_epochs = 100\n",
    "learning_rate = 0.001\n",
    "wd=weight_decay = 5e-4\n",
    "lr_period = [40, 80]\n",
    "lr_decay=0.1\n",
    "log_file = \"../../log/market_resnet50_v1_100e_nag_b32_erasing_DAorder_DA4.log\"\n",
    "loss_f = gluon.loss.SoftmaxCrossEntropyLoss()\n",
    "\n",
    "\n",
    "train_data, valid_data = data_loader(batch_size, transform_train_DA3, num_workers=1)\n",
    "net = get_resnet50_v1(num_classes=num_classes, pretrained=True)\n",
    "net.hybridize()\n",
    "\n",
    "trainers = [gluon.Trainer(net[0].collect_params(), 'nag', {'learning_rate': 0.01, 'momentum': 0.9, 'wd': wd}),\n",
    "            gluon.Trainer(net[1].collect_params(), 'nag', {'learning_rate': 0.1, 'momentum': 0.9, 'wd': wd})]\n",
    "\n",
    "train(net, train_data, valid_data, num_epochs, learning_rate, lr_period, lr_decay, weight_decay, ctx, \n",
    "      [], log_file, False, loss_f, trainers=trainers, epoch_call_back=epoch_call_back)\n",
    "\n",
    "net.save_params(\"../../models/market_resnet50_v1_100e_nag_b32_erasing_DAorder_DA4\")"
   ]
  },
  {
   "cell_type": "code",
   "execution_count": null,
   "metadata": {
    "collapsed": true
   },
   "outputs": [],
   "source": []
  }
 ],
 "metadata": {
  "kernelspec": {
   "display_name": "Python 2",
   "language": "python",
   "name": "python2"
  },
  "language_info": {
   "codemirror_mode": {
    "name": "ipython",
    "version": 2
   },
   "file_extension": ".py",
   "mimetype": "text/x-python",
   "name": "python",
   "nbconvert_exporter": "python",
   "pygments_lexer": "ipython2",
   "version": "2.7.12"
  },
  "ssap_exp_config": {
   "error_alert": "Error Occurs!",
   "initial": [],
   "max_iteration": 1000,
   "recv_id": "",
   "running": [],
   "summary": [],
   "version": "1.1.1"
  }
 },
 "nbformat": 4,
 "nbformat_minor": 1
}
