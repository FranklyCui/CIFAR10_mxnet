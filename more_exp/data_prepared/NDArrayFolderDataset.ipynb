{
 "cells": [
  {
   "cell_type": "code",
   "execution_count": 3,
   "metadata": {
    "ExecuteTime": {
     "end_time": "2018-03-24T12:51:06.940636Z",
     "start_time": "2018-03-24T12:51:06.927694Z"
    },
    "collapsed": true
   },
   "outputs": [],
   "source": [
    "import mxnet as mx\n",
    "from mxnet import gluon, nd\n",
    "import os\n",
    "\n",
    "dirs = '../../tmp/NDArrayFileDataset'\n",
    "\n",
    "def mkdir_if_not_exist(path):\n",
    "    if not os.path.exists(os.path.join(*path)):\n",
    "        os.makedirs(os.path.join(*path))\n"
   ]
  },
  {
   "cell_type": "markdown",
   "metadata": {},
   "source": [
    "## 1. create ndarray data"
   ]
  },
  {
   "cell_type": "code",
   "execution_count": 2,
   "metadata": {
    "ExecuteTime": {
     "end_time": "2018-03-06T16:05:26.903462Z",
     "start_time": "2018-03-06T16:05:26.787112Z"
    },
    "collapsed": true
   },
   "outputs": [],
   "source": [
    "\n",
    "mkdir_if_not_exist([dirs])\n",
    "\n",
    "mkdir_if_not_exist([dirs, 'label0'])\n",
    "mkdir_if_not_exist([dirs, 'label1'])\n",
    "\n",
    "for i in range(10):\n",
    "    data = nd.random.uniform(shape=(3, 32, 32))\n",
    "    data[0, 0, 0] = i\n",
    "    nd.save(dirs + '/label0/data_' + str(i) + \".ndarray\", data)\n",
    "    \n",
    "for i in range(10):\n",
    "    data = nd.random.uniform(shape=(3, 32, 32))\n",
    "    data[0, 0, 0] = i + 10\n",
    "    nd.save(dirs + '/label1/data_' + str(i) + \".ndarray\", data)"
   ]
  },
  {
   "cell_type": "code",
   "execution_count": 3,
   "metadata": {
    "ExecuteTime": {
     "end_time": "2018-03-06T16:05:27.921766Z",
     "start_time": "2018-03-06T16:05:27.896667Z"
    }
   },
   "outputs": [
    {
     "name": "stdout",
     "output_type": "stream",
     "text": [
      "(3L, 32L, 32L) \n",
      "[ 0.]\n",
      "<NDArray 1 @cpu(0)>\n"
     ]
    }
   ],
   "source": [
    "data = nd.load(dirs + '/label0/data_0.ndarray')[0]\n",
    "print data.shape, data[0, 0, 0]"
   ]
  },
  {
   "cell_type": "markdown",
   "metadata": {},
   "source": [
    "## 2. create dataset and use data loader"
   ]
  },
  {
   "cell_type": "code",
   "execution_count": 4,
   "metadata": {
    "ExecuteTime": {
     "end_time": "2018-03-06T16:05:29.169782Z",
     "start_time": "2018-03-06T16:05:29.141782Z"
    },
    "collapsed": true
   },
   "outputs": [],
   "source": [
    "import warnings\n",
    "from mxnet import gluon, nd\n",
    "class NDArrayFolderDataset(gluon.data.dataset.Dataset):\n",
    "    \"\"\"A dataset for loading ndarray files stored in a folder structure like::\n",
    "\n",
    "        root/car/0001.ndarray\n",
    "        root/car/xxxa.ndarray\n",
    "        root/car/yyyb.ndarray\n",
    "        root/bus/123.ndarray\n",
    "        root/bus/023.ndarray\n",
    "        root/bus/wwww.ndarray\n",
    "\n",
    "    Parameters\n",
    "    ----------\n",
    "    root : str\n",
    "        Path to root directory.\n",
    "    transform : callable, default None\n",
    "        A function that takes data and label and transforms them:\n",
    "    ::\n",
    "\n",
    "        transform = lambda data, label: (data.astype(np.float32)/255, label)\n",
    "\n",
    "    Attributes\n",
    "    ----------\n",
    "    synsets : list\n",
    "        List of class names. `synsets[i]` is the name for the integer label `i`\n",
    "    items : list of tuples\n",
    "        List of all ndarrays in (filename, label) pairs.\n",
    "    \"\"\"\n",
    "    def __init__(self, root, transform=None):\n",
    "        self._root = os.path.expanduser(root)\n",
    "        self._transform = transform\n",
    "        self._exts = ['.ndarray']\n",
    "        self._list_images(self._root)\n",
    "\n",
    "    def _list_images(self, root):\n",
    "        self.synsets = []\n",
    "        self.items = []\n",
    "\n",
    "        for folder in sorted(os.listdir(root)):\n",
    "            path = os.path.join(root, folder)\n",
    "            if not os.path.isdir(path):\n",
    "                warnings.warn('Ignoring %s, which is not a directory.'%path, stacklevel=3)\n",
    "                continue\n",
    "            label = len(self.synsets)\n",
    "            self.synsets.append(folder)\n",
    "            for filename in sorted(os.listdir(path)):\n",
    "                filename = os.path.join(path, filename)\n",
    "                ext = os.path.splitext(filename)[1]\n",
    "                if ext.lower() not in self._exts:\n",
    "                    warnings.warn('Ignoring %s of type %s. Only support %s'%(\n",
    "                        filename, ext, ', '.join(self._exts)))\n",
    "                    continue\n",
    "                self.items.append((filename, label))\n",
    "\n",
    "    def __getitem__(self, idx):\n",
    "        data = nd.load(self.items[idx][0])[0]\n",
    "        label = self.items[idx][1]\n",
    "        if self._transform is not None:\n",
    "            return self._transform(data, label)\n",
    "        return data, label\n",
    "\n",
    "    def __len__(self):\n",
    "        return len(self.items)"
   ]
  },
  {
   "cell_type": "code",
   "execution_count": 5,
   "metadata": {
    "ExecuteTime": {
     "end_time": "2018-03-06T16:05:30.028465Z",
     "start_time": "2018-03-06T16:05:30.025878Z"
    },
    "collapsed": true
   },
   "outputs": [],
   "source": [
    "ndarrayds = NDArrayFolderDataset(dirs, None)\n",
    "train_data = gluon.data.DataLoader(ndarrayds, batch_size=4, shuffle=True)"
   ]
  },
  {
   "cell_type": "code",
   "execution_count": 6,
   "metadata": {
    "ExecuteTime": {
     "end_time": "2018-03-06T16:05:30.657375Z",
     "start_time": "2018-03-06T16:05:30.639942Z"
    }
   },
   "outputs": [
    {
     "name": "stdout",
     "output_type": "stream",
     "text": [
      "\n",
      "[ 14.   8.   6.  11.]\n",
      "<NDArray 4 @cpu(0)> \n",
      "[1 0 0 1]\n",
      "<NDArray 4 @cpu(0)>\n",
      "\n",
      "[ 15.  18.   0.   1.]\n",
      "<NDArray 4 @cpu(0)> \n",
      "[1 1 0 0]\n",
      "<NDArray 4 @cpu(0)>\n",
      "\n",
      "[  7.  19.  16.   2.]\n",
      "<NDArray 4 @cpu(0)> \n",
      "[0 1 1 0]\n",
      "<NDArray 4 @cpu(0)>\n",
      "\n",
      "[ 10.   4.   3.  12.]\n",
      "<NDArray 4 @cpu(0)> \n",
      "[1 0 0 1]\n",
      "<NDArray 4 @cpu(0)>\n",
      "\n",
      "[  5.   9.  17.  13.]\n",
      "<NDArray 4 @cpu(0)> \n",
      "[0 0 1 1]\n",
      "<NDArray 4 @cpu(0)>\n"
     ]
    }
   ],
   "source": [
    "for data, label in train_data:\n",
    "    print data[:, 0, 0, 0], label"
   ]
  },
  {
   "cell_type": "code",
   "execution_count": 7,
   "metadata": {
    "ExecuteTime": {
     "end_time": "2018-03-06T16:05:31.333360Z",
     "start_time": "2018-03-06T16:05:31.276868Z"
    },
    "collapsed": true
   },
   "outputs": [],
   "source": [
    "import warnings\n",
    "from mxnet import gluon, nd, image\n",
    "class MultiFolderDataset(gluon.data.dataset.Dataset):\n",
    "    \"\"\"A dataset for loading ndarray files or image files stored in a folder structure like::\n",
    "\n",
    "        roots[0]/car/0001.ndarray\n",
    "        roots[0]/car/xxxa.ndarray\n",
    "        roots[0]/car/yyyb.ndarray\n",
    "        roots[0]/bus/123.ndarray\n",
    "        roots[0]/bus/023.ndarray\n",
    "        roots[0]/bus/wwww.ndarray\n",
    "        \n",
    "        roots[1]/car/0001.ndarray\n",
    "        roots[1]/car/xxxa.ndarray\n",
    "        roots[1]/car/yyyb.ndarray\n",
    "        roots[1]/bus/123.ndarray\n",
    "        roots[1]/bus/023.ndarray\n",
    "        roots[1]/bus/wwww.ndarray\n",
    "\n",
    "    Parameters\n",
    "    ----------\n",
    "    root : str\n",
    "        Path to root directory.\n",
    "    transform : callable, default None\n",
    "        A function that takes data and label and transforms them:\n",
    "    ::\n",
    "\n",
    "        transform = lambda data, label: (data.astype(np.float32)/255, label)\n",
    "\n",
    "    Attributes\n",
    "    ----------\n",
    "    synsets : list\n",
    "        List of class names. `synsets[i]` is the name for the integer label `i`\n",
    "    items : list of tuples\n",
    "        List of all ndarrays in (filename, label) pairs.\n",
    "    \"\"\"\n",
    "    def __init__(self, roots, flag=1, transform=None):\n",
    "        self._roots = []\n",
    "        for root in roots:\n",
    "            self._roots.append(os.path.expanduser(root))\n",
    "        self._flag = flag\n",
    "        self._transform = transform\n",
    "        self._exts = ['.ndarray', '.jpeg', '.jpg', '.png']\n",
    "        self._label_dict = {}\n",
    "        self.synsets = []\n",
    "        self.items = []\n",
    "        for root in self._roots:\n",
    "            self._list_images(root)\n",
    "\n",
    "    def _list_images(self, root):\n",
    "        for folder in sorted(os.listdir(root)):\n",
    "            if folder[0] == '.': continue\n",
    "            path = os.path.join(root, folder)\n",
    "            if not os.path.isdir(path):\n",
    "                warnings.warn('Ignoring %s, which is not a directory.'%path, stacklevel=3)\n",
    "                continue\n",
    "                \n",
    "            if not self._label_dict.has_key(folder):\n",
    "                self._label_dict[folder] = len(self.synsets)\n",
    "                self.synsets.append(folder)\n",
    "            label = self._label_dict[folder]\n",
    "            \n",
    "            for filename in sorted(os.listdir(path)):\n",
    "                filename = os.path.join(path, filename)\n",
    "                ext = os.path.splitext(filename)[1]\n",
    "                if ext.lower() not in self._exts:\n",
    "                    warnings.warn('Ignoring %s of type %s. Only support %s'%(\n",
    "                        filename, ext, ', '.join(self._exts)))\n",
    "                    continue\n",
    "                self.items.append((filename, label))\n",
    "\n",
    "    def __getitem__(self, idx):\n",
    "        if (os.path.splitext(self.items[idx][0])[1]).lower() == '.ndarray':\n",
    "            data = nd.load(self.items[idx][0])[0]\n",
    "        else:\n",
    "            data = image.imread(self.items[idx][0], self._flag)\n",
    "        label = self.items[idx][1]\n",
    "        if self._transform is not None:\n",
    "            return self._transform(data, label)\n",
    "        return data, label\n",
    "\n",
    "    def __len__(self):\n",
    "        return len(self.items)"
   ]
  },
  {
   "cell_type": "code",
   "execution_count": 8,
   "metadata": {
    "ExecuteTime": {
     "end_time": "2018-03-06T16:06:09.730455Z",
     "start_time": "2018-03-06T16:06:09.021392Z"
    },
    "collapsed": true
   },
   "outputs": [],
   "source": [
    "multifolderds = MultiFolderDataset([dirs, '/home/hui/dataset/CIFAR10_kaggle/train_valid_test/train_valid'], transform=None)\n",
    "train_data = gluon.data.DataLoader(multifolderds, batch_size=4, shuffle=True)"
   ]
  },
  {
   "cell_type": "code",
   "execution_count": 9,
   "metadata": {
    "ExecuteTime": {
     "end_time": "2018-03-06T16:06:11.645044Z",
     "start_time": "2018-03-06T16:06:11.642145Z"
    }
   },
   "outputs": [
    {
     "name": "stdout",
     "output_type": "stream",
     "text": [
      "12505\n"
     ]
    }
   ],
   "source": [
    "print len(train_data)"
   ]
  },
  {
   "cell_type": "code",
   "execution_count": null,
   "metadata": {
    "collapsed": true
   },
   "outputs": [],
   "source": []
  }
 ],
 "metadata": {
  "kernelspec": {
   "display_name": "Python 2",
   "language": "python",
   "name": "python2"
  },
  "language_info": {
   "codemirror_mode": {
    "name": "ipython",
    "version": 2
   },
   "file_extension": ".py",
   "mimetype": "text/x-python",
   "name": "python",
   "nbconvert_exporter": "python",
   "pygments_lexer": "ipython2",
   "version": "2.7.12"
  }
 },
 "nbformat": 4,
 "nbformat_minor": 2
}
