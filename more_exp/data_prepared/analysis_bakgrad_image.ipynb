{
 "cells": [
  {
   "cell_type": "markdown",
   "metadata": {},
   "source": [
    "# 1. import needed package"
   ]
  },
  {
   "cell_type": "code",
   "execution_count": 1,
   "metadata": {
    "ExecuteTime": {
     "end_time": "2018-03-24T16:28:03.520594Z",
     "start_time": "2018-03-24T16:27:57.762956Z"
    },
    "collapsed": true
   },
   "outputs": [],
   "source": [
    "from mxnet import autograd\n",
    "from mxnet import gluon\n",
    "from mxnet import image\n",
    "from mxnet import init\n",
    "from mxnet import nd\n",
    "from mxnet.gluon.model_zoo import vision as model\n",
    "from mxnet.gluon import nn\n",
    "from mxnet.gluon.data import vision\n",
    "import numpy as np\n",
    "import random\n",
    "import mxnet as mx\n",
    "import sys\n",
    "sys.path.insert(0, '../../utils')\n",
    "from dataset import *\n",
    "from netlib import *\n",
    "import os\n",
    "import shutil\n",
    "import utils\n",
    "\n",
    "ctx = mx.gpu(0)\n",
    "\n",
    "def mkdir_if_not_exist(path):\n",
    "    if not os.path.exists(os.path.join(*path)):\n",
    "        os.makedirs(os.path.join(*path))\n",
    "        \n",
    "arrayds_dir = '/home/hui/dataset/CIFAR10/arraydataset/'"
   ]
  },
  {
   "cell_type": "markdown",
   "metadata": {},
   "source": [
    "# 2. data loader, data argument"
   ]
  },
  {
   "cell_type": "code",
   "execution_count": 2,
   "metadata": {
    "ExecuteTime": {
     "end_time": "2018-03-24T16:28:03.545218Z",
     "start_time": "2018-03-24T16:28:03.521964Z"
    },
    "collapsed": true
   },
   "outputs": [],
   "source": [
    "\"\"\"\n",
    "data loader\n",
    "\"\"\"\n",
    "def _transform_test(data, label):\n",
    "    im = data.astype('float32') / 255\n",
    "    auglist = image.CreateAugmenter(data_shape=(3, 32, 32), mean=np.array([0.4914, 0.4822, 0.4465]),\n",
    "                                   std=np.array([0.2023, 0.1994, 0.2010]))\n",
    "    for aug in auglist:\n",
    "        im = aug(im)\n",
    "    im = nd.transpose(im, (2, 0, 1))\n",
    "    return im, nd.array([label]).astype('float32')\n",
    "\n",
    "def load_all_data_label(pathes):\n",
    "    all_data, all_label = None, None\n",
    "    for path in pathes:\n",
    "        data, label = nd.load(path)\n",
    "        label = label.reshape((-1,)).astype('float32')\n",
    "        if all_data is None:\n",
    "            all_data, all_label = data, label\n",
    "        else:\n",
    "            all_data = nd.concat(all_data, data, dim=0)\n",
    "            all_label = nd.concat(all_label, label, dim=0)\n",
    "    return all_data, all_label\n",
    "\n",
    "\n",
    "def data_loader(batch_size, transform_train, transform_test=None, num_workers=0, pathes=None, arrayds=False, train_shuffle=True):\n",
    "    if transform_train is None:\n",
    "        transform_train = _transform_train\n",
    "    if transform_test is None:\n",
    "        transform_test = _transform_test\n",
    "        \n",
    "    # flag=1 mean 3 channel image\n",
    "    if pathes is None:\n",
    "        train_ds = gluon.data.vision.datasets.CIFAR10(train=True, transform=transform_train)\n",
    "    else:\n",
    "        if not arrayds:\n",
    "            train_ds = MultiFolderDataset(pathes, transform=transform_train)\n",
    "        else:\n",
    "            train_ds = MyArrayDataset(load_all_data_label(pathes), transform=transform_train)\n",
    "    test_ds = gluon.data.vision.datasets.CIFAR10(train=False, transform=transform_test)\n",
    "\n",
    "    loader = gluon.data.DataLoader\n",
    "    train_data = loader(train_ds, batch_size, shuffle=train_shuffle, last_batch='keep', num_workers=num_workers)\n",
    "    test_data = loader(test_ds, batch_size, shuffle=False, last_batch='keep', num_workers=num_workers)\n",
    "    return train_data, test_data"
   ]
  },
  {
   "cell_type": "code",
   "execution_count": 3,
   "metadata": {
    "ExecuteTime": {
     "end_time": "2018-03-24T16:28:03.796011Z",
     "start_time": "2018-03-24T16:28:03.547396Z"
    },
    "collapsed": true
   },
   "outputs": [],
   "source": [
    "\"\"\"\n",
    "data argument\n",
    "\"\"\"\n",
    "def transform_train_DA1(data, label):\n",
    "    im = data.asnumpy()\n",
    "    im = np.pad(im, ((4, 4), (4, 4), (0, 0)), mode='constant', constant_values=0)\n",
    "    im = nd.array(im, dtype='float32') / 255\n",
    "    auglist = image.CreateAugmenter(data_shape=(3, 32, 32), resize=0, rand_mirror=True,\n",
    "                                    rand_crop=True,\n",
    "                                   mean=np.array([0.4914, 0.4822, 0.4465]),\n",
    "                                   std=np.array([0.2023, 0.1994, 0.2010]))\n",
    "    for aug in auglist:\n",
    "        im = aug(im)\n",
    "    im = nd.transpose(im, (2, 0, 1)) # channel x width x height\n",
    "    return im, nd.array([label]).astype('float32')\n",
    "\n",
    "\n",
    "def transform_train_DA2(data, label):\n",
    "    im = data.astype(np.float32) / 255\n",
    "    auglist = [image.RandomSizedCropAug(size=(32, 32), min_area=0.49, ratio=(0.5, 2))]\n",
    "    _aug = image.CreateAugmenter(data_shape=(3, 32, 32), resize=0, \n",
    "                                rand_crop=False, rand_resize=False, rand_mirror=True,\n",
    "                                mean=np.array([0.4914, 0.4822, 0.4465]),\n",
    "                                std=np.array([0.2023, 0.1994, 0.2010]),\n",
    "                                brightness=0.3, contrast=0.3, saturation=0.3, hue=0.3,\n",
    "                                pca_noise=0.01, rand_gray=0, inter_method=2)\n",
    "    auglist.append(image.RandomOrderAug(_aug))\n",
    "    \n",
    "    for aug in auglist:\n",
    "        im = aug(im)\n",
    "    \n",
    "    im = nd.transpose(im, (2, 0, 1))\n",
    "    return (im, nd.array([label]).asscalar().astype('float32'))\n",
    "    \n",
    "\n",
    "random_clip_rate = 0.3\n",
    "def transform_train_DA3(data, label):\n",
    "    im = data.astype(np.float32) / 255\n",
    "    auglist = [image.RandomSizedCropAug(size=(32, 32), min_area=0.49, ratio=(0.5, 2))]\n",
    "    _aug = image.CreateAugmenter(data_shape=(3, 32, 32), resize=0, \n",
    "                                rand_crop=False, rand_resize=False, rand_mirror=True,\n",
    "#                                mean=np.array([0.4914, 0.4822, 0.4465]),\n",
    "#                                std=np.array([0.2023, 0.1994, 0.2010]),\n",
    "                                brightness=0.3, contrast=0.3, saturation=0.3, hue=0.3,\n",
    "                                pca_noise=0.01, rand_gray=0, inter_method=2)\n",
    "    auglist.append(image.RandomOrderAug(_aug))\n",
    "\n",
    "    for aug in auglist:\n",
    "        im = aug(im)\n",
    "        \n",
    "    if random.random() > random_clip_rate:\n",
    "        im = im.clip(0, 1)\n",
    "    _aug = image.ColorNormalizeAug(mean=np.array([0.4914, 0.4822, 0.4465]),\n",
    "                   std=np.array([0.2023, 0.1994, 0.2010]),)\n",
    "    im = _aug(im)\n",
    "    \n",
    "    im = nd.transpose(im, (2, 0, 1))\n",
    "    return (im, nd.array([label]).asscalar().astype('float32'))"
   ]
  },
  {
   "cell_type": "markdown",
   "metadata": {},
   "source": [
    "# 3. data augment: back grad"
   ]
  },
  {
   "cell_type": "markdown",
   "metadata": {},
   "source": [
    "## 3.1 define a simple back grad method"
   ]
  },
  {
   "cell_type": "code",
   "execution_count": 4,
   "metadata": {
    "ExecuteTime": {
     "end_time": "2018-03-24T15:22:33.566607Z",
     "start_time": "2018-03-24T15:22:32.465747Z"
    },
    "collapsed": true
   },
   "outputs": [],
   "source": [
    "from cifar10_utils import show_images\n",
    "%matplotlib inline\n",
    "\n",
    "def SGD(data, lr):\n",
    "    data[:] = data - data.grad * lr\n",
    "    \n",
    "def inv_normalize(data, clip=True):\n",
    "    mean=np.array([0.4914, 0.4822, 0.4465])\n",
    "    std=np.array([0.2023, 0.1994, 0.2010])\n",
    "    images = data.transpose((0, 2, 3, 1)).asnumpy()\n",
    "    images = images * std + mean\n",
    "    images = images.transpose((0, 3, 1, 2)) * 255\n",
    "    if clip: \n",
    "        images = images.clip(0, 255)\n",
    "    return images\n",
    "    \n",
    "def show_data(data, clip=True):\n",
    "    images = inv_normalize(data, clip)\n",
    "    show_images(images)\n",
    "    \n",
    "def generate_backgrad_data(net, data, label, max_iters=60, lr=0.1, iter_log=False, clip=True, combine_batch=False):\n",
    "    for iters in range(1, max_iters+1):\n",
    "        with autograd.record():\n",
    "            data.attach_grad()\n",
    "            output = net(data.as_in_context(ctx))\n",
    "            loss = -loss_f(output, label.as_in_context(ctx))\n",
    "        loss.backward()\n",
    "        \n",
    "        if iter_log and iters % 10 == 0:\n",
    "            show_data(data[:10], clip)\n",
    "            #print data[0, 0, :2, :10]\n",
    "            #print data.grad[0, 0, :2, :10]\n",
    "        if iter_log and iters % 5 == 0:\n",
    "            print 'iter:', iters, 'loss:', nd.mean(loss).asscalar()\n",
    "        \n",
    "        SGD(data, lr)\n",
    "    return data, (loss,)\n",
    "\n",
    "def get_soft_label(y, num_class, soft_label_th):\n",
    "    y = y.reshape((-1,))\n",
    "    ny = (y.one_hot(num_class) + soft_label_th / num_class)\n",
    "    y = y.asnumpy()\n",
    "    ny[range(y.shape[0]), y.astype('int32')] -= soft_label_th\n",
    "    return nd.array(ny)"
   ]
  },
  {
   "cell_type": "markdown",
   "metadata": {},
   "source": [
    "# 4. analysis trained net acc\n",
    "```\n",
    "net1: train with orign data (resnet18_me_200e)\n",
    "net2: train with iter10 and origin data\n",
    "net3: train with iter15 and origin data\n",
    "online net: train with iter10 in online way\n",
    "```\n",
    "net | transform | backgrad (iter, lr, net, shuffle) | acc\n",
    "---| --- | --- | --- \n",
    "net1 | DA1 | (10, 0.1, net1, true) | 0.444\n",
    "net2 | DA1 | (10, 0.1, net1, true) | 1.0\n",
    "net3 | DA1 | (10, 0.1, net1, true) | 0.99958\n",
    "online net| DA1 | (10, 0.1, net1, true) | 0.99438\n",
    "online net | DA1 | (10, 0.1, online net, true) | 0.99636\n",
    "online net | test | (10, 0.1, online net, true) | 0.8971\n",
    "online net | DA1 | (10, 0.1, online net, false) | 0.20748\n",
    "online net | test| (10, 0.1, online net, false) | 0.20062\n"
   ]
  },
  {
   "cell_type": "markdown",
   "metadata": {},
   "source": [
    "## 4.1 compare datasets' shuffle order\n",
    "**[origin.ndarray]** is same as **[origin folder]**, not shuffle<br/>\n",
    "**[CIFAR10]** and **[backgrad image]**, use shuffle</br>\n",
    "\n",
    "### 4.1.1 why shuffle influence backgrad result?\n",
    "```\n",
    "y = wx + b\n",
    "loss = \n",
    "```"
   ]
  },
  {
   "cell_type": "code",
   "execution_count": 5,
   "metadata": {
    "ExecuteTime": {
     "end_time": "2018-03-24T06:41:58.854931Z",
     "start_time": "2018-03-24T06:41:58.654239Z"
    }
   },
   "outputs": [
    {
     "name": "stdout",
     "output_type": "stream",
     "text": [
      "\n",
      "[[ 0.  0.  0.  0.  0.  0.  0.  0.  0.  0.  0.  0.  0.  0.  0.  0.  0.  0.\n",
      "   0.  0.  0.  0.  0.  0.  0.  0.  0.  0.  0.  0.  0.  0.]]\n",
      "<NDArray 1x32 @cpu(0)>\n"
     ]
    }
   ],
   "source": [
    "train_ds = MyArrayDataset(load_all_data_label([arrayds_dir + 'origin.ndarray']), transform=_transform_test)\n",
    "train_data = gluon.data.DataLoader(train_ds, 32, shuffle=False, num_workers=0)\n",
    "for data, label in train_data:\n",
    "    print label.T\n",
    "    break"
   ]
  },
  {
   "cell_type": "code",
   "execution_count": 6,
   "metadata": {
    "ExecuteTime": {
     "end_time": "2018-03-23T02:22:05.544781Z",
     "start_time": "2018-03-23T02:22:01.814223Z"
    }
   },
   "outputs": [
    {
     "name": "stdout",
     "output_type": "stream",
     "text": [
      "\n",
      "[[ 6.  9.  9.  4.  1.  1.  2.  7.  8.  3.  4.  7.  7.  2.  9.  9.  9.  3.\n",
      "   2.  6.  4.  3.  6.  6.  2.  6.  3.  5.  4.  0.  0.  9.]]\n",
      "<NDArray 1x32 @cpu(0)>\n"
     ]
    }
   ],
   "source": [
    "train_ds = MyArrayDataset(load_all_data_label([arrayds_dir +'backgrad_resnet18_me_200e_iter10.ndarray']), transform=_transform_test)\n",
    "train_data = gluon.data.DataLoader(train_ds, 32, shuffle=False, num_workers=0)\n",
    "for data, label in train_data:\n",
    "    print label.T\n",
    "    break"
   ]
  },
  {
   "cell_type": "code",
   "execution_count": 7,
   "metadata": {
    "ExecuteTime": {
     "end_time": "2018-03-23T02:22:25.764604Z",
     "start_time": "2018-03-23T02:22:25.176417Z"
    }
   },
   "outputs": [
    {
     "name": "stdout",
     "output_type": "stream",
     "text": [
      "\n",
      "[[ 6.  9.  9.  4.  1.  1.  2.  7.  8.  3.  4.  7.  7.  2.  9.  9.  9.  3.\n",
      "   2.  6.  4.  3.  6.  6.  2.  6.  3.  5.  4.  0.  0.  9.]]\n",
      "<NDArray 1x32 @cpu(0)>\n"
     ]
    }
   ],
   "source": [
    "train_ds = gluon.data.vision.datasets.CIFAR10(train=True, transform=_transform_test)\n",
    "train_data = gluon.data.DataLoader(train_ds, 32, shuffle=False, num_workers=0)\n",
    "for data, label in train_data:\n",
    "    print label.T\n",
    "    break"
   ]
  },
  {
   "cell_type": "code",
   "execution_count": 12,
   "metadata": {
    "ExecuteTime": {
     "end_time": "2018-03-23T02:27:07.427408Z",
     "start_time": "2018-03-23T02:27:07.316662Z"
    }
   },
   "outputs": [
    {
     "name": "stdout",
     "output_type": "stream",
     "text": [
      "\n",
      "[0 0 0 0 0 0 0 0 0 0 0 0 0 0 0 0 0 0 0 0 0 0 0 0 0 0 0 0 0 0 0 0]\n",
      "<NDArray 32 @cpu(0)>\n"
     ]
    }
   ],
   "source": [
    "train_ds = MultiFolderDataset([\"/home/hui/dataset/CIFAR10/origin/\"], transform=None) \n",
    "train_data = gluon.data.DataLoader(train_ds, 32, shuffle=False, num_workers=0)\n",
    "for data, label in train_data:\n",
    "    print label.T\n",
    "    break"
   ]
  },
  {
   "cell_type": "markdown",
   "metadata": {},
   "source": [
    "## 4.2 cal acc for diffrent shuffle and DA condition\n",
    "```\n",
    "diffs is L2Norm of images diff = sqrt(sum((f(i) - f_hat(i))^2))\n",
    "MSE = sum((f(i) - f_hat(i))^2) / N\n",
    "SNR = 10 * log_10( sum(f(i)^2) / sum((f(i)-f_hat(i))^2) )\n",
    "```"
   ]
  },
  {
   "cell_type": "code",
   "execution_count": 5,
   "metadata": {
    "ExecuteTime": {
     "end_time": "2018-03-24T15:22:33.675623Z",
     "start_time": "2018-03-24T15:22:33.570993Z"
    },
    "collapsed": true
   },
   "outputs": [],
   "source": [
    "loss_f = gluon.loss.SoftmaxCrossEntropyLoss()\n",
    "def cal_prec():\n",
    "    num, right, loss = 0., 0., 0.\n",
    "    for i, (data, label) in enumerate(train_data):\n",
    "        grad_data, (_loss, ) = generate_backgrad_data(net, data.copy(), label, max_iters=10, lr=0.1, clip=False)\n",
    "        output = net(grad_data.as_in_context(ctx))\n",
    "        result = output.argmax(axis=1)\n",
    "        right += nd.sum(result == label.reshape(shape=result.shape).as_in_context(ctx)).asscalar()\n",
    "        num += data.shape[0]\n",
    "        loss += _loss\n",
    "    print right / num , loss / num\n",
    "    \n",
    "def load_data(idx):\n",
    "    data2, label2 = [], []\n",
    "    for i in idx:\n",
    "        _data, _label = train_ds[i]\n",
    "        data2.append(_data.asnumpy())\n",
    "        label2.append(_label.asnumpy())\n",
    "    data2, label2 = nd.array(data2), nd.array(label2)\n",
    "    return data2, label2\n",
    "\n",
    "def collect_BN(blocks):\n",
    "    BN = []\n",
    "    for blk in blocks:\n",
    "        _type = str(blk).split('(')[0]\n",
    "        if _type == 'BatchNorm':\n",
    "            BN.append(blk)\n",
    "        elif _type == 'Residual':\n",
    "            BN.extend([blk.bn1, blk.bn2])\n",
    "    return BN\n",
    "\n",
    "class BNControl():\n",
    "    def __init__(self, blocks, use_batch=True):\n",
    "        self.bns = collect_BN(blocks)\n",
    "        self.use_batch = use_batch\n",
    "        \n",
    "    def store(self):\n",
    "        self.data_list = []\n",
    "        if self.use_batch: # use batch data and no change running mean/std\n",
    "            for bn in self.bns:\n",
    "                self.data_list.append(bn.params.get('running_mean').data().copy())\n",
    "                self.data_list.append(bn.params.get('running_var').data().copy())\n",
    "        else: # no use batch data and no change running mean/std\n",
    "            for bn in self.bns:\n",
    "                self.data_list.append(n._kwargs['use_global_stats'])\n",
    "                bn._kwargs['use_global_stats'] = True\n",
    "        \n",
    "    def load(self):\n",
    "        if self.use_batch:\n",
    "            for i in range(len(self.bns)):\n",
    "                bn, mean, std = self.bns[i], self.data_list[2*i], self.data_list[2*i+1]\n",
    "                bn.params.get('running_mean').set_data(mean)\n",
    "                bn.params.get('running_var').set_data(std)\n",
    "        else:\n",
    "            for i in range(len(self.bns)):\n",
    "                bn, data = self.bns[i], self.data_list[i]\n",
    "                bn._kwargs['use_global_stats'] = data\n",
    "            \n",
    "def get_info(train_data, net, clip=False, lr=0.1, use_batch=True, more=True):\n",
    "    diffs, losses, right, num = None, None, 0, 0\n",
    "    bn_backup = BNControl(net.net, use_batch)\n",
    "    for data, label in train_data:\n",
    "        bn_backup.store()\n",
    "        backgrad_data, (_loss, ) = generate_backgrad_data(net, data.copy(), label, max_iters=10, lr=lr, clip=clip)\n",
    "        bn_backup.load()\n",
    "        diff = nd.sqrt(nd.sum((backgrad_data - data) ** 2, axis=0, exclude=True))\n",
    "        MSE = nd.mean((backgrad_data - data) ** 2, axis=0, exclude=True)\n",
    "        Savg = nd.mean((data) ** 2, axis=0, exclude=True)\n",
    "        SNR = 10 * nd.log10(Savg / MSE)\n",
    "        if diffs is None: \n",
    "            diffs = diff\n",
    "            losses = _loss\n",
    "        else: \n",
    "            diffs = nd.concat(diffs, diff, dim=0)\n",
    "            losses = nd.concat(losses, _loss, dim=0)\n",
    "            \n",
    "        output = net(backgrad_data.as_in_context(ctx))\n",
    "        result = output.argmax(axis=1)\n",
    "        right += nd.sum(result == label.reshape(shape=result.shape).as_in_context(ctx)).asscalar()\n",
    "        num += data.shape[0]\n",
    "        \n",
    "    diffs, losses = diffs.asnumpy(), losses.asnumpy()\n",
    "    if not more: \n",
    "        return diffs, losses, right / num\n",
    "    else:\n",
    "        return diffs, losses, right / num, MSE.asnumpy(), SNR.asnumpy()\n",
    "\n",
    "statistic_list = []\n",
    "def statistic(diffs):\n",
    "    t = np.mean(diffs), np.max(diffs), np.min(diffs), np.std(diffs)\n",
    "    statistic_list.append(t)\n",
    "    return t"
   ]
  },
  {
   "cell_type": "code",
   "execution_count": 7,
   "metadata": {
    "ExecuteTime": {
     "end_time": "2018-03-24T06:42:05.620225Z",
     "start_time": "2018-03-24T06:42:04.570662Z"
    },
    "collapsed": true
   },
   "outputs": [],
   "source": [
    "net = ResNet(10, prefix='resnet18_')\n",
    "net.initialize(ctx=ctx)\n",
    "net.hybridize()\n",
    "net.load_params(\"../../models/resnet18_me_backgrad_prob_online_iter10_lr01\", ctx=ctx)"
   ]
  },
  {
   "cell_type": "markdown",
   "metadata": {},
   "source": [
    "### 4.2.1 [shuffle=True, DA=DA1, batch=128]"
   ]
  },
  {
   "cell_type": "code",
   "execution_count": 7,
   "metadata": {
    "ExecuteTime": {
     "end_time": "2018-03-24T00:54:49.505188Z",
     "start_time": "2018-03-24T00:51:32.683368Z"
    }
   },
   "outputs": [
    {
     "name": "stdout",
     "output_type": "stream",
     "text": [
      "diff(mean, max, min, std): (0.028494909, 3.3918405, 0.00069388968, 0.12571354)\n",
      "loss(mean, max, min, std): (-0.022742826, 0.0, -14.43439, 0.29769403)\n",
      "MSE(mean, max, min, std): (9.3517256e-06, 0.00071546668, 1.0481064e-08, 7.9468853e-05)\n",
      "SNR(mean, max, min, std): (73.995811, 84.964874, 33.778755, 7.4875011)\n",
      "acc 0.99518\n"
     ]
    }
   ],
   "source": [
    "net.load_params(\"../../models/resnet18_me_backgrad_prob_online_iter10_lr01\", ctx=ctx)\n",
    "train_ds = MyArrayDataset(load_all_data_label([arrayds_dir + 'origin.ndarray']), transform=transform_train_DA1)\n",
    "train_data = gluon.data.DataLoader(train_ds, 128, shuffle=True, num_workers=1)\n",
    "diffs, losses, acc, MSE, SNR = get_info(train_data, net, False)\n",
    "print \"diff(mean, max, min, std):\", statistic(diffs)\n",
    "print \"loss(mean, max, min, std):\", statistic(losses)\n",
    "print \"MSE(mean, max, min, std):\", statistic(MSE)\n",
    "print \"SNR(mean, max, min, std):\", statistic(SNR)\n",
    "print \"acc\", acc"
   ]
  },
  {
   "cell_type": "markdown",
   "metadata": {},
   "source": [
    "### 4.2.2 [shuffle=False, DA=DA1, , batch=128]"
   ]
  },
  {
   "cell_type": "code",
   "execution_count": 8,
   "metadata": {
    "ExecuteTime": {
     "end_time": "2018-03-24T01:11:36.380543Z",
     "start_time": "2018-03-24T01:08:18.927778Z"
    }
   },
   "outputs": [
    {
     "name": "stdout",
     "output_type": "stream",
     "text": [
      "diff(mean, max, min, std): (1.88191, 3.992785, 0.30802137, 0.47699493)\n",
      "loss(mean, max, min, std): (-8.9447355, -1.1920928e-07, -27.180946, 5.843267)\n",
      "MSE(mean, max, min, std): (0.0011198835, 0.0024220361, 0.00022511593, 0.00054084428)\n",
      "SNR(mean, max, min, std): (33.599243, 41.200562, 25.594713, 3.1359203)\n",
      "acc 0.20782\n"
     ]
    }
   ],
   "source": [
    "net.load_params(\"../../models/resnet18_me_backgrad_prob_online_iter10_lr01\", ctx=ctx)\n",
    "train_ds = MyArrayDataset(load_all_data_label([arrayds_dir + 'origin.ndarray']), transform=transform_train_DA1)\n",
    "train_data = gluon.data.DataLoader(train_ds, 128, shuffle=False, num_workers=1)\n",
    "diffs, losses, acc, MSE, SNR = get_info(train_data, net, False)\n",
    "print \"diff(mean, max, min, std):\", statistic(diffs)\n",
    "print \"loss(mean, max, min, std):\", statistic(losses)\n",
    "print \"MSE(mean, max, min, std):\", statistic(MSE)\n",
    "print \"SNR(mean, max, min, std):\", statistic(SNR)\n",
    "print \"acc\", acc"
   ]
  },
  {
   "cell_type": "markdown",
   "metadata": {},
   "source": [
    "### 4.2.3 [shuffle=True, DA=test, batch=128]"
   ]
  },
  {
   "cell_type": "code",
   "execution_count": 9,
   "metadata": {
    "ExecuteTime": {
     "end_time": "2018-03-24T01:14:56.060383Z",
     "start_time": "2018-03-24T01:11:36.381693Z"
    }
   },
   "outputs": [
    {
     "name": "stdout",
     "output_type": "stream",
     "text": [
      "diff(mean, max, min, std): (0.29054788, 4.1743436, 0.022378938, 0.61034387)\n",
      "loss(mean, max, min, std): (-0.61029178, 0.0, -22.683092, 2.1617498)\n",
      "MSE(mean, max, min, std): (8.3960098e-05, 0.001938233, 3.2515015e-07, 0.00031700777)\n",
      "SNR(mean, max, min, std): (56.967419, 71.148331, 28.264088, 8.7912121)\n",
      "acc 0.89788\n"
     ]
    }
   ],
   "source": [
    "net.load_params(\"../../models/resnet18_me_backgrad_prob_online_iter10_lr01\", ctx=ctx)\n",
    "train_ds = MyArrayDataset(load_all_data_label([arrayds_dir + 'origin.ndarray']), transform=_transform_test)\n",
    "train_data = gluon.data.DataLoader(train_ds, 128, shuffle=True, num_workers=1)\n",
    "diffs, losses, acc, MSE, SNR = get_info(train_data, net, False)\n",
    "print \"diff(mean, max, min, std):\", statistic(diffs)\n",
    "print \"loss(mean, max, min, std):\", statistic(losses)\n",
    "print \"MSE(mean, max, min, std):\", statistic(MSE)\n",
    "print \"SNR(mean, max, min, std):\", statistic(SNR)\n",
    "print \"acc\", acc"
   ]
  },
  {
   "cell_type": "markdown",
   "metadata": {},
   "source": [
    "### 4.2.4 [shuffle=False, DA=test, batch=128]"
   ]
  },
  {
   "cell_type": "code",
   "execution_count": 10,
   "metadata": {
    "ExecuteTime": {
     "end_time": "2018-03-24T01:18:15.643321Z",
     "start_time": "2018-03-24T01:14:56.061509Z"
    }
   },
   "outputs": [
    {
     "name": "stdout",
     "output_type": "stream",
     "text": [
      "diff(mean, max, min, std): (2.0169327, 4.0331383, 0.10229762, 0.54460007)\n",
      "loss(mean, max, min, std): (-10.091663, 0.0, -30.55941, 6.5080519)\n",
      "MSE(mean, max, min, std): (0.0013005364, 0.0029557087, 5.6318851e-05, 0.00066486845)\n",
      "SNR(mean, max, min, std): (32.243858, 47.006248, 24.992386, 4.0868025)\n",
      "acc 0.2006\n"
     ]
    }
   ],
   "source": [
    "net.load_params(\"../../models/resnet18_me_backgrad_prob_online_iter10_lr01\", ctx=ctx)\n",
    "train_ds = MyArrayDataset(load_all_data_label([arrayds_dir + 'origin.ndarray']), transform=_transform_test)\n",
    "train_data = gluon.data.DataLoader(train_ds, 128, shuffle=False, num_workers=1)\n",
    "diffs, losses, acc, MSE, SNR = get_info(train_data, net, False)\n",
    "print \"diff(mean, max, min, std):\", statistic(diffs)\n",
    "print \"loss(mean, max, min, std):\", statistic(losses)\n",
    "print \"MSE(mean, max, min, std):\", statistic(MSE)\n",
    "print \"SNR(mean, max, min, std):\", statistic(SNR)\n",
    "print \"acc\", acc"
   ]
  },
  {
   "cell_type": "markdown",
   "metadata": {
    "ExecuteTime": {
     "end_time": "2018-03-23T03:20:22.884989Z",
     "start_time": "2018-03-23T03:20:22.880161Z"
    }
   },
   "source": [
    "### 4.2.5 [shuffle=False/True, DA=DA1, batch=64/16/4]"
   ]
  },
  {
   "cell_type": "code",
   "execution_count": 11,
   "metadata": {
    "ExecuteTime": {
     "end_time": "2018-03-24T01:41:02.151193Z",
     "start_time": "2018-03-24T01:18:15.644516Z"
    }
   },
   "outputs": [
    {
     "name": "stdout",
     "output_type": "stream",
     "text": [
      "diff(mean, max, min, std): (1.8838433, 3.7017679, 0.31961626, 0.47159871)\n",
      "loss(mean, max, min, std): (-8.9813509, -4.7683704e-07, -28.714834, 5.8291774)\n",
      "MSE(mean, max, min, std): (0.0011472163, 0.0025083763, 0.00027305388, 0.00063792925)\n",
      "SNR(mean, max, min, std): (33.741013, 40.696381, 30.339308, 2.8150489)\n",
      "acc 0.20516\n",
      "diff(mean, max, min, std): (1.8690258, 3.5410726, 0.38470805, 0.46444008)\n",
      "loss(mean, max, min, std): (-8.8592558, -5.9604628e-07, -30.206085, 5.7361321)\n",
      "MSE(mean, max, min, std): (0.001149121, 0.0026288314, 0.00029044444, 0.00073690451)\n",
      "SNR(mean, max, min, std): (34.026974, 38.499325, 28.34347, 3.2199061)\n",
      "acc 0.20234\n",
      "diff(mean, max, min, std): (1.7316468, 2.9996088, 0.41312093, 0.39536244)\n",
      "loss(mean, max, min, std): (-7.8708744, -3.3378547e-06, -22.669514, 5.1155677)\n",
      "MSE(mean, max, min, std): (0.0013707757, 0.001908671, 0.00083447184, 0.00038413703)\n",
      "SNR(mean, max, min, std): (32.621582, 35.291428, 29.830114, 1.9481026)\n",
      "acc 0.20828\n"
     ]
    }
   ],
   "source": [
    "net.load_params(\"../../models/resnet18_me_backgrad_prob_online_iter10_lr01\", ctx=ctx)\n",
    "train_ds = MyArrayDataset(load_all_data_label([arrayds_dir + 'origin.ndarray']), transform=transform_train_DA1)\n",
    "train_data = gluon.data.DataLoader(train_ds, 64, shuffle=False, num_workers=1)\n",
    "diffs, losses, acc, MSE, SNR = get_info(train_data, net, False)\n",
    "print \"diff(mean, max, min, std):\", statistic(diffs)\n",
    "print \"loss(mean, max, min, std):\", statistic(losses)\n",
    "print \"MSE(mean, max, min, std):\", statistic(MSE)\n",
    "print \"SNR(mean, max, min, std):\", statistic(SNR)\n",
    "print \"acc\", acc\n",
    "\n",
    "net.load_params(\"../../models/resnet18_me_backgrad_prob_online_iter10_lr01\", ctx=ctx)\n",
    "train_data = gluon.data.DataLoader(train_ds, 16, shuffle=False, num_workers=2)\n",
    "diffs, losses, acc, MSE, SNR = get_info(train_data, net, False)\n",
    "print \"diff(mean, max, min, std):\", statistic(diffs)\n",
    "print \"loss(mean, max, min, std):\", statistic(losses)\n",
    "print \"MSE(mean, max, min, std):\", statistic(MSE)\n",
    "print \"SNR(mean, max, min, std):\", statistic(SNR)\n",
    "print \"acc\", acc\n",
    "\n",
    "net.load_params(\"../../models/resnet18_me_backgrad_prob_online_iter10_lr01\", ctx=ctx)\n",
    "train_data = gluon.data.DataLoader(train_ds, 4, shuffle=False, num_workers=4)\n",
    "diffs, losses, acc, MSE, SNR = get_info(train_data, net, False)\n",
    "print \"diff(mean, max, min, std):\", statistic(diffs)\n",
    "print \"loss(mean, max, min, std):\", statistic(losses)\n",
    "print \"MSE(mean, max, min, std):\", statistic(MSE)\n",
    "print \"SNR(mean, max, min, std):\", statistic(SNR)\n",
    "print \"acc\", acc"
   ]
  },
  {
   "cell_type": "code",
   "execution_count": 12,
   "metadata": {
    "ExecuteTime": {
     "end_time": "2018-03-24T02:03:50.119607Z",
     "start_time": "2018-03-24T01:41:02.152452Z"
    }
   },
   "outputs": [
    {
     "name": "stdout",
     "output_type": "stream",
     "text": [
      "diff(mean, max, min, std): (0.043912657, 3.5108311, 0.0010162303, 0.17033814)\n",
      "loss(mean, max, min, std): (-0.040138077, 0.0, -14.060329, 0.44469869)\n",
      "MSE(mean, max, min, std): (0.00018660276, 0.0015834171, 1.4203597e-05, 0.00041801811)\n",
      "SNR(mean, max, min, std): (46.512646, 52.255779, 31.890083, 5.8562565)\n",
      "acc 0.99174\n",
      "diff(mean, max, min, std): (0.21157566, 3.7815757, 0.00047161517, 0.46322441)\n",
      "loss(mean, max, min, std): (-0.31422919, 0.0, -20.077579, 1.5802054)\n",
      "MSE(mean, max, min, std): (2.077647e-07, 2.8725174e-06, 5.6377378e-09, 6.8988572e-07)\n",
      "SNR(mean, max, min, std): (78.703003, 85.864983, 57.620388, 7.1278205)\n",
      "acc 0.95466\n",
      "diff(mean, max, min, std): (0.7936213, 3.6437559, 0.00011887825, 0.81286031)\n",
      "loss(mean, max, min, std): (-1.7225989, -3.5762781e-07, -21.390085, 3.657903)\n",
      "MSE(mean, max, min, std): (0.0003059117, 0.0010284547, 2.9910567e-05, 0.00041810304)\n",
      "SNR(mean, max, min, std): (43.115753, 47.742851, 34.632996, 5.1407228)\n",
      "acc 0.80456\n"
     ]
    }
   ],
   "source": [
    "net.load_params(\"../../models/resnet18_me_backgrad_prob_online_iter10_lr01\", ctx=ctx)\n",
    "train_ds = MyArrayDataset(load_all_data_label([arrayds_dir + 'origin.ndarray']), transform=transform_train_DA1)\n",
    "train_data = gluon.data.DataLoader(train_ds, 64, shuffle=True, num_workers=1)\n",
    "diffs, losses, acc, MSE, SNR = get_info(train_data, net, False)\n",
    "print \"diff(mean, max, min, std):\", statistic(diffs)\n",
    "print \"loss(mean, max, min, std):\", statistic(losses)\n",
    "print \"MSE(mean, max, min, std):\", statistic(MSE)\n",
    "print \"SNR(mean, max, min, std):\", statistic(SNR)\n",
    "print \"acc\", acc\n",
    "\n",
    "net.load_params(\"../../models/resnet18_me_backgrad_prob_online_iter10_lr01\", ctx=ctx)\n",
    "train_data = gluon.data.DataLoader(train_ds, 16, shuffle=True, num_workers=2)\n",
    "diffs, losses, acc, MSE, SNR = get_info(train_data, net, False)\n",
    "print \"diff(mean, max, min, std):\", statistic(diffs)\n",
    "print \"loss(mean, max, min, std):\", statistic(losses)\n",
    "print \"MSE(mean, max, min, std):\", statistic(MSE)\n",
    "print \"SNR(mean, max, min, std):\", statistic(SNR)\n",
    "print \"acc\", acc\n",
    "\n",
    "net.load_params(\"../../models/resnet18_me_backgrad_prob_online_iter10_lr01\", ctx=ctx)\n",
    "train_data = gluon.data.DataLoader(train_ds, 4, shuffle=True, num_workers=4)\n",
    "diffs, losses, acc, MSE, SNR = get_info(train_data, net, False)\n",
    "print \"diff(mean, max, min, std):\", statistic(diffs)\n",
    "print \"loss(mean, max, min, std):\", statistic(losses)\n",
    "print \"MSE(mean, max, min, std):\", statistic(MSE)\n",
    "print \"SNR(mean, max, min, std):\", statistic(SNR)\n",
    "print \"acc\", acc"
   ]
  },
  {
   "cell_type": "markdown",
   "metadata": {},
   "source": [
    "### 4.2.6 [shuffle=False/True, DA=test, batch=64/16/4]"
   ]
  },
  {
   "cell_type": "code",
   "execution_count": 13,
   "metadata": {
    "ExecuteTime": {
     "end_time": "2018-03-24T02:26:38.523211Z",
     "start_time": "2018-03-24T02:03:50.120968Z"
    }
   },
   "outputs": [
    {
     "name": "stdout",
     "output_type": "stream",
     "text": [
      "diff(mean, max, min, std): (2.0169158, 3.9170804, 0.11618762, 0.53681433)\n",
      "loss(mean, max, min, std): (-10.114234, -1.1920928e-07, -30.134457, 6.4866738)\n",
      "MSE(mean, max, min, std): (0.001291633, 0.0023317442, 0.00042959428, 0.0005798717)\n",
      "SNR(mean, max, min, std): (32.017292, 37.366909, 27.361176, 3.0049431)\n",
      "acc 0.19782\n",
      "diff(mean, max, min, std): (2.0063128, 3.5781038, 0.14641486, 0.51580262)\n",
      "loss(mean, max, min, std): (-9.9811077, -2.3841855e-07, -30.220226, 6.3621531)\n",
      "MSE(mean, max, min, std): (0.001291641, 0.0023317176, 0.00042957338, 0.00057987287)\n",
      "SNR(mean, max, min, std): (32.017277, 37.367123, 27.361334, 3.0049562)\n",
      "acc 0.19836\n",
      "diff(mean, max, min, std): (1.8729905, 3.1071353, 0.30720788, 0.39454892)\n",
      "loss(mean, max, min, std): (-8.8579588, -8.3446469e-07, -26.050478, 5.5748458)\n",
      "MSE(mean, max, min, std): (0.0015214706, 0.0018257746, 0.0010449281, 0.00029112995)\n",
      "SNR(mean, max, min, std): (31.171347, 32.561241, 28.220701, 1.7266445)\n",
      "acc 0.20378\n"
     ]
    }
   ],
   "source": [
    "train_ds = MyArrayDataset(load_all_data_label([arrayds_dir + 'origin.ndarray']), transform=_transform_test)\n",
    "net.load_params(\"../../models/resnet18_me_backgrad_prob_online_iter10_lr01\", ctx=ctx)\n",
    "train_data = gluon.data.DataLoader(train_ds, 64, shuffle=False, num_workers=1)\n",
    "diffs, losses, acc, MSE, SNR = get_info(train_data, net, False)\n",
    "print \"diff(mean, max, min, std):\", statistic(diffs)\n",
    "print \"loss(mean, max, min, std):\", statistic(losses)\n",
    "print \"MSE(mean, max, min, std):\", statistic(MSE)\n",
    "print \"SNR(mean, max, min, std):\", statistic(SNR)\n",
    "print \"acc\", acc\n",
    "\n",
    "net.load_params(\"../../models/resnet18_me_backgrad_prob_online_iter10_lr01\", ctx=ctx)\n",
    "train_data = gluon.data.DataLoader(train_ds, 16, shuffle=False, num_workers=2)\n",
    "diffs, losses, acc, MSE, SNR = get_info(train_data, net, False)\n",
    "print \"diff(mean, max, min, std):\", statistic(diffs)\n",
    "print \"loss(mean, max, min, std):\", statistic(losses)\n",
    "print \"MSE(mean, max, min, std):\", statistic(MSE)\n",
    "print \"SNR(mean, max, min, std):\", statistic(SNR)\n",
    "print \"acc\", acc\n",
    "\n",
    "net.load_params(\"../../models/resnet18_me_backgrad_prob_online_iter10_lr01\", ctx=ctx)\n",
    "train_data = gluon.data.DataLoader(train_ds, 4, shuffle=False, num_workers=4)\n",
    "diffs, losses, acc, MSE, SNR = get_info(train_data, net, False)\n",
    "print \"diff(mean, max, min, std):\", statistic(diffs)\n",
    "print \"loss(mean, max, min, std):\", statistic(losses)\n",
    "print \"MSE(mean, max, min, std):\", statistic(MSE)\n",
    "print \"SNR(mean, max, min, std):\", statistic(SNR)\n",
    "print \"acc\", acc"
   ]
  },
  {
   "cell_type": "code",
   "execution_count": 14,
   "metadata": {
    "ExecuteTime": {
     "end_time": "2018-03-24T02:49:36.085842Z",
     "start_time": "2018-03-24T02:26:38.525194Z"
    }
   },
   "outputs": [
    {
     "name": "stdout",
     "output_type": "stream",
     "text": [
      "diff(mean, max, min, std): (0.34288958, 4.2394218, 0.016314542, 0.64143282)\n",
      "loss(mean, max, min, std): (-0.69974482, 0.0, -23.468046, 2.3701899)\n",
      "MSE(mean, max, min, std): (0.00019256258, 0.0014425406, 7.4373406e-06, 0.00047046776)\n",
      "SNR(mean, max, min, std): (47.772453, 53.406746, 30.161434, 6.7372293)\n",
      "acc 0.88932\n",
      "diff(mean, max, min, std): (0.5937435, 4.1252971, 0.00083296438, 0.77314824)\n",
      "loss(mean, max, min, std): (-1.2393742, 0.0, -23.893414, 3.3466334)\n",
      "MSE(mean, max, min, std): (0.00075870845, 0.0026370173, 6.2895422e-05, 0.00088713499)\n",
      "SNR(mean, max, min, std): (37.431934, 47.063858, 26.885651, 6.7711134)\n",
      "acc 0.84192\n",
      "diff(mean, max, min, std): (1.1930276, 3.8218005, 0.00021730599, 0.88795573)\n",
      "loss(mean, max, min, std): (-3.0905747, -1.1920928e-07, -28.000971, 4.9415917)\n",
      "MSE(mean, max, min, std): (3.5898459e-08, 8.0688146e-08, 7.1593198e-09, 3.0698196e-08)\n",
      "SNR(mean, max, min, std): (80.152084, 86.919846, 73.429398, 5.2954121)\n",
      "acc 0.68042\n"
     ]
    }
   ],
   "source": [
    "train_ds = MyArrayDataset(load_all_data_label([arrayds_dir + 'origin.ndarray']), transform=_transform_test)\n",
    "net.load_params(\"../../models/resnet18_me_backgrad_prob_online_iter10_lr01\", ctx=ctx)\n",
    "train_data = gluon.data.DataLoader(train_ds, 64, shuffle=True, num_workers=1)\n",
    "diffs, losses, acc, MSE, SNR = get_info(train_data, net, False)\n",
    "print \"diff(mean, max, min, std):\", statistic(diffs)\n",
    "print \"loss(mean, max, min, std):\", statistic(losses)\n",
    "print \"MSE(mean, max, min, std):\", statistic(MSE)\n",
    "print \"SNR(mean, max, min, std):\", statistic(SNR)\n",
    "print \"acc\", acc\n",
    "\n",
    "net.load_params(\"../../models/resnet18_me_backgrad_prob_online_iter10_lr01\", ctx=ctx)\n",
    "train_data = gluon.data.DataLoader(train_ds, 16, shuffle=True, num_workers=2)\n",
    "diffs, losses, acc, MSE, SNR = get_info(train_data, net, False)\n",
    "print \"diff(mean, max, min, std):\", statistic(diffs)\n",
    "print \"loss(mean, max, min, std):\", statistic(losses)\n",
    "print \"MSE(mean, max, min, std):\", statistic(MSE)\n",
    "print \"SNR(mean, max, min, std):\", statistic(SNR)\n",
    "print \"acc\", acc\n",
    "\n",
    "net.load_params(\"../../models/resnet18_me_backgrad_prob_online_iter10_lr01\", ctx=ctx)\n",
    "train_data = gluon.data.DataLoader(train_ds, 4, shuffle=True, num_workers=4)\n",
    "diffs, losses, acc, MSE, SNR = get_info(train_data, net, False)\n",
    "print \"diff(mean, max, min, std):\", statistic(diffs)\n",
    "print \"loss(mean, max, min, std):\", statistic(losses)\n",
    "print \"MSE(mean, max, min, std):\", statistic(MSE)\n",
    "print \"SNR(mean, max, min, std):\", statistic(SNR)\n",
    "print \"acc\", acc"
   ]
  },
  {
   "cell_type": "markdown",
   "metadata": {},
   "source": [
    "### 4.2.6 [shuffle=False/True, DA=test, batch=1]"
   ]
  },
  {
   "cell_type": "code",
   "execution_count": 6,
   "metadata": {
    "ExecuteTime": {
     "end_time": "2018-03-23T02:06:36.765098Z",
     "start_time": "2018-03-23T02:06:35.745041Z"
    },
    "collapsed": true
   },
   "outputs": [],
   "source": [
    "train_ds = MyArrayDataset(load_all_data_label([arrayds_dir + 'origin.ndarray']), transform=_transform_test)\n",
    "net = ResNet(10)\n",
    "net.initialize(ctx=ctx)\n",
    "net.hybridize()\n",
    "net.load_params(\"../../models/resnet18_me_backgrad_prob_online_iter10_lr01\", ctx=ctx)"
   ]
  },
  {
   "cell_type": "code",
   "execution_count": 8,
   "metadata": {
    "ExecuteTime": {
     "end_time": "2018-03-21T09:58:38.998144Z",
     "start_time": "2018-03-21T09:16:44.236173Z"
    }
   },
   "outputs": [
    {
     "name": "stdout",
     "output_type": "stream",
     "text": [
      "0.30978 -2.21852635104\n"
     ]
    }
   ],
   "source": [
    "train_data = gluon.data.DataLoader(train_ds, 1, shuffle=False, num_workers=4)\n",
    "cal_prec()"
   ]
  },
  {
   "cell_type": "code",
   "execution_count": 9,
   "metadata": {
    "ExecuteTime": {
     "end_time": "2018-03-21T11:14:57.549729Z",
     "start_time": "2018-03-21T10:04:05.098497Z"
    }
   },
   "outputs": [
    {
     "name": "stdout",
     "output_type": "stream",
     "text": [
      "0.71512 -2.21852404459\n"
     ]
    }
   ],
   "source": [
    "net.load_params(\"../../models/resnet18_me_backgrad_prob_online_iter10_lr01\", ctx=ctx)\n",
    "train_data = gluon.data.DataLoader(train_ds, 1, shuffle=True, num_workers=4)\n",
    "cal_prec()"
   ]
  },
  {
   "cell_type": "markdown",
   "metadata": {
    "ExecuteTime": {
     "end_time": "2018-03-23T06:02:41.369900Z",
     "start_time": "2018-03-23T06:02:41.367604Z"
    }
   },
   "source": [
    "### 4.2.7 [shuffle=True, DA=DA1, lr=0.5] bigger lr"
   ]
  },
  {
   "cell_type": "code",
   "execution_count": 15,
   "metadata": {
    "ExecuteTime": {
     "end_time": "2018-03-24T02:53:10.396455Z",
     "start_time": "2018-03-24T02:49:36.107100Z"
    }
   },
   "outputs": [
    {
     "name": "stdout",
     "output_type": "stream",
     "text": [
      "diff(mean, max, min, std): (0.027300393, 3.5007944, 0.00075009203, 0.11957215)\n",
      "loss(mean, max, min, std): (-0.020794833, 0.0, -14.461635, 0.28520319)\n",
      "MSE(mean, max, min, std): (1.0260637e-05, 0.00052822451, 3.504417e-08, 6.5165579e-05)\n",
      "SNR(mean, max, min, std): (69.99337, 80.039673, 33.658749, 7.2665658)\n",
      "acc 0.99536\n"
     ]
    }
   ],
   "source": [
    "train_ds = MyArrayDataset(load_all_data_label([arrayds_dir + 'origin.ndarray']), transform=transform_train_DA1)\n",
    "net.load_params(\"../../models/resnet18_me_backgrad_prob_online_iter10_lr01\", ctx=ctx)\n",
    "train_data = gluon.data.DataLoader(train_ds, 128, shuffle=True, num_workers=1)\n",
    "diffs, losses, acc, MSE, SNR = get_info(train_data, net, False)\n",
    "print \"diff(mean, max, min, std):\", statistic(diffs)\n",
    "print \"loss(mean, max, min, std):\", statistic(losses)\n",
    "print \"MSE(mean, max, min, std):\", statistic(MSE)\n",
    "print \"SNR(mean, max, min, std):\", statistic(SNR)\n",
    "print \"acc\", acc"
   ]
  },
  {
   "cell_type": "markdown",
   "metadata": {},
   "source": [
    "### 4.2.8 [shuffle=False/True, DA=test, batch_size=128, BN.use_global_stats=True]"
   ]
  },
  {
   "cell_type": "code",
   "execution_count": 16,
   "metadata": {
    "ExecuteTime": {
     "end_time": "2018-03-24T03:00:14.627415Z",
     "start_time": "2018-03-24T02:53:10.397811Z"
    }
   },
   "outputs": [
    {
     "name": "stdout",
     "output_type": "stream",
     "text": [
      "BatchNorm(fix_gamma=False, use_global_stats=True, eps=1e-05, momentum=0.9, axis=1, in_channels=32)\n",
      "diff(mean, max, min, std): (2.0169387, 4.0335507, 0.10227058, 0.54461104)\n",
      "loss(mean, max, min, std): (-10.091665, 0.0, -30.556803, 6.5080628)\n",
      "MSE(mean, max, min, std): (0.0013004884, 0.002955049, 5.6287474e-05, 0.00066485506)\n",
      "SNR(mean, max, min, std): (32.243977, 47.008671, 24.993355, 4.0867438)\n",
      "acc 0.20078\n",
      "diff(mean, max, min, std): (0.28909895, 4.0406537, 0.020394301, 0.60895044)\n",
      "loss(mean, max, min, std): (-0.60734522, 0.0, -21.827774, 2.1554084)\n",
      "MSE(mean, max, min, std): (0.0001162965, 0.0039966912, 8.0540218e-07, 0.00053942512)\n",
      "SNR(mean, max, min, std): (53.820232, 66.322144, 23.83551, 7.8340397)\n",
      "acc 0.8984\n"
     ]
    }
   ],
   "source": [
    "net.load_params(\"../../models/resnet18_me_backgrad_prob_online_iter10_lr01\", ctx=ctx)\n",
    "def collect_BN(blocks):\n",
    "    BN = []\n",
    "    for blk in net.net:\n",
    "        _type = str(blk).split('(')[0]\n",
    "        if _type == 'BatchNorm':\n",
    "            BN.append(blk)\n",
    "        elif _type == 'Residual':\n",
    "            BN.extend([blk.bn1, blk.bn2])\n",
    "    return BN\n",
    "\n",
    "def store_mean_std(blocks):\n",
    "    for bn in collect_BN\n",
    "\n",
    "for bn in collect_BN(net.net):\n",
    "    bn._kwargs['use_global_stats'] = True\n",
    "    \n",
    "print collect_BN(net.net)[0]\n",
    "\n",
    "train_ds = MyArrayDataset(load_all_data_label([arrayds_dir + 'origin.ndarray']), transform=_transform_test)\n",
    "\n",
    "train_data = gluon.data.DataLoader(train_ds, 128, shuffle=False, num_workers=1)\n",
    "diffs, losses, acc, MSE, SNR = get_info(train_data, net, False)\n",
    "print \"diff(mean, max, min, std):\", statistic(diffs)\n",
    "print \"loss(mean, max, min, std):\", statistic(losses)\n",
    "print \"MSE(mean, max, min, std):\", statistic(MSE)\n",
    "print \"SNR(mean, max, min, std):\", statistic(SNR)\n",
    "print \"acc\", acc\n",
    "\n",
    "train_ds = MyArrayDataset(load_all_data_label([arrayds_dir + 'origin.ndarray']), transform=_transform_test)\n",
    "train_data = gluon.data.DataLoader(train_ds, 128, shuffle=True, num_workers=1)\n",
    "diffs, losses, acc, MSE, SNR = get_info(train_data, net, False)\n",
    "print \"diff(mean, max, min, std):\", statistic(diffs)\n",
    "print \"loss(mean, max, min, std):\", statistic(losses)\n",
    "print \"MSE(mean, max, min, std):\", statistic(MSE)\n",
    "print \"SNR(mean, max, min, std):\", statistic(SNR)\n",
    "print \"acc\", acc"
   ]
  },
  {
   "cell_type": "markdown",
   "metadata": {},
   "source": [
    "moving_mean/std test result:\n",
    "[(0.028494909, 3.3918405, 0.00069388968, 0.12571354),\n",
    " (-0.022742826, 0.0, -14.43439, 0.29769403),\n",
    " (9.3517256e-06, 0.00071546668, 1.0481064e-08, 7.9468853e-05),\n",
    " (73.995811, 84.964874, 33.778755, 7.4875011),\n",
    " (1.88191, 3.992785, 0.30802137, 0.47699493),\n",
    " (-8.9447355, -1.1920928e-07, -27.180946, 5.843267),\n",
    " (0.0011198835, 0.0024220361, 0.00022511593, 0.00054084428),\n",
    " (33.599243, 41.200562, 25.594713, 3.1359203),\n",
    " (0.29054788, 4.1743436, 0.022378938, 0.61034387),\n",
    " (-0.61029178, 0.0, -22.683092, 2.1617498),\n",
    " (8.3960098e-05, 0.001938233, 3.2515015e-07, 0.00031700777),\n",
    " (56.967419, 71.148331, 28.264088, 8.7912121),\n",
    " (2.0169327, 4.0331383, 0.10229762, 0.54460007),\n",
    " (-10.091663, 0.0, -30.55941, 6.5080519),\n",
    " (0.0013005364, 0.0029557087, 5.6318851e-05, 0.00066486845),\n",
    " (32.243858, 47.006248, 24.992386, 4.0868025),\n",
    " (1.8838433, 3.7017679, 0.31961626, 0.47159871),\n",
    " (-8.9813509, -4.7683704e-07, -28.714834, 5.8291774),\n",
    " (0.0011472163, 0.0025083763, 0.00027305388, 0.00063792925),\n",
    " (33.741013, 40.696381, 30.339308, 2.8150489),\n",
    " (1.8690258, 3.5410726, 0.38470805, 0.46444008),\n",
    " (-8.8592558, -5.9604628e-07, -30.206085, 5.7361321),\n",
    " (0.001149121, 0.0026288314, 0.00029044444, 0.00073690451),\n",
    " (34.026974, 38.499325, 28.34347, 3.2199061),\n",
    " (1.7316468, 2.9996088, 0.41312093, 0.39536244),\n",
    " (-7.8708744, -3.3378547e-06, -22.669514, 5.1155677),\n",
    " (0.0013707757, 0.001908671, 0.00083447184, 0.00038413703),\n",
    " (32.621582, 35.291428, 29.830114, 1.9481026),\n",
    " (0.043912657, 3.5108311, 0.0010162303, 0.17033814),\n",
    " (-0.040138077, 0.0, -14.060329, 0.44469869),\n",
    " (0.00018660276, 0.0015834171, 1.4203597e-05, 0.00041801811),\n",
    " (46.512646, 52.255779, 31.890083, 5.8562565),\n",
    " (0.21157566, 3.7815757, 0.00047161517, 0.46322441),\n",
    " (-0.31422919, 0.0, -20.077579, 1.5802054),\n",
    " (2.077647e-07, 2.8725174e-06, 5.6377378e-09, 6.8988572e-07),\n",
    " (78.703003, 85.864983, 57.620388, 7.1278205),\n",
    " (0.7936213, 3.6437559, 0.00011887825, 0.81286031),\n",
    " (-1.7225989, -3.5762781e-07, -21.390085, 3.657903),\n",
    " (0.0003059117, 0.0010284547, 2.9910567e-05, 0.00041810304),\n",
    " (43.115753, 47.742851, 34.632996, 5.1407228),\n",
    " (2.0169158, 3.9170804, 0.11618762, 0.53681433),\n",
    " (-10.114234, -1.1920928e-07, -30.134457, 6.4866738),\n",
    " (0.001291633, 0.0023317442, 0.00042959428, 0.0005798717),\n",
    " (32.017292, 37.366909, 27.361176, 3.0049431),\n",
    " (2.0063128, 3.5781038, 0.14641486, 0.51580262),\n",
    " (-9.9811077, -2.3841855e-07, -30.220226, 6.3621531),\n",
    " (0.001291641, 0.0023317176, 0.00042957338, 0.00057987287),\n",
    " (32.017277, 37.367123, 27.361334, 3.0049562),\n",
    " (1.8729905, 3.1071353, 0.30720788, 0.39454892),\n",
    " (-8.8579588, -8.3446469e-07, -26.050478, 5.5748458),\n",
    " (0.0015214706, 0.0018257746, 0.0010449281, 0.00029112995),\n",
    " (31.171347, 32.561241, 28.220701, 1.7266445),\n",
    " (0.34288958, 4.2394218, 0.016314542, 0.64143282),\n",
    " (-0.69974482, 0.0, -23.468046, 2.3701899),\n",
    " (0.00019256258, 0.0014425406, 7.4373406e-06, 0.00047046776),\n",
    " (47.772453, 53.406746, 30.161434, 6.7372293),\n",
    " (0.5937435, 4.1252971, 0.00083296438, 0.77314824),\n",
    " (-1.2393742, 0.0, -23.893414, 3.3466334),\n",
    " (0.00075870845, 0.0026370173, 6.2895422e-05, 0.00088713499),\n",
    " (37.431934, 47.063858, 26.885651, 6.7711134),\n",
    " (1.1930276, 3.8218005, 0.00021730599, 0.88795573),\n",
    " (-3.0905747, -1.1920928e-07, -28.000971, 4.9415917),\n",
    " (3.5898459e-08, 8.0688146e-08, 7.1593198e-09, 3.0698196e-08),\n",
    " (80.152084, 86.919846, 73.429398, 5.2954121),\n",
    " (0.027300393, 3.5007944, 0.00075009203, 0.11957215),\n",
    " (-0.020794833, 0.0, -14.461635, 0.28520319),\n",
    " (1.0260637e-05, 0.00052822451, 3.504417e-08, 6.5165579e-05),\n",
    " (69.99337, 80.039673, 33.658749, 7.2665658),\n",
    " (2.0169387, 4.0335507, 0.10227058, 0.54461104),\n",
    " (-10.091665, 0.0, -30.556803, 6.5080628),\n",
    " (0.0013004884, 0.002955049, 5.6287474e-05, 0.00066485506),\n",
    " (32.243977, 47.008671, 24.993355, 4.0867438),\n",
    " (0.28909895, 4.0406537, 0.020394301, 0.60895044),\n",
    " (-0.60734522, 0.0, -21.827774, 2.1554084),\n",
    " (0.0001162965, 0.0039966912, 8.0540218e-07, 0.00053942512),\n",
    " (53.820232, 66.322144, 23.83551, 7.8340397)]"
   ]
  },
  {
   "cell_type": "code",
   "execution_count": 17,
   "metadata": {
    "ExecuteTime": {
     "end_time": "2018-03-24T03:00:14.678460Z",
     "start_time": "2018-03-24T03:00:14.628822Z"
    }
   },
   "outputs": [
    {
     "data": {
      "text/plain": [
       "[(0.028494909, 3.3918405, 0.00069388968, 0.12571354),\n",
       " (-0.022742826, 0.0, -14.43439, 0.29769403),\n",
       " (9.3517256e-06, 0.00071546668, 1.0481064e-08, 7.9468853e-05),\n",
       " (73.995811, 84.964874, 33.778755, 7.4875011),\n",
       " (1.88191, 3.992785, 0.30802137, 0.47699493),\n",
       " (-8.9447355, -1.1920928e-07, -27.180946, 5.843267),\n",
       " (0.0011198835, 0.0024220361, 0.00022511593, 0.00054084428),\n",
       " (33.599243, 41.200562, 25.594713, 3.1359203),\n",
       " (0.29054788, 4.1743436, 0.022378938, 0.61034387),\n",
       " (-0.61029178, 0.0, -22.683092, 2.1617498),\n",
       " (8.3960098e-05, 0.001938233, 3.2515015e-07, 0.00031700777),\n",
       " (56.967419, 71.148331, 28.264088, 8.7912121),\n",
       " (2.0169327, 4.0331383, 0.10229762, 0.54460007),\n",
       " (-10.091663, 0.0, -30.55941, 6.5080519),\n",
       " (0.0013005364, 0.0029557087, 5.6318851e-05, 0.00066486845),\n",
       " (32.243858, 47.006248, 24.992386, 4.0868025),\n",
       " (1.8838433, 3.7017679, 0.31961626, 0.47159871),\n",
       " (-8.9813509, -4.7683704e-07, -28.714834, 5.8291774),\n",
       " (0.0011472163, 0.0025083763, 0.00027305388, 0.00063792925),\n",
       " (33.741013, 40.696381, 30.339308, 2.8150489),\n",
       " (1.8690258, 3.5410726, 0.38470805, 0.46444008),\n",
       " (-8.8592558, -5.9604628e-07, -30.206085, 5.7361321),\n",
       " (0.001149121, 0.0026288314, 0.00029044444, 0.00073690451),\n",
       " (34.026974, 38.499325, 28.34347, 3.2199061),\n",
       " (1.7316468, 2.9996088, 0.41312093, 0.39536244),\n",
       " (-7.8708744, -3.3378547e-06, -22.669514, 5.1155677),\n",
       " (0.0013707757, 0.001908671, 0.00083447184, 0.00038413703),\n",
       " (32.621582, 35.291428, 29.830114, 1.9481026),\n",
       " (0.043912657, 3.5108311, 0.0010162303, 0.17033814),\n",
       " (-0.040138077, 0.0, -14.060329, 0.44469869),\n",
       " (0.00018660276, 0.0015834171, 1.4203597e-05, 0.00041801811),\n",
       " (46.512646, 52.255779, 31.890083, 5.8562565),\n",
       " (0.21157566, 3.7815757, 0.00047161517, 0.46322441),\n",
       " (-0.31422919, 0.0, -20.077579, 1.5802054),\n",
       " (2.077647e-07, 2.8725174e-06, 5.6377378e-09, 6.8988572e-07),\n",
       " (78.703003, 85.864983, 57.620388, 7.1278205),\n",
       " (0.7936213, 3.6437559, 0.00011887825, 0.81286031),\n",
       " (-1.7225989, -3.5762781e-07, -21.390085, 3.657903),\n",
       " (0.0003059117, 0.0010284547, 2.9910567e-05, 0.00041810304),\n",
       " (43.115753, 47.742851, 34.632996, 5.1407228),\n",
       " (2.0169158, 3.9170804, 0.11618762, 0.53681433),\n",
       " (-10.114234, -1.1920928e-07, -30.134457, 6.4866738),\n",
       " (0.001291633, 0.0023317442, 0.00042959428, 0.0005798717),\n",
       " (32.017292, 37.366909, 27.361176, 3.0049431),\n",
       " (2.0063128, 3.5781038, 0.14641486, 0.51580262),\n",
       " (-9.9811077, -2.3841855e-07, -30.220226, 6.3621531),\n",
       " (0.001291641, 0.0023317176, 0.00042957338, 0.00057987287),\n",
       " (32.017277, 37.367123, 27.361334, 3.0049562),\n",
       " (1.8729905, 3.1071353, 0.30720788, 0.39454892),\n",
       " (-8.8579588, -8.3446469e-07, -26.050478, 5.5748458),\n",
       " (0.0015214706, 0.0018257746, 0.0010449281, 0.00029112995),\n",
       " (31.171347, 32.561241, 28.220701, 1.7266445),\n",
       " (0.34288958, 4.2394218, 0.016314542, 0.64143282),\n",
       " (-0.69974482, 0.0, -23.468046, 2.3701899),\n",
       " (0.00019256258, 0.0014425406, 7.4373406e-06, 0.00047046776),\n",
       " (47.772453, 53.406746, 30.161434, 6.7372293),\n",
       " (0.5937435, 4.1252971, 0.00083296438, 0.77314824),\n",
       " (-1.2393742, 0.0, -23.893414, 3.3466334),\n",
       " (0.00075870845, 0.0026370173, 6.2895422e-05, 0.00088713499),\n",
       " (37.431934, 47.063858, 26.885651, 6.7711134),\n",
       " (1.1930276, 3.8218005, 0.00021730599, 0.88795573),\n",
       " (-3.0905747, -1.1920928e-07, -28.000971, 4.9415917),\n",
       " (3.5898459e-08, 8.0688146e-08, 7.1593198e-09, 3.0698196e-08),\n",
       " (80.152084, 86.919846, 73.429398, 5.2954121),\n",
       " (0.027300393, 3.5007944, 0.00075009203, 0.11957215),\n",
       " (-0.020794833, 0.0, -14.461635, 0.28520319),\n",
       " (1.0260637e-05, 0.00052822451, 3.504417e-08, 6.5165579e-05),\n",
       " (69.99337, 80.039673, 33.658749, 7.2665658),\n",
       " (2.0169387, 4.0335507, 0.10227058, 0.54461104),\n",
       " (-10.091665, 0.0, -30.556803, 6.5080628),\n",
       " (0.0013004884, 0.002955049, 5.6287474e-05, 0.00066485506),\n",
       " (32.243977, 47.008671, 24.993355, 4.0867438),\n",
       " (0.28909895, 4.0406537, 0.020394301, 0.60895044),\n",
       " (-0.60734522, 0.0, -21.827774, 2.1554084),\n",
       " (0.0001162965, 0.0039966912, 8.0540218e-07, 0.00053942512),\n",
       " (53.820232, 66.322144, 23.83551, 7.8340397)]"
      ]
     },
     "execution_count": 17,
     "metadata": {},
     "output_type": "execute_result"
    }
   ],
   "source": [
    "statistic_list"
   ]
  },
  {
   "cell_type": "code",
   "execution_count": 8,
   "metadata": {
    "ExecuteTime": {
     "end_time": "2018-03-24T05:26:58.372999Z",
     "start_time": "2018-03-24T05:20:10.632428Z"
    }
   },
   "outputs": [
    {
     "name": "stdout",
     "output_type": "stream",
     "text": [
      "diff(mean, max, min, std): (2.0169282, 4.0332088, 0.10227438, 0.54460114)\n",
      "loss(mean, max, min, std): (-10.091641, 0.0, -30.559814, 6.5080533)\n",
      "MSE(mean, max, min, std): (0.0013004004, 0.0029551771, 5.6074743e-05, 0.00066502951)\n",
      "SNR(mean, max, min, std): (32.244675, 47.025116, 24.993168, 4.0879555)\n",
      "acc 0.95082\n",
      "diff(mean, max, min, std): (0.29195079, 4.2479177, 0.018617915, 0.61195362)\n",
      "loss(mean, max, min, std): (-0.61263269, 0.0, -22.265533, 2.1696143)\n",
      "MSE(mean, max, min, std): (6.2267536e-05, 0.0013278215, 4.6094354e-07, 0.00023509697)\n",
      "SNR(mean, max, min, std): (57.706066, 69.827133, 32.422909, 8.1600266)\n",
      "acc 0.97468\n"
     ]
    }
   ],
   "source": [
    "net.load_params(\"../../models/resnet18_me_backgrad_prob_online_iter10_lr01\", ctx=ctx)\n",
    "train_ds = MyArrayDataset(load_all_data_label([arrayds_dir + 'origin.ndarray']), transform=_transform_test)\n",
    "\n",
    "train_data = gluon.data.DataLoader(train_ds, 128, shuffle=False, num_workers=1)\n",
    "diffs, losses, acc, MSE, SNR = get_info(train_data, net, False)\n",
    "print \"diff(mean, max, min, std):\", statistic(diffs)\n",
    "print \"loss(mean, max, min, std):\", statistic(losses)\n",
    "print \"MSE(mean, max, min, std):\", statistic(MSE)\n",
    "print \"SNR(mean, max, min, std):\", statistic(SNR)\n",
    "print \"acc\", acc\n",
    "\n",
    "train_ds = MyArrayDataset(load_all_data_label([arrayds_dir + 'origin.ndarray']), transform=_transform_test)\n",
    "train_data = gluon.data.DataLoader(train_ds, 128, shuffle=True, num_workers=1)\n",
    "diffs, losses, acc, MSE, SNR = get_info(train_data, net, False)\n",
    "print \"diff(mean, max, min, std):\", statistic(diffs)\n",
    "print \"loss(mean, max, min, std):\", statistic(losses)\n",
    "print \"MSE(mean, max, min, std):\", statistic(MSE)\n",
    "print \"SNR(mean, max, min, std):\", statistic(SNR)\n",
    "print \"acc\", acc"
   ]
  },
  {
   "cell_type": "code",
   "execution_count": 10,
   "metadata": {
    "ExecuteTime": {
     "end_time": "2018-03-24T06:43:56.769255Z",
     "start_time": "2018-03-24T06:43:52.610620Z"
    }
   },
   "outputs": [
    {
     "name": "stdout",
     "output_type": "stream",
     "text": [
      "0.443026\n",
      "0.282759\n",
      "0.443026\n"
     ]
    },
    {
     "data": {
      "text/plain": [
       "0.12312104430379747"
      ]
     },
     "execution_count": 10,
     "metadata": {},
     "output_type": "execute_result"
    }
   ],
   "source": [
    "net.load_params(\"../../models/resnet18_me_200e\", ctx=ctx)\n",
    "print net.net[1].params.get('running_mean').data()[0].asscalar()\n",
    "bncontrol = BNControl(net.net)\n",
    "bncontrol.store()\n",
    "net.load_params(\"../../models/resnet18_me_backgrad_prob_online_iter10_lr01\", ctx=ctx)\n",
    "print net.net[1].params.get('running_mean').data()[0].asscalar()\n",
    "bncontrol.load()\n",
    "print net.net[1].params.get('running_mean').data()[0].asscalar()\n",
    "\n",
    "test_ds = gluon.data.vision.datasets.CIFAR10(train=False, transform=_transform_test)\n",
    "test_data = gluon.data.DataLoader(test_ds, 128, shuffle=False, num_workers=1)\n",
    "utils.evaluate_accuracy(test_data, net, ctx)"
   ]
  },
  {
   "cell_type": "code",
   "execution_count": 12,
   "metadata": {
    "ExecuteTime": {
     "end_time": "2018-03-24T06:46:01.898485Z",
     "start_time": "2018-03-24T06:45:37.182781Z"
    }
   },
   "outputs": [
    {
     "name": "stdout",
     "output_type": "stream",
     "text": [
      "0.912875791139\n",
      "1.0\n"
     ]
    }
   ],
   "source": [
    "net.load_params(\"../../models/resnet18_me_backgrad_prob_online_iter10_lr01\", ctx=ctx)\n",
    "test_ds = gluon.data.vision.datasets.CIFAR10(train=False, transform=_transform_test)\n",
    "test_data = gluon.data.DataLoader(test_ds, 128, shuffle=False, num_workers=1)\n",
    "print utils.evaluate_accuracy(test_data, net, ctx)\n",
    "\n",
    "train_ds = gluon.data.vision.datasets.CIFAR10(train=True, transform=_transform_test)\n",
    "train_data = gluon.data.DataLoader(train_ds, 128, shuffle=False, num_workers=1)\n",
    "print utils.evaluate_accuracy(train_data, net, ctx)"
   ]
  },
  {
   "cell_type": "markdown",
   "metadata": {},
   "source": [
    "### 4.2.8 [shuffle=True, DA=DA1] differnet net acc on backgrad_iter10"
   ]
  },
  {
   "cell_type": "code",
   "execution_count": 6,
   "metadata": {
    "ExecuteTime": {
     "end_time": "2018-03-24T15:23:38.018179Z",
     "start_time": "2018-03-24T15:22:47.734349Z"
    }
   },
   "outputs": [
    {
     "name": "stdout",
     "output_type": "stream",
     "text": [
      "backgrad image acc for origin net:  0.44501759437\n",
      "backgrad image acc for net trained with backgrad_iter10:  1.0\n",
      "backgrad image acc for net trained with backgrad_iter15:  0.999580134357\n",
      "backgrad image acc for net trained online:  0.994101887396\n"
     ]
    }
   ],
   "source": [
    "train_data, valid_data = data_loader(32, transform_train_DA1, num_workers=4, \n",
    "                                     pathes=[arrayds_dir + 'backgrad_resnet18_me_200e_iter10.ndarray']\n",
    "                                     , arrayds=True)\n",
    "\n",
    "net = ResNet(10)\n",
    "net.initialize(ctx=ctx)\n",
    "net.hybridize()\n",
    "\n",
    "net.load_params(\"../../models/resnet18_me_200e\", ctx=ctx)\n",
    "print \"backgrad image acc for origin net: \", utils.evaluate_accuracy(train_data, net, ctx)\n",
    "\n",
    "net.load_params(\"../../models/resnet18_me_200e_backgrad_iter10\", ctx=ctx)\n",
    "print \"backgrad image acc for net trained with backgrad_iter10: \", utils.evaluate_accuracy(train_data, net, ctx)\n",
    "\n",
    "net.load_params(\"../../models/resnet18_me_200e_backgrad\", ctx=ctx) # iter15\n",
    "print \"backgrad image acc for net trained with backgrad_iter15: \", utils.evaluate_accuracy(train_data, net, ctx)\n",
    "\n",
    "net.load_params(\"../../models/resnet18_me_backgrad_prob_online_iter10_lr01\", ctx=ctx)\n",
    "print \"backgrad image acc for net trained online: \", utils.evaluate_accuracy(train_data, net, ctx)"
   ]
  },
  {
   "cell_type": "markdown",
   "metadata": {},
   "source": [
    "## 4.1 "
   ]
  },
  {
   "cell_type": "code",
   "execution_count": 8,
   "metadata": {
    "ExecuteTime": {
     "end_time": "2018-03-22T16:03:44.692902Z",
     "start_time": "2018-03-22T15:49:57.458618Z"
    }
   },
   "outputs": [
    {
     "name": "stdout",
     "output_type": "stream",
     "text": [
      "(0.2932474, 4.0767694, 0.016911503, 0.61364907)\n",
      "(-0.6167233, 0.0, -22.534924, 2.1686599)\n",
      "0.89646\n",
      "(0.29009947, 4.23594, 0.017781951, 0.61082745)\n",
      "(-0.6107738, 0.0, -22.301769, 2.1574011)\n",
      "0.89706\n",
      "(0.28961611, 4.2609825, 0.010624166, 0.60940492)\n",
      "(-0.60879016, 0.0, -23.472025, 2.1605883)\n",
      "0.89796\n",
      "(0.29422826, 4.1573906, 0.0146256, 0.61334789)\n",
      "(-0.61715353, 0.0, -22.786285, 2.1724756)\n",
      "0.89658\n"
     ]
    }
   ],
   "source": [
    "train_data = gluon.data.DataLoader(train_ds, 128, shuffle=True, num_workers=1)\n",
    "diffs, losses, acc = get_info(train_data, net, False)\n",
    "print statistic(diffs)\n",
    "print statistic(losses)\n",
    "print acc\n",
    "\n",
    "diffs, losses, acc = get_info(train_data, net, False)\n",
    "print statistic(diffs)\n",
    "print statistic(losses)\n",
    "print acc\n",
    "\n",
    "diffs, losses, acc = get_info(train_data, net, False)\n",
    "print statistic(diffs)\n",
    "print statistic(losses)\n",
    "print acc\n",
    "\n",
    "diffs, losses, acc = get_info(train_data, net, False)\n",
    "print statistic(diffs)\n",
    "print statistic(losses)\n",
    "print acc"
   ]
  },
  {
   "cell_type": "code",
   "execution_count": 25,
   "metadata": {
    "ExecuteTime": {
     "end_time": "2018-03-22T09:18:22.651522Z",
     "start_time": "2018-03-22T09:18:22.282062Z"
    }
   },
   "outputs": [
    {
     "name": "stdout",
     "output_type": "stream",
     "text": [
      "(1.82593, 2.6120927, 1.2278969, 0.50473166)\n",
      "(-9.6479769, -0.00010251474, -18.700983, 7.156548)\n",
      "\n",
      "(0.46028557, 1.4883239, 0.21165828, 0.42842653)\n",
      "(-0.59462869, -3.2186456e-06, -4.6506271, 1.405283)\n",
      "\n",
      "\n",
      "[ 0.11142377]\n",
      "<NDArray 1 @cpu(0)>\n"
     ]
    }
   ],
   "source": [
    "train_ds = MyArrayDataset(load_all_data_label([arrayds_dir + 'origin.ndarray']), transform=_transform_test)\n",
    "\n",
    "data, label = load_data(range(10))\n",
    "backgrad_data, (_loss, ) = generate_backgrad_data(net, data.copy(), label, max_iters=10, lr=0.1, clip=False)\n",
    "diff = nd.sqrt(nd.sum((backgrad_data - data) ** 2, axis=0, exclude=True)).asnumpy()\n",
    "print statistic(diff)\n",
    "print statistic(_loss.asnumpy())\n",
    "\n",
    "print \n",
    "data, label = load_data(range(1, 50000, 5000))\n",
    "backgrad_data, (_loss, ) = generate_backgrad_data(net, data.copy(), label, max_iters=10, lr=0.1, clip=False)\n",
    "diff = nd.sqrt(nd.sum((backgrad_data - data) ** 2, axis=0, exclude=True)).asnumpy()\n",
    "print statistic(diff)\n",
    "print statistic(_loss.asnumpy())\n",
    "print \n",
    "\n",
    "print nd.mean(train_ds[1][0])"
   ]
  },
  {
   "cell_type": "code",
   "execution_count": 26,
   "metadata": {
    "ExecuteTime": {
     "end_time": "2018-03-22T09:18:27.741336Z",
     "start_time": "2018-03-22T09:18:26.966235Z"
    }
   },
   "outputs": [
    {
     "name": "stdout",
     "output_type": "stream",
     "text": [
      "(0.013733773, 0.059736222, 0.0048506195, 0.016004296)\n",
      "(-0.0029414697, -6.7949063e-06, -0.0155313, 0.004721269)\n",
      "\n",
      "(0.821298, 2.4579701, 0.32062668, 0.69196665)\n",
      "(-1.3770918, -2.5033919e-06, -7.7325082, 2.4248507)\n",
      "\n",
      "\n",
      "[ 0.18823838]\n",
      "<NDArray 1 @cpu(0)>\n"
     ]
    }
   ],
   "source": [
    "train_ds = gluon.data.vision.datasets.CIFAR10(train=True, transform=_transform_test)\n",
    "\n",
    "data, label = load_data(range(10))\n",
    "backgrad_data, (_loss, ) = generate_backgrad_data(net, data.copy(), label, max_iters=10, lr=0.1, clip=False)\n",
    "diff = nd.sqrt(nd.sum((backgrad_data - data) ** 2, axis=0, exclude=True)).asnumpy()\n",
    "print statistic(diff)\n",
    "print statistic(_loss.asnumpy())\n",
    "\n",
    "print \n",
    "data, label = load_data(range(1, 50000, 5000))\n",
    "backgrad_data, (_loss, ) = generate_backgrad_data(net, data.copy(), label, max_iters=10, lr=0.1, clip=False)\n",
    "diff = nd.sqrt(nd.sum((backgrad_data - data) ** 2, axis=0, exclude=True)).asnumpy()\n",
    "print statistic(diff)\n",
    "print statistic(_loss.asnumpy())\n",
    "print \n",
    "print nd.mean(train_ds[1][0])"
   ]
  },
  {
   "cell_type": "markdown",
   "metadata": {
    "collapsed": true
   },
   "source": [
    "# 5. visualize\n"
   ]
  },
  {
   "cell_type": "code",
   "execution_count": 72,
   "metadata": {
    "ExecuteTime": {
     "end_time": "2018-03-22T07:25:34.959815Z",
     "start_time": "2018-03-22T07:25:30.844857Z"
    },
    "collapsed": true
   },
   "outputs": [],
   "source": [
    "train_ds = MyArrayDataset(load_all_data_label([arrayds_dir + 'origin.ndarray']), transform=_transform_test)\n",
    "train_data = gluon.data.DataLoader(train_ds, 128, shuffle=False, num_workers=0)\n",
    "\n",
    "net = ResNet(10)\n",
    "net.load_params('../../models/resnet18_me_backgrad_prob_online_iter10_lr01', ctx=ctx)\n",
    "loss_f = gluon.loss.SoftmaxCrossEntropyLoss()"
   ]
  },
  {
   "cell_type": "code",
   "execution_count": 75,
   "metadata": {
    "ExecuteTime": {
     "end_time": "2018-03-22T07:26:07.224557Z",
     "start_time": "2018-03-22T07:26:05.360939Z"
    }
   },
   "outputs": [
    {
     "data": {
      "image/png": "[encoded data removed]",
      "text/plain": [
       "<matplotlib.figure.Figure at 0x7f39d0d11c10>"
      ]
     },
     "metadata": {},
     "output_type": "display_data"
    },
    {
     "data": {
      "image/png": "[encoded data removed]",
      "text/plain": [
       "<matplotlib.figure.Figure at 0x7f39d0d39950>"
      ]
     },
     "metadata": {},
     "output_type": "display_data"
    },
    {
     "data": {
      "image/png": "[encoded data removed]",
      "text/plain": [
       "<matplotlib.figure.Figure at 0x7f39d032e310>"
      ]
     },
     "metadata": {},
     "output_type": "display_data"
    },
    {
     "name": "stdout",
     "output_type": "stream",
     "text": [
      "\n",
      "[ 0.32488793]\n",
      "<NDArray 1 @gpu(0)> \n",
      "[  4.76837158e-07]\n",
      "<NDArray 1 @gpu(0)> \n",
      "[ -9.86912441e+00  -2.08482239e-03  -6.36544371e+00  -7.56097026e-04\n",
      "  -1.29099569e+01  -1.63791790e+01  -8.77298641e+00  -1.67165184e+01\n",
      "  -9.67356682e+00  -3.26103444e-04  -9.58320904e+00  -1.27439041e+01\n",
      "  -1.47055826e+01  -1.85242958e+01  -2.11743259e+01  -5.57029038e-04\n",
      "  -9.45017529e+00  -1.07783480e+01  -6.61185198e-03  -1.61796017e+01\n",
      "  -2.14909821e+01  -4.09990692e+00  -1.77345276e-02  -1.64930267e+01\n",
      "  -8.31496611e-04  -2.30649662e+01  -4.13528204e+00  -1.24051437e+01\n",
      "  -8.38707161e+00  -2.73827553e+00  -1.57833710e+01  -3.25388421e-04\n",
      "  -1.94909859e+01  -1.34767847e+01  -1.42282009e+01  -9.94319153e+00\n",
      "  -1.96462727e+01  -5.51516628e+00  -2.70382268e-03  -1.68530083e+01\n",
      "  -1.49607754e+01  -1.13403902e+01  -9.80652523e+00  -1.75223160e+01\n",
      "  -1.51741915e-04  -1.27307215e+01  -1.48830795e+01  -1.64197445e+01\n",
      "  -6.47648470e-03  -1.10383692e+01  -1.94722080e+01  -4.07082653e+00\n",
      "  -8.83895683e+00  -4.58383512e+00  -1.86040936e+01  -1.02753391e+01\n",
      "  -3.29559378e-04  -4.02919286e-05  -2.07684898e+01  -1.65144348e+01\n",
      "  -1.16158924e+01  -2.30142078e+01  -1.86177139e+01  -1.32702522e+01\n",
      "  -6.05715942e+00  -4.74441731e-05  -1.09182701e+01  -1.95311146e+01\n",
      "  -6.72616482e+00  -1.28061438e+01  -2.09428792e-04  -1.44656382e+01\n",
      "  -3.98686624e+00  -1.66283135e-04  -3.04530740e+00  -7.21521235e+00\n",
      "  -1.84444485e+01  -2.06122742e+01  -2.20933666e+01  -4.36833811e+00\n",
      "  -1.49792681e+01  -1.63253994e+01  -1.73055744e+01  -1.17546148e+01\n",
      "  -1.26827431e+01  -2.15425282e+01  -1.95872345e+01  -1.67864094e+01\n",
      "  -1.50669191e-04  -1.19446821e+01  -1.35306606e+01  -4.03680373e-04\n",
      "  -4.21397854e-03  -1.00563993e+01  -7.61031961e+00  -9.75938702e+00\n",
      "  -1.29775554e-01  -6.56175753e-03  -1.94194298e+01  -1.57201128e+01\n",
      "  -1.31599150e+01  -1.00072651e+01  -9.34557174e-05  -3.39976358e+00\n",
      "  -9.06381416e+00  -1.74719658e+01  -4.46999911e-03  -1.55556030e-04\n",
      "  -1.88213759e-04  -9.06208611e+00  -1.92823315e+01  -6.32981319e-05\n",
      "  -6.61031250e-03  -1.23263607e+01  -1.14244871e+01  -1.84362125e+01\n",
      "  -2.39626732e+01  -5.71273034e-03  -1.89901752e+01  -1.53922186e+01\n",
      "  -1.55733004e+01  -1.00926123e+01  -1.18033791e+01  -1.88757706e+01\n",
      "  -1.98310566e+01  -2.08475321e-04  -1.15925274e+01  -1.32994423e+01]\n",
      "<NDArray 128 @gpu(0)>\n"
     ]
    }
   ],
   "source": [
    "for data, label in train_data:\n",
    "    data = data.as_in_context(ctx)\n",
    "    label = label.as_in_context(ctx)\n",
    "    break\n",
    "    \n",
    "show_data(data[:10], False)\n",
    "backgrad_data, (loss,_, _) = generate_backgrad_data(net, data.copy(), label, max_iters=10, lr=0.1, iter_log=False, clip=False)\n",
    "show_data(backgrad_data[:10], False)\n",
    "diff = nd.abs(data[:10] - backgrad_data[:10])\n",
    "show_data(diff * 255, False)\n",
    "print nd.max(diff), nd.min(diff), loss"
   ]
  },
  {
   "cell_type": "code",
   "execution_count": 77,
   "metadata": {
    "ExecuteTime": {
     "end_time": "2018-03-22T07:26:39.196926Z",
     "start_time": "2018-03-22T07:26:37.434069Z"
    }
   },
   "outputs": [
    {
     "data": {
      "image/png": "[encoded data removed]",
      "text/plain": [
       "<matplotlib.figure.Figure at 0x7f39d00e04d0>"
      ]
     },
     "metadata": {},
     "output_type": "display_data"
    },
    {
     "data": {
      "image/png": "[encoded data removed]",
      "text/plain": [
       "<matplotlib.figure.Figure at 0x7f39c84e25d0>"
      ]
     },
     "metadata": {},
     "output_type": "display_data"
    },
    {
     "data": {
      "image/png": "[encoded data removed]",
      "text/plain": [
       "<matplotlib.figure.Figure at 0x7f39d8382490>"
      ]
     },
     "metadata": {},
     "output_type": "display_data"
    },
    {
     "name": "stdout",
     "output_type": "stream",
     "text": [
      "\n",
      "[ 0.40208346]\n",
      "<NDArray 1 @gpu(0)> \n",
      "[ 0.]\n",
      "<NDArray 1 @gpu(0)> \n",
      "[ -4.17231649e-06  -1.72957720e-04  -9.14293487e-05  -7.73375416e+00\n",
      "  -1.53792789e-03   0.00000000e+00  -6.68036318e+00  -5.66346693e+00\n",
      "  -9.75819156e-02  -7.23457837e-04  -3.77886317e-05  -1.07288304e-06\n",
      "  -2.74180979e-06  -4.30610438e-04  -4.88756905e-06  -3.21864559e-06\n",
      "  -1.14440263e-05  -1.26830637e-04  -6.37225201e-03  -9.22135368e-04\n",
      "  -9.26941633e-03  -1.20619899e-02  -2.60080851e-04  -1.11335277e-04\n",
      "  -4.24994668e-03  -6.57938013e-04  -2.63326359e+00  -5.48212440e-04\n",
      "  -2.76050618e-04  -5.17591950e-04  -1.57173071e-03  -1.27175020e-03\n",
      "  -1.64507474e-05  -7.57645583e-04  -1.00264475e-02  -3.29549797e-02\n",
      "   0.00000000e+00  -2.90832186e+00  -1.75051737e+00  -3.63665894e-02\n",
      "  -5.96046277e-07  -5.96046277e-07  -3.37067060e-04  -1.36008544e-04\n",
      "  -6.64847554e-04  -1.73132657e-03  -9.41748931e-06  -8.22540733e-06\n",
      "  -6.19100581e-04  -8.40046257e-03  -3.93389882e-06  -1.14672759e-04\n",
      "  -1.43051045e-06  -1.68190163e-04  -2.62260096e-06  -1.18367818e-04\n",
      "  -2.41481494e-02  -7.40947248e-03  -6.48169592e-03  -5.22409499e-01\n",
      "  -1.92876780e+00  -3.57627812e-07  -1.54971951e-06  -2.14576494e-06\n",
      "  -5.36870384e+00  -1.13248179e-05  -2.26710370e-04  -2.58680811e-05\n",
      "  -1.30048880e-04  -2.70601431e-05  -5.96046277e-07  -9.88048840e+00\n",
      "  -5.28868288e-02  -2.58647394e-03  -6.31491980e-03  -7.11842999e-02\n",
      "  -7.46637535e+00  -3.43421921e-02  -6.89305291e-02  -1.33128557e-02\n",
      "  -2.58680811e-05  -2.94761121e-04  -3.99368548e+00  -1.31129354e-05\n",
      "  -1.43051045e-06  -3.52201430e-04  -1.19209282e-07  -2.73966677e-02\n",
      "  -3.44217173e-04  -1.78797042e-03  -1.27813667e-02  -7.93627167e+00\n",
      "  -2.69722939e-02  -1.07492832e-03  -9.18443315e-04  -6.07965512e-06\n",
      "  -4.48910566e-03  -2.82522033e-05  -5.65915322e-03  -1.18248623e-04\n",
      "  -2.58671190e-03  -1.74268789e-04  -3.53004956e+00  -2.25303011e-05\n",
      "  -1.20400655e-05  -2.66030896e-03  -6.91411469e-06  -2.59503489e-03\n",
      "  -5.74572259e-05  -6.31807234e-06  -4.78017828e-05  -4.76837045e-07\n",
      "  -1.28238536e-02  -1.29452907e-04  -1.20031298e-03  -1.75236128e-05\n",
      "  -2.22300616e-04  -6.48453832e-03  -5.96044674e-06  -3.33372795e-04\n",
      "  -8.22086877e-04  -2.62464071e-03  -8.98077036e-04  -1.19082986e-04\n",
      "  -4.76837045e-07  -9.17907346e-06  -1.03156576e+01  -9.89432192e-06]\n",
      "<NDArray 128 @gpu(0)>\n"
     ]
    }
   ],
   "source": [
    "train_data = gluon.data.DataLoader(train_ds, 128, shuffle=True, num_workers=0)\n",
    "for data, label in train_data:\n",
    "    data = data.as_in_context(ctx)\n",
    "    label = label.as_in_context(ctx)\n",
    "    break\n",
    "    \n",
    "show_data(data[:10], False)\n",
    "backgrad_data, (loss,_, _) = generate_backgrad_data(net, data.copy(), label, max_iters=10, lr=0.1, iter_log=False, clip=False)\n",
    "show_data(backgrad_data[:10], False)\n",
    "diff = nd.abs(data[:10] - backgrad_data[:10])\n",
    "show_data(diff * 255, False)\n",
    "print nd.max(diff), nd.min(diff), loss"
   ]
  },
  {
   "cell_type": "code",
   "execution_count": null,
   "metadata": {
    "collapsed": true
   },
   "outputs": [],
   "source": []
  }
 ],
 "metadata": {
  "kernelspec": {
   "display_name": "Python 2",
   "language": "python",
   "name": "python2"
  },
  "language_info": {
   "codemirror_mode": {
    "name": "ipython",
    "version": 2
   },
   "file_extension": ".py",
   "mimetype": "text/x-python",
   "name": "python",
   "nbconvert_exporter": "python",
   "pygments_lexer": "ipython2",
   "version": "2.7.12"
  },
  "ssap_exp_config": {
   "error_alert": "Error Occurs!",
   "initial": [],
   "max_iteration": 1000,
   "recv_id": "",
   "running": [],
   "summary": [],
   "version": "1.1.1"
  }
 },
 "nbformat": 4,
 "nbformat_minor": 1
}
