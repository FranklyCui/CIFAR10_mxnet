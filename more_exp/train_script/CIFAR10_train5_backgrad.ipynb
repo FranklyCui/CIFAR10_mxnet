{
 "cells": [
  {
   "cell_type": "markdown",
   "metadata": {},
   "source": [
    "# 1. import needed package"
   ]
  },
  {
   "cell_type": "code",
   "execution_count": 1,
   "metadata": {
    "ExecuteTime": {
     "end_time": "2018-03-06T07:41:47.239591Z",
     "start_time": "2018-03-06T07:41:40.885133Z"
    },
    "collapsed": true
   },
   "outputs": [],
   "source": [
    "from mxnet import autograd\n",
    "from mxnet import gluon\n",
    "from mxnet import image\n",
    "from mxnet import init\n",
    "from mxnet import nd\n",
    "from mxnet.gluon.model_zoo import vision as model\n",
    "from mxnet.gluon import nn\n",
    "from mxnet.gluon.data import vision\n",
    "import numpy as np\n",
    "import random\n",
    "import mxnet as mx\n",
    "import sys\n",
    "sys.path.insert(0, '../../utils')\n",
    "from netlib import *\n",
    "import os\n",
    "import shutil\n",
    "\n",
    "ctx = mx.gpu(0)\n",
    "\n",
    "def mkdir_if_not_exist(path):\n",
    "    if not os.path.exists(os.path.join(*path)):\n",
    "        os.makedirs(os.path.join(*path))"
   ]
  },
  {
   "cell_type": "markdown",
   "metadata": {},
   "source": [
    "# 2. data loader, data argument"
   ]
  },
  {
   "cell_type": "code",
   "execution_count": 2,
   "metadata": {
    "ExecuteTime": {
     "end_time": "2018-03-06T07:41:47.259917Z",
     "start_time": "2018-03-06T07:41:47.243377Z"
    },
    "collapsed": true
   },
   "outputs": [],
   "source": [
    "\"\"\"\n",
    "data loader\n",
    "\"\"\"\n",
    "def _transform_test(data, label):\n",
    "    im = data.astype('float32') / 255\n",
    "    auglist = image.CreateAugmenter(data_shape=(3, 32, 32), mean=np.array([0.4914, 0.4822, 0.4465]),\n",
    "                                   std=np.array([0.2023, 0.1994, 0.2010]))\n",
    "    for aug in auglist:\n",
    "        im = aug(im)\n",
    "    im = nd.transpose(im, (2, 0, 1))\n",
    "    return im, nd.array([label]).astype('float32')\n",
    "\n",
    "\n",
    "def data_loader(batch_size, transform_train, transform_test=None, num_workers=0):\n",
    "    if transform_train is None:\n",
    "        transform_train = _transform_train\n",
    "    if transform_test is None:\n",
    "        transform_test = _transform_test\n",
    "        \n",
    "    # flag=1 mean 3 channel image\n",
    "    train_ds = gluon.data.vision.datasets.CIFAR10(root='~/.mxnet/datasets/cifar10', train=True, transform=transform_train)\n",
    "    test_ds = gluon.data.vision.datasets.CIFAR10(root='~/.mxnet/datasets/cifar10', train=False, transform=transform_test)\n",
    "\n",
    "    loader = gluon.data.DataLoader\n",
    "    train_data = loader(train_ds, batch_size, shuffle=True, last_batch='keep', num_workers=num_workers)\n",
    "    test_data = loader(test_ds, batch_size, shuffle=False, last_batch='keep', num_workers=num_workers)\n",
    "    return train_data, test_data"
   ]
  },
  {
   "cell_type": "code",
   "execution_count": 3,
   "metadata": {
    "ExecuteTime": {
     "end_time": "2018-03-06T07:41:47.384350Z",
     "start_time": "2018-03-06T07:41:47.261670Z"
    },
    "collapsed": true
   },
   "outputs": [],
   "source": [
    "\"\"\"\n",
    "data argument\n",
    "\"\"\"\n",
    "def transform_train_DA1(data, label):\n",
    "    im = data.asnumpy()\n",
    "    im = np.pad(im, ((4, 4), (4, 4), (0, 0)), mode='constant', constant_values=0)\n",
    "    im = nd.array(im, dtype='float32') / 255\n",
    "    auglist = image.CreateAugmenter(data_shape=(3, 32, 32), resize=0, rand_mirror=True,\n",
    "                                    rand_crop=True,\n",
    "                                   mean=np.array([0.4914, 0.4822, 0.4465]),\n",
    "                                   std=np.array([0.2023, 0.1994, 0.2010]))\n",
    "    for aug in auglist:\n",
    "        im = aug(im)\n",
    "    im = nd.transpose(im, (2, 0, 1)) # channel x width x height\n",
    "    return im, nd.array([label]).astype('float32')\n",
    "\n",
    "\n",
    "def transform_train_DA2(data, label):\n",
    "    im = data.astype(np.float32) / 255\n",
    "    auglist = [image.RandomSizedCropAug(size=(32, 32), min_area=0.49, ratio=(0.5, 2))]\n",
    "    _aug = image.CreateAugmenter(data_shape=(3, 32, 32), resize=0, \n",
    "                                rand_crop=False, rand_resize=False, rand_mirror=True,\n",
    "                                mean=np.array([0.4914, 0.4822, 0.4465]),\n",
    "                                std=np.array([0.2023, 0.1994, 0.2010]),\n",
    "                                brightness=0.3, contrast=0.3, saturation=0.3, hue=0.3,\n",
    "                                pca_noise=0.01, rand_gray=0, inter_method=2)\n",
    "    auglist.append(image.RandomOrderAug(_aug))\n",
    "    \n",
    "    for aug in auglist:\n",
    "        im = aug(im)\n",
    "    \n",
    "    im = nd.transpose(im, (2, 0, 1))\n",
    "    return (im, nd.array([label]).asscalar().astype('float32'))\n",
    "    \n",
    "\n",
    "random_clip_rate = 0.3\n",
    "def transform_train_DA3(data, label):\n",
    "    im = data.astype(np.float32) / 255\n",
    "    auglist = [image.RandomSizedCropAug(size=(32, 32), min_area=0.49, ratio=(0.5, 2))]\n",
    "    _aug = image.CreateAugmenter(data_shape=(3, 32, 32), resize=0, \n",
    "                                rand_crop=False, rand_resize=False, rand_mirror=True,\n",
    "#                                mean=np.array([0.4914, 0.4822, 0.4465]),\n",
    "#                                std=np.array([0.2023, 0.1994, 0.2010]),\n",
    "                                brightness=0.3, contrast=0.3, saturation=0.3, hue=0.3,\n",
    "                                pca_noise=0.01, rand_gray=0, inter_method=2)\n",
    "    auglist.append(image.RandomOrderAug(_aug))\n",
    "\n",
    "    for aug in auglist:\n",
    "        im = aug(im)\n",
    "        \n",
    "    if random.random() > random_clip_rate:\n",
    "        im = im.clip(0, 1)\n",
    "    _aug = image.ColorNormalizeAug(mean=np.array([0.4914, 0.4822, 0.4465]),\n",
    "                   std=np.array([0.2023, 0.1994, 0.2010]),)\n",
    "    im = _aug(im)\n",
    "    \n",
    "    im = nd.transpose(im, (2, 0, 1))\n",
    "    return (im, nd.array([label]).asscalar().astype('float32'))"
   ]
  },
  {
   "cell_type": "markdown",
   "metadata": {},
   "source": [
    "# 3 data aurgument: mixup\n",
    "1. mixup define\n",
    "2. mixup visualize"
   ]
  },
  {
   "cell_type": "markdown",
   "metadata": {},
   "source": [
    "## 3.1 mixup: define"
   ]
  },
  {
   "cell_type": "code",
   "execution_count": 4,
   "metadata": {
    "ExecuteTime": {
     "end_time": "2018-03-06T07:41:47.481585Z",
     "start_time": "2018-03-06T07:41:47.387888Z"
    },
    "collapsed": true
   },
   "outputs": [],
   "source": [
    "import numpy as np\n",
    "def mixup(x1, y1, x2, y2, alpha, num_class):\n",
    "    y1 = nd.one_hot(y1, num_class)\n",
    "    y2 = nd.one_hot(y2, num_class)\n",
    "    \n",
    "    lam = np.random.beta(alpha, alpha)\n",
    "    x = lam * x1 + (1 - lam) * x2\n",
    "    y = lam * y1 + (1 - lam) * y2\n",
    "    return x, y"
   ]
  },
  {
   "cell_type": "markdown",
   "metadata": {},
   "source": [
    "## 3.2 mixup: visulize"
   ]
  },
  {
   "cell_type": "code",
   "execution_count": 5,
   "metadata": {
    "ExecuteTime": {
     "end_time": "2018-03-06T07:41:49.403150Z",
     "start_time": "2018-03-06T07:41:47.485548Z"
    },
    "collapsed": true
   },
   "outputs": [],
   "source": [
    "from mxnet import gluon\n",
    "from mxnet.gluon.model_zoo import vision as model\n",
    "from time import time\n",
    "batch_size = 32\n",
    "transform_train = _transform_test#transform_train_DA1\n",
    "train_data, test_data = data_loader(batch_size, transform_train)\n",
    "mixup_alpha = 1\n",
    "\n",
    "# for x1, y1 in train_data:\n",
    "#     for x2, y2 in mixup_train_data:\n",
    "#         data, label = mixup(x1, y1, x2, y2, mixup_alpha, 10)\n",
    "#         break\n",
    "#     break\n",
    "\n",
    "for x, y in train_data:\n",
    "    l = x.shape[0] / 2\n",
    "    data, label = mixup(x[:l], y[:l], x[l:2*l], y[l:2*l], mixup_alpha, 10)\n",
    "    break"
   ]
  },
  {
   "cell_type": "code",
   "execution_count": 6,
   "metadata": {
    "ExecuteTime": {
     "end_time": "2018-03-06T07:41:50.756581Z",
     "start_time": "2018-03-06T07:41:49.404331Z"
    }
   },
   "outputs": [
    {
     "data": {
      "image/png": "[encoded data removed]",
      "text/plain": [
       "<matplotlib.figure.Figure at 0x7fb3a5364990>"
      ]
     },
     "metadata": {},
     "output_type": "display_data"
    },
    {
     "name": "stdout",
     "output_type": "stream",
     "text": [
      "[(0, 'airplane'), (1, 'automobile'), (2, 'bird'), (3, 'cat'), (4, 'deer'), (5, 'dog'), (6, 'frog'), (7, 'horse'), (8, 'ship'), (9, 'truck')]\n",
      "\n",
      "[[[ 0.          0.          0.          0.18689434  0.          0.          0.\n",
      "    0.          0.81310564  0.        ]]\n",
      "\n",
      " [[ 0.          0.          0.          0.          0.18689434  0.          0.\n",
      "    0.          0.81310564  0.        ]]\n",
      "\n",
      " [[ 0.          0.18689434  0.          0.          0.          0.          0.\n",
      "    0.          0.81310564  0.        ]]\n",
      "\n",
      " [[ 0.81310564  0.          0.          0.          0.18689434  0.          0.\n",
      "    0.          0.          0.        ]]\n",
      "\n",
      " [[ 0.          0.          0.          0.          0.          0.18689434\n",
      "    0.81310564  0.          0.          0.        ]]\n",
      "\n",
      " [[ 0.          0.          0.          0.81310564  0.          0.\n",
      "    0.18689434  0.          0.          0.        ]]\n",
      "\n",
      " [[ 0.          0.81310564  0.          0.          0.18689434  0.          0.\n",
      "    0.          0.          0.        ]]\n",
      "\n",
      " [[ 0.          0.          0.          0.          0.          0.81310564\n",
      "    0.          0.          0.18689434  0.        ]]\n",
      "\n",
      " [[ 0.          0.          0.          0.          0.18689434  0.          0.\n",
      "    0.81310564  0.          0.        ]]\n",
      "\n",
      " [[ 0.          0.          0.          0.          0.81310564  0.          0.\n",
      "    0.18689434  0.          0.        ]]]\n",
      "<NDArray 10x1x10 @cpu(0)>\n"
     ]
    }
   ],
   "source": [
    "from cifar10_utils import show_images\n",
    "%matplotlib inline\n",
    "mean=np.array([0.4914, 0.4822, 0.4465])\n",
    "std=np.array([0.2023, 0.1994, 0.2010])\n",
    "images = data[:10].transpose((0, 2, 3, 1)).asnumpy()\n",
    "images = images * std + mean\n",
    "images = images.transpose((0, 3, 1, 2)) * 255\n",
    "show_images(images)\n",
    "#show_images(data[:9], rgb_mean=mean*255, std=std*255)\n",
    "\n",
    "print [(i, l) for i, l in enumerate(['airplane', 'automobile', 'bird', 'cat', 'deer', 'dog', 'frog', 'horse', 'ship', 'truck'])]\n",
    "print label[:10]"
   ]
  },
  {
   "cell_type": "markdown",
   "metadata": {},
   "source": [
    "## 3.3 mixup: train"
   ]
  },
  {
   "cell_type": "code",
   "execution_count": 7,
   "metadata": {
    "ExecuteTime": {
     "end_time": "2018-03-06T07:42:00.300259Z",
     "start_time": "2018-03-06T07:42:00.263039Z"
    },
    "collapsed": true
   },
   "outputs": [],
   "source": [
    "from time import time\n",
    "mixup_test = False\n",
    "\n",
    "if mixup_test:\n",
    "    net = ResNet164_v2(10)\n",
    "    net.collect_params().initialize(mx.init.Xavier(), ctx=ctx, force_reinit=True)\n",
    "    loss_f = gluon.loss.SoftmaxCrossEntropyLoss(sparse_label=False)\n",
    "\n",
    "    num_epochs = 1\n",
    "    learning_rate = 0.1\n",
    "    weight_decay = 1e-4\n",
    "\n",
    "    cur_time = time()\n",
    "    iters = 0\n",
    "    \"\"\"\n",
    "    data loader first time run will cost about 3x time than after run.\n",
    "    \"\"\"\n",
    "    for x1, y1 in train_data:\n",
    "        if iters % 100 == 0:\n",
    "            print iters, time() - cur_time\n",
    "        iters += 1\n",
    "    print \"cost time:\", time() - cur_time\n",
    "    print\n",
    "    cur_time = time()\n",
    "\n",
    "    iters = 0\n",
    "    trainer = gluon.Trainer(net.collect_params(), 'sgd', {'learning_rate': 0.1, 'momentum': 0.9, 'wd': 1e-4})\n",
    "    for x, y in train_data:\n",
    "        l = x.shape[0] / 2\n",
    "        data, label = mixup(x[:l], y[:l], x[l:2*l], y[l:2*l], mixup_alpha, 10)\n",
    "\n",
    "        with autograd.record():\n",
    "            output = net(data.as_in_context(ctx))\n",
    "            loss = loss_f(output, label.as_in_context(ctx))\n",
    "        loss.backward()\n",
    "        trainer.step(data.shape[0])\n",
    "\n",
    "        if iters % 100 == 0:\n",
    "            print iters, time() - cur_time, nd.mean(loss).asscalar()\n",
    "        iters += 1\n",
    "    print iters, time() - cur_time\n",
    "\n",
    "    # load data one by one batch\n",
    "    # iters = 0\n",
    "    # for x1, y1 in train_data:\n",
    "    #     for x2, y2 in mixup_train_data:\n",
    "    #         data, label = mixup(x1, y1, x2[:x1.shape[0]], y2[:y1.shape[0]], mixup_alpha, 10)\n",
    "    #         break\n",
    "    #     if iters % 100 == 0:\n",
    "    #         print iters, time() - cur_time\n",
    "    #     iters += 1\n",
    "    # print \"cost time:\", time() - cur_time\n",
    "    # print\n",
    "    # cur_time = time()\n",
    "\n",
    "    # zip will load all datas and then iterate them, too cost memory, will drop speed when memory over.\n",
    "    # iters = 0\n",
    "    # for (x1, y1), (x2, y2) in zip(train_data, mixup_train_data):\n",
    "    #     data, label = mixup(x1, y1, x2, y2, mixup_alpha, 10)\n",
    "    #     if iters % 100 == 0:\n",
    "    #         print iters, time() - cur_time#, nd.mean(loss).asscalar()\n",
    "    #     iters += 1\n",
    "    # print time() - cur_time"
   ]
  },
  {
   "cell_type": "markdown",
   "metadata": {},
   "source": [
    "# 3. data augment: back grad"
   ]
  },
  {
   "cell_type": "markdown",
   "metadata": {},
   "source": [
    "## 3.1 define a simple back grad method"
   ]
  },
  {
   "cell_type": "code",
   "execution_count": 21,
   "metadata": {
    "ExecuteTime": {
     "end_time": "2018-03-06T08:01:35.692417Z",
     "start_time": "2018-03-06T08:01:35.668832Z"
    },
    "collapsed": true
   },
   "outputs": [],
   "source": [
    "from cifar10_utils import show_images\n",
    "%matplotlib inline\n",
    "\n",
    "def SGD(data, lr):\n",
    "    data[:] = data - data.grad * lr\n",
    "    \n",
    "def show_data(data, clip=True):\n",
    "    mean=np.array([0.4914, 0.4822, 0.4465])\n",
    "    std=np.array([0.2023, 0.1994, 0.2010])\n",
    "    images = data[:10].transpose((0, 2, 3, 1)).asnumpy()\n",
    "    images = images * std + mean\n",
    "    images = images.transpose((0, 3, 1, 2)) * 255\n",
    "    if clip: \n",
    "        images = images.clip(0, 255)\n",
    "    show_images(images)\n",
    "    \n",
    "def generate_backgrad_data(net, data, label, max_iters=60, lr=0.1, iter_log=False, clip=True, combine_batch=False):\n",
    "    for iters in range(1, max_iters+1):\n",
    "        with autograd.record():\n",
    "            data.attach_grad()\n",
    "            output = net(data.as_in_context(ctx))\n",
    "            loss = -loss_f(output, label.as_in_context(ctx))\n",
    "        loss.backward()\n",
    "        \n",
    "        if iter_log and iters % 50 == 0:\n",
    "            show_data(data, clip)\n",
    "            print data[0, 0, :2, :10]\n",
    "            print data.grad[0, 0, :2, :10]\n",
    "        if iter_log and iters % 5 == 0:\n",
    "            print 'iter:', iters, 'loss:', nd.mean(loss).asscalar()\n",
    "        \n",
    "        SGD(data, lr)\n",
    "    return data"
   ]
  },
  {
   "cell_type": "markdown",
   "metadata": {},
   "source": [
    "## 3.2 view result"
   ]
  },
  {
   "cell_type": "code",
   "execution_count": 22,
   "metadata": {
    "ExecuteTime": {
     "end_time": "2018-03-06T08:01:36.704681Z",
     "start_time": "2018-03-06T08:01:36.552719Z"
    }
   },
   "outputs": [],
   "source": [
    "net = ResNet(10)\n",
    "net.load_params('../../models/resnet18_me_200e', ctx=ctx)\n",
    "loss_f = gluon.loss.SoftmaxCrossEntropyLoss()\n",
    "for data, label in train_data:\n",
    "    data = data.as_in_context(ctx)\n",
    "    label = label.as_in_context(ctx)\n",
    "    break"
   ]
  },
  {
   "cell_type": "code",
   "execution_count": 23,
   "metadata": {
    "ExecuteTime": {
     "end_time": "2018-03-06T08:01:43.401586Z",
     "start_time": "2018-03-06T08:01:40.400064Z"
    }
   },
   "outputs": [
    {
     "data": {
      "image/png": "[encoded data removed]",
      "text/plain": [
       "<matplotlib.figure.Figure at 0x7fb3a33aded0>"
      ]
     },
     "metadata": {},
     "output_type": "display_data"
    },
    {
     "name": "stdout",
     "output_type": "stream",
     "text": [
      "iter: 5 loss: -0.919129\n",
      "iter: 10 loss: -5.93718\n",
      "iter: 15 loss: -18.0934\n",
      "iter: 20 loss: -23.9718\n",
      "iter: 25 loss: -26.2919\n",
      "iter: 30 loss: -27.9747\n",
      "iter: 35 loss: -28.8903\n",
      "iter: 40 loss: -29.6111\n",
      "iter: 45 loss: -30.2203\n"
     ]
    },
    {
     "data": {
      "image/png": "[encoded data removed]",
      "text/plain": [
       "<matplotlib.figure.Figure at 0x7fb3a318bbd0>"
      ]
     },
     "metadata": {},
     "output_type": "display_data"
    },
    {
     "name": "stdout",
     "output_type": "stream",
     "text": [
      "\n",
      "[[ 1.0395118   1.59808159  1.57878518  1.67939901  1.55738461  1.49466276\n",
      "   1.17201972  1.18370032  1.1029613   1.04162097]\n",
      " [ 1.53976846  1.38116157  1.49177897  1.40779102  1.36130702  0.71075374\n",
      "   0.68673795  0.56346017  0.50520307  0.33980101]]\n",
      "<NDArray 2x10 @gpu(0)>\n",
      "\n",
      "[[ 0.00272366 -0.01202599 -0.00063458 -0.02437401  0.05392938 -0.02218094\n",
      "   0.02292476  0.00682752  0.00635326  0.01173221]\n",
      " [-0.01569999  0.00581998  0.00489836  0.02741691 -0.00991861  0.04216165\n",
      "  -0.03011114 -0.01270352  0.01562051  0.00022257]]\n",
      "<NDArray 2x10 @gpu(0)>\n",
      "iter: 50 loss: -30.7664\n",
      "iter: 55 loss: -31.069\n",
      "iter: 60 loss: -31.3907\n",
      "iter: 65 loss: -31.688\n",
      "iter: 70 loss: -31.9304\n",
      "iter: 75 loss: -32.1369\n",
      "iter: 80 loss: -32.3522\n",
      "iter: 85 loss: -32.5297\n",
      "iter: 90 loss: -32.7319\n",
      "iter: 95 loss: -32.8497\n"
     ]
    },
    {
     "data": {
      "image/png": "[encoded data removed]",
      "text/plain": [
       "<matplotlib.figure.Figure at 0x7fb3a2ff9690>"
      ]
     },
     "metadata": {},
     "output_type": "display_data"
    },
    {
     "name": "stdout",
     "output_type": "stream",
     "text": [
      "\n",
      "[[ 1.09848177  1.58430707  1.5895251   1.68661571  1.53188109  1.51253498\n",
      "   1.09437048  1.1512171   1.08241558  1.00046003]\n",
      " [ 1.56982756  1.39722633  1.46802592  1.34945309  1.33252215  0.71587306\n",
      "   0.82985437  0.63051939  0.51986891  0.4551051 ]]\n",
      "<NDArray 2x10 @gpu(0)>\n",
      "\n",
      "[[ -3.56941437e-03   1.12662800e-02  -1.37003595e-02  -9.69697721e-05\n",
      "   -1.05658099e-02   8.30635056e-03  -4.57734801e-03   1.78031940e-02\n",
      "   -1.24026742e-03   1.47219589e-02]\n",
      " [ -2.39958800e-03  -2.06433795e-02   2.68224720e-02  -2.12019421e-02\n",
      "    4.51219007e-02  -1.61984209e-02  -1.85393374e-02  -1.85584351e-02\n",
      "   -7.22179562e-03  -1.04619497e-02]]\n",
      "<NDArray 2x10 @gpu(0)>\n",
      "iter: 100 loss: -32.9947\n"
     ]
    }
   ],
   "source": [
    "show_data(data, False)\n",
    "backgrad_data = generate_backgrad_data(net, data.copy(), label, max_iters=100, lr=0.1, iter_log=True, clip=False)"
   ]
  },
  {
   "cell_type": "markdown",
   "metadata": {},
   "source": [
    "## 3.3 other implement"
   ]
  },
  {
   "cell_type": "code",
   "execution_count": null,
   "metadata": {
    "ExecuteTime": {
     "end_time": "2018-03-05T14:01:22.317933Z",
     "start_time": "2018-03-05T14:01:22.192616Z"
    },
    "collapsed": true
   },
   "outputs": [],
   "source": [
    "data_dict = gluon.ParameterDict()\n",
    "data_param = gluon.Parameter('data')\n",
    "data_param.set_data(data)\n",
    "data_dict.update({'data': data_param})\n",
    "data_dict['data'].set_data(data)\n",
    "trainer = gluon.Trainer(data_dict, 'sgd', {'learning_rate': 0.1, 'momentum': 0.9, 'wd': 1e-4})\n",
    "with autograd.record():\n",
    "    output = net(data.as_in_context(ctx))\n",
    "    loss = -loss_f(output, label.as_in_context(ctx))\n",
    "print data_dict['data'].data()\n",
    "loss.backward()\n",
    "#SGD(data, 0.1)\n",
    "import mxnet.optimizer as opt\n",
    "optimizer = opt.create('sgd', **{'learning_rate': 0.1, 'momentum': 0.9, 'wd': 1e-4})#, param_dict=param_dict)\n",
    "updater = opt.get_updater(optimizer)9"
   ]
  },
  {
   "cell_type": "markdown",
   "metadata": {},
   "source": [
    "# 4. define train function"
   ]
  },
  {
   "cell_type": "code",
   "execution_count": 11,
   "metadata": {
    "ExecuteTime": {
     "end_time": "2018-03-06T07:44:28.059399Z",
     "start_time": "2018-03-06T07:44:27.916103Z"
    },
    "collapsed": true
   },
   "outputs": [],
   "source": [
    "\"\"\"\n",
    "train\n",
    "\"\"\"\n",
    "import datetime\n",
    "import utils\n",
    "import sys\n",
    "from random import random\n",
    "\n",
    "def abs_mean(W):\n",
    "    return nd.mean(nd.abs(W)).asscalar()\n",
    "\n",
    "def in_list(e, l):\n",
    "    for i in l:\n",
    "        if i == e:\n",
    "            return True\n",
    "    else:\n",
    "        return False\n",
    "\n",
    "def train(net, train_data, valid_data, num_epochs, lr, lr_period, \n",
    "          lr_decay, wd, ctx, w_key, output_file=None, verbose=False, loss_f=gluon.loss.SoftmaxCrossEntropyLoss(), \n",
    "          use_mixup=False, mixup_alpha=0.2, back_grad_args=None):\n",
    "    \n",
    "    def train_batch(data, label, i, use_backgrad):\n",
    "        data = data.as_in_context(ctx)\n",
    "        label = label.as_in_context(ctx)\n",
    "        \n",
    "        # generate backgrad data\n",
    "        if use_backgrad:\n",
    "            args = back_grad_args\n",
    "            args['prob'] = args.get('prob', 1)      # prob to use back grad data argument to prove origin data is used.\n",
    "            if random() <= args['prob']:\n",
    "                args['max_iters'], args['lr'] = args.get('max_iters', 60), args.get('lr', 0.1)\n",
    "                data = generate_backgrad_data(args['net'], data, label, args['max_iters'], args['lr'], iter_log=False)\n",
    "                if args.has_key('show_iters') and i % args['show_iters'] == 0:\n",
    "                    show_data(data)\n",
    "                \n",
    "        with autograd.record():\n",
    "            output = net(data.as_in_context(ctx))\n",
    "            loss = loss_f(output, label)\n",
    "        loss.backward()\n",
    "        trainer.step(data.shape[0])\n",
    "\n",
    "        _loss = nd.mean(loss).asscalar()\n",
    "        if not use_mixup:\n",
    "            _acc = utils.accuracy(output, label)\n",
    "        else:\n",
    "            _acc = None\n",
    "\n",
    "        if verbose and i % 100 == 0:\n",
    "            print \" # iter\", i,\n",
    "            print \"loss %.5f\" % _loss, \n",
    "            if not use_mixup: print \"acc %.5f\" % _acc,\n",
    "            print \"w (\",\n",
    "            for k in w_key:\n",
    "                w = net.collect_params()[k]\n",
    "                print \"%.5f, \" % abs_mean(w.data()),\n",
    "            print \") g (\",\n",
    "            for k in w_key:\n",
    "                w = net.collect_params()[k]\n",
    "                print \"%.5f, \" % abs_mean(w.grad()),\n",
    "            print \")\"\n",
    "        return _loss, _acc\n",
    "            \n",
    "    if output_file is None:\n",
    "        output_file = sys.stdout\n",
    "        stdout = sys.stdout\n",
    "    else:\n",
    "        output_file = open(output_file, \"w\")\n",
    "        stdout = sys.stdout\n",
    "        sys.stdout = output_file\n",
    "    trainer = gluon.Trainer(net.collect_params(), 'sgd', {'learning_rate': lr, 'momentum': 0.9, 'wd': wd})\n",
    "    prev_time = datetime.datetime.now()\n",
    "    \n",
    "    if verbose:\n",
    "        print \" #\", utils.evaluate_accuracy(valid_data, net, ctx)\n",
    "    \n",
    "    i = 0\n",
    "    for epoch in range(num_epochs):\n",
    "        train_loss = 0.\n",
    "        train_acc = 0.\n",
    "        if in_list(epoch, lr_period):\n",
    "            trainer.set_learning_rate(trainer.learning_rate * lr_decay)\n",
    "        \n",
    "        # back grad\n",
    "        use_backgrad = False\n",
    "        if back_grad_args is not None:\n",
    "            args = back_grad_args\n",
    "            if args.has_key('take_turn'):\n",
    "                args['take_turn'] = not args['take_turn'] # only odd epoch(start 0) will use back grad\n",
    "\n",
    "            if (not args.has_key('take_turn')) or args['take_turn'] == True:\n",
    "                print \"# back grad turn.\" \n",
    "                use_backgrad = True\n",
    "        \n",
    "        # mixup\n",
    "        if not use_mixup:\n",
    "            for data, label in train_data:\n",
    "                _loss, _acc = train_batch(data, label, i, use_backgrad)\n",
    "                train_loss += _loss\n",
    "                train_acc += _acc\n",
    "                i += 1\n",
    "        else:\n",
    "            for x, y in train_data:\n",
    "                l = x.shape[0] / 2\n",
    "                data, label = mixup(x[:l], y[:l], x[l:2*l], y[l:2*l], mixup_alpha, 10)\n",
    "                _loss, _ = train_batch(data, label, i, use_backgrad)\n",
    "                train_loss += _loss\n",
    "                i += 1\n",
    "        \n",
    "        # log info\n",
    "        cur_time = datetime.datetime.now()\n",
    "        h, remainder = divmod((cur_time - prev_time).seconds, 3600)\n",
    "        m, s = divmod(remainder, 60)\n",
    "        time_str = \"Time %02d:%02d:%02d\" % (h, m, s)\n",
    "        \n",
    "        train_loss /= len(train_data)\n",
    "        train_acc /= len(train_data)\n",
    "        if train_acc < 1e-6:\n",
    "            train_acc = utils.evaluate_accuracy(train_data, net, ctx)\n",
    "        \n",
    "        if valid_data is not None:\n",
    "            valid_acc = utils.evaluate_accuracy(valid_data, net, ctx)\n",
    "            epoch_str = (\"epoch %d, loss %.5f, train_acc %.4f, valid_acc %.4f\" \n",
    "                         % (epoch, train_loss, train_acc, valid_acc))\n",
    "        else:\n",
    "            epoch_str = (\"epoch %d, loss %.5f, train_acc %.4f\"\n",
    "                        % (epoch, train_loss, train_acc))\n",
    "        prev_time = cur_time\n",
    "        output_file.write(epoch_str + \", \" + time_str + \",lr \" + str(trainer.learning_rate) + \"\\n\")\n",
    "        output_file.flush()  # to disk only when flush or close\n",
    "    if output_file != stdout:\n",
    "        sys.stdout = stdout\n",
    "        output_file.close()"
   ]
  },
  {
   "cell_type": "markdown",
   "metadata": {},
   "source": [
    "# 5. get net and do EXP"
   ]
  },
  {
   "cell_type": "markdown",
   "metadata": {},
   "source": [
    "## 5.1 baseline: general lr policy train my resnet18"
   ]
  },
  {
   "cell_type": "code",
   "execution_count": 9,
   "metadata": {
    "ExecuteTime": {
     "end_time": "2018-03-05T03:45:19.543171Z",
     "start_time": "2018-03-05T02:01:38.930989Z"
    },
    "scrolled": false
   },
   "outputs": [
    {
     "name": "stdout",
     "output_type": "stream",
     "text": [
      "epoch 0, loss 1.75249, train_acc 0.3416, valid_acc 0.4678, Time 00:00:31,lr 0.1\n",
      "epoch 1, loss 1.23604, train_acc 0.5568, valid_acc 0.5724, Time 00:00:32,lr 0.1\n",
      "epoch 2, loss 0.93259, train_acc 0.6715, valid_acc 0.7011, Time 00:00:32,lr 0.1\n",
      "epoch 3, loss 0.78639, train_acc 0.7277, valid_acc 0.6987, Time 00:00:30,lr 0.1\n",
      "epoch 4, loss 0.68671, train_acc 0.7642, valid_acc 0.7434, Time 00:00:30,lr 0.1\n",
      "epoch 5, loss 0.62936, train_acc 0.7856, valid_acc 0.7396, Time 00:00:30,lr 0.1\n",
      "epoch 6, loss 0.59543, train_acc 0.7951, valid_acc 0.7949, Time 00:00:30,lr 0.1\n",
      "epoch 7, loss 0.56563, train_acc 0.8073, valid_acc 0.7511, Time 00:00:31,lr 0.1\n",
      "epoch 8, loss 0.54190, train_acc 0.8125, valid_acc 0.7714, Time 00:00:30,lr 0.1\n",
      "epoch 9, loss 0.51894, train_acc 0.8220, valid_acc 0.8141, Time 00:00:30,lr 0.1\n",
      "epoch 10, loss 0.50352, train_acc 0.8259, valid_acc 0.7803, Time 00:00:30,lr 0.1\n",
      "epoch 11, loss 0.49073, train_acc 0.8327, valid_acc 0.8127, Time 00:00:31,lr 0.1\n",
      "epoch 12, loss 0.47917, train_acc 0.8354, valid_acc 0.8078, Time 00:00:31,lr 0.1\n",
      "epoch 13, loss 0.47001, train_acc 0.8364, valid_acc 0.8317, Time 00:00:31,lr 0.1\n",
      "epoch 14, loss 0.45984, train_acc 0.8415, valid_acc 0.8142, Time 00:00:30,lr 0.1\n",
      "epoch 15, loss 0.45590, train_acc 0.8441, valid_acc 0.7748, Time 00:00:30,lr 0.1\n",
      "epoch 16, loss 0.44058, train_acc 0.8479, valid_acc 0.8230, Time 00:00:30,lr 0.1\n",
      "epoch 17, loss 0.43728, train_acc 0.8481, valid_acc 0.8120, Time 00:00:30,lr 0.1\n",
      "epoch 18, loss 0.43228, train_acc 0.8511, valid_acc 0.7777, Time 00:00:30,lr 0.1\n",
      "epoch 19, loss 0.42770, train_acc 0.8548, valid_acc 0.8265, Time 00:00:30,lr 0.1\n",
      "epoch 20, loss 0.42149, train_acc 0.8558, valid_acc 0.8383, Time 00:00:30,lr 0.1\n",
      "epoch 21, loss 0.41593, train_acc 0.8559, valid_acc 0.8471, Time 00:00:30,lr 0.1\n",
      "epoch 22, loss 0.41718, train_acc 0.8565, valid_acc 0.8438, Time 00:00:30,lr 0.1\n",
      "epoch 23, loss 0.41097, train_acc 0.8591, valid_acc 0.8104, Time 00:00:30,lr 0.1\n",
      "epoch 24, loss 0.40569, train_acc 0.8603, valid_acc 0.8265, Time 00:00:30,lr 0.1\n",
      "epoch 25, loss 0.39741, train_acc 0.8625, valid_acc 0.8375, Time 00:00:30,lr 0.1\n",
      "epoch 26, loss 0.39868, train_acc 0.8648, valid_acc 0.8310, Time 00:00:30,lr 0.1\n",
      "epoch 27, loss 0.39217, train_acc 0.8654, valid_acc 0.8222, Time 00:00:30,lr 0.1\n",
      "epoch 28, loss 0.39285, train_acc 0.8661, valid_acc 0.8436, Time 00:00:30,lr 0.1\n",
      "epoch 29, loss 0.38964, train_acc 0.8661, valid_acc 0.8419, Time 00:00:30,lr 0.1\n",
      "epoch 30, loss 0.38233, train_acc 0.8675, valid_acc 0.8302, Time 00:00:31,lr 0.1\n",
      "epoch 31, loss 0.38502, train_acc 0.8687, valid_acc 0.8512, Time 00:00:30,lr 0.1\n",
      "epoch 32, loss 0.37983, train_acc 0.8693, valid_acc 0.8574, Time 00:00:30,lr 0.1\n",
      "epoch 33, loss 0.37806, train_acc 0.8686, valid_acc 0.8553, Time 00:00:30,lr 0.1\n",
      "epoch 34, loss 0.37425, train_acc 0.8709, valid_acc 0.8625, Time 00:00:30,lr 0.1\n",
      "epoch 35, loss 0.37156, train_acc 0.8724, valid_acc 0.8599, Time 00:00:30,lr 0.1\n",
      "epoch 36, loss 0.37042, train_acc 0.8747, valid_acc 0.8524, Time 00:00:30,lr 0.1\n",
      "epoch 37, loss 0.37193, train_acc 0.8734, valid_acc 0.8277, Time 00:00:30,lr 0.1\n",
      "epoch 38, loss 0.37142, train_acc 0.8734, valid_acc 0.8223, Time 00:00:30,lr 0.1\n",
      "epoch 39, loss 0.36700, train_acc 0.8739, valid_acc 0.8126, Time 00:00:30,lr 0.1\n",
      "epoch 40, loss 0.36533, train_acc 0.8738, valid_acc 0.8582, Time 00:00:30,lr 0.1\n",
      "epoch 41, loss 0.36709, train_acc 0.8759, valid_acc 0.8450, Time 00:00:30,lr 0.1\n",
      "epoch 42, loss 0.36452, train_acc 0.8751, valid_acc 0.8551, Time 00:00:30,lr 0.1\n",
      "epoch 43, loss 0.36363, train_acc 0.8752, valid_acc 0.8559, Time 00:00:30,lr 0.1\n",
      "epoch 44, loss 0.36318, train_acc 0.8768, valid_acc 0.8331, Time 00:00:30,lr 0.1\n",
      "epoch 45, loss 0.36180, train_acc 0.8765, valid_acc 0.8542, Time 00:00:30,lr 0.1\n",
      "epoch 46, loss 0.35892, train_acc 0.8770, valid_acc 0.8296, Time 00:00:30,lr 0.1\n",
      "epoch 47, loss 0.36113, train_acc 0.8765, valid_acc 0.8493, Time 00:00:30,lr 0.1\n",
      "epoch 48, loss 0.35691, train_acc 0.8780, valid_acc 0.8250, Time 00:00:30,lr 0.1\n",
      "epoch 49, loss 0.35613, train_acc 0.8781, valid_acc 0.8409, Time 00:00:30,lr 0.1\n",
      "epoch 50, loss 0.35971, train_acc 0.8755, valid_acc 0.8462, Time 00:00:30,lr 0.1\n",
      "epoch 51, loss 0.35123, train_acc 0.8807, valid_acc 0.8555, Time 00:00:30,lr 0.1\n",
      "epoch 52, loss 0.35600, train_acc 0.8809, valid_acc 0.8634, Time 00:00:30,lr 0.1\n",
      "epoch 53, loss 0.34899, train_acc 0.8804, valid_acc 0.8415, Time 00:00:30,lr 0.1\n",
      "epoch 54, loss 0.35340, train_acc 0.8780, valid_acc 0.8486, Time 00:00:30,lr 0.1\n",
      "epoch 55, loss 0.35170, train_acc 0.8798, valid_acc 0.8252, Time 00:00:30,lr 0.1\n",
      "epoch 56, loss 0.35164, train_acc 0.8809, valid_acc 0.8500, Time 00:00:30,lr 0.1\n",
      "epoch 57, loss 0.34906, train_acc 0.8793, valid_acc 0.8432, Time 00:00:30,lr 0.1\n",
      "epoch 58, loss 0.35115, train_acc 0.8790, valid_acc 0.8634, Time 00:00:30,lr 0.1\n",
      "epoch 59, loss 0.35323, train_acc 0.8779, valid_acc 0.8571, Time 00:00:30,lr 0.1\n",
      "epoch 60, loss 0.34844, train_acc 0.8792, valid_acc 0.8580, Time 00:00:30,lr 0.1\n",
      "epoch 61, loss 0.34465, train_acc 0.8826, valid_acc 0.8559, Time 00:00:30,lr 0.1\n",
      "epoch 62, loss 0.34941, train_acc 0.8816, valid_acc 0.8703, Time 00:00:30,lr 0.1\n",
      "epoch 63, loss 0.35071, train_acc 0.8794, valid_acc 0.8159, Time 00:00:30,lr 0.1\n",
      "epoch 64, loss 0.34600, train_acc 0.8824, valid_acc 0.8438, Time 00:00:30,lr 0.1\n",
      "epoch 65, loss 0.34546, train_acc 0.8836, valid_acc 0.8596, Time 00:00:30,lr 0.1\n",
      "epoch 66, loss 0.34340, train_acc 0.8827, valid_acc 0.8552, Time 00:00:30,lr 0.1\n",
      "epoch 67, loss 0.34738, train_acc 0.8812, valid_acc 0.8569, Time 00:00:30,lr 0.1\n",
      "epoch 68, loss 0.34896, train_acc 0.8806, valid_acc 0.8501, Time 00:00:30,lr 0.1\n",
      "epoch 69, loss 0.34608, train_acc 0.8815, valid_acc 0.8504, Time 00:00:30,lr 0.1\n",
      "epoch 70, loss 0.34501, train_acc 0.8821, valid_acc 0.8615, Time 00:00:30,lr 0.1\n",
      "epoch 71, loss 0.34624, train_acc 0.8812, valid_acc 0.8541, Time 00:00:30,lr 0.1\n",
      "epoch 72, loss 0.34812, train_acc 0.8805, valid_acc 0.8727, Time 00:00:30,lr 0.1\n",
      "epoch 73, loss 0.34509, train_acc 0.8817, valid_acc 0.8514, Time 00:00:30,lr 0.1\n",
      "epoch 74, loss 0.34422, train_acc 0.8802, valid_acc 0.8745, Time 00:00:30,lr 0.1\n",
      "epoch 75, loss 0.34185, train_acc 0.8834, valid_acc 0.8565, Time 00:00:30,lr 0.1\n",
      "epoch 76, loss 0.34527, train_acc 0.8807, valid_acc 0.8577, Time 00:00:30,lr 0.1\n",
      "epoch 77, loss 0.33983, train_acc 0.8838, valid_acc 0.8720, Time 00:00:30,lr 0.1\n",
      "epoch 78, loss 0.33928, train_acc 0.8850, valid_acc 0.8603, Time 00:00:30,lr 0.1\n",
      "epoch 79, loss 0.34337, train_acc 0.8827, valid_acc 0.8280, Time 00:00:30,lr 0.1\n",
      "epoch 80, loss 0.19619, train_acc 0.9336, valid_acc 0.9207, Time 00:00:30,lr 0.01\n",
      "epoch 81, loss 0.14760, train_acc 0.9501, valid_acc 0.9249, Time 00:00:30,lr 0.01\n",
      "epoch 82, loss 0.12989, train_acc 0.9549, valid_acc 0.9265, Time 00:00:30,lr 0.01\n",
      "epoch 83, loss 0.11951, train_acc 0.9593, valid_acc 0.9292, Time 00:00:30,lr 0.01\n",
      "epoch 84, loss 0.10738, train_acc 0.9632, valid_acc 0.9288, Time 00:00:30,lr 0.01\n",
      "epoch 85, loss 0.10071, train_acc 0.9657, valid_acc 0.9295, Time 00:00:30,lr 0.01\n",
      "epoch 86, loss 0.09417, train_acc 0.9681, valid_acc 0.9312, Time 00:00:30,lr 0.01\n",
      "epoch 87, loss 0.08605, train_acc 0.9708, valid_acc 0.9300, Time 00:00:30,lr 0.01\n",
      "epoch 88, loss 0.08259, train_acc 0.9722, valid_acc 0.9313, Time 00:00:30,lr 0.01\n",
      "epoch 89, loss 0.07684, train_acc 0.9739, valid_acc 0.9288, Time 00:00:31,lr 0.01\n",
      "epoch 90, loss 0.07300, train_acc 0.9756, valid_acc 0.9294, Time 00:00:30,lr 0.01\n",
      "epoch 91, loss 0.07099, train_acc 0.9757, valid_acc 0.9294, Time 00:00:30,lr 0.01\n",
      "epoch 92, loss 0.06592, train_acc 0.9776, valid_acc 0.9317, Time 00:00:30,lr 0.01\n",
      "epoch 93, loss 0.06440, train_acc 0.9783, valid_acc 0.9258, Time 00:00:30,lr 0.01\n",
      "epoch 94, loss 0.06085, train_acc 0.9799, valid_acc 0.9287, Time 00:00:30,lr 0.01\n",
      "epoch 95, loss 0.06026, train_acc 0.9803, valid_acc 0.9313, Time 00:00:30,lr 0.01\n",
      "epoch 96, loss 0.05759, train_acc 0.9805, valid_acc 0.9257, Time 00:00:30,lr 0.01\n",
      "epoch 97, loss 0.05517, train_acc 0.9812, valid_acc 0.9270, Time 00:00:30,lr 0.01\n",
      "epoch 98, loss 0.05672, train_acc 0.9807, valid_acc 0.9301, Time 00:00:30,lr 0.01\n",
      "epoch 99, loss 0.05231, train_acc 0.9819, valid_acc 0.9292, Time 00:00:30,lr 0.01\n",
      "epoch 100, loss 0.05057, train_acc 0.9828, valid_acc 0.9245, Time 00:00:30,lr 0.01\n"
     ]
    },
    {
     "name": "stdout",
     "output_type": "stream",
     "text": [
      "epoch 101, loss 0.05123, train_acc 0.9828, valid_acc 0.9259, Time 00:00:30,lr 0.01\n",
      "epoch 102, loss 0.04977, train_acc 0.9830, valid_acc 0.9254, Time 00:00:30,lr 0.01\n",
      "epoch 103, loss 0.05176, train_acc 0.9827, valid_acc 0.9254, Time 00:00:30,lr 0.01\n",
      "epoch 104, loss 0.05073, train_acc 0.9826, valid_acc 0.9237, Time 00:00:30,lr 0.01\n",
      "epoch 105, loss 0.05045, train_acc 0.9829, valid_acc 0.9311, Time 00:00:30,lr 0.01\n",
      "epoch 106, loss 0.04769, train_acc 0.9841, valid_acc 0.9267, Time 00:00:35,lr 0.01\n",
      "epoch 107, loss 0.05069, train_acc 0.9823, valid_acc 0.9261, Time 00:00:34,lr 0.01\n",
      "epoch 108, loss 0.04908, train_acc 0.9833, valid_acc 0.9308, Time 00:00:31,lr 0.01\n",
      "epoch 109, loss 0.05262, train_acc 0.9825, valid_acc 0.9267, Time 00:00:30,lr 0.01\n",
      "epoch 110, loss 0.05038, train_acc 0.9829, valid_acc 0.9237, Time 00:00:30,lr 0.01\n",
      "epoch 111, loss 0.04573, train_acc 0.9848, valid_acc 0.9262, Time 00:00:30,lr 0.01\n",
      "epoch 112, loss 0.05370, train_acc 0.9811, valid_acc 0.9257, Time 00:00:30,lr 0.01\n",
      "epoch 113, loss 0.05240, train_acc 0.9824, valid_acc 0.9216, Time 00:00:30,lr 0.01\n",
      "epoch 114, loss 0.05037, train_acc 0.9833, valid_acc 0.9265, Time 00:00:30,lr 0.01\n",
      "epoch 115, loss 0.04898, train_acc 0.9839, valid_acc 0.9200, Time 00:00:30,lr 0.01\n",
      "epoch 116, loss 0.05494, train_acc 0.9815, valid_acc 0.9220, Time 00:00:30,lr 0.01\n",
      "epoch 117, loss 0.05175, train_acc 0.9825, valid_acc 0.9261, Time 00:00:30,lr 0.01\n",
      "epoch 118, loss 0.05293, train_acc 0.9816, valid_acc 0.9246, Time 00:00:31,lr 0.01\n",
      "epoch 119, loss 0.05280, train_acc 0.9816, valid_acc 0.9216, Time 00:00:30,lr 0.01\n",
      "epoch 120, loss 0.05557, train_acc 0.9807, valid_acc 0.9241, Time 00:00:30,lr 0.01\n",
      "epoch 121, loss 0.05531, train_acc 0.9812, valid_acc 0.9272, Time 00:00:30,lr 0.01\n",
      "epoch 122, loss 0.05505, train_acc 0.9816, valid_acc 0.9233, Time 00:00:30,lr 0.01\n",
      "epoch 123, loss 0.05293, train_acc 0.9821, valid_acc 0.9178, Time 00:00:30,lr 0.01\n",
      "epoch 124, loss 0.05691, train_acc 0.9807, valid_acc 0.9250, Time 00:00:30,lr 0.01\n",
      "epoch 125, loss 0.05509, train_acc 0.9815, valid_acc 0.9178, Time 00:00:30,lr 0.01\n",
      "epoch 126, loss 0.05544, train_acc 0.9806, valid_acc 0.9197, Time 00:00:30,lr 0.01\n",
      "epoch 127, loss 0.05728, train_acc 0.9800, valid_acc 0.9217, Time 00:00:30,lr 0.01\n",
      "epoch 128, loss 0.05760, train_acc 0.9804, valid_acc 0.9254, Time 00:00:30,lr 0.01\n",
      "epoch 129, loss 0.05628, train_acc 0.9812, valid_acc 0.9191, Time 00:00:30,lr 0.01\n",
      "epoch 130, loss 0.05874, train_acc 0.9795, valid_acc 0.9190, Time 00:00:30,lr 0.01\n",
      "epoch 131, loss 0.05753, train_acc 0.9803, valid_acc 0.9250, Time 00:00:30,lr 0.01\n",
      "epoch 132, loss 0.05882, train_acc 0.9794, valid_acc 0.9200, Time 00:00:30,lr 0.01\n",
      "epoch 133, loss 0.06110, train_acc 0.9796, valid_acc 0.9173, Time 00:00:30,lr 0.01\n",
      "epoch 134, loss 0.06017, train_acc 0.9798, valid_acc 0.9207, Time 00:00:30,lr 0.01\n",
      "epoch 135, loss 0.05784, train_acc 0.9803, valid_acc 0.9088, Time 00:00:30,lr 0.01\n",
      "epoch 136, loss 0.06184, train_acc 0.9790, valid_acc 0.9193, Time 00:00:30,lr 0.01\n",
      "epoch 137, loss 0.05722, train_acc 0.9803, valid_acc 0.9279, Time 00:00:30,lr 0.01\n",
      "epoch 138, loss 0.05880, train_acc 0.9800, valid_acc 0.9203, Time 00:00:30,lr 0.01\n",
      "epoch 139, loss 0.05727, train_acc 0.9806, valid_acc 0.9189, Time 00:00:30,lr 0.01\n",
      "epoch 140, loss 0.06348, train_acc 0.9784, valid_acc 0.9242, Time 00:00:30,lr 0.01\n",
      "epoch 141, loss 0.05603, train_acc 0.9808, valid_acc 0.9251, Time 00:00:30,lr 0.01\n",
      "epoch 142, loss 0.05919, train_acc 0.9797, valid_acc 0.9173, Time 00:00:30,lr 0.01\n",
      "epoch 143, loss 0.06109, train_acc 0.9793, valid_acc 0.9140, Time 00:00:30,lr 0.01\n",
      "epoch 144, loss 0.05916, train_acc 0.9798, valid_acc 0.9181, Time 00:00:30,lr 0.01\n",
      "epoch 145, loss 0.06621, train_acc 0.9776, valid_acc 0.9185, Time 00:00:30,lr 0.01\n",
      "epoch 146, loss 0.06132, train_acc 0.9795, valid_acc 0.9203, Time 00:00:30,lr 0.01\n",
      "epoch 147, loss 0.06416, train_acc 0.9784, valid_acc 0.9221, Time 00:00:30,lr 0.01\n",
      "epoch 148, loss 0.06045, train_acc 0.9793, valid_acc 0.9162, Time 00:00:30,lr 0.01\n",
      "epoch 149, loss 0.06016, train_acc 0.9800, valid_acc 0.9142, Time 00:00:30,lr 0.01\n",
      "epoch 150, loss 0.03468, train_acc 0.9895, valid_acc 0.9345, Time 00:00:30,lr 0.001\n",
      "epoch 151, loss 0.02295, train_acc 0.9933, valid_acc 0.9377, Time 00:00:30,lr 0.001\n",
      "epoch 152, loss 0.01791, train_acc 0.9955, valid_acc 0.9364, Time 00:00:30,lr 0.001\n",
      "epoch 153, loss 0.01725, train_acc 0.9955, valid_acc 0.9369, Time 00:00:30,lr 0.001\n",
      "epoch 154, loss 0.01460, train_acc 0.9961, valid_acc 0.9373, Time 00:00:30,lr 0.001\n",
      "epoch 155, loss 0.01362, train_acc 0.9967, valid_acc 0.9381, Time 00:00:30,lr 0.001\n",
      "epoch 156, loss 0.01294, train_acc 0.9970, valid_acc 0.9391, Time 00:00:30,lr 0.001\n",
      "epoch 157, loss 0.01247, train_acc 0.9970, valid_acc 0.9399, Time 00:00:30,lr 0.001\n",
      "epoch 158, loss 0.01062, train_acc 0.9974, valid_acc 0.9394, Time 00:00:30,lr 0.001\n",
      "epoch 159, loss 0.01077, train_acc 0.9977, valid_acc 0.9365, Time 00:00:30,lr 0.001\n",
      "epoch 160, loss 0.01017, train_acc 0.9978, valid_acc 0.9392, Time 00:00:30,lr 0.001\n",
      "epoch 161, loss 0.00928, train_acc 0.9981, valid_acc 0.9389, Time 00:00:30,lr 0.001\n",
      "epoch 162, loss 0.00964, train_acc 0.9978, valid_acc 0.9388, Time 00:00:30,lr 0.001\n",
      "epoch 163, loss 0.00897, train_acc 0.9982, valid_acc 0.9390, Time 00:00:30,lr 0.001\n",
      "epoch 164, loss 0.00817, train_acc 0.9985, valid_acc 0.9395, Time 00:00:30,lr 0.001\n",
      "epoch 165, loss 0.00879, train_acc 0.9981, valid_acc 0.9388, Time 00:00:30,lr 0.001\n",
      "epoch 166, loss 0.00774, train_acc 0.9985, valid_acc 0.9388, Time 00:00:30,lr 0.001\n",
      "epoch 167, loss 0.00806, train_acc 0.9982, valid_acc 0.9403, Time 00:00:30,lr 0.001\n",
      "epoch 168, loss 0.00736, train_acc 0.9985, valid_acc 0.9400, Time 00:00:30,lr 0.001\n",
      "epoch 169, loss 0.00760, train_acc 0.9986, valid_acc 0.9401, Time 00:00:30,lr 0.001\n",
      "epoch 170, loss 0.00736, train_acc 0.9986, valid_acc 0.9399, Time 00:00:30,lr 0.001\n",
      "epoch 171, loss 0.00706, train_acc 0.9985, valid_acc 0.9388, Time 00:00:30,lr 0.001\n",
      "epoch 172, loss 0.00672, train_acc 0.9988, valid_acc 0.9399, Time 00:00:30,lr 0.001\n",
      "epoch 173, loss 0.00711, train_acc 0.9985, valid_acc 0.9409, Time 00:00:30,lr 0.001\n",
      "epoch 174, loss 0.00627, train_acc 0.9988, valid_acc 0.9410, Time 00:00:30,lr 0.001\n",
      "epoch 175, loss 0.00647, train_acc 0.9987, valid_acc 0.9391, Time 00:00:33,lr 0.001\n",
      "epoch 176, loss 0.00614, train_acc 0.9990, valid_acc 0.9401, Time 00:00:32,lr 0.001\n",
      "epoch 177, loss 0.00592, train_acc 0.9990, valid_acc 0.9412, Time 00:00:30,lr 0.001\n",
      "epoch 178, loss 0.00610, train_acc 0.9986, valid_acc 0.9389, Time 00:00:30,lr 0.001\n",
      "epoch 179, loss 0.00530, train_acc 0.9992, valid_acc 0.9393, Time 00:00:30,lr 0.001\n",
      "epoch 180, loss 0.00577, train_acc 0.9989, valid_acc 0.9415, Time 00:00:33,lr 0.001\n",
      "epoch 181, loss 0.00612, train_acc 0.9986, valid_acc 0.9392, Time 00:00:35,lr 0.001\n",
      "epoch 182, loss 0.00583, train_acc 0.9987, valid_acc 0.9409, Time 00:00:31,lr 0.001\n",
      "epoch 183, loss 0.00538, train_acc 0.9990, valid_acc 0.9394, Time 00:00:30,lr 0.001\n",
      "epoch 184, loss 0.00512, train_acc 0.9992, valid_acc 0.9414, Time 00:00:33,lr 0.001\n",
      "epoch 185, loss 0.00559, train_acc 0.9990, valid_acc 0.9401, Time 00:00:31,lr 0.001\n",
      "epoch 186, loss 0.00473, train_acc 0.9994, valid_acc 0.9397, Time 00:00:31,lr 0.001\n",
      "epoch 187, loss 0.00465, train_acc 0.9992, valid_acc 0.9387, Time 00:00:35,lr 0.001\n",
      "epoch 188, loss 0.00554, train_acc 0.9988, valid_acc 0.9415, Time 00:00:31,lr 0.001\n",
      "epoch 189, loss 0.00482, train_acc 0.9994, valid_acc 0.9401, Time 00:00:33,lr 0.001\n",
      "epoch 190, loss 0.00493, train_acc 0.9992, valid_acc 0.9410, Time 00:00:36,lr 0.001\n",
      "epoch 191, loss 0.00506, train_acc 0.9990, valid_acc 0.9414, Time 00:00:30,lr 0.001\n",
      "epoch 192, loss 0.00492, train_acc 0.9990, valid_acc 0.9404, Time 00:00:30,lr 0.001\n",
      "epoch 193, loss 0.00497, train_acc 0.9991, valid_acc 0.9399, Time 00:00:30,lr 0.001\n",
      "epoch 194, loss 0.00468, train_acc 0.9992, valid_acc 0.9416, Time 00:00:30,lr 0.001\n",
      "epoch 195, loss 0.00445, train_acc 0.9993, valid_acc 0.9425, Time 00:00:30,lr 0.001\n",
      "epoch 196, loss 0.00440, train_acc 0.9994, valid_acc 0.9413, Time 00:00:31,lr 0.001\n",
      "epoch 197, loss 0.00445, train_acc 0.9991, valid_acc 0.9427, Time 00:00:30,lr 0.001\n",
      "epoch 198, loss 0.00456, train_acc 0.9992, valid_acc 0.9424, Time 00:00:30,lr 0.001\n",
      "epoch 199, loss 0.00424, train_acc 0.9993, valid_acc 0.9420, Time 00:00:31,lr 0.001\n"
     ]
    }
   ],
   "source": [
    "num_epochs = 200\n",
    "learning_rate = 0.1\n",
    "weight_decay = 1e-4\n",
    "lr_period = [80, 150]\n",
    "lr_decay=0.1\n",
    "log_file = None\n",
    "loss_f = gluon.loss.SoftmaxCrossEntropyLoss()\n",
    "\n",
    "train_data, valid_data = data_loader(batch_size, transform_train_DA1, num_workers=4)\n",
    "net = ResNet(10)\n",
    "net.initialize(ctx=ctx)\n",
    "net.hybridize()\n",
    "train(net, train_data, valid_data, num_epochs, learning_rate, lr_period, lr_decay, weight_decay, ctx, \n",
    "      [], log_file, False, loss_f)\n",
    "\n",
    "net.save_params(\"../../models/resnet18_me_200e\")"
   ]
  },
  {
   "cell_type": "markdown",
   "metadata": {},
   "source": [
    "## 5.2 baseline: general lr policy train my resnet18"
   ]
  },
  {
   "cell_type": "code",
   "execution_count": 12,
   "metadata": {
    "ExecuteTime": {
     "end_time": "2018-03-06T07:45:02.972905Z",
     "start_time": "2018-03-06T07:45:02.966027Z"
    },
    "collapsed": true
   },
   "outputs": [],
   "source": [
    "def get_net(ctx):\n",
    "    num_outputs = 10\n",
    "    net = ResNet(num_outputs)\n",
    "    net.collect_params().initialize(init=init.Xavier(), ctx=ctx, force_reinit=True)\n",
    "    return net  "
   ]
  },
  {
   "cell_type": "code",
   "execution_count": 13,
   "metadata": {
    "ExecuteTime": {
     "end_time": "2018-03-05T15:43:27.776099Z",
     "start_time": "2018-03-05T15:02:12.579122Z"
    },
    "scrolled": false
   },
   "outputs": [
    {
     "name": "stdout",
     "output_type": "stream",
     "text": [
      "epoch 0, loss 1.77454, train_acc 0.3359, valid_acc 0.4593, Time 00:00:28,lr 0.1\n",
      "epoch 1, loss 1.22612, train_acc 0.5583, valid_acc 0.6111, Time 00:00:30,lr 0.1\n",
      "epoch 2, loss 0.92693, train_acc 0.6722, valid_acc 0.7267, Time 00:00:30,lr 0.1\n",
      "epoch 3, loss 0.76931, train_acc 0.7306, valid_acc 0.7550, Time 00:00:30,lr 0.1\n",
      "epoch 4, loss 0.68570, train_acc 0.7619, valid_acc 0.7462, Time 00:00:30,lr 0.1\n",
      "epoch 5, loss 0.63370, train_acc 0.7816, valid_acc 0.7396, Time 00:00:30,lr 0.1\n",
      "epoch 6, loss 0.59709, train_acc 0.7953, valid_acc 0.7863, Time 00:00:30,lr 0.1\n",
      "epoch 7, loss 0.56755, train_acc 0.8042, valid_acc 0.8034, Time 00:00:30,lr 0.1\n",
      "epoch 8, loss 0.54272, train_acc 0.8134, valid_acc 0.8032, Time 00:00:30,lr 0.1\n",
      "epoch 9, loss 0.51638, train_acc 0.8239, valid_acc 0.7898, Time 00:00:31,lr 0.1\n",
      "epoch 10, loss 0.50288, train_acc 0.8261, valid_acc 0.8228, Time 00:00:31,lr 0.1\n",
      "epoch 11, loss 0.48764, train_acc 0.8325, valid_acc 0.7678, Time 00:00:30,lr 0.1\n",
      "epoch 12, loss 0.47348, train_acc 0.8384, valid_acc 0.8055, Time 00:00:30,lr 0.1\n",
      "epoch 13, loss 0.46626, train_acc 0.8396, valid_acc 0.8018, Time 00:00:30,lr 0.1\n",
      "epoch 14, loss 0.45743, train_acc 0.8426, valid_acc 0.8290, Time 00:00:30,lr 0.1\n",
      "epoch 15, loss 0.44759, train_acc 0.8457, valid_acc 0.7825, Time 00:00:30,lr 0.1\n",
      "epoch 16, loss 0.43920, train_acc 0.8495, valid_acc 0.8192, Time 00:00:30,lr 0.1\n",
      "epoch 17, loss 0.43992, train_acc 0.8463, valid_acc 0.8388, Time 00:00:30,lr 0.1\n",
      "epoch 18, loss 0.42739, train_acc 0.8530, valid_acc 0.8269, Time 00:00:30,lr 0.1\n",
      "epoch 19, loss 0.42447, train_acc 0.8551, valid_acc 0.7896, Time 00:00:30,lr 0.1\n",
      "epoch 20, loss 0.41691, train_acc 0.8564, valid_acc 0.8403, Time 00:00:30,lr 0.1\n",
      "epoch 21, loss 0.41586, train_acc 0.8579, valid_acc 0.8033, Time 00:00:30,lr 0.1\n",
      "epoch 22, loss 0.40782, train_acc 0.8607, valid_acc 0.8258, Time 00:00:30,lr 0.1\n",
      "epoch 23, loss 0.40447, train_acc 0.8622, valid_acc 0.8486, Time 00:00:31,lr 0.1\n",
      "epoch 24, loss 0.39894, train_acc 0.8648, valid_acc 0.8392, Time 00:00:30,lr 0.1\n",
      "epoch 25, loss 0.40174, train_acc 0.8637, valid_acc 0.8151, Time 00:00:30,lr 0.1\n",
      "epoch 26, loss 0.39289, train_acc 0.8657, valid_acc 0.8452, Time 00:00:31,lr 0.1\n",
      "epoch 27, loss 0.39245, train_acc 0.8640, valid_acc 0.8581, Time 00:00:30,lr 0.1\n",
      "epoch 28, loss 0.38611, train_acc 0.8669, valid_acc 0.8347, Time 00:00:30,lr 0.1\n",
      "epoch 29, loss 0.38743, train_acc 0.8669, valid_acc 0.8548, Time 00:00:30,lr 0.1\n",
      "epoch 30, loss 0.38446, train_acc 0.8681, valid_acc 0.8454, Time 00:00:30,lr 0.1\n",
      "epoch 31, loss 0.38427, train_acc 0.8683, valid_acc 0.8322, Time 00:00:30,lr 0.1\n",
      "epoch 32, loss 0.38206, train_acc 0.8684, valid_acc 0.8634, Time 00:00:30,lr 0.1\n",
      "epoch 33, loss 0.38058, train_acc 0.8693, valid_acc 0.8486, Time 00:00:30,lr 0.1\n",
      "epoch 34, loss 0.37962, train_acc 0.8691, valid_acc 0.8642, Time 00:00:31,lr 0.1\n",
      "epoch 35, loss 0.37537, train_acc 0.8708, valid_acc 0.8426, Time 00:00:30,lr 0.1\n",
      "epoch 36, loss 0.37520, train_acc 0.8706, valid_acc 0.8452, Time 00:00:30,lr 0.1\n",
      "epoch 37, loss 0.37547, train_acc 0.8721, valid_acc 0.8467, Time 00:00:30,lr 0.1\n",
      "epoch 38, loss 0.37048, train_acc 0.8714, valid_acc 0.8535, Time 00:00:30,lr 0.1\n",
      "epoch 39, loss 0.37224, train_acc 0.8736, valid_acc 0.8331, Time 00:00:30,lr 0.1\n",
      "epoch 40, loss 0.37372, train_acc 0.8716, valid_acc 0.8299, Time 00:00:30,lr 0.1\n",
      "epoch 41, loss 0.36772, train_acc 0.8730, valid_acc 0.8495, Time 00:00:30,lr 0.1\n",
      "epoch 42, loss 0.37184, train_acc 0.8735, valid_acc 0.8342, Time 00:00:30,lr 0.1\n",
      "epoch 43, loss 0.36235, train_acc 0.8754, valid_acc 0.8652, Time 00:00:30,lr 0.1\n",
      "epoch 44, loss 0.36163, train_acc 0.8750, valid_acc 0.8506, Time 00:00:30,lr 0.1\n",
      "epoch 45, loss 0.36193, train_acc 0.8754, valid_acc 0.8600, Time 00:00:30,lr 0.1\n",
      "epoch 46, loss 0.36309, train_acc 0.8768, valid_acc 0.8652, Time 00:00:30,lr 0.1\n",
      "epoch 47, loss 0.36614, train_acc 0.8742, valid_acc 0.8492, Time 00:00:30,lr 0.1\n",
      "epoch 48, loss 0.35976, train_acc 0.8767, valid_acc 0.8420, Time 00:00:30,lr 0.1\n",
      "epoch 49, loss 0.36186, train_acc 0.8748, valid_acc 0.8616, Time 00:00:30,lr 0.1\n",
      "epoch 50, loss 0.35947, train_acc 0.8765, valid_acc 0.8538, Time 00:00:30,lr 0.1\n",
      "epoch 51, loss 0.35947, train_acc 0.8780, valid_acc 0.8439, Time 00:00:30,lr 0.1\n",
      "epoch 52, loss 0.35333, train_acc 0.8786, valid_acc 0.8573, Time 00:00:30,lr 0.1\n",
      "epoch 53, loss 0.34898, train_acc 0.8807, valid_acc 0.8362, Time 00:00:30,lr 0.1\n",
      "epoch 54, loss 0.35331, train_acc 0.8795, valid_acc 0.8530, Time 00:00:30,lr 0.1\n",
      "epoch 55, loss 0.35290, train_acc 0.8779, valid_acc 0.8575, Time 00:00:30,lr 0.1\n",
      "epoch 56, loss 0.35310, train_acc 0.8783, valid_acc 0.8632, Time 00:00:30,lr 0.1\n",
      "epoch 57, loss 0.35645, train_acc 0.8776, valid_acc 0.8364, Time 00:00:30,lr 0.1\n",
      "epoch 58, loss 0.35205, train_acc 0.8794, valid_acc 0.8371, Time 00:00:30,lr 0.1\n",
      "epoch 59, loss 0.35514, train_acc 0.8783, valid_acc 0.8532, Time 00:00:30,lr 0.1\n",
      "epoch 60, loss 0.35269, train_acc 0.8769, valid_acc 0.8395, Time 00:00:30,lr 0.1\n",
      "epoch 61, loss 0.34752, train_acc 0.8806, valid_acc 0.8292, Time 00:00:30,lr 0.1\n",
      "epoch 62, loss 0.35349, train_acc 0.8789, valid_acc 0.8642, Time 00:00:30,lr 0.1\n",
      "epoch 63, loss 0.34549, train_acc 0.8812, valid_acc 0.8269, Time 00:00:30,lr 0.1\n",
      "epoch 64, loss 0.35187, train_acc 0.8779, valid_acc 0.8630, Time 00:00:30,lr 0.1\n",
      "epoch 65, loss 0.34747, train_acc 0.8823, valid_acc 0.8279, Time 00:00:30,lr 0.1\n",
      "epoch 66, loss 0.35100, train_acc 0.8784, valid_acc 0.8536, Time 00:00:30,lr 0.1\n",
      "epoch 67, loss 0.34242, train_acc 0.8831, valid_acc 0.8341, Time 00:00:30,lr 0.1\n",
      "epoch 68, loss 0.35144, train_acc 0.8804, valid_acc 0.8344, Time 00:00:30,lr 0.1\n",
      "epoch 69, loss 0.34517, train_acc 0.8830, valid_acc 0.8413, Time 00:00:30,lr 0.1\n",
      "epoch 70, loss 0.34192, train_acc 0.8829, valid_acc 0.8615, Time 00:00:30,lr 0.1\n",
      "epoch 71, loss 0.34506, train_acc 0.8823, valid_acc 0.8691, Time 00:00:30,lr 0.1\n",
      "epoch 72, loss 0.34895, train_acc 0.8804, valid_acc 0.8558, Time 00:00:30,lr 0.1\n",
      "epoch 73, loss 0.34394, train_acc 0.8815, valid_acc 0.8691, Time 00:00:30,lr 0.1\n",
      "epoch 74, loss 0.34620, train_acc 0.8809, valid_acc 0.8622, Time 00:00:30,lr 0.1\n",
      "epoch 75, loss 0.34345, train_acc 0.8830, valid_acc 0.8453, Time 00:00:30,lr 0.1\n",
      "epoch 76, loss 0.34590, train_acc 0.8825, valid_acc 0.8641, Time 00:00:30,lr 0.1\n",
      "epoch 77, loss 0.34605, train_acc 0.8803, valid_acc 0.8473, Time 00:00:30,lr 0.1\n",
      "epoch 78, loss 0.33808, train_acc 0.8854, valid_acc 0.8770, Time 00:00:32,lr 0.1\n",
      "epoch 79, loss 0.33982, train_acc 0.8848, valid_acc 0.8737, Time 00:00:34,lr 0.1\n"
     ]
    }
   ],
   "source": [
    "num_epochs = 80\n",
    "learning_rate = 0.1\n",
    "weight_decay = 1e-4\n",
    "lr_period = [80, 150]\n",
    "lr_decay=0.1\n",
    "log_file = None\n",
    "loss_f = gluon.loss.SoftmaxCrossEntropyLoss()\n",
    "\n",
    "train_data, valid_data = data_loader(batch_size, transform_train_DA1, num_workers=4)\n",
    "net = ResNet(10)\n",
    "net.initialize(ctx=ctx)\n",
    "net.hybridize()\n",
    "train(net, train_data, valid_data, num_epochs, learning_rate, lr_period, lr_decay, weight_decay, ctx, \n",
    "      [], log_file, False, loss_f)\n",
    "\n",
    "net.save_params(\"../../models/resnet18_me_80e\")"
   ]
  },
  {
   "cell_type": "code",
   "execution_count": 13,
   "metadata": {
    "ExecuteTime": {
     "end_time": "2018-03-05T19:36:30.208830Z",
     "start_time": "2018-03-05T16:08:42.246171Z"
    },
    "scrolled": false
   },
   "outputs": [
    {
     "name": "stdout",
     "output_type": "stream",
     "text": [
      "epoch 0, loss 0.33917, train_acc 0.8837, valid_acc 0.8295, Time 00:00:30,lr 0.1\n",
      "# back grad turn.\n",
      "epoch 1, loss 0.61268, train_acc 0.7929, valid_acc 0.5011, Time 00:04:38,lr 0.1\n",
      "epoch 2, loss 0.42109, train_acc 0.8559, valid_acc 0.8313, Time 00:00:31,lr 0.1\n",
      "# back grad turn.\n",
      "epoch 3, loss 0.37783, train_acc 0.8730, valid_acc 0.6284, Time 00:04:45,lr 0.1\n",
      "epoch 4, loss 0.41799, train_acc 0.8580, valid_acc 0.8328, Time 00:00:31,lr 0.1\n",
      "# back grad turn.\n",
      "epoch 5, loss 0.31489, train_acc 0.8948, valid_acc 0.6560, Time 00:04:43,lr 0.1\n",
      "epoch 6, loss 0.41990, train_acc 0.8561, valid_acc 0.8566, Time 00:00:31,lr 0.1\n",
      "# back grad turn.\n",
      "epoch 7, loss 0.30543, train_acc 0.8986, valid_acc 0.5993, Time 00:04:44,lr 0.1\n",
      "epoch 8, loss 0.42578, train_acc 0.8554, valid_acc 0.8545, Time 00:00:30,lr 0.1\n",
      "# back grad turn.\n",
      "epoch 9, loss 0.28968, train_acc 0.9046, valid_acc 0.5142, Time 00:04:41,lr 0.1\n",
      "epoch 10, loss 0.42118, train_acc 0.8554, valid_acc 0.8623, Time 00:00:30,lr 0.1\n",
      "# back grad turn.\n",
      "epoch 11, loss 0.28210, train_acc 0.9053, valid_acc 0.5325, Time 00:04:41,lr 0.1\n",
      "epoch 12, loss 0.42342, train_acc 0.8531, valid_acc 0.8546, Time 00:00:30,lr 0.1\n",
      "# back grad turn.\n",
      "epoch 13, loss 0.26079, train_acc 0.9129, valid_acc 0.5968, Time 00:04:42,lr 0.1\n",
      "epoch 14, loss 0.42459, train_acc 0.8550, valid_acc 0.8626, Time 00:00:31,lr 0.1\n",
      "# back grad turn.\n",
      "epoch 15, loss 0.29301, train_acc 0.9017, valid_acc 0.6778, Time 00:04:44,lr 0.1\n",
      "epoch 16, loss 0.42923, train_acc 0.8538, valid_acc 0.8551, Time 00:00:33,lr 0.1\n",
      "# back grad turn.\n",
      "epoch 17, loss 0.28151, train_acc 0.9066, valid_acc 0.4642, Time 00:04:40,lr 0.1\n",
      "epoch 18, loss 0.42858, train_acc 0.8538, valid_acc 0.8418, Time 00:00:31,lr 0.1\n",
      "# back grad turn.\n",
      "epoch 19, loss 0.31007, train_acc 0.8956, valid_acc 0.4912, Time 00:04:40,lr 0.1\n",
      "epoch 20, loss 0.42845, train_acc 0.8520, valid_acc 0.8462, Time 00:00:30,lr 0.1\n",
      "# back grad turn.\n",
      "epoch 21, loss 0.28069, train_acc 0.9054, valid_acc 0.5558, Time 00:04:40,lr 0.1\n",
      "epoch 22, loss 0.43004, train_acc 0.8536, valid_acc 0.8458, Time 00:00:30,lr 0.1\n",
      "# back grad turn.\n",
      "epoch 23, loss 0.26620, train_acc 0.9111, valid_acc 0.4158, Time 00:04:40,lr 0.1\n",
      "epoch 24, loss 0.42601, train_acc 0.8548, valid_acc 0.8397, Time 00:00:30,lr 0.1\n",
      "# back grad turn.\n",
      "epoch 25, loss 0.28153, train_acc 0.9051, valid_acc 0.4263, Time 00:04:40,lr 0.1\n",
      "epoch 26, loss 0.42772, train_acc 0.8550, valid_acc 0.8287, Time 00:00:30,lr 0.1\n",
      "# back grad turn.\n",
      "epoch 27, loss 0.26017, train_acc 0.9130, valid_acc 0.4645, Time 00:04:40,lr 0.1\n",
      "epoch 28, loss 0.43141, train_acc 0.8526, valid_acc 0.8389, Time 00:00:30,lr 0.1\n",
      "# back grad turn.\n",
      "epoch 29, loss 0.27437, train_acc 0.9078, valid_acc 0.4974, Time 00:04:40,lr 0.1\n",
      "epoch 30, loss 0.42776, train_acc 0.8535, valid_acc 0.8591, Time 00:00:30,lr 0.1\n",
      "# back grad turn.\n",
      "epoch 31, loss 0.25390, train_acc 0.9161, valid_acc 0.5774, Time 00:04:40,lr 0.1\n",
      "epoch 32, loss 0.43275, train_acc 0.8519, valid_acc 0.8474, Time 00:00:30,lr 0.1\n",
      "# back grad turn.\n",
      "epoch 33, loss 0.25299, train_acc 0.9163, valid_acc 0.6475, Time 00:04:40,lr 0.1\n",
      "epoch 34, loss 0.43277, train_acc 0.8539, valid_acc 0.8091, Time 00:00:30,lr 0.1\n",
      "# back grad turn.\n",
      "epoch 35, loss 0.25533, train_acc 0.9151, valid_acc 0.5236, Time 00:04:39,lr 0.1\n",
      "epoch 36, loss 0.42847, train_acc 0.8537, valid_acc 0.8494, Time 00:00:30,lr 0.1\n",
      "# back grad turn.\n",
      "epoch 37, loss 0.26213, train_acc 0.9130, valid_acc 0.3364, Time 00:04:40,lr 0.1\n",
      "epoch 38, loss 0.42608, train_acc 0.8548, valid_acc 0.8448, Time 00:00:30,lr 0.1\n",
      "# back grad turn.\n",
      "epoch 39, loss 0.25919, train_acc 0.9134, valid_acc 0.6137, Time 00:04:40,lr 0.1\n",
      "epoch 40, loss 0.42635, train_acc 0.8539, valid_acc 0.8248, Time 00:00:30,lr 0.1\n",
      "# back grad turn.\n",
      "epoch 41, loss 0.26052, train_acc 0.9133, valid_acc 0.6561, Time 00:04:40,lr 0.1\n",
      "epoch 42, loss 0.42978, train_acc 0.8520, valid_acc 0.8398, Time 00:00:30,lr 0.1\n",
      "# back grad turn.\n",
      "epoch 43, loss 0.27823, train_acc 0.9078, valid_acc 0.3457, Time 00:04:40,lr 0.1\n",
      "epoch 44, loss 0.42863, train_acc 0.8554, valid_acc 0.8479, Time 00:00:30,lr 0.1\n",
      "# back grad turn.\n",
      "epoch 45, loss 0.24395, train_acc 0.9186, valid_acc 0.3992, Time 00:04:39,lr 0.1\n",
      "epoch 46, loss 0.42972, train_acc 0.8539, valid_acc 0.8163, Time 00:00:30,lr 0.1\n",
      "# back grad turn.\n",
      "epoch 47, loss 0.26306, train_acc 0.9131, valid_acc 0.6129, Time 00:04:40,lr 0.1\n",
      "epoch 48, loss 0.42974, train_acc 0.8528, valid_acc 0.8327, Time 00:00:30,lr 0.1\n",
      "# back grad turn.\n",
      "epoch 49, loss 0.26582, train_acc 0.9107, valid_acc 0.4984, Time 00:04:40,lr 0.1\n",
      "epoch 50, loss 0.42926, train_acc 0.8537, valid_acc 0.8358, Time 00:00:30,lr 0.1\n",
      "# back grad turn.\n",
      "epoch 51, loss 0.24903, train_acc 0.9170, valid_acc 0.5008, Time 00:04:39,lr 0.1\n",
      "epoch 52, loss 0.43318, train_acc 0.8517, valid_acc 0.8368, Time 00:00:30,lr 0.1\n",
      "# back grad turn.\n",
      "epoch 53, loss 0.24962, train_acc 0.9173, valid_acc 0.4109, Time 00:04:40,lr 0.1\n",
      "epoch 54, loss 0.42970, train_acc 0.8533, valid_acc 0.8124, Time 00:00:30,lr 0.1\n",
      "# back grad turn.\n",
      "epoch 55, loss 0.25258, train_acc 0.9153, valid_acc 0.4166, Time 00:04:40,lr 0.1\n",
      "epoch 56, loss 0.43482, train_acc 0.8511, valid_acc 0.8582, Time 00:00:30,lr 0.1\n",
      "# back grad turn.\n",
      "epoch 57, loss 0.25617, train_acc 0.9161, valid_acc 0.5969, Time 00:04:40,lr 0.1\n",
      "epoch 58, loss 0.42607, train_acc 0.8546, valid_acc 0.8588, Time 00:00:30,lr 0.1\n",
      "# back grad turn.\n",
      "epoch 59, loss 0.23788, train_acc 0.9210, valid_acc 0.4173, Time 00:04:40,lr 0.1\n",
      "epoch 60, loss 0.43413, train_acc 0.8508, valid_acc 0.8334, Time 00:00:30,lr 0.1\n",
      "# back grad turn.\n",
      "epoch 61, loss 0.23254, train_acc 0.9239, valid_acc 0.4976, Time 00:04:40,lr 0.1\n",
      "epoch 62, loss 0.43161, train_acc 0.8534, valid_acc 0.8550, Time 00:00:30,lr 0.1\n",
      "# back grad turn.\n",
      "epoch 63, loss 0.24663, train_acc 0.9175, valid_acc 0.4172, Time 00:04:40,lr 0.1\n",
      "epoch 64, loss 0.43130, train_acc 0.8519, valid_acc 0.8296, Time 00:00:30,lr 0.1\n",
      "# back grad turn.\n",
      "epoch 65, loss 0.23845, train_acc 0.9207, valid_acc 0.4154, Time 00:04:40,lr 0.1\n",
      "epoch 66, loss 0.44087, train_acc 0.8497, valid_acc 0.8465, Time 00:00:30,lr 0.1\n",
      "# back grad turn.\n",
      "epoch 67, loss 0.26985, train_acc 0.9101, valid_acc 0.5263, Time 00:04:40,lr 0.1\n",
      "epoch 68, loss 0.43187, train_acc 0.8535, valid_acc 0.8532, Time 00:00:30,lr 0.1\n",
      "# back grad turn.\n",
      "epoch 69, loss 0.25857, train_acc 0.9134, valid_acc 0.5728, Time 00:04:40,lr 0.1\n",
      "epoch 70, loss 0.42829, train_acc 0.8540, valid_acc 0.8055, Time 00:00:30,lr 0.1\n",
      "# back grad turn.\n",
      "epoch 71, loss 0.24314, train_acc 0.9192, valid_acc 0.5472, Time 00:04:39,lr 0.1\n",
      "epoch 72, loss 0.43206, train_acc 0.8525, valid_acc 0.8371, Time 00:00:30,lr 0.1\n",
      "# back grad turn.\n",
      "epoch 73, loss 0.23621, train_acc 0.9209, valid_acc 0.5402, Time 00:04:39,lr 0.1\n",
      "epoch 74, loss 0.43257, train_acc 0.8519, valid_acc 0.8424, Time 00:00:30,lr 0.1\n",
      "# back grad turn.\n",
      "epoch 75, loss 0.23036, train_acc 0.9237, valid_acc 0.5233, Time 00:04:39,lr 0.1\n",
      "epoch 76, loss 0.43108, train_acc 0.8520, valid_acc 0.8423, Time 00:00:30,lr 0.1\n",
      "# back grad turn.\n",
      "epoch 77, loss 0.23779, train_acc 0.9219, valid_acc 0.4739, Time 00:04:40,lr 0.1\n",
      "epoch 78, loss 0.43071, train_acc 0.8528, valid_acc 0.8455, Time 00:00:30,lr 0.1\n",
      "# back grad turn.\n",
      "epoch 79, loss 0.23049, train_acc 0.9240, valid_acc 0.5284, Time 00:04:40,lr 0.1\n"
     ]
    }
   ],
   "source": [
    "net1 = ResNet(10)\n",
    "net1.initialize(ctx=ctx)\n",
    "net1.hybridize()\n",
    "net1.load_params(\"../../models/resnet18_me_80e\", ctx=ctx)\n",
    "\n",
    "net2 = ResNet(10)\n",
    "net2.initialize(ctx=ctx)\n",
    "net2.hybridize()\n",
    "net2.load_params(\"../../models/resnet18_me_80e\", ctx=ctx)\n",
    "\n",
    "num_epochs = 80\n",
    "learning_rate = 0.1\n",
    "weight_decay = 1e-4\n",
    "lr_period = [80, 150]\n",
    "lr_decay=0.1\n",
    "log_file = None\n",
    "loss_f = gluon.loss.SoftmaxCrossEntropyLoss()\n",
    "\n",
    "train_data, valid_data = data_loader(batch_size, transform_train_DA1, num_workers=2)\n",
    "train(net2, train_data, valid_data, num_epochs, learning_rate, lr_period, lr_decay, weight_decay, ctx, \n",
    "      [], log_file, False, loss_f, back_grad_args={'net': net1, 'max_iters': 10, 'lr': 0.5, 'take_turn': True})#, 'show_iters': 1000})\n",
    "net2.save_params(\"../../models/resnet18_me_80e_backgrad_taketurn_80e\")"
   ]
  },
  {
   "cell_type": "code",
   "execution_count": 13,
   "metadata": {
    "ExecuteTime": {
     "end_time": "2018-03-06T07:59:03.221377Z",
     "start_time": "2018-03-06T07:45:20.613045Z"
    },
    "scrolled": false
   },
   "outputs": [
    {
     "name": "stdout",
     "output_type": "stream",
     "text": [
      "# back grad turn.\n",
      "epoch 0, loss 0.94735, train_acc 0.6747, valid_acc 0.7750, Time 00:04:32,lr 0.1\n",
      "# back grad turn.\n",
      "epoch 1, loss 0.31330, train_acc 0.8934, valid_acc 0.7914, Time 00:04:43,lr 0.1\n",
      "# back grad turn.\n"
     ]
    },
    {
     "name": "stderr",
     "output_type": "stream",
     "text": [
      "Process Process-9:\n",
      "Process Process-10:\n",
      "Traceback (most recent call last):\n",
      "  File \"/usr/lib/python2.7/multiprocessing/process.py\", line 258, in _bootstrap\n",
      "Traceback (most recent call last):\n",
      "  File \"/usr/lib/python2.7/multiprocessing/process.py\", line 258, in _bootstrap\n",
      "    self.run()\n",
      "    self.run()\n",
      "  File \"/usr/lib/python2.7/multiprocessing/process.py\", line 114, in run\n",
      "  File \"/usr/lib/python2.7/multiprocessing/process.py\", line 114, in run\n",
      "    self._target(*self._args, **self._kwargs)\n",
      "  File \"/usr/local/lib/python2.7/dist-packages/mxnet/gluon/data/dataloader.py\", line 120, in worker_loop\n",
      "    self._target(*self._args, **self._kwargs)\n",
      "  File \"/usr/local/lib/python2.7/dist-packages/mxnet/gluon/data/dataloader.py\", line 120, in worker_loop\n",
      "    data_queue.put((idx, batch))\n",
      "    data_queue.put((idx, batch))\n",
      "  File \"/usr/lib/python2.7/multiprocessing/queues.py\", line 101, in put\n",
      "  File \"/usr/lib/python2.7/multiprocessing/queues.py\", line 101, in put\n",
      "    if not self._sem.acquire(block, timeout):\n",
      "    if not self._sem.acquire(block, timeout):\n",
      "KeyboardInterrupt\n",
      "KeyboardInterrupt\n"
     ]
    },
    {
     "ename": "KeyboardInterrupt",
     "evalue": "",
     "output_type": "error",
     "traceback": [
      "\u001b[0;31m---------------------------------------------------------------------------\u001b[0m",
      "\u001b[0;31mKeyboardInterrupt\u001b[0m                         Traceback (most recent call last)",
      "\u001b[0;32m<ipython-input-13-94be85b6ab24>\u001b[0m in \u001b[0;36m<module>\u001b[0;34m()\u001b[0m\n\u001b[1;32m     19\u001b[0m \u001b[0mtrain_data\u001b[0m\u001b[0;34m,\u001b[0m \u001b[0mvalid_data\u001b[0m \u001b[0;34m=\u001b[0m \u001b[0mdata_loader\u001b[0m\u001b[0;34m(\u001b[0m\u001b[0mbatch_size\u001b[0m\u001b[0;34m,\u001b[0m \u001b[0mtransform_train_DA1\u001b[0m\u001b[0;34m,\u001b[0m \u001b[0mnum_workers\u001b[0m\u001b[0;34m=\u001b[0m\u001b[0;36m2\u001b[0m\u001b[0;34m)\u001b[0m\u001b[0;34m\u001b[0m\u001b[0m\n\u001b[1;32m     20\u001b[0m train(net2, train_data, valid_data, num_epochs, learning_rate, lr_period, lr_decay, weight_decay, ctx, \n\u001b[0;32m---> 21\u001b[0;31m       [], log_file, False, loss_f, back_grad_args={'net': net1, 'max_iters': 10, 'lr': 0.5})#, 'show_iters': 1000})\n\u001b[0m\u001b[1;32m     22\u001b[0m \u001b[0mnet2\u001b[0m\u001b[0;34m.\u001b[0m\u001b[0msave_params\u001b[0m\u001b[0;34m(\u001b[0m\u001b[0;34m\"../../models/resnet18_me_80e_backgrad_80e\"\u001b[0m\u001b[0;34m)\u001b[0m\u001b[0;34m\u001b[0m\u001b[0m\n",
      "\u001b[0;32m<ipython-input-11-d7a0c416cf60>\u001b[0m in \u001b[0;36mtrain\u001b[0;34m(net, train_data, valid_data, num_epochs, lr, lr_period, lr_decay, wd, ctx, w_key, output_file, verbose, loss_f, use_mixup, mixup_alpha, back_grad_args)\u001b[0m\n\u001b[1;32m     96\u001b[0m         \u001b[0;32mif\u001b[0m \u001b[0;32mnot\u001b[0m \u001b[0muse_mixup\u001b[0m\u001b[0;34m:\u001b[0m\u001b[0;34m\u001b[0m\u001b[0m\n\u001b[1;32m     97\u001b[0m             \u001b[0;32mfor\u001b[0m \u001b[0mdata\u001b[0m\u001b[0;34m,\u001b[0m \u001b[0mlabel\u001b[0m \u001b[0;32min\u001b[0m \u001b[0mtrain_data\u001b[0m\u001b[0;34m:\u001b[0m\u001b[0;34m\u001b[0m\u001b[0m\n\u001b[0;32m---> 98\u001b[0;31m                 \u001b[0m_loss\u001b[0m\u001b[0;34m,\u001b[0m \u001b[0m_acc\u001b[0m \u001b[0;34m=\u001b[0m \u001b[0mtrain_batch\u001b[0m\u001b[0;34m(\u001b[0m\u001b[0mdata\u001b[0m\u001b[0;34m,\u001b[0m \u001b[0mlabel\u001b[0m\u001b[0;34m,\u001b[0m \u001b[0mi\u001b[0m\u001b[0;34m,\u001b[0m \u001b[0muse_backgrad\u001b[0m\u001b[0;34m)\u001b[0m\u001b[0;34m\u001b[0m\u001b[0m\n\u001b[0m\u001b[1;32m     99\u001b[0m                 \u001b[0mtrain_loss\u001b[0m \u001b[0;34m+=\u001b[0m \u001b[0m_loss\u001b[0m\u001b[0;34m\u001b[0m\u001b[0m\n\u001b[1;32m    100\u001b[0m                 \u001b[0mtrain_acc\u001b[0m \u001b[0;34m+=\u001b[0m \u001b[0m_acc\u001b[0m\u001b[0;34m\u001b[0m\u001b[0m\n",
      "\u001b[0;32m<ipython-input-11-d7a0c416cf60>\u001b[0m in \u001b[0;36mtrain_batch\u001b[0;34m(data, label, i, use_backgrad)\u001b[0m\n\u001b[1;32m     41\u001b[0m         \u001b[0mtrainer\u001b[0m\u001b[0;34m.\u001b[0m\u001b[0mstep\u001b[0m\u001b[0;34m(\u001b[0m\u001b[0mdata\u001b[0m\u001b[0;34m.\u001b[0m\u001b[0mshape\u001b[0m\u001b[0;34m[\u001b[0m\u001b[0;36m0\u001b[0m\u001b[0;34m]\u001b[0m\u001b[0;34m)\u001b[0m\u001b[0;34m\u001b[0m\u001b[0m\n\u001b[1;32m     42\u001b[0m \u001b[0;34m\u001b[0m\u001b[0m\n\u001b[0;32m---> 43\u001b[0;31m         \u001b[0m_loss\u001b[0m \u001b[0;34m=\u001b[0m \u001b[0mnd\u001b[0m\u001b[0;34m.\u001b[0m\u001b[0mmean\u001b[0m\u001b[0;34m(\u001b[0m\u001b[0mloss\u001b[0m\u001b[0;34m)\u001b[0m\u001b[0;34m.\u001b[0m\u001b[0masscalar\u001b[0m\u001b[0;34m(\u001b[0m\u001b[0;34m)\u001b[0m\u001b[0;34m\u001b[0m\u001b[0m\n\u001b[0m\u001b[1;32m     44\u001b[0m         \u001b[0;32mif\u001b[0m \u001b[0;32mnot\u001b[0m \u001b[0muse_mixup\u001b[0m\u001b[0;34m:\u001b[0m\u001b[0;34m\u001b[0m\u001b[0m\n\u001b[1;32m     45\u001b[0m             \u001b[0m_acc\u001b[0m \u001b[0;34m=\u001b[0m \u001b[0mutils\u001b[0m\u001b[0;34m.\u001b[0m\u001b[0maccuracy\u001b[0m\u001b[0;34m(\u001b[0m\u001b[0moutput\u001b[0m\u001b[0;34m,\u001b[0m \u001b[0mlabel\u001b[0m\u001b[0;34m)\u001b[0m\u001b[0;34m\u001b[0m\u001b[0m\n",
      "\u001b[0;32m/usr/local/lib/python2.7/dist-packages/mxnet/ndarray/ndarray.pyc\u001b[0m in \u001b[0;36masscalar\u001b[0;34m(self)\u001b[0m\n\u001b[1;32m   1833\u001b[0m         \u001b[0;32mif\u001b[0m \u001b[0mself\u001b[0m\u001b[0;34m.\u001b[0m\u001b[0mshape\u001b[0m \u001b[0;34m!=\u001b[0m \u001b[0;34m(\u001b[0m\u001b[0;36m1\u001b[0m\u001b[0;34m,\u001b[0m\u001b[0;34m)\u001b[0m\u001b[0;34m:\u001b[0m\u001b[0;34m\u001b[0m\u001b[0m\n\u001b[1;32m   1834\u001b[0m             \u001b[0;32mraise\u001b[0m \u001b[0mValueError\u001b[0m\u001b[0;34m(\u001b[0m\u001b[0;34m\"The current array is not a scalar\"\u001b[0m\u001b[0;34m)\u001b[0m\u001b[0;34m\u001b[0m\u001b[0m\n\u001b[0;32m-> 1835\u001b[0;31m         \u001b[0;32mreturn\u001b[0m \u001b[0mself\u001b[0m\u001b[0;34m.\u001b[0m\u001b[0masnumpy\u001b[0m\u001b[0;34m(\u001b[0m\u001b[0;34m)\u001b[0m\u001b[0;34m[\u001b[0m\u001b[0;36m0\u001b[0m\u001b[0;34m]\u001b[0m\u001b[0;34m\u001b[0m\u001b[0m\n\u001b[0m\u001b[1;32m   1836\u001b[0m \u001b[0;34m\u001b[0m\u001b[0m\n\u001b[1;32m   1837\u001b[0m     \u001b[0;32mdef\u001b[0m \u001b[0mastype\u001b[0m\u001b[0;34m(\u001b[0m\u001b[0mself\u001b[0m\u001b[0;34m,\u001b[0m \u001b[0mdtype\u001b[0m\u001b[0;34m)\u001b[0m\u001b[0;34m:\u001b[0m\u001b[0;34m\u001b[0m\u001b[0m\n",
      "\u001b[0;32m/usr/local/lib/python2.7/dist-packages/mxnet/ndarray/ndarray.pyc\u001b[0m in \u001b[0;36masnumpy\u001b[0;34m(self)\u001b[0m\n\u001b[1;32m   1815\u001b[0m             \u001b[0mself\u001b[0m\u001b[0;34m.\u001b[0m\u001b[0mhandle\u001b[0m\u001b[0;34m,\u001b[0m\u001b[0;34m\u001b[0m\u001b[0m\n\u001b[1;32m   1816\u001b[0m             \u001b[0mdata\u001b[0m\u001b[0;34m.\u001b[0m\u001b[0mctypes\u001b[0m\u001b[0;34m.\u001b[0m\u001b[0mdata_as\u001b[0m\u001b[0;34m(\u001b[0m\u001b[0mctypes\u001b[0m\u001b[0;34m.\u001b[0m\u001b[0mc_void_p\u001b[0m\u001b[0;34m)\u001b[0m\u001b[0;34m,\u001b[0m\u001b[0;34m\u001b[0m\u001b[0m\n\u001b[0;32m-> 1817\u001b[0;31m             ctypes.c_size_t(data.size)))\n\u001b[0m\u001b[1;32m   1818\u001b[0m         \u001b[0;32mreturn\u001b[0m \u001b[0mdata\u001b[0m\u001b[0;34m\u001b[0m\u001b[0m\n\u001b[1;32m   1819\u001b[0m \u001b[0;34m\u001b[0m\u001b[0m\n",
      "\u001b[0;31mKeyboardInterrupt\u001b[0m: "
     ]
    }
   ],
   "source": [
    "net1 = ResNet(10)\n",
    "net1.initialize(ctx=ctx)\n",
    "net1.hybridize()\n",
    "net1.load_params(\"../../models/resnet18_me_80e\", ctx=ctx)\n",
    "\n",
    "net2 = ResNet(10)\n",
    "net2.initialize(ctx=ctx)\n",
    "net2.hybridize()\n",
    "net2.load_params(\"../../models/resnet18_me_80e\", ctx=ctx)\n",
    "\n",
    "num_epochs = 80\n",
    "learning_rate = 0.1\n",
    "weight_decay = 1e-4\n",
    "lr_period = [80, 150]\n",
    "lr_decay=0.1\n",
    "log_file = None\n",
    "loss_f = gluon.loss.SoftmaxCrossEntropyLoss()\n",
    "\n",
    "train_data, valid_data = data_loader(batch_size, transform_train_DA1, num_workers=2)\n",
    "train(net2, train_data, valid_data, num_epochs, learning_rate, lr_period, lr_decay, weight_decay, ctx, \n",
    "      [], log_file, False, loss_f, back_grad_args={'net': net1, 'max_iters': 10, 'lr': 0.5})#, 'show_iters': 1000})\n",
    "net2.save_params(\"../../models/resnet18_me_80e_backgrad_80e\")"
   ]
  },
  {
   "cell_type": "code",
   "execution_count": null,
   "metadata": {
    "ExecuteTime": {
     "start_time": "2018-03-05T16:08:43.650Z"
    }
   },
   "outputs": [
    {
     "name": "stdout",
     "output_type": "stream",
     "text": [
      "# back grad turn.\n",
      "epoch 0, loss 0.68236, train_acc 0.7756, valid_acc 0.8305, Time 00:02:33,lr 0.1\n",
      "# back grad turn.\n",
      "epoch 1, loss 0.41727, train_acc 0.8557, valid_acc 0.7920, Time 00:02:36,lr 0.1\n",
      "# back grad turn.\n",
      "epoch 2, loss 0.39819, train_acc 0.8667, valid_acc 0.8122, Time 00:02:34,lr 0.1\n",
      "# back grad turn.\n",
      "epoch 3, loss 0.38315, train_acc 0.8684, valid_acc 0.8128, Time 00:02:34,lr 0.1\n",
      "# back grad turn.\n",
      "epoch 4, loss 0.38068, train_acc 0.8709, valid_acc 0.8430, Time 00:02:35,lr 0.1\n",
      "# back grad turn.\n",
      "epoch 5, loss 0.37842, train_acc 0.8715, valid_acc 0.7407, Time 00:02:38,lr 0.1\n",
      "# back grad turn.\n",
      "epoch 6, loss 0.37304, train_acc 0.8726, valid_acc 0.8007, Time 00:02:32,lr 0.1\n",
      "# back grad turn.\n",
      "epoch 7, loss 0.37603, train_acc 0.8710, valid_acc 0.8216, Time 00:02:35,lr 0.1\n",
      "# back grad turn.\n",
      "epoch 8, loss 0.36470, train_acc 0.8754, valid_acc 0.7756, Time 00:02:39,lr 0.1\n",
      "# back grad turn.\n",
      "epoch 9, loss 0.35957, train_acc 0.8786, valid_acc 0.8319, Time 00:02:42,lr 0.1\n",
      "# back grad turn.\n",
      "epoch 10, loss 0.35974, train_acc 0.8779, valid_acc 0.7839, Time 00:02:35,lr 0.1\n",
      "# back grad turn.\n",
      "epoch 11, loss 0.36227, train_acc 0.8785, valid_acc 0.8363, Time 00:02:34,lr 0.1\n",
      "# back grad turn.\n",
      "epoch 12, loss 0.35390, train_acc 0.8794, valid_acc 0.8029, Time 00:02:34,lr 0.1\n",
      "# back grad turn.\n"
     ]
    }
   ],
   "source": [
    "net1 = ResNet(10)\n",
    "net1.initialize(ctx=ctx)\n",
    "net1.hybridize()\n",
    "net1.load_params(\"../../models/resnet18_me_80e\", ctx=ctx)\n",
    "\n",
    "net2 = ResNet(10)\n",
    "net2.initialize(ctx=ctx)\n",
    "net2.hybridize()\n",
    "net2.load_params(\"../../models/resnet18_me_80e\", ctx=ctx)\n",
    "\n",
    "num_epochs = 80\n",
    "learning_rate = 0.1\n",
    "weight_decay = 1e-4\n",
    "lr_period = [80, 150]\n",
    "lr_decay=0.1\n",
    "log_file = None\n",
    "loss_f = gluon.loss.SoftmaxCrossEntropyLoss()\n",
    "\n",
    "train_data, valid_data = data_loader(batch_size, transform_train_DA1, num_workers=2)\n",
    "train(net2, train_data, valid_data, num_epochs, learning_rate, lr_period, lr_decay, weight_decay, ctx, \n",
    "      [], log_file, False, loss_f, back_grad_args={'net': net1, 'max_iters': 10, 'lr': 0.5, 'prob': 0.5})#, 'show_iters': 1000})\n",
    "net2.save_params(\"../../models/resnet18_me_80e_backgrad_prob_80e\")"
   ]
  },
  {
   "cell_type": "code",
   "execution_count": 16,
   "metadata": {
    "ExecuteTime": {
     "end_time": "2018-03-05T16:00:32.310586Z",
     "start_time": "2018-03-05T15:53:10.873907Z"
    }
   },
   "outputs": [
    {
     "name": "stderr",
     "output_type": "stream",
     "text": [
      "Traceback (most recent call last):\n",
      "  File \"/usr/lib/python2.7/multiprocessing/queues.py\", line 268, in _feed\n",
      "    send(obj)\n",
      "  File \"/usr/local/lib/python2.7/dist-packages/mxnet/gluon/data/dataloader.py\", line 59, in send\n",
      "    self.send_bytes(buf.getvalue())\n",
      "IOError: [Errno 32] Broken pipe\n"
     ]
    },
    {
     "name": "stdout",
     "output_type": "stream",
     "text": [
      "epoch 0, loss 0.33815, train_acc 0.8833, valid_acc 0.8433, Time 00:00:31,lr 0.1\n",
      "# use back grad.\n",
      "epoch 1, loss 0.61523, train_acc 0.7929, valid_acc 0.7767, Time 00:04:48,lr 0.1\n",
      "# use back grad.\n"
     ]
    },
    {
     "name": "stderr",
     "output_type": "stream",
     "text": [
      "Process Process-651:\n",
      "Process Process-652:\n",
      "Traceback (most recent call last):\n",
      "Traceback (most recent call last):\n",
      "  File \"/usr/lib/python2.7/multiprocessing/process.py\", line 258, in _bootstrap\n",
      "  File \"/usr/lib/python2.7/multiprocessing/process.py\", line 258, in _bootstrap\n",
      "    self.run()\n",
      "  File \"/usr/lib/python2.7/multiprocessing/process.py\", line 114, in run\n",
      "    self._target(*self._args, **self._kwargs)\n",
      "  File \"/usr/local/lib/python2.7/dist-packages/mxnet/gluon/data/dataloader.py\", line 120, in worker_loop\n",
      "    data_queue.put((idx, batch))\n",
      "  File \"/usr/lib/python2.7/multiprocessing/queues.py\", line 101, in put\n",
      "    if not self._sem.acquire(block, timeout):\n",
      "KeyboardInterrupt\n",
      "    self.run()\n",
      "  File \"/usr/lib/python2.7/multiprocessing/process.py\", line 114, in run\n",
      "    self._target(*self._args, **self._kwargs)\n",
      "  File \"/usr/local/lib/python2.7/dist-packages/mxnet/gluon/data/dataloader.py\", line 120, in worker_loop\n",
      "    data_queue.put((idx, batch))\n",
      "  File \"/usr/lib/python2.7/multiprocessing/queues.py\", line 101, in put\n",
      "    if not self._sem.acquire(block, timeout):\n",
      "KeyboardInterrupt\n"
     ]
    },
    {
     "ename": "KeyboardInterrupt",
     "evalue": "",
     "output_type": "error",
     "traceback": [
      "\u001b[0;31m---------------------------------------------------------------------------\u001b[0m",
      "\u001b[0;31mKeyboardInterrupt\u001b[0m                         Traceback (most recent call last)",
      "\u001b[0;32m<ipython-input-16-d1e6964b1163>\u001b[0m in \u001b[0;36m<module>\u001b[0;34m()\u001b[0m\n\u001b[1;32m     19\u001b[0m \u001b[0mtrain_data\u001b[0m\u001b[0;34m,\u001b[0m \u001b[0mvalid_data\u001b[0m \u001b[0;34m=\u001b[0m \u001b[0mdata_loader\u001b[0m\u001b[0;34m(\u001b[0m\u001b[0mbatch_size\u001b[0m\u001b[0;34m,\u001b[0m \u001b[0mtransform_train_DA1\u001b[0m\u001b[0;34m,\u001b[0m \u001b[0mnum_workers\u001b[0m\u001b[0;34m=\u001b[0m\u001b[0;36m2\u001b[0m\u001b[0;34m)\u001b[0m\u001b[0;34m\u001b[0m\u001b[0m\n\u001b[1;32m     20\u001b[0m train(net2, train_data, valid_data, num_epochs, learning_rate, lr_period, lr_decay, weight_decay, ctx, \n\u001b[0;32m---> 21\u001b[0;31m       [], log_file, False, loss_f, back_grad_args={'net': net1, 'max_iters': 10, 'lr': 0.5, 'prob': 0.5})#, 'show_iters': 1000})\n\u001b[0m\u001b[1;32m     22\u001b[0m \u001b[0mnet2\u001b[0m\u001b[0;34m.\u001b[0m\u001b[0msave_params\u001b[0m\u001b[0;34m(\u001b[0m\u001b[0;34m\"../../models/resnet18_me_200e_200iter\"\u001b[0m\u001b[0;34m)\u001b[0m\u001b[0;34m\u001b[0m\u001b[0m\n",
      "\u001b[0;32m<ipython-input-15-91155cf2bb45>\u001b[0m in \u001b[0;36mtrain\u001b[0;34m(net, train_data, valid_data, num_epochs, lr, lr_period, lr_decay, wd, ctx, w_key, output_file, verbose, loss_f, use_mixup, mixup_alpha, back_grad_args)\u001b[0m\n\u001b[1;32m     95\u001b[0m         \u001b[0;32mif\u001b[0m \u001b[0;32mnot\u001b[0m \u001b[0muse_mixup\u001b[0m\u001b[0;34m:\u001b[0m\u001b[0;34m\u001b[0m\u001b[0m\n\u001b[1;32m     96\u001b[0m             \u001b[0;32mfor\u001b[0m \u001b[0mdata\u001b[0m\u001b[0;34m,\u001b[0m \u001b[0mlabel\u001b[0m \u001b[0;32min\u001b[0m \u001b[0mtrain_data\u001b[0m\u001b[0;34m:\u001b[0m\u001b[0;34m\u001b[0m\u001b[0m\n\u001b[0;32m---> 97\u001b[0;31m                 \u001b[0m_loss\u001b[0m\u001b[0;34m,\u001b[0m \u001b[0m_acc\u001b[0m \u001b[0;34m=\u001b[0m \u001b[0mtrain_batch\u001b[0m\u001b[0;34m(\u001b[0m\u001b[0mdata\u001b[0m\u001b[0;34m,\u001b[0m \u001b[0mlabel\u001b[0m\u001b[0;34m,\u001b[0m \u001b[0mi\u001b[0m\u001b[0;34m,\u001b[0m \u001b[0muse_backgrad\u001b[0m\u001b[0;34m)\u001b[0m\u001b[0;34m\u001b[0m\u001b[0m\n\u001b[0m\u001b[1;32m     98\u001b[0m                 \u001b[0mtrain_loss\u001b[0m \u001b[0;34m+=\u001b[0m \u001b[0m_loss\u001b[0m\u001b[0;34m\u001b[0m\u001b[0m\n\u001b[1;32m     99\u001b[0m                 \u001b[0mtrain_acc\u001b[0m \u001b[0;34m+=\u001b[0m \u001b[0m_acc\u001b[0m\u001b[0;34m\u001b[0m\u001b[0m\n",
      "\u001b[0;32m<ipython-input-15-91155cf2bb45>\u001b[0m in \u001b[0;36mtrain_batch\u001b[0;34m(data, label, i, use_backgrad)\u001b[0m\n\u001b[1;32m     39\u001b[0m         \u001b[0mtrainer\u001b[0m\u001b[0;34m.\u001b[0m\u001b[0mstep\u001b[0m\u001b[0;34m(\u001b[0m\u001b[0mdata\u001b[0m\u001b[0;34m.\u001b[0m\u001b[0mshape\u001b[0m\u001b[0;34m[\u001b[0m\u001b[0;36m0\u001b[0m\u001b[0;34m]\u001b[0m\u001b[0;34m)\u001b[0m\u001b[0;34m\u001b[0m\u001b[0m\n\u001b[1;32m     40\u001b[0m \u001b[0;34m\u001b[0m\u001b[0m\n\u001b[0;32m---> 41\u001b[0;31m         \u001b[0m_loss\u001b[0m \u001b[0;34m=\u001b[0m \u001b[0mnd\u001b[0m\u001b[0;34m.\u001b[0m\u001b[0mmean\u001b[0m\u001b[0;34m(\u001b[0m\u001b[0mloss\u001b[0m\u001b[0;34m)\u001b[0m\u001b[0;34m.\u001b[0m\u001b[0masscalar\u001b[0m\u001b[0;34m(\u001b[0m\u001b[0;34m)\u001b[0m\u001b[0;34m\u001b[0m\u001b[0m\n\u001b[0m\u001b[1;32m     42\u001b[0m         \u001b[0;32mif\u001b[0m \u001b[0;32mnot\u001b[0m \u001b[0muse_mixup\u001b[0m\u001b[0;34m:\u001b[0m\u001b[0;34m\u001b[0m\u001b[0m\n\u001b[1;32m     43\u001b[0m             \u001b[0m_acc\u001b[0m \u001b[0;34m=\u001b[0m \u001b[0mutils\u001b[0m\u001b[0;34m.\u001b[0m\u001b[0maccuracy\u001b[0m\u001b[0;34m(\u001b[0m\u001b[0moutput\u001b[0m\u001b[0;34m,\u001b[0m \u001b[0mlabel\u001b[0m\u001b[0;34m)\u001b[0m\u001b[0;34m\u001b[0m\u001b[0m\n",
      "\u001b[0;32m/usr/local/lib/python2.7/dist-packages/mxnet/ndarray/ndarray.pyc\u001b[0m in \u001b[0;36masscalar\u001b[0;34m(self)\u001b[0m\n\u001b[1;32m   1833\u001b[0m         \u001b[0;32mif\u001b[0m \u001b[0mself\u001b[0m\u001b[0;34m.\u001b[0m\u001b[0mshape\u001b[0m \u001b[0;34m!=\u001b[0m \u001b[0;34m(\u001b[0m\u001b[0;36m1\u001b[0m\u001b[0;34m,\u001b[0m\u001b[0;34m)\u001b[0m\u001b[0;34m:\u001b[0m\u001b[0;34m\u001b[0m\u001b[0m\n\u001b[1;32m   1834\u001b[0m             \u001b[0;32mraise\u001b[0m \u001b[0mValueError\u001b[0m\u001b[0;34m(\u001b[0m\u001b[0;34m\"The current array is not a scalar\"\u001b[0m\u001b[0;34m)\u001b[0m\u001b[0;34m\u001b[0m\u001b[0m\n\u001b[0;32m-> 1835\u001b[0;31m         \u001b[0;32mreturn\u001b[0m \u001b[0mself\u001b[0m\u001b[0;34m.\u001b[0m\u001b[0masnumpy\u001b[0m\u001b[0;34m(\u001b[0m\u001b[0;34m)\u001b[0m\u001b[0;34m[\u001b[0m\u001b[0;36m0\u001b[0m\u001b[0;34m]\u001b[0m\u001b[0;34m\u001b[0m\u001b[0m\n\u001b[0m\u001b[1;32m   1836\u001b[0m \u001b[0;34m\u001b[0m\u001b[0m\n\u001b[1;32m   1837\u001b[0m     \u001b[0;32mdef\u001b[0m \u001b[0mastype\u001b[0m\u001b[0;34m(\u001b[0m\u001b[0mself\u001b[0m\u001b[0;34m,\u001b[0m \u001b[0mdtype\u001b[0m\u001b[0;34m)\u001b[0m\u001b[0;34m:\u001b[0m\u001b[0;34m\u001b[0m\u001b[0m\n",
      "\u001b[0;32m/usr/local/lib/python2.7/dist-packages/mxnet/ndarray/ndarray.pyc\u001b[0m in \u001b[0;36masnumpy\u001b[0;34m(self)\u001b[0m\n\u001b[1;32m   1815\u001b[0m             \u001b[0mself\u001b[0m\u001b[0;34m.\u001b[0m\u001b[0mhandle\u001b[0m\u001b[0;34m,\u001b[0m\u001b[0;34m\u001b[0m\u001b[0m\n\u001b[1;32m   1816\u001b[0m             \u001b[0mdata\u001b[0m\u001b[0;34m.\u001b[0m\u001b[0mctypes\u001b[0m\u001b[0;34m.\u001b[0m\u001b[0mdata_as\u001b[0m\u001b[0;34m(\u001b[0m\u001b[0mctypes\u001b[0m\u001b[0;34m.\u001b[0m\u001b[0mc_void_p\u001b[0m\u001b[0;34m)\u001b[0m\u001b[0;34m,\u001b[0m\u001b[0;34m\u001b[0m\u001b[0m\n\u001b[0;32m-> 1817\u001b[0;31m             ctypes.c_size_t(data.size)))\n\u001b[0m\u001b[1;32m   1818\u001b[0m         \u001b[0;32mreturn\u001b[0m \u001b[0mdata\u001b[0m\u001b[0;34m\u001b[0m\u001b[0m\n\u001b[1;32m   1819\u001b[0m \u001b[0;34m\u001b[0m\u001b[0m\n",
      "\u001b[0;31mKeyboardInterrupt\u001b[0m: "
     ]
    }
   ],
   "source": [
    "net1 = ResNet(10)\n",
    "net1.initialize(ctx=ctx)\n",
    "net1.hybridize()\n",
    "net1.load_params(\"../../models/resnet18_me_80e\", ctx=ctx)\n",
    "\n",
    "net2 = ResNet(10)\n",
    "net2.initialize(ctx=ctx)\n",
    "net2.hybridize()\n",
    "net2.load_params(\"../../models/resnet18_me_80e\", ctx=ctx)\n",
    "\n",
    "num_epochs = 20\n",
    "learning_rate = 0.1\n",
    "weight_decay = 1e-4\n",
    "lr_period = [80, 150]\n",
    "lr_decay=0.1\n",
    "log_file = None\n",
    "loss_f = gluon.loss.SoftmaxCrossEntropyLoss()\n",
    "\n",
    "train_data, valid_data = data_loader(batch_size, transform_train_DA1, num_workers=2)\n",
    "train(net2, train_data, valid_data, num_epochs, learning_rate, lr_period, lr_decay, weight_decay, ctx, \n",
    "      [], log_file, False, loss_f, back_grad_args={'net': net1, 'max_iters': 10, 'lr': 0.5, 'prob': 0.5})#, 'show_iters': 1000})\n",
    "net2.save_params(\"../../models/resnet18_me_200e_200iter\")"
   ]
  },
  {
   "cell_type": "code",
   "execution_count": null,
   "metadata": {
    "collapsed": true
   },
   "outputs": [],
   "source": []
  }
 ],
 "metadata": {
  "kernelspec": {
   "display_name": "Python 2",
   "language": "python",
   "name": "python2"
  },
  "language_info": {
   "codemirror_mode": {
    "name": "ipython",
    "version": 2
   },
   "file_extension": ".py",
   "mimetype": "text/x-python",
   "name": "python",
   "nbconvert_exporter": "python",
   "pygments_lexer": "ipython2",
   "version": "2.7.12"
  },
  "ssap_exp_config": {
   "error_alert": "Error Occurs!",
   "initial": [],
   "max_iteration": 1000,
   "recv_id": "",
   "running": [],
   "summary": [],
   "version": "1.1.1"
  }
 },
 "nbformat": 4,
 "nbformat_minor": 1
}
