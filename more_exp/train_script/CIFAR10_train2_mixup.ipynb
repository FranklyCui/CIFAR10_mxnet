{
 "cells": [
  {
   "cell_type": "markdown",
   "metadata": {
    "ExecuteTime": {
     "end_time": "2017-11-05T03:46:12.021724Z",
     "start_time": "2017-11-05T03:46:11.585655Z"
    },
    "collapsed": true
   },
   "source": [
    "# 0. new change is in section 3. data argument: mixup\n",
    "1. add mixup (3.data augment/train/Exp2:res164_v2 + DA2 + mixup)</br>\n",
    "2. add num_workers to dataloader </br>\n",
    "3. add resnet152_v2 fintune exp</br>"
   ]
  },
  {
   "cell_type": "markdown",
   "metadata": {},
   "source": [
    "## 0.0 TODO list\n",
    "\n",
    "#### resnet164_e300_mixup实验效果不好\n"
   ]
  },
  {
   "cell_type": "markdown",
   "metadata": {},
   "source": [
    "# 1. import needed package and set global env\n",
    "\n",
    "you need to download CIFAR10 dataset from kaggle and then extract to \\${data_dir}, (such as \"/root/Workspace/data/CIFAR10_kaggle/\")<br/>\n",
    "\\${data_dir} should like this(dir \"train_valid_test\" will generate in data prepared model):</br>\n",
    "![](../../_image/data_dir.png)<br/>\n",
    "and then set variable\n",
    "```\n",
    "set var data_dir=${data_dir}\n",
    "```"
   ]
  },
  {
   "cell_type": "code",
   "execution_count": 1,
   "metadata": {
    "ExecuteTime": {
     "end_time": "2018-03-01T06:32:47.406027Z",
     "start_time": "2018-03-01T06:32:42.929058Z"
    },
    "collapsed": true
   },
   "outputs": [],
   "source": [
    "from mxnet import autograd\n",
    "from mxnet import gluon\n",
    "from mxnet import image\n",
    "from mxnet import init\n",
    "from mxnet import nd\n",
    "from mxnet.gluon.data import vision\n",
    "import numpy as np\n",
    "import random\n",
    "import mxnet as mx\n",
    "import sys\n",
    "sys.path.insert(0, '../../utils')\n",
    "from netlib import *\n",
    "import os\n",
    "import shutil\n",
    "\n",
    "ctx = mx.gpu(0)\n",
    "\n",
    "# data_dir = \"/root/Workspace/data/CIFAR10_kaggle/\"\n",
    "data_dir = \"/home/hui/dataset/CIFAR10_kaggle/\"\n",
    "train_dir = \"train\"\n",
    "test_dir = \"test\"\n",
    "label_file = \"trainLabels.csv\"\n",
    "input_dir = 'train_valid_test/'\n",
    "valid_ratio = 0.1\n",
    "batch_size = 32\n",
    "\n",
    "force_recreate_dir = False\n",
    "\n",
    "def mkdir_if_not_exist(path):\n",
    "    if not os.path.exists(os.path.join(*path)):\n",
    "        os.makedirs(os.path.join(*path))"
   ]
  },
  {
   "cell_type": "markdown",
   "metadata": {},
   "source": [
    "# 2. data prepared(need not run this block repeatly)\n",
    "if you have do dataset prepared and generate 'train_valid_test' dir to orgnize data, just ignore this block(that mean you need not run this model and just skip it)<br/>\n",
    "\n",
    "the step may cost about 40~60min.<br/>\n",
    "\n",
    "so to avoid run this model repeatly, we check the created dir, and if exist will not create again, if you want to recreate them, set force_recreate_dir=True.<br/>"
   ]
  },
  {
   "cell_type": "code",
   "execution_count": 2,
   "metadata": {
    "ExecuteTime": {
     "end_time": "2018-03-01T06:32:49.370946Z",
     "start_time": "2018-03-01T06:32:49.324070Z"
    }
   },
   "outputs": [
    {
     "name": "stdout",
     "output_type": "stream",
     "text": [
      "train_valid_test dir has been created and if you want to recreate them set force_recreate=True(normally you needn't to do it.)\n"
     ]
    }
   ],
   "source": [
    "\"\"\"\n",
    "data prepare, reference to http://zh.gluon.ai/chapter_computer-vision/kaggle-gluon-cifar10.html\n",
    "\"\"\"\n",
    "def reorg_cifar10_data(data_dir, label_file, train_dir, test_dir, input_dir, valid_ratio):\n",
    "    with open(os.path.join(data_dir, label_file), 'r') as f:\n",
    "        lines = f.readlines()[1:]\n",
    "        tokens = [l.rstrip().split(',') for l in lines]\n",
    "        idx_label = dict((int(idx), label)for idx, label in tokens)\n",
    "    labels = set(idx_label.values())\n",
    "    print labels\n",
    "    \n",
    "    num_train = len(os.listdir(os.path.join(data_dir, train_dir)))\n",
    "    num_train_tuning = int(num_train * (1 - valid_ratio))\n",
    "    assert 0 < num_train_tuning < num_train\n",
    "    num_train_tuning_per_label = num_train_tuning // len(labels)\n",
    "    label_count = dict()\n",
    "    \n",
    "    def mkdir_if_not_exist(path):\n",
    "        if not os.path.exists(os.path.join(*path)):\n",
    "            os.makedirs(os.path.join(*path))\n",
    "    \n",
    "    # copy to create train set and valid set and train_valid set (train/label, valid/label, train_valid/label)\n",
    "    for train_file in os.listdir(os.path.join(data_dir, train_dir)):\n",
    "        idx = int(train_file.split('.')[0])\n",
    "        label = idx_label[idx]\n",
    "        mkdir_if_not_exist([data_dir, input_dir, 'train_valid', label])\n",
    "        shutil.copy(os.path.join(data_dir, train_dir, train_file),\n",
    "                  os.path.join(data_dir, input_dir, 'train_valid', label))\n",
    "        if label_count.get(label, 0) < num_train_tuning_per_label:\n",
    "            mkdir_if_not_exist([data_dir, input_dir, 'train', label])\n",
    "            shutil.copy(os.path.join(data_dir, train_dir, train_file),\n",
    "                       os.path.join(data_dir, input_dir, 'train', label))\n",
    "            label_count[label] = label_count.get(label, 0) + 1\n",
    "        else:\n",
    "            mkdir_if_not_exist([data_dir, input_dir, 'valid', label])\n",
    "            shutil.copy(os.path.join(data_dir, train_dir, train_file),\n",
    "                       os.path.join(data_dir, input_dir, 'valid', label))\n",
    "    \n",
    "    # copy to create test set (test/unkown)\n",
    "    mkdir_if_not_exist([data_dir, input_dir, 'test', 'unkown'])\n",
    "    for test_file in os.listdir(os.path.join(data_dir, test_dir)):\n",
    "        shutil.copy(os.path.join(data_dir, test_dir, test_file), \n",
    "                   os.path.join(data_dir, input_dir, 'test', 'unkown'))\n",
    "\n",
    "\n",
    "if force_recreate_dir==False and os.path.exists(data_dir + input_dir) and os.path.exists(data_dir + input_dir + train_dir) and os.path.exists(data_dir + input_dir + test_dir):\n",
    "    print \"train_valid_test dir has been created and if you want to recreate them\",\n",
    "    print \"set force_recreate=True(normally you needn't to do it.)\"\n",
    "else:\n",
    "    reorg_cifar10_data(data_dir, label_file, train_dir, test_dir, input_dir, valid_ratio)"
   ]
  },
  {
   "cell_type": "markdown",
   "metadata": {},
   "source": [
    "# 3. data loader, data argument"
   ]
  },
  {
   "cell_type": "code",
   "execution_count": 3,
   "metadata": {
    "ExecuteTime": {
     "end_time": "2018-03-01T06:32:50.797526Z",
     "start_time": "2018-03-01T06:32:50.777405Z"
    },
    "collapsed": true
   },
   "outputs": [],
   "source": [
    "\"\"\"\n",
    "data loader\n",
    "\"\"\"\n",
    "def _transform_test(data, label):\n",
    "    im = data.astype('float32') / 255\n",
    "    auglist = image.CreateAugmenter(data_shape=(3, 32, 32), mean=np.array([0.4914, 0.4822, 0.4465]),\n",
    "                                   std=np.array([0.2023, 0.1994, 0.2010]))\n",
    "    for aug in auglist:\n",
    "        im = aug(im)\n",
    "    im = nd.transpose(im, (2, 0, 1))\n",
    "    return im, nd.array([label]).astype('float32')\n",
    "\n",
    "\n",
    "def data_loader(batch_size, transform_train, transform_test=None, num_workers=0):\n",
    "    if transform_train is None:\n",
    "        transform_train = _transform_train\n",
    "    if transform_test is None:\n",
    "        transform_test = _transform_test\n",
    "        \n",
    "    # flag=1 mean 3 channel image\n",
    "    train_ds = vision.ImageFolderDataset(data_dir + \"/\" + input_dir + '/train', flag=1, transform=transform_train)\n",
    "    valid_ds = vision.ImageFolderDataset(data_dir + \"/\" + input_dir + '/valid', flag=1, transform=transform_test)\n",
    "    train_valid_ds = vision.ImageFolderDataset(data_dir + \"/\" + input_dir + '/train_valid', flag=1, transform=transform_train)\n",
    "    test_ds = vision.ImageFolderDataset(data_dir + \"/\" + input_dir + \"/test\", flag=1, transform=transform_test)\n",
    "\n",
    "    loader = gluon.data.DataLoader\n",
    "    train_data = loader(train_ds, batch_size, shuffle=True, last_batch='keep', num_workers=num_workers)\n",
    "    valid_data = loader(valid_ds, batch_size, shuffle=True, last_batch='keep')\n",
    "    train_valid_data = loader(train_valid_ds, batch_size, shuffle=True, last_batch='keep', num_workers=num_workers)\n",
    "    test_data = loader(test_ds, batch_size, shuffle=False, last_batch='keep')\n",
    "    return train_data, valid_data, train_valid_data, test_data, test_ds, train_valid_ds"
   ]
  },
  {
   "cell_type": "code",
   "execution_count": 4,
   "metadata": {
    "ExecuteTime": {
     "end_time": "2018-03-01T06:32:51.663734Z",
     "start_time": "2018-03-01T06:32:51.615785Z"
    },
    "collapsed": true
   },
   "outputs": [],
   "source": [
    "\"\"\"\n",
    "data argument\n",
    "\"\"\"\n",
    "def transform_train_DA1(data, label):\n",
    "    im = data.asnumpy()\n",
    "    im = np.pad(im, ((4, 4), (4, 4), (0, 0)), mode='constant', constant_values=0)\n",
    "    im = nd.array(im, dtype='float32') / 255\n",
    "    auglist = image.CreateAugmenter(data_shape=(3, 32, 32), resize=0, rand_mirror=True,\n",
    "                                    rand_crop=True,\n",
    "                                   mean=np.array([0.4914, 0.4822, 0.4465]),\n",
    "                                   std=np.array([0.2023, 0.1994, 0.2010]))\n",
    "    for aug in auglist:\n",
    "        im = aug(im)\n",
    "    im = nd.transpose(im, (2, 0, 1)) # channel x width x height\n",
    "    return im, nd.array([label]).astype('float32')\n",
    "\n",
    "\n",
    "def transform_train_DA2(data, label):\n",
    "    im = data.astype(np.float32) / 255\n",
    "    auglist = [image.RandomSizedCropAug(size=(32, 32), min_area=0.49, ratio=(0.5, 2))]\n",
    "    _aug = image.CreateAugmenter(data_shape=(3, 32, 32), resize=0, \n",
    "                                rand_crop=False, rand_resize=False, rand_mirror=True,\n",
    "                                mean=np.array([0.4914, 0.4822, 0.4465]),\n",
    "                                std=np.array([0.2023, 0.1994, 0.2010]),\n",
    "                                brightness=0.3, contrast=0.3, saturation=0.3, hue=0.3,\n",
    "                                pca_noise=0.01, rand_gray=0, inter_method=2)\n",
    "    auglist.append(image.RandomOrderAug(_aug))\n",
    "    \n",
    "    for aug in auglist:\n",
    "        im = aug(im)\n",
    "    \n",
    "    im = nd.transpose(im, (2, 0, 1))\n",
    "    return (im, nd.array([label]).asscalar().astype('float32'))\n",
    "    \n",
    "\n",
    "random_clip_rate = 0.3\n",
    "def transform_train_DA3(data, label):\n",
    "    im = data.astype(np.float32) / 255\n",
    "    auglist = [image.RandomSizedCropAug(size=(32, 32), min_area=0.49, ratio=(0.5, 2))]\n",
    "    _aug = image.CreateAugmenter(data_shape=(3, 32, 32), resize=0, \n",
    "                                rand_crop=False, rand_resize=False, rand_mirror=True,\n",
    "#                                mean=np.array([0.4914, 0.4822, 0.4465]),\n",
    "#                                std=np.array([0.2023, 0.1994, 0.2010]),\n",
    "                                brightness=0.3, contrast=0.3, saturation=0.3, hue=0.3,\n",
    "                                pca_noise=0.01, rand_gray=0, inter_method=2)\n",
    "    auglist.append(image.RandomOrderAug(_aug))\n",
    "\n",
    "    for aug in auglist:\n",
    "        im = aug(im)\n",
    "        \n",
    "    if random.random() > random_clip_rate:\n",
    "        im = im.clip(0, 1)\n",
    "    _aug = image.ColorNormalizeAug(mean=np.array([0.4914, 0.4822, 0.4465]),\n",
    "                   std=np.array([0.2023, 0.1994, 0.2010]),)\n",
    "    im = _aug(im)\n",
    "    \n",
    "    im = nd.transpose(im, (2, 0, 1))\n",
    "    return (im, nd.array([label]).asscalar().astype('float32'))"
   ]
  },
  {
   "cell_type": "markdown",
   "metadata": {},
   "source": [
    "# 3 data aurgument: mixup\n",
    "1. mixup define\n",
    "2. mixup visualize"
   ]
  },
  {
   "cell_type": "markdown",
   "metadata": {},
   "source": [
    "## 3.1 mixup: define"
   ]
  },
  {
   "cell_type": "code",
   "execution_count": 5,
   "metadata": {
    "ExecuteTime": {
     "end_time": "2018-03-01T06:32:53.504228Z",
     "start_time": "2018-03-01T06:32:53.497483Z"
    },
    "collapsed": true
   },
   "outputs": [],
   "source": [
    "import numpy as np\n",
    "def mixup(x1, y1, x2, y2, alpha, num_class):\n",
    "    y1 = nd.one_hot(y1, num_class)\n",
    "    y2 = nd.one_hot(y2, num_class)\n",
    "    \n",
    "    lam = np.random.beta(alpha, alpha)\n",
    "    x = lam * x1 + (1 - lam) * x2\n",
    "    y = lam * y1 + (1 - lam) * y2\n",
    "    return x, y"
   ]
  },
  {
   "cell_type": "markdown",
   "metadata": {},
   "source": [
    "## 3.2 mixup: visulize"
   ]
  },
  {
   "cell_type": "code",
   "execution_count": 6,
   "metadata": {
    "ExecuteTime": {
     "end_time": "2018-03-01T06:32:57.064129Z",
     "start_time": "2018-03-01T06:32:54.711996Z"
    },
    "collapsed": true
   },
   "outputs": [],
   "source": [
    "from mxnet import gluon\n",
    "from mxnet.gluon.model_zoo import vision as model\n",
    "from time import time\n",
    "batch_size = 32\n",
    "transform_train = _transform_test#transform_train_DA1\n",
    "train_data, valid_data, train_valid_data, test_data, test_ds, train_valid_ds = data_loader(batch_size, transform_train)\n",
    "mixup_train_data, _, _, _, _, _ = data_loader(batch_size, transform_train)\n",
    "mixup_alpha = 0.2\n",
    "\n",
    "# for x1, y1 in train_data:\n",
    "#     for x2, y2 in mixup_train_data:\n",
    "#         data, label = mixup(x1, y1, x2, y2, mixup_alpha, 10)\n",
    "#         break\n",
    "#     break\n",
    "\n",
    "for x, y in train_data:\n",
    "    l = x.shape[0] / 2\n",
    "    data, label = mixup(x[:l], y[:l], x[l:2*l], y[l:2*l], mixup_alpha, 10)\n",
    "    break"
   ]
  },
  {
   "cell_type": "code",
   "execution_count": 7,
   "metadata": {
    "ExecuteTime": {
     "end_time": "2018-03-01T06:32:58.649019Z",
     "start_time": "2018-03-01T06:32:57.065208Z"
    }
   },
   "outputs": [
    {
     "data": {
      "image/png": "[encoded data removed]",
      "text/plain": [
       "<matplotlib.figure.Figure at 0x7f1191ad4dd0>"
      ]
     },
     "metadata": {},
     "output_type": "display_data"
    },
    {
     "name": "stdout",
     "output_type": "stream",
     "text": [
      "[(0, 'airplane'), (1, 'automobile'), (2, 'bird'), (3, 'cat'), (4, 'deer'), (5, 'dog'), (6, 'frog'), (7, 'horse'), (8, 'ship'), (9, 'truck')]\n",
      "\n",
      "[[[ 0.          0.03008456  0.          0.          0.          0.          0.\n",
      "    0.96991545  0.          0.        ]]\n",
      "\n",
      " [[ 0.          0.          0.03008456  0.          0.          0.          0.\n",
      "    0.96991545  0.          0.        ]]\n",
      "\n",
      " [[ 0.          0.          0.          0.          0.03008456  0.\n",
      "    0.96991545  0.          0.          0.        ]]\n",
      "\n",
      " [[ 0.          0.          0.          0.          0.96991545  0.          0.\n",
      "    0.          0.          0.03008456]]\n",
      "\n",
      " [[ 0.          0.          0.03008456  0.          0.          0.          0.\n",
      "    0.          0.          0.96991545]]\n",
      "\n",
      " [[ 0.96991545  0.          0.          0.          0.          0.03008456\n",
      "    0.          0.          0.          0.        ]]\n",
      "\n",
      " [[ 0.          0.          0.          0.03008456  0.          0.96991545\n",
      "    0.          0.          0.          0.        ]]\n",
      "\n",
      " [[ 0.          0.03008456  0.          0.          0.          0.96991545\n",
      "    0.          0.          0.          0.        ]]\n",
      "\n",
      " [[ 0.03008456  0.          0.          0.          0.          0.96991545\n",
      "    0.          0.          0.          0.        ]]\n",
      "\n",
      " [[ 0.          0.          0.          1.          0.          0.          0.\n",
      "    0.          0.          0.        ]]]\n",
      "<NDArray 10x1x10 @cpu(0)>\n"
     ]
    }
   ],
   "source": [
    "from cifar10_utils import show_images\n",
    "%matplotlib inline\n",
    "mean=np.array([0.4914, 0.4822, 0.4465])\n",
    "std=np.array([0.2023, 0.1994, 0.2010])\n",
    "images = data[:10].transpose((0, 2, 3, 1)).asnumpy()\n",
    "images = images * std + mean\n",
    "images = images.transpose((0, 3, 1, 2)) * 255\n",
    "show_images(images)\n",
    "#show_images(data[:9], rgb_mean=mean*255, std=std*255)\n",
    "\n",
    "print [(i, l) for i, l in enumerate(['airplane', 'automobile', 'bird', 'cat', 'deer', 'dog', 'frog', 'horse', 'ship', 'truck'])]\n",
    "print label[:10]"
   ]
  },
  {
   "cell_type": "markdown",
   "metadata": {},
   "source": [
    "## 3.3 mixup: train"
   ]
  },
  {
   "cell_type": "code",
   "execution_count": 10,
   "metadata": {
    "ExecuteTime": {
     "end_time": "2018-02-28T13:41:36.435023Z",
     "start_time": "2018-02-28T13:37:46.219746Z"
    }
   },
   "outputs": [
    {
     "name": "stdout",
     "output_type": "stream",
     "text": [
      " 0 0.0270001888275\n",
      "100 1.62204909325\n",
      "200 3.26104807854\n",
      "300 4.93760609627\n",
      "400 6.54733014107\n",
      "500 8.17929911613\n",
      "600 9.80246806145\n",
      "700 11.3888339996\n",
      "800 12.9344990253\n",
      "900 14.4871020317\n",
      "1000 16.0459091663\n",
      "1100 17.59375\n",
      "1200 19.1476790905\n",
      "1300 20.7648742199\n",
      "1400 22.3346571922\n",
      "cost time: 22.4168221951\n",
      "\n",
      "0 0.695066928864 2.40384\n",
      "100 14.5559430122 2.39587\n",
      "200 28.7656300068 1.75842\n",
      "300 43.0961830616 2.22745\n",
      "400 57.5903449059 1.73206\n",
      "500 71.7800679207 1.95165\n",
      "600 87.3415601254 1.74515\n",
      "700 102.235950947 2.10155\n",
      "800 117.461390018 1.48667\n",
      "900 132.76970005 1.29023\n",
      "1000 147.590975046 1.69018\n",
      "1100 162.804922104 1.68614\n",
      "1200 177.191309929 1.53035\n",
      "1300 192.143471003 1.70047\n",
      "1400 206.757816076 1.77822\n",
      "1407 207.651305914\n"
     ]
    }
   ],
   "source": [
    "from time import time\n",
    "net = ResNet164_v2(10)\n",
    "net.collect_params().initialize(mx.init.Xavier(), ctx=ctx, force_reinit=True)\n",
    "loss_f = gluon.loss.SoftmaxCrossEntropyLoss(sparse_label=False)\n",
    "\n",
    "num_epochs = 1\n",
    "learning_rate = 0.1\n",
    "weight_decay = 1e-4\n",
    "\n",
    "cur_time = time()\n",
    "iters = 0\n",
    "\"\"\"\n",
    "data loader first time run will cost about 3x time than after run.\n",
    "\"\"\"\n",
    "for x1, y1 in train_data:\n",
    "    if iters % 100 == 0:\n",
    "        print iters, time() - cur_time\n",
    "    iters += 1\n",
    "print \"cost time:\", time() - cur_time\n",
    "print\n",
    "cur_time = time()\n",
    "\n",
    "iters = 0\n",
    "trainer = gluon.Trainer(net.collect_params(), 'sgd', {'learning_rate': 0.1, 'momentum': 0.9, 'wd': 1e-4})\n",
    "for x, y in train_data:\n",
    "    l = x.shape[0] / 2\n",
    "    data, label = mixup(x[:l], y[:l], x[l:2*l], y[l:2*l], mixup_alpha, 10)\n",
    "    \n",
    "    with autograd.record():\n",
    "        output = net(data.as_in_context(ctx))\n",
    "        loss = loss_f(output, label.as_in_context(ctx))\n",
    "    loss.backward()\n",
    "    trainer.step(data.shape[0])\n",
    "    \n",
    "    if iters % 100 == 0:\n",
    "        print iters, time() - cur_time, nd.mean(loss).asscalar()\n",
    "    iters += 1\n",
    "print iters, time() - cur_time\n",
    "\n",
    "# load data one by one batch\n",
    "# iters = 0\n",
    "# for x1, y1 in train_data:\n",
    "#     for x2, y2 in mixup_train_data:\n",
    "#         data, label = mixup(x1, y1, x2[:x1.shape[0]], y2[:y1.shape[0]], mixup_alpha, 10)\n",
    "#         break\n",
    "#     if iters % 100 == 0:\n",
    "#         print iters, time() - cur_time\n",
    "#     iters += 1\n",
    "# print \"cost time:\", time() - cur_time\n",
    "# print\n",
    "# cur_time = time()\n",
    "\n",
    "# zip will load all datas and then iterate them, too cost memory, will drop speed when memory over.\n",
    "# iters = 0\n",
    "# for (x1, y1), (x2, y2) in zip(train_data, mixup_train_data):\n",
    "#     data, label = mixup(x1, y1, x2, y2, mixup_alpha, 10)\n",
    "#     if iters % 100 == 0:\n",
    "#         print iters, time() - cur_time#, nd.mean(loss).asscalar()\n",
    "#     iters += 1\n",
    "# print time() - cur_time"
   ]
  },
  {
   "cell_type": "markdown",
   "metadata": {},
   "source": [
    "# 4. define train function"
   ]
  },
  {
   "cell_type": "code",
   "execution_count": 8,
   "metadata": {
    "ExecuteTime": {
     "end_time": "2018-03-01T06:33:06.498321Z",
     "start_time": "2018-03-01T06:33:06.403304Z"
    },
    "collapsed": true
   },
   "outputs": [],
   "source": [
    "\"\"\"\n",
    "train\n",
    "\"\"\"\n",
    "import datetime\n",
    "import utils\n",
    "import sys\n",
    "\n",
    "def abs_mean(W):\n",
    "    return nd.mean(nd.abs(W)).asscalar()\n",
    "\n",
    "def in_list(e, l):\n",
    "    for i in l:\n",
    "        if i == e:\n",
    "            return True\n",
    "    else:\n",
    "        return False\n",
    "\n",
    "def train(net, train_data, valid_data, num_epochs, lr, lr_period, \n",
    "          lr_decay, wd, ctx, w_key, output_file=None, verbose=False, loss_f=gluon.loss.SoftmaxCrossEntropyLoss(), \n",
    "          use_mixup=False, mixup_alpha=0.2):\n",
    "    def train_batch(data, label, i):\n",
    "        label = label.as_in_context(ctx)\n",
    "        with autograd.record():\n",
    "            output = net(data.as_in_context(ctx))\n",
    "            loss = loss_f(output, label)\n",
    "        loss.backward()\n",
    "        trainer.step(data.shape[0])\n",
    "\n",
    "        _loss = nd.mean(loss).asscalar()\n",
    "        if not use_mixup:\n",
    "            _acc = utils.accuracy(output, label)\n",
    "        else:\n",
    "            _acc = None\n",
    "\n",
    "        if verbose and i % 100 == 0:\n",
    "            print \" # iter\", i,\n",
    "            print \"loss %.5f\" % _loss, \n",
    "            if not use_mixup: print \"acc %.5f\" % _acc,\n",
    "            print \"w (\",\n",
    "            for k in w_key:\n",
    "                w = net.collect_params()[k]\n",
    "                print \"%.5f, \" % abs_mean(w.data()),\n",
    "            print \") g (\",\n",
    "            for k in w_key:\n",
    "                w = net.collect_params()[k]\n",
    "                print \"%.5f, \" % abs_mean(w.grad()),\n",
    "            print \")\"\n",
    "        return _loss, _acc\n",
    "            \n",
    "    if output_file is None:\n",
    "        output_file = sys.stdout\n",
    "        stdout = sys.stdout\n",
    "    else:\n",
    "        output_file = open(output_file, \"w\")\n",
    "        stdout = sys.stdout\n",
    "        sys.stdout = output_file\n",
    "    trainer = gluon.Trainer(net.collect_params(), 'sgd', {'learning_rate': lr, 'momentum': 0.9, 'wd': wd})\n",
    "    prev_time = datetime.datetime.now()\n",
    "    \n",
    "    if verbose:\n",
    "        print \" #\", utils.evaluate_accuracy(valid_data, net, ctx)\n",
    "    \n",
    "    i = 0\n",
    "    for epoch in range(num_epochs):\n",
    "        train_loss = 0.\n",
    "        train_acc = 0.\n",
    "        if in_list(epoch, lr_period):\n",
    "            trainer.set_learning_rate(trainer.learning_rate * lr_decay)\n",
    "            \n",
    "        if not use_mixup:\n",
    "            for data, label in train_data:\n",
    "                _loss, _acc = train_batch(data, label, i)\n",
    "                train_loss += _loss\n",
    "                train_acc += _acc\n",
    "                i += 1\n",
    "        else:\n",
    "            for x, y in train_data:\n",
    "                l = x.shape[0] / 2\n",
    "                data, label = mixup(x[:l], y[:l], x[l:2*l], y[l:2*l], mixup_alpha, 10)\n",
    "                _loss, _ = train_batch(data, label, i)\n",
    "                train_loss += _loss\n",
    "                i += 1\n",
    "        \n",
    "        cur_time = datetime.datetime.now()\n",
    "        h, remainder = divmod((cur_time - prev_time).seconds, 3600)\n",
    "        m, s = divmod(remainder, 60)\n",
    "        time_str = \"Time %02d:%02d:%02d\" % (h, m, s)\n",
    "        \n",
    "        train_loss /= len(train_data)\n",
    "        train_acc /= len(train_data)\n",
    "        \n",
    "        if valid_data is not None:\n",
    "            valid_acc = utils.evaluate_accuracy(valid_data, net, ctx)\n",
    "            epoch_str = (\"epoch %d, loss %.5f, train_acc %.4f, valid_acc %.4f\" \n",
    "                         % (epoch, train_loss, train_acc, valid_acc))\n",
    "        else:\n",
    "            epoch_str = (\"epoch %d, loss %.5f, train_acc %.4f\"\n",
    "                        % (epoch, train_loss, train_acc))\n",
    "        prev_time = cur_time\n",
    "        output_file.write(epoch_str + \", \" + time_str + \",lr \" + str(trainer.learning_rate) + \"\\n\")\n",
    "        output_file.flush()  # to disk only when flush or close\n",
    "    if output_file != stdout:\n",
    "        sys.stdout = stdout\n",
    "        output_file.close()"
   ]
  },
  {
   "cell_type": "markdown",
   "metadata": {},
   "source": [
    "# 5. get net and do EXP\n",
    "the model define in netlib.py, just invoke to create it, and not use any pretrain model<br/>\n",
    "\n",
    "#### note: if you just want to got a submission result, just ignore Exp1~5"
   ]
  },
  {
   "cell_type": "markdown",
   "metadata": {},
   "source": [
    "### Exp1: res164_v2 + DA1: 0.9529"
   ]
  },
  {
   "cell_type": "code",
   "execution_count": null,
   "metadata": {
    "collapsed": true
   },
   "outputs": [],
   "source": [
    "batch_size = 128\n",
    "transform_train = transform_train_DA1\n",
    "train_data, valid_data, train_valid_data, test_data, test_ds, train_valid_ds = data_loader(batch_size, transform_train)\n",
    "net = ResNet164_v2(10)\n",
    "loss_f = gluon.loss.SoftmaxCrossEntropyLoss()\n",
    "\n",
    "num_epochs = 200\n",
    "learning_rate = 0.1\n",
    "weight_decay = 1e-4\n",
    "lr_period = [90, 140]\n",
    "lr_decay=0.1\n",
    "log_file = None\n",
    "\n",
    "net.collect_params().initialize(mx.init.Xavier(), ctx=ctx, force_reinit=True)\n",
    "net.hybridize()\n",
    "w_key = []\n",
    "train(net, train_data, valid_data, num_epochs, learning_rate, \n",
    "      lr_period, lr_decay, weight_decay, ctx, w_key, log_file, False, loss_f)\n",
    "\n",
    "net.save_params(\"../../models/shelock_resnet_orign\")"
   ]
  },
  {
   "cell_type": "markdown",
   "metadata": {},
   "source": [
    "### Exp2:res164_v2 + DA2: 0.9527"
   ]
  },
  {
   "cell_type": "code",
   "execution_count": null,
   "metadata": {
    "collapsed": true
   },
   "outputs": [],
   "source": [
    "batch_size = 128\n",
    "transform_train = transform_train_DA2\n",
    "train_data, valid_data, train_valid_data, test_data, test_ds, train_valid_ds = data_loader(batch_size, transform_train2)\n",
    "net = ResNet164_v2(10)\n",
    "loss_f = gluon.loss.SoftmaxCrossEntropyLoss()\n",
    "\n",
    "num_epochs = 300\n",
    "learning_rate = 0.1\n",
    "weight_decay = 1e-4\n",
    "lr_period = [150, 225]\n",
    "lr_decay=0.1\n",
    "log_file = None\n",
    "\n",
    "net.collect_params().initialize(mx.init.Xavier(), ctx=ctx, force_reinit=True)\n",
    "net.hybridize()\n",
    "w_key = []\n",
    "train(net, train_data, valid_data, num_epochs, learning_rate, \n",
    "      lr_period, lr_decay, weight_decay, ctx, w_key, log_file, False, loss_f)\n",
    "net.save_params(\"../../models/resnet164_e300\")"
   ]
  },
  {
   "cell_type": "markdown",
   "metadata": {},
   "source": [
    "#### Exp2:res164_v2 + DA2 + mixup"
   ]
  },
  {
   "cell_type": "code",
   "execution_count": null,
   "metadata": {
    "ExecuteTime": {
     "end_time": "2018-03-01T01:37:33.161604Z",
     "start_time": "2018-02-28T14:04:49.251863Z"
    },
    "collapsed": true
   },
   "outputs": [],
   "source": [
    "batch_size = 128\n",
    "transform_train = transform_train_DA2\n",
    "train_data, valid_data, train_valid_data, test_data, test_ds, train_valid_ds = data_loader(batch_size, transform_train_DA2)\n",
    "net = ResNet164_v2(10)\n",
    "loss_f = gluon.loss.SoftmaxCrossEntropyLoss(sparse_label=False)\n",
    "\n",
    "num_epochs = 300\n",
    "learning_rate = 0.1\n",
    "weight_decay = 1e-4\n",
    "lr_period = [150, 225]\n",
    "lr_decay=0.1\n",
    "log_file = \"../../log/resnet164_e300_mixup.log\"\n",
    "\n",
    "net.collect_params().initialize(mx.init.Xavier(), ctx=ctx, force_reinit=True)\n",
    "net.hybridize()\n",
    "w_key = []\n",
    "train(net, train_data, valid_data, num_epochs, learning_rate, \n",
    "      lr_period, lr_decay, weight_decay, ctx, w_key, log_file, True, loss_f, use_mixup=True)\n",
    "net.save_params(\"../../models/resnet164_e300_mixup\")"
   ]
  },
  {
   "cell_type": "markdown",
   "metadata": {},
   "source": [
    "### Exp3: res164_v2 + focal loss + DA3: 0.9540"
   ]
  },
  {
   "cell_type": "code",
   "execution_count": null,
   "metadata": {
    "collapsed": true
   },
   "outputs": [],
   "source": [
    "batch_size = 128\n",
    "tranform_train = transform_train_DA3\n",
    "train_data, valid_data, train_valid_data, test_data, test_ds, train_valid_ds = data_loader(batch_size, transform_train)\n",
    "net = ResNet164_v2(10)\n",
    "loss_f = FocalLoss()\n",
    "\n",
    "num_epochs = 255\n",
    "learning_rate = 0.1\n",
    "weight_decay = 1e-4\n",
    "lr_period = [150, 225]\n",
    "lr_decay=0.1\n",
    "log_file = None\n",
    "\n",
    "net.collect_params().initialize(mx.init.Xavier(), ctx=ctx, force_reinit=True)\n",
    "net.hybridize()\n",
    "w_key = []\n",
    "train(net, train_valid_data, None, num_epochs, learning_rate, \n",
    "      lr_period, lr_decay, weight_decay, ctx, w_key, log_file, False, loss_f)\n",
    "net.save_params(\"../../models/res164__2_e255_focal_clip_all_data\")"
   ]
  },
  {
   "cell_type": "markdown",
   "metadata": {},
   "source": [
    "### Exp4: res164_v2 + focal loss + DA3 + only train_data: 0.9506"
   ]
  },
  {
   "cell_type": "code",
   "execution_count": null,
   "metadata": {
    "collapsed": true
   },
   "outputs": [],
   "source": [
    "batch_size = 128\n",
    "transform_train = transform_train_DA3\n",
    "train_data, valid_data, train_valid_data, test_data, test_ds, train_valid_ds = data_loader(batch_size, transform_train)\n",
    "net = ResNet164_v2(10)\n",
    "loss_f = FocalLoss()\n",
    "\n",
    "num_epochs = 255\n",
    "learning_rate = 0.1\n",
    "weight_decay = 1e-4\n",
    "lr_period = [150, 225]\n",
    "lr_decay=0.1\n",
    "log_file = None\n",
    "\n",
    "net.collect_params().initialize(mx.init.Xavier(), ctx=ctx, force_reinit=True)\n",
    "net.hybridize()\n",
    "w_key = []\n",
    "train(net, train_data, valid_data, num_epochs, learning_rate, \n",
    "      lr_period, lr_decay, weight_decay, ctx, w_key, log_file, False, loss_f)\n",
    "net.save_params(\"../../models/resnet164_e0-255_focal_clip\")"
   ]
  },
  {
   "cell_type": "markdown",
   "metadata": {},
   "source": [
    "### Exp5: sherlock_densenet: 0.9539"
   ]
  },
  {
   "cell_type": "code",
   "execution_count": null,
   "metadata": {
    "collapsed": true
   },
   "outputs": [],
   "source": [
    "batch_size = 128\n",
    "transform_train = transform_train_DA1\n",
    "train_data, valid_data, train_valid_data, test_data, test_ds, train_valid_ds = data_loader(batch_size, transform_train)\n",
    "net = DenseNet(growthRate=12, depth=100, reduction=0.5, bottleneck=True, nClasses=10)\n",
    "loss_f = gluon.loss.SoftmaxCrossEntropyLoss()\n",
    "\n",
    "num_epochs = 200\n",
    "learning_rate = 0.1\n",
    "weight_decay = 1e-4\n",
    "lr_period = [90, 140]\n",
    "lr_decay=0.1\n",
    "log_file = None\n",
    "\n",
    "net.hybridize()\n",
    "net.initialize(ctx=ctx)\n",
    "w_key = []\n",
    "train(net, train_data, valid_data, num_epochs, learning_rate, lr_period, lr_decay, weight_decay, ctx, w_key, log_file, False, loss_f)\n",
    "net.save_params(\"../../models/shelock_densenet_orign\")"
   ]
  },
  {
   "cell_type": "markdown",
   "metadata": {},
   "source": [
    "### Exp6: resnet"
   ]
  },
  {
   "cell_type": "code",
   "execution_count": 20,
   "metadata": {
    "ExecuteTime": {
     "end_time": "2018-03-01T06:39:16.372502Z",
     "start_time": "2018-03-01T06:39:15.925714Z"
    }
   },
   "outputs": [],
   "source": [
    "from mxnet.gluon.model_zoo import vision as model\n",
    "from mxnet.gluon import nn\n",
    "\n",
    "# create and add must in name_scope, or may got name error\n",
    "net = nn.HybridSequential()\n",
    "with net.name_scope():\n",
    "    resnet = model.resnet152_v2(pretrained=True, ctx=ctx)\n",
    "    output = nn.Dense(10)\n",
    "    net.add(resnet.features)\n",
    "    net.add(output)\n",
    "\n",
    "net.hybridize()\n",
    "output.initialize(ctx=ctx)"
   ]
  },
  {
   "cell_type": "code",
   "execution_count": 21,
   "metadata": {
    "ExecuteTime": {
     "end_time": "2018-03-01T12:23:15.207419Z",
     "start_time": "2018-03-01T06:39:48.879940Z"
    }
   },
   "outputs": [
    {
     "name": "stdout",
     "output_type": "stream",
     "text": [
      "epoch 0, loss 2.36188, train_acc 0.1796, valid_acc 0.1635, Time 00:02:25,lr 0.01\n",
      "epoch 1, loss 2.40337, train_acc 0.1646, valid_acc 0.2199, Time 00:01:44,lr 0.01\n",
      "epoch 2, loss 2.32695, train_acc 0.1871, valid_acc 0.2805, Time 00:01:44,lr 0.01\n",
      "epoch 3, loss 2.24258, train_acc 0.2184, valid_acc 0.2588, Time 00:01:46,lr 0.01\n",
      "epoch 4, loss 2.16632, train_acc 0.2387, valid_acc 0.3346, Time 00:01:46,lr 0.01\n",
      "epoch 5, loss 2.14873, train_acc 0.2413, valid_acc 0.3400, Time 00:01:49,lr 0.01\n",
      "epoch 6, loss 2.11275, train_acc 0.2560, valid_acc 0.3193, Time 00:01:48,lr 0.01\n",
      "epoch 7, loss 2.03341, train_acc 0.2752, valid_acc 0.3453, Time 00:01:45,lr 0.01\n",
      "epoch 8, loss 1.98142, train_acc 0.2915, valid_acc 0.3854, Time 00:01:45,lr 0.01\n",
      "epoch 9, loss 1.92689, train_acc 0.3094, valid_acc 0.4088, Time 00:01:43,lr 0.01\n",
      "epoch 10, loss 1.86411, train_acc 0.3292, valid_acc 0.4117, Time 00:01:44,lr 0.01\n",
      "epoch 11, loss 1.83029, train_acc 0.3408, valid_acc 0.4480, Time 00:01:43,lr 0.01\n",
      "epoch 12, loss 1.79810, train_acc 0.3555, valid_acc 0.4506, Time 00:01:44,lr 0.01\n",
      "epoch 13, loss 1.77405, train_acc 0.3634, valid_acc 0.4525, Time 00:01:44,lr 0.01\n",
      "epoch 14, loss 1.73190, train_acc 0.3783, valid_acc 0.4730, Time 00:01:44,lr 0.01\n",
      "epoch 15, loss 1.69747, train_acc 0.3923, valid_acc 0.4932, Time 00:01:43,lr 0.01\n",
      "epoch 16, loss 1.65414, train_acc 0.4065, valid_acc 0.4953, Time 00:01:43,lr 0.01\n",
      "epoch 17, loss 1.61971, train_acc 0.4260, valid_acc 0.5098, Time 00:01:43,lr 0.01\n",
      "epoch 18, loss 1.56412, train_acc 0.4439, valid_acc 0.5217, Time 00:01:42,lr 0.01\n",
      "epoch 19, loss 1.49677, train_acc 0.4688, valid_acc 0.5641, Time 00:01:42,lr 0.01\n",
      "epoch 20, loss 1.46233, train_acc 0.4813, valid_acc 0.5666, Time 00:01:42,lr 0.01\n",
      "epoch 21, loss 1.41185, train_acc 0.5030, valid_acc 0.5957, Time 00:01:42,lr 0.01\n",
      "epoch 22, loss 1.39330, train_acc 0.5082, valid_acc 0.5961, Time 00:01:42,lr 0.01\n",
      "epoch 23, loss 1.34053, train_acc 0.5242, valid_acc 0.5979, Time 00:01:42,lr 0.01\n",
      "epoch 24, loss 1.29371, train_acc 0.5439, valid_acc 0.6295, Time 00:01:42,lr 0.01\n",
      "epoch 25, loss 1.26000, train_acc 0.5548, valid_acc 0.6311, Time 00:01:42,lr 0.01\n",
      "epoch 26, loss 1.26737, train_acc 0.5547, valid_acc 0.6303, Time 00:01:42,lr 0.01\n",
      "epoch 27, loss 1.21821, train_acc 0.5746, valid_acc 0.6607, Time 00:01:42,lr 0.01\n",
      "epoch 28, loss 1.16940, train_acc 0.5912, valid_acc 0.6635, Time 00:01:42,lr 0.01\n",
      "epoch 29, loss 1.13368, train_acc 0.5998, valid_acc 0.6758, Time 00:01:41,lr 0.01\n",
      "epoch 30, loss 1.09449, train_acc 0.6127, valid_acc 0.6822, Time 00:01:42,lr 0.01\n",
      "epoch 31, loss 1.07536, train_acc 0.6255, valid_acc 0.6695, Time 00:01:42,lr 0.01\n",
      "epoch 32, loss 1.09013, train_acc 0.6196, valid_acc 0.6816, Time 00:01:42,lr 0.01\n",
      "epoch 33, loss 1.04221, train_acc 0.6341, valid_acc 0.7111, Time 00:01:42,lr 0.01\n",
      "epoch 34, loss 1.02488, train_acc 0.6430, valid_acc 0.7020, Time 00:01:42,lr 0.01\n",
      "epoch 35, loss 1.01452, train_acc 0.6471, valid_acc 0.7242, Time 00:01:42,lr 0.01\n",
      "epoch 36, loss 0.97578, train_acc 0.6592, valid_acc 0.7139, Time 00:01:41,lr 0.01\n",
      "epoch 37, loss 0.98258, train_acc 0.6570, valid_acc 0.7166, Time 00:01:42,lr 0.01\n",
      "epoch 38, loss 0.95030, train_acc 0.6694, valid_acc 0.7256, Time 00:01:42,lr 0.01\n",
      "epoch 39, loss 0.92974, train_acc 0.6761, valid_acc 0.7232, Time 00:01:41,lr 0.01\n",
      "epoch 40, loss 0.97293, train_acc 0.6603, valid_acc 0.7328, Time 00:01:42,lr 0.01\n",
      "epoch 41, loss 1.01300, train_acc 0.6507, valid_acc 0.7215, Time 00:01:42,lr 0.01\n",
      "epoch 42, loss 0.91581, train_acc 0.6824, valid_acc 0.7361, Time 00:01:42,lr 0.01\n",
      "epoch 43, loss 0.90300, train_acc 0.6885, valid_acc 0.7248, Time 00:01:42,lr 0.01\n",
      "epoch 44, loss 0.87923, train_acc 0.6945, valid_acc 0.7229, Time 00:01:42,lr 0.01\n",
      "epoch 45, loss 0.95502, train_acc 0.6691, valid_acc 0.7387, Time 00:01:42,lr 0.01\n",
      "epoch 46, loss 0.92271, train_acc 0.6794, valid_acc 0.6766, Time 00:01:42,lr 0.01\n",
      "epoch 47, loss 0.91774, train_acc 0.6792, valid_acc 0.7328, Time 00:01:42,lr 0.01\n",
      "epoch 48, loss 0.90805, train_acc 0.6831, valid_acc 0.6768, Time 00:01:42,lr 0.01\n",
      "epoch 49, loss 0.89182, train_acc 0.6902, valid_acc 0.3910, Time 00:01:41,lr 0.01\n",
      "epoch 50, loss 1.07441, train_acc 0.6264, valid_acc 0.6990, Time 00:01:41,lr 0.01\n",
      "epoch 51, loss 0.95905, train_acc 0.6660, valid_acc 0.7566, Time 00:01:42,lr 0.01\n",
      "epoch 52, loss 0.92234, train_acc 0.6816, valid_acc 0.7414, Time 00:01:42,lr 0.01\n",
      "epoch 53, loss 0.87191, train_acc 0.6976, valid_acc 0.7436, Time 00:01:42,lr 0.01\n",
      "epoch 54, loss 0.84515, train_acc 0.7068, valid_acc 0.7611, Time 00:01:42,lr 0.01\n",
      "epoch 55, loss 0.81089, train_acc 0.7175, valid_acc 0.7600, Time 00:01:42,lr 0.01\n",
      "epoch 56, loss 0.81638, train_acc 0.7168, valid_acc 0.7654, Time 00:01:41,lr 0.01\n",
      "epoch 57, loss 0.78202, train_acc 0.7289, valid_acc 0.7605, Time 00:01:42,lr 0.01\n",
      "epoch 58, loss 0.77292, train_acc 0.7312, valid_acc 0.7637, Time 00:01:43,lr 0.01\n",
      "epoch 59, loss 0.74996, train_acc 0.7398, valid_acc 0.7684, Time 00:01:42,lr 0.01\n",
      "epoch 60, loss 0.75164, train_acc 0.7391, valid_acc 0.7709, Time 00:01:42,lr 0.01\n",
      "epoch 61, loss 0.72285, train_acc 0.7499, valid_acc 0.7877, Time 00:01:42,lr 0.01\n",
      "epoch 62, loss 0.71676, train_acc 0.7494, valid_acc 0.7814, Time 00:01:42,lr 0.01\n",
      "epoch 63, loss 0.70729, train_acc 0.7545, valid_acc 0.7814, Time 00:01:42,lr 0.01\n",
      "epoch 64, loss 0.70257, train_acc 0.7556, valid_acc 0.7768, Time 00:01:42,lr 0.01\n",
      "epoch 65, loss 0.68754, train_acc 0.7604, valid_acc 0.7873, Time 00:01:42,lr 0.01\n",
      "epoch 66, loss 0.68411, train_acc 0.7605, valid_acc 0.7826, Time 00:01:41,lr 0.01\n",
      "epoch 67, loss 0.66731, train_acc 0.7685, valid_acc 0.7783, Time 00:01:42,lr 0.01\n",
      "epoch 68, loss 0.65934, train_acc 0.7713, valid_acc 0.7895, Time 00:01:42,lr 0.01\n",
      "epoch 69, loss 0.65528, train_acc 0.7720, valid_acc 0.7764, Time 00:01:42,lr 0.01\n",
      "epoch 70, loss 0.65218, train_acc 0.7736, valid_acc 0.7893, Time 00:01:42,lr 0.01\n",
      "epoch 71, loss 0.64356, train_acc 0.7761, valid_acc 0.7844, Time 00:01:42,lr 0.01\n",
      "epoch 72, loss 0.63737, train_acc 0.7767, valid_acc 0.7877, Time 00:01:42,lr 0.01\n",
      "epoch 73, loss 0.63411, train_acc 0.7784, valid_acc 0.8012, Time 00:01:42,lr 0.01\n",
      "epoch 74, loss 0.61978, train_acc 0.7853, valid_acc 0.8031, Time 00:01:41,lr 0.01\n",
      "epoch 75, loss 0.61645, train_acc 0.7867, valid_acc 0.7906, Time 00:01:42,lr 0.01\n",
      "epoch 76, loss 0.61342, train_acc 0.7866, valid_acc 0.8000, Time 00:01:42,lr 0.01\n",
      "epoch 77, loss 0.60061, train_acc 0.7924, valid_acc 0.7867, Time 00:01:42,lr 0.01\n",
      "epoch 78, loss 0.60575, train_acc 0.7894, valid_acc 0.7967, Time 00:01:42,lr 0.01\n",
      "epoch 79, loss 0.59667, train_acc 0.7936, valid_acc 0.8031, Time 00:01:42,lr 0.01\n",
      "epoch 80, loss 0.53538, train_acc 0.8133, valid_acc 0.8141, Time 00:01:42,lr 0.001\n",
      "epoch 81, loss 0.50510, train_acc 0.8209, valid_acc 0.8129, Time 00:01:42,lr 0.001\n",
      "epoch 82, loss 0.49269, train_acc 0.8294, valid_acc 0.8189, Time 00:01:42,lr 0.001\n",
      "epoch 83, loss 0.48631, train_acc 0.8296, valid_acc 0.8197, Time 00:01:42,lr 0.001\n",
      "epoch 84, loss 0.47527, train_acc 0.8351, valid_acc 0.8187, Time 00:01:42,lr 0.001\n",
      "epoch 85, loss 0.46627, train_acc 0.8374, valid_acc 0.8182, Time 00:01:42,lr 0.001\n",
      "epoch 86, loss 0.46254, train_acc 0.8393, valid_acc 0.8281, Time 00:01:42,lr 0.001\n",
      "epoch 87, loss 0.46345, train_acc 0.8392, valid_acc 0.8281, Time 00:01:42,lr 0.001\n",
      "epoch 88, loss 0.45617, train_acc 0.8411, valid_acc 0.8258, Time 00:01:42,lr 0.001\n",
      "epoch 89, loss 0.45461, train_acc 0.8410, valid_acc 0.8240, Time 00:01:42,lr 0.001\n",
      "epoch 90, loss 0.45072, train_acc 0.8420, valid_acc 0.8246, Time 00:01:42,lr 0.001\n",
      "epoch 91, loss 0.44730, train_acc 0.8464, valid_acc 0.8195, Time 00:01:42,lr 0.001\n",
      "epoch 92, loss 0.44301, train_acc 0.8466, valid_acc 0.8215, Time 00:01:42,lr 0.001\n",
      "epoch 93, loss 0.44186, train_acc 0.8452, valid_acc 0.8271, Time 00:01:42,lr 0.001\n",
      "epoch 94, loss 0.43157, train_acc 0.8510, valid_acc 0.8264, Time 00:01:42,lr 0.001\n",
      "epoch 95, loss 0.42975, train_acc 0.8494, valid_acc 0.8211, Time 00:01:41,lr 0.001\n",
      "epoch 96, loss 0.42737, train_acc 0.8519, valid_acc 0.8291, Time 00:01:42,lr 0.001\n",
      "epoch 97, loss 0.42863, train_acc 0.8503, valid_acc 0.8314, Time 00:01:41,lr 0.001\n",
      "epoch 98, loss 0.42964, train_acc 0.8509, valid_acc 0.8301, Time 00:01:42,lr 0.001\n",
      "epoch 99, loss 0.42130, train_acc 0.8530, valid_acc 0.8238, Time 00:01:42,lr 0.001\n"
     ]
    },
    {
     "name": "stdout",
     "output_type": "stream",
     "text": [
      "epoch 100, loss 0.41774, train_acc 0.8539, valid_acc 0.8293, Time 00:01:42,lr 0.001\n",
      "epoch 101, loss 0.41799, train_acc 0.8545, valid_acc 0.8279, Time 00:01:42,lr 0.001\n",
      "epoch 102, loss 0.41279, train_acc 0.8566, valid_acc 0.8273, Time 00:01:42,lr 0.001\n",
      "epoch 103, loss 0.41512, train_acc 0.8551, valid_acc 0.8260, Time 00:01:42,lr 0.001\n",
      "epoch 104, loss 0.41091, train_acc 0.8598, valid_acc 0.8254, Time 00:01:42,lr 0.001\n",
      "epoch 105, loss 0.40518, train_acc 0.8584, valid_acc 0.8287, Time 00:01:42,lr 0.001\n",
      "epoch 106, loss 0.40242, train_acc 0.8619, valid_acc 0.8293, Time 00:01:42,lr 0.001\n",
      "epoch 107, loss 0.39534, train_acc 0.8624, valid_acc 0.8215, Time 00:01:42,lr 0.001\n",
      "epoch 108, loss 0.40286, train_acc 0.8605, valid_acc 0.8324, Time 00:01:42,lr 0.001\n",
      "epoch 109, loss 0.39811, train_acc 0.8623, valid_acc 0.8240, Time 00:01:41,lr 0.001\n",
      "epoch 110, loss 0.39283, train_acc 0.8631, valid_acc 0.8330, Time 00:01:42,lr 0.001\n",
      "epoch 111, loss 0.39593, train_acc 0.8629, valid_acc 0.8254, Time 00:01:43,lr 0.001\n",
      "epoch 112, loss 0.39157, train_acc 0.8639, valid_acc 0.8293, Time 00:01:42,lr 0.001\n",
      "epoch 113, loss 0.38869, train_acc 0.8659, valid_acc 0.8207, Time 00:01:42,lr 0.001\n",
      "epoch 114, loss 0.38380, train_acc 0.8665, valid_acc 0.8229, Time 00:01:42,lr 0.001\n",
      "epoch 115, loss 0.38692, train_acc 0.8664, valid_acc 0.8279, Time 00:01:42,lr 0.001\n",
      "epoch 116, loss 0.38417, train_acc 0.8661, valid_acc 0.8232, Time 00:01:42,lr 0.001\n",
      "epoch 117, loss 0.37824, train_acc 0.8695, valid_acc 0.8322, Time 00:01:42,lr 0.001\n",
      "epoch 118, loss 0.37880, train_acc 0.8678, valid_acc 0.8246, Time 00:01:42,lr 0.001\n",
      "epoch 119, loss 0.37307, train_acc 0.8694, valid_acc 0.8270, Time 00:01:43,lr 0.001\n",
      "epoch 120, loss 0.37866, train_acc 0.8684, valid_acc 0.8301, Time 00:01:43,lr 0.001\n",
      "epoch 121, loss 0.36456, train_acc 0.8734, valid_acc 0.8350, Time 00:01:42,lr 0.001\n",
      "epoch 122, loss 0.36178, train_acc 0.8761, valid_acc 0.8287, Time 00:01:42,lr 0.001\n",
      "epoch 123, loss 0.36739, train_acc 0.8718, valid_acc 0.8338, Time 00:01:43,lr 0.001\n",
      "epoch 124, loss 0.36564, train_acc 0.8738, valid_acc 0.8301, Time 00:01:42,lr 0.001\n",
      "epoch 125, loss 0.35915, train_acc 0.8783, valid_acc 0.8307, Time 00:01:43,lr 0.001\n",
      "epoch 126, loss 0.35652, train_acc 0.8775, valid_acc 0.8275, Time 00:01:43,lr 0.001\n",
      "epoch 127, loss 0.35344, train_acc 0.8777, valid_acc 0.8283, Time 00:01:42,lr 0.001\n",
      "epoch 128, loss 0.35614, train_acc 0.8756, valid_acc 0.8271, Time 00:01:43,lr 0.001\n",
      "epoch 129, loss 0.35309, train_acc 0.8777, valid_acc 0.8346, Time 00:01:43,lr 0.001\n",
      "epoch 130, loss 0.34657, train_acc 0.8826, valid_acc 0.8375, Time 00:01:44,lr 0.001\n",
      "epoch 131, loss 0.34740, train_acc 0.8804, valid_acc 0.8318, Time 00:01:42,lr 0.001\n",
      "epoch 132, loss 0.34496, train_acc 0.8808, valid_acc 0.8377, Time 00:01:42,lr 0.001\n",
      "epoch 133, loss 0.34301, train_acc 0.8823, valid_acc 0.8287, Time 00:01:43,lr 0.001\n",
      "epoch 134, loss 0.33475, train_acc 0.8838, valid_acc 0.8311, Time 00:01:44,lr 0.001\n",
      "epoch 135, loss 0.34883, train_acc 0.8795, valid_acc 0.8344, Time 00:01:46,lr 0.001\n",
      "epoch 136, loss 0.33827, train_acc 0.8847, valid_acc 0.8410, Time 00:01:47,lr 0.001\n",
      "epoch 137, loss 0.34186, train_acc 0.8816, valid_acc 0.8334, Time 00:01:48,lr 0.001\n",
      "epoch 138, loss 0.33538, train_acc 0.8847, valid_acc 0.8383, Time 00:01:43,lr 0.001\n",
      "epoch 139, loss 0.33441, train_acc 0.8861, valid_acc 0.8389, Time 00:01:43,lr 0.001\n",
      "epoch 140, loss 0.32942, train_acc 0.8877, valid_acc 0.8334, Time 00:01:44,lr 0.001\n",
      "epoch 141, loss 0.32669, train_acc 0.8863, valid_acc 0.8313, Time 00:01:46,lr 0.001\n",
      "epoch 142, loss 0.33393, train_acc 0.8847, valid_acc 0.8307, Time 00:01:47,lr 0.001\n",
      "epoch 143, loss 0.32960, train_acc 0.8843, valid_acc 0.8297, Time 00:01:44,lr 0.001\n",
      "epoch 144, loss 0.32171, train_acc 0.8877, valid_acc 0.8346, Time 00:01:42,lr 0.001\n",
      "epoch 145, loss 0.32095, train_acc 0.8873, valid_acc 0.8344, Time 00:01:41,lr 0.001\n",
      "epoch 146, loss 0.32135, train_acc 0.8886, valid_acc 0.8287, Time 00:01:42,lr 0.001\n",
      "epoch 147, loss 0.31981, train_acc 0.8899, valid_acc 0.8365, Time 00:01:42,lr 0.001\n",
      "epoch 148, loss 0.31607, train_acc 0.8907, valid_acc 0.8391, Time 00:01:42,lr 0.001\n",
      "epoch 149, loss 0.31435, train_acc 0.8926, valid_acc 0.8283, Time 00:01:42,lr 0.001\n",
      "epoch 150, loss 0.30630, train_acc 0.8939, valid_acc 0.8359, Time 00:01:42,lr 0.0001\n",
      "epoch 151, loss 0.30257, train_acc 0.8969, valid_acc 0.8318, Time 00:01:43,lr 0.0001\n",
      "epoch 152, loss 0.29558, train_acc 0.8989, valid_acc 0.8330, Time 00:01:41,lr 0.0001\n",
      "epoch 153, loss 0.28905, train_acc 0.9021, valid_acc 0.8404, Time 00:01:42,lr 0.0001\n",
      "epoch 154, loss 0.29500, train_acc 0.8993, valid_acc 0.8340, Time 00:01:41,lr 0.0001\n",
      "epoch 155, loss 0.28986, train_acc 0.9011, valid_acc 0.8402, Time 00:01:42,lr 0.0001\n",
      "epoch 156, loss 0.29612, train_acc 0.9007, valid_acc 0.8375, Time 00:01:42,lr 0.0001\n",
      "epoch 157, loss 0.29392, train_acc 0.8995, valid_acc 0.8385, Time 00:01:42,lr 0.0001\n",
      "epoch 158, loss 0.28943, train_acc 0.9016, valid_acc 0.8352, Time 00:01:42,lr 0.0001\n",
      "epoch 159, loss 0.28682, train_acc 0.9028, valid_acc 0.8352, Time 00:01:44,lr 0.0001\n",
      "epoch 160, loss 0.28708, train_acc 0.9021, valid_acc 0.8377, Time 00:01:42,lr 0.0001\n",
      "epoch 161, loss 0.28821, train_acc 0.9009, valid_acc 0.8406, Time 00:01:42,lr 0.0001\n",
      "epoch 162, loss 0.28700, train_acc 0.9016, valid_acc 0.8313, Time 00:01:42,lr 0.0001\n",
      "epoch 163, loss 0.28579, train_acc 0.9025, valid_acc 0.8367, Time 00:01:42,lr 0.0001\n",
      "epoch 164, loss 0.28061, train_acc 0.9041, valid_acc 0.8375, Time 00:01:42,lr 0.0001\n",
      "epoch 165, loss 0.27944, train_acc 0.9050, valid_acc 0.8381, Time 00:01:43,lr 0.0001\n",
      "epoch 166, loss 0.28396, train_acc 0.9030, valid_acc 0.8365, Time 00:01:42,lr 0.0001\n",
      "epoch 167, loss 0.28792, train_acc 0.9017, valid_acc 0.8350, Time 00:01:42,lr 0.0001\n",
      "epoch 168, loss 0.28370, train_acc 0.9025, valid_acc 0.8383, Time 00:01:42,lr 0.0001\n",
      "epoch 169, loss 0.28079, train_acc 0.9042, valid_acc 0.8352, Time 00:01:42,lr 0.0001\n",
      "epoch 170, loss 0.28343, train_acc 0.9024, valid_acc 0.8371, Time 00:01:42,lr 0.0001\n",
      "epoch 171, loss 0.27993, train_acc 0.9051, valid_acc 0.8381, Time 00:01:42,lr 0.0001\n",
      "epoch 172, loss 0.27710, train_acc 0.9050, valid_acc 0.8377, Time 00:01:42,lr 0.0001\n",
      "epoch 173, loss 0.27721, train_acc 0.9069, valid_acc 0.8297, Time 00:01:42,lr 0.0001\n",
      "epoch 174, loss 0.28064, train_acc 0.9047, valid_acc 0.8324, Time 00:01:42,lr 0.0001\n",
      "epoch 175, loss 0.27920, train_acc 0.9061, valid_acc 0.8375, Time 00:01:42,lr 0.0001\n",
      "epoch 176, loss 0.28203, train_acc 0.9039, valid_acc 0.8336, Time 00:01:42,lr 0.0001\n",
      "epoch 177, loss 0.27942, train_acc 0.9060, valid_acc 0.8406, Time 00:01:42,lr 0.0001\n",
      "epoch 178, loss 0.27178, train_acc 0.9071, valid_acc 0.8424, Time 00:01:42,lr 0.0001\n",
      "epoch 179, loss 0.27833, train_acc 0.9063, valid_acc 0.8336, Time 00:01:42,lr 0.0001\n",
      "epoch 180, loss 0.27581, train_acc 0.9064, valid_acc 0.8414, Time 00:01:42,lr 0.0001\n",
      "epoch 181, loss 0.27863, train_acc 0.9058, valid_acc 0.8416, Time 00:01:42,lr 0.0001\n",
      "epoch 182, loss 0.28366, train_acc 0.9042, valid_acc 0.8406, Time 00:01:42,lr 0.0001\n",
      "epoch 183, loss 0.27905, train_acc 0.9033, valid_acc 0.8410, Time 00:01:42,lr 0.0001\n",
      "epoch 184, loss 0.27129, train_acc 0.9074, valid_acc 0.8391, Time 00:01:42,lr 0.0001\n",
      "epoch 185, loss 0.27338, train_acc 0.9076, valid_acc 0.8385, Time 00:01:42,lr 0.0001\n",
      "epoch 186, loss 0.27468, train_acc 0.9061, valid_acc 0.8387, Time 00:01:42,lr 0.0001\n",
      "epoch 187, loss 0.26917, train_acc 0.9070, valid_acc 0.8414, Time 00:01:42,lr 0.0001\n",
      "epoch 188, loss 0.27371, train_acc 0.9080, valid_acc 0.8334, Time 00:01:42,lr 0.0001\n",
      "epoch 189, loss 0.27232, train_acc 0.9070, valid_acc 0.8428, Time 00:01:42,lr 0.0001\n",
      "epoch 190, loss 0.26687, train_acc 0.9083, valid_acc 0.8430, Time 00:01:41,lr 0.0001\n",
      "epoch 191, loss 0.27122, train_acc 0.9076, valid_acc 0.8367, Time 00:01:42,lr 0.0001\n",
      "epoch 192, loss 0.26447, train_acc 0.9092, valid_acc 0.8430, Time 00:01:42,lr 0.0001\n",
      "epoch 193, loss 0.27494, train_acc 0.9074, valid_acc 0.8309, Time 00:01:42,lr 0.0001\n",
      "epoch 194, loss 0.26903, train_acc 0.9081, valid_acc 0.8428, Time 00:01:43,lr 0.0001\n",
      "epoch 195, loss 0.27030, train_acc 0.9087, valid_acc 0.8406, Time 00:01:42,lr 0.0001\n",
      "epoch 196, loss 0.27413, train_acc 0.9060, valid_acc 0.8324, Time 00:01:42,lr 0.0001\n"
     ]
    },
    {
     "name": "stdout",
     "output_type": "stream",
     "text": [
      "epoch 197, loss 0.26736, train_acc 0.9093, valid_acc 0.8357, Time 00:01:42,lr 0.0001\n",
      "epoch 198, loss 0.26660, train_acc 0.9091, valid_acc 0.8389, Time 00:01:42,lr 0.0001\n",
      "epoch 199, loss 0.26477, train_acc 0.9104, valid_acc 0.8350, Time 00:01:42,lr 0.0001\n"
     ]
    }
   ],
   "source": [
    "batch_size = 128\n",
    "transform_train = transform_train_DA2\n",
    "train_data, valid_data, train_valid_data, test_data, test_ds, train_valid_ds = data_loader(batch_size, transform_train_DA2)\n",
    "loss_f = gluon.loss.SoftmaxCrossEntropyLoss()\n",
    "\n",
    "num_epochs = 200  # iters=20*1400\n",
    "learning_rate = 0.01\n",
    "weight_decay = 1e-4\n",
    "lr_period = [80, 150]\n",
    "lr_decay=0.1\n",
    "log_file = None\n",
    "\n",
    "w_key = []\n",
    "train(net, train_data, valid_data, num_epochs, learning_rate, \n",
    "      lr_period, lr_decay, weight_decay, ctx, w_key, log_file, False, loss_f)\n",
    "net.save_params(\"../../models/resnet152_v2_finetune\")"
   ]
  },
  {
   "cell_type": "code",
   "execution_count": null,
   "metadata": {
    "collapsed": true
   },
   "outputs": [],
   "source": []
  },
  {
   "cell_type": "markdown",
   "metadata": {},
   "source": [
    "# 6. result\n",
    "to run this two block, you need at least five model params file, name as follow in model dir.\n",
    "```\n",
    "model_list = ['res164__2_e255_focal_clip_all_data', 'resnet164_e300', 'resnet164_e0-255_focal_clip',\n",
    "              'shelock_densenet_orign', 'shelock_resnet_orign']\n",
    "```\n",
    "you can train from **5. get net and do EXP**, or you can download them from\n",
    "```\n",
    "link: https://pan.baidu.com/s/1pLjzQWj key: f6p3\n",
    "```\n",
    "you can only download this five model param file in model dir, and then run first block to generate middle result in result dir.<br/>\n",
    "or you can download all 8 model param file in models and the middle result file."
   ]
  },
  {
   "cell_type": "code",
   "execution_count": 14,
   "metadata": {
    "ExecuteTime": {
     "end_time": "2018-03-01T03:00:20.873754Z",
     "start_time": "2018-03-01T03:00:20.863335Z"
    },
    "collapsed": true
   },
   "outputs": [],
   "source": [
    "import os\n",
    "import numpy as np\n",
    "import pandas as pd\n",
    "\"\"\"\n",
    "generate CIFAR10 output result\n",
    "\"\"\"\n",
    "mkdir_if_not_exist('../../result/')\n",
    "\n",
    "def save_net_result(net, filename, test_data, ctx):\n",
    "    output = nd.zeros(shape=(300000, 10), ctx=ctx)\n",
    "    for i, (data, label) in enumerate(test_data):\n",
    "        output[i*batch_size:i*batch_size+data.shape[0],:] = net(data.as_in_context(ctx))\n",
    "    nd.save(filename, output)\n",
    "\n",
    "def test_net(data):\n",
    "    return data.reshape((data.shape[0], -1))[:, :10]\n",
    "\n",
    "def save_model_result(model_name, ctx):\n",
    "    net.load_params(\"../../models/\" + model_name, ctx=ctx)\n",
    "    save_net_result(net, \"../../result/\" + model_name, test_data, ctx)"
   ]
  },
  {
   "cell_type": "markdown",
   "metadata": {},
   "source": [
    "## 6.1 get mixup result"
   ]
  },
  {
   "cell_type": "code",
   "execution_count": 15,
   "metadata": {
    "ExecuteTime": {
     "end_time": "2018-03-01T03:45:07.123602Z",
     "start_time": "2018-03-01T03:00:22.426316Z"
    },
    "collapsed": true
   },
   "outputs": [],
   "source": [
    "model_name = 'resnet164_e300_mixup'\n",
    "net = net = ResNet164_v2(10)\n",
    "if not os.path.exists(\"../../result/\"+model_name):\n",
    "    save_model_result(model_name, ctx)"
   ]
  },
  {
   "cell_type": "code",
   "execution_count": 16,
   "metadata": {
    "ExecuteTime": {
     "end_time": "2018-03-01T03:45:07.800609Z",
     "start_time": "2018-03-01T03:45:07.126397Z"
    },
    "collapsed": true
   },
   "outputs": [],
   "source": [
    "preds = nd.load(\"../../result/\"+model_name)[0].as_in_context(ctx)\n",
    "preds = preds.argmax(axis=1).astype(int).asnumpy() % 10\n",
    "\n",
    "sorted_ids = list(range(1, 300000 + 1))\n",
    "sorted_ids.sort(key=lambda x: str(x))\n",
    "\n",
    "df = pd.DataFrame({'id': sorted_ids, 'label': preds})\n",
    "df['label'] = df['label'].apply(lambda x: train_valid_ds.synsets[x])\n",
    "df.to_csv('../../submission/resnet164_e300_mixup.csv', index=False)"
   ]
  },
  {
   "cell_type": "markdown",
   "metadata": {},
   "source": [
    "## 6.2 get other results"
   ]
  },
  {
   "cell_type": "code",
   "execution_count": 6,
   "metadata": {
    "ExecuteTime": {
     "end_time": "2017-11-05T03:46:21.596302Z",
     "start_time": "2017-11-05T03:46:21.241490Z"
    },
    "collapsed": true
   },
   "outputs": [],
   "source": [
    "\n",
    "model_list = ['resnet164_e255_focal_clip', 'res164__2_e255_focal_clip_all_data', 'resnet164_e300','resnet164_e0-255_focal_clip',\n",
    "              'res18_9', \n",
    "              'log_shelock_densenet', 'shelock_densenet_orign',\n",
    "              'shelock_resnet_orign']\n",
    "weight_list = [0.9535, 0.9540, 0.95270, 0.95, 0.93230, 0.9346, 0.9539, 0.95]\n",
    "\n",
    "net = ResNet164_v2(10)\n",
    "for model_name in model_list[:4]:\n",
    "    if not os.path.exists(\"../../models/\" + model_name): continue\n",
    "    if not os.path.exists(\"../../result/\"+model_name):\n",
    "        save_model_result(model_name, ctx)\n",
    "        \n",
    "net = ResNet(10)\n",
    "for model_name in model_list[4:5]:\n",
    "    if not os.path.exists(\"../../models/\" + model_name): continue\n",
    "    if not os.path.exists(\"../../result/\"+model_name):\n",
    "        save_model_result(model_name, ctx)\n",
    "        \n",
    "net = DenseNet(growthRate=12, depth=100, reduction=0.5, bottleneck=True, nClasses=10)\n",
    "for model_name in model_list[5:7]:\n",
    "    if not os.path.exists(\"../../models/\" + model_name): continue\n",
    "    if not os.path.exists(\"../../result/\"+model_name):\n",
    "        save_model_result(model_name, ctx)\n",
    "        \n",
    "net = ResNet164_v2(10)\n",
    "for model_name in model_list[7:]:\n",
    "    if not os.path.exists(\"../../result/\"+model_name):\n",
    "        save_model_result(model_name, ctx)"
   ]
  },
  {
   "cell_type": "markdown",
   "metadata": {},
   "source": [
    "## 6.3 merge other results"
   ]
  },
  {
   "cell_type": "code",
   "execution_count": 8,
   "metadata": {
    "ExecuteTime": {
     "start_time": "2017-11-05T03:47:12.464Z"
    },
    "collapsed": true
   },
   "outputs": [],
   "source": [
    "\"\"\"\n",
    "classfiy test set from generated result\n",
    "\"\"\"\n",
    "import numpy as np\n",
    "import pandas as pd\n",
    "\n",
    "train_data, valid_data, train_valid_data, test_data, test_ds, train_valid_ds = data_loader(128, transform_train_DA1)\n",
    "\n",
    "def mesuare_sum(preds, weight_list=None):\n",
    "    if weight_list is None:\n",
    "        weight_list = [1] * len(preds)\n",
    "    output = preds[0] * weight_list[0]\n",
    "    for i in range(1, len(preds)):\n",
    "        output = output + preds[i] * weight_list[i]\n",
    "    preds = output.argmax(axis=1).astype(int).asnumpy() % 10\n",
    "    return preds\n",
    "\n",
    "def mesuare_softmax_sum(preds, weight_list=None):\n",
    "    if weight_list is None:\n",
    "        weight_list = [1] * len(preds)\n",
    "    output = nd.softmax(preds[0], axis=1) * weight_list[0]\n",
    "    for i in range(1, len(preds)):\n",
    "        output = output + nd.softmax(preds[i], axis=1) * weight_list[i]\n",
    "    preds = output.argmax(axis=1).astype(int).asnumpy() % 10\n",
    "    return preds\n",
    "\n",
    "def mesuare_biggest(preds, weight_list=None):\n",
    "    if weight_list is not None:\n",
    "        for i in range(len(preds)):\n",
    "            preds[i] = preds[i] * weight_list[i]\n",
    "    output = nd.concat(*preds, dim=1)\n",
    "    preds = output.argmax(axis=1).astype(int).asnumpy() % 10\n",
    "    return preds\n",
    "\n",
    "model_list = ['res164__2_e255_focal_clip_all_data', 'resnet164_e300', 'resnet164_e0-255_focal_clip',\n",
    "              'shelock_densenet_orign', 'shelock_resnet_orign']\n",
    "weight_list = [0.9540, 0.95270, 0.95, 0.9539, 0.95]\n",
    "#weight_list=None\n",
    "\n",
    "preds = []\n",
    "for result_name in model_list:\n",
    "    preds.append(nd.load(\"../../result/\"+result_name)[0].as_in_context(ctx))\n",
    "\n",
    "#preds = mesuare_biggest(preds, weight_list)\n",
    "preds = mesuare_sum(preds, weight_list)\n",
    "#preds = mesuare_softmax_sum(preds, weight_list)\n",
    "\n",
    "sorted_ids = list(range(1, 300000 + 1))\n",
    "sorted_ids.sort(key=lambda x: str(x))\n",
    "\n",
    "df = pd.DataFrame({'id': sorted_ids, 'label': preds})\n",
    "df['label'] = df['label'].apply(lambda x: train_valid_ds.synsets[x])\n",
    "df.to_csv('../../submission/concat_5.csv', index=False)"
   ]
  }
 ],
 "metadata": {
  "kernelspec": {
   "display_name": "Python 2",
   "language": "python",
   "name": "python2"
  },
  "language_info": {
   "codemirror_mode": {
    "name": "ipython",
    "version": 2
   },
   "file_extension": ".py",
   "mimetype": "text/x-python",
   "name": "python",
   "nbconvert_exporter": "python",
   "pygments_lexer": "ipython2",
   "version": "2.7.12"
  },
  "ssap_exp_config": {
   "error_alert": "Error Occurs!",
   "initial": [],
   "max_iteration": 1000,
   "recv_id": "",
   "running": [],
   "summary": [],
   "version": "1.1.1"
  }
 },
 "nbformat": 4,
 "nbformat_minor": 1
}
